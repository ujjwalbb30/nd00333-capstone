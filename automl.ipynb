{
 "cells": [
  {
   "cell_type": "markdown",
   "metadata": {},
   "source": [
    "# Automated ML\n",
    "\n",
    "TODO: Import Dependencies. In the cell below, import all the dependencies that you will need to complete the project.\n",
    "\n",
    "With the help of python notebooks provided in 1st and 2nd project of this nanodegree program ('Optimizing a pipeline in Azure' and 'Operationalizing machine learning'), I have imported following basic dependencies required to complete this project. Any other specific dependecy will be imported as we proceed further in this project."
   ]
  },
  {
   "cell_type": "code",
   "execution_count": 2,
   "metadata": {
    "gather": {
     "logged": 1610305332679
    },
    "jupyter": {
     "outputs_hidden": false,
     "source_hidden": false
    },
    "nteract": {
     "transient": {
      "deleting": false
     }
    }
   },
   "outputs": [
    {
     "name": "stdout",
     "output_type": "stream",
     "text": [
      "SDK Version: 1.19.0\n"
     ]
    }
   ],
   "source": [
    "import logging\n",
    "import os\n",
    "import csv\n",
    "\n",
    "from matplotlib import pyplot as pyplot\n",
    "import numpy as np\n",
    "import pandas as pd\n",
    "from sklearn import datasets\n",
    "import pkg_resources\n",
    "\n",
    "import azureml.core\n",
    "from azureml.core.experiment import Experiment\n",
    "from azureml.core.workspace import Workspace\n",
    "from azureml.train.automl import AutoMLConfig\n",
    "from azureml.core.dataset import Dataset\n",
    "\n",
    "from azureml.pipeline.steps import AutoMLStep\n",
    "\n",
    "# CheckIng core SDK version number\n",
    "print(\"SDK Version:\", azureml.core.VERSION)"
   ]
  },
  {
   "cell_type": "markdown",
   "metadata": {},
   "source": [
    "## Dataset\n",
    "\n",
    "### Overview\n",
    "TODO: In this markdown cell, give an overview of the dataset you are using. Also mention the task you will be performing.\n",
    "\n",
    "I will be using the 'Heart Failure Clinical Data' which consists of 12 features ( age, anaemia, creatinine_phosphokinase, diabetes, ejection_fraction, high_blood_pressure, platelets, serum_creatinine, serum_sodium, sex, smoking, time ) which can be used to predict mortality by heart failure. There are total of 299 input rows in the dataset with 0 null entries.\n",
    "\n",
    "The 12 features are as follows:\n",
    "\n",
    "(1) age\n",
    "\n",
    "(2) anaemia i.e. decrease of red blood cells or hemoglobin (boolean)\n",
    "\n",
    "(3) creatining_phosphokinase i.e. level of the CPK enzyme in the blood (mcg/L)\n",
    "\n",
    "(4) diabetes i.e. if the patient has diabetes or not (boolean)\n",
    "\n",
    "(5) ejection_fraction i.e. percentage of blood leaving the heart at each contraction (percentage)\n",
    "\n",
    "(6) high_blood_pressure i.e. if the patient has hypertension (boolean)\n",
    "\n",
    "(7) platelets i.e. platelets in the blood (kiloplatelets/mL)\n",
    "\n",
    "(8) serum_creatinine i.e. level of serum creatinine in the blood (mg/dL)\n",
    "\n",
    "(9) serum_sodium i.e. level of serum sodium in the blood (mEq/L)\n",
    "\n",
    "(10) sex i.e. woman or man (binary)\n",
    "\n",
    "(11) smoking i.e. if the patient smokes or not (boolean)\n",
    "\n",
    "(12) time i.e. follow-up period (days)\n",
    "\n",
    "\n",
    "We will be predicting the following output:\n",
    "\n",
    "DEATH_EVENT i.e if the patient deceased during the follow-up period (boolean)\n",
    "\n",
    "A machine learning classification model on this dataset will be helpful for early detection of people with cardiovascular disease or those who are at high risk of cardiovascular disease. \n",
    "\n",
    "SOURCE : https://www.kaggle.com/andrewmvd/heart-failure-clinical-data\n",
    "\n",
    "TODO: Get data. In the cell below, write code to access the data you will be using in this project. Remember that the dataset needs to be external.\n",
    "\n",
    "I have already registered the dataset after downloading it from kaggle. So, I will be using the name and description that I saved the dataset with, to import it in my experiment."
   ]
  },
  {
   "cell_type": "code",
   "execution_count": 3,
   "metadata": {
    "gather": {
     "logged": 1610305367231
    },
    "jupyter": {
     "outputs_hidden": false,
     "source_hidden": false
    },
    "nteract": {
     "transient": {
      "deleting": false
     }
    }
   },
   "outputs": [
    {
     "name": "stdout",
     "output_type": "stream",
     "text": [
      "Performing interactive authentication. Please follow the instructions on the terminal.\n",
      "To sign in, use a web browser to open the page https://microsoft.com/devicelogin and enter the code AY4NDA4NE to authenticate.\n",
      "You have logged in. Now let us find all the subscriptions to which you have access...\n",
      "Interactive authentication successfully completed.\n",
      "quick-starts-ws-134264\n",
      "aml-quickstarts-134264\n",
      "southcentralus\n",
      "48a74bb7-9950-4cc1-9caa-5d50f995cc55\n"
     ]
    },
    {
     "data": {
      "text/html": [
       "<table style=\"width:100%\"><tr><th>Name</th><th>Workspace</th><th>Report Page</th><th>Docs Page</th></tr><tr><td>capstone-automl-experiment</td><td>quick-starts-ws-134264</td><td><a href=\"https://ml.azure.com/experiments/capstone-automl-experiment?wsid=/subscriptions/48a74bb7-9950-4cc1-9caa-5d50f995cc55/resourcegroups/aml-quickstarts-134264/workspaces/quick-starts-ws-134264\" target=\"_blank\" rel=\"noopener\">Link to Azure Machine Learning studio</a></td><td><a href=\"https://docs.microsoft.com/en-us/python/api/azureml-core/azureml.core.experiment.Experiment?view=azure-ml-py\" target=\"_blank\" rel=\"noopener\">Link to Documentation</a></td></tr></table>"
      ],
      "text/plain": [
       "Experiment(Name: capstone-automl-experiment,\n",
       "Workspace: quick-starts-ws-134264)"
      ]
     },
     "execution_count": 3,
     "metadata": {},
     "output_type": "execute_result"
    }
   ],
   "source": [
    "# creating an automl experiment in our workspace\n",
    "\n",
    "# initializing a workspace\n",
    "ws = Workspace.from_config()\n",
    "print(ws.name, ws.resource_group, ws.location, ws.subscription_id, sep='\\n')\n",
    "\n",
    "# choosing a name for experiment\n",
    "experiment_name = 'capstone-automl-experiment'\n",
    "project_folder = './pipeline-project'\n",
    "\n",
    "# creating the experiment\n",
    "experiment = Experiment(ws, experiment_name)\n",
    "experiment.start_logging()\n",
    "experiment"
   ]
  },
  {
   "cell_type": "code",
   "execution_count": 4,
   "metadata": {
    "gather": {
     "logged": 1610305976328
    }
   },
   "outputs": [
    {
     "name": "stdout",
     "output_type": "stream",
     "text": [
      "Creating\n",
      "Succeeded..................................................................................................................\n",
      "AmlCompute wait for completion finished\n",
      "\n",
      "Wait timeout has been reached\n",
      "Current provisioning state of AmlCompute is \"Succeeded\" and current node count is \"0\"\n"
     ]
    },
    {
     "data": {
      "text/plain": [
       "<azureml.core.compute.amlcompute.AmlComputeStatus at 0x7f2104ca4588>"
      ]
     },
     "execution_count": 4,
     "metadata": {},
     "output_type": "execute_result"
    }
   ],
   "source": [
    "# creating an AMLCompute cluster for running the experiment\n",
    "\n",
    "# importing required dependencies\n",
    "from azureml.core.compute import AmlCompute, ComputeTarget\n",
    "from azureml.core.compute_target import ComputeTargetException\n",
    "\n",
    "# Choosing a name for our CPU cluster\n",
    "amlcompute_cluster_name = \"aml-auto\"\n",
    "\n",
    "# Verifying that cluster does not exist already\n",
    "try:\n",
    "    compute_target = ComputeTarget(workspace=ws, name=amlcompute_cluster_name)\n",
    "    print('Found existing cluster, use it.')\n",
    "except ComputeTargetException:\n",
    "    compute_config = AmlCompute.provisioning_configuration(vm_size='STANDARD_D2_V2', max_nodes=4)\n",
    "    compute_target = ComputeTarget.create(ws, amlcompute_cluster_name, compute_config)\n",
    "\n",
    "compute_target.wait_for_completion(show_output=True, min_node_count = 1, timeout_in_minutes = 10)\n",
    "compute_target.get_status()"
   ]
  },
  {
   "cell_type": "code",
   "execution_count": 43,
   "metadata": {
    "gather": {
     "logged": 1610314208630
    },
    "jupyter": {
     "outputs_hidden": false,
     "source_hidden": false
    },
    "nteract": {
     "transient": {
      "deleting": false
     }
    }
   },
   "outputs": [],
   "source": [
    "# importing required dependency\n",
    "from azureml.data.dataset_factory import TabularDatasetFactory\n",
    "\n",
    "# importing dataset using url\n",
    "dataset = TabularDatasetFactory.from_delimited_files(\"https://raw.githubusercontent.com/ujjwalbb30/nd00333-capstone/ujjwalbb30-patch-1/heart_failure_clinical_records_dataset.csv\")"
   ]
  },
  {
   "cell_type": "markdown",
   "metadata": {},
   "source": [
    "## AutoML Configuration\n",
    "\n",
    "TODO: Explain why you chose the automl settings and cofiguration you used below.\n",
    "\n",
    "for automl settings, I will be using the following parameters:\n",
    "\n",
    "(1) experiment_timeout_minutes : It is the amount of time that the experiment will run upto. I will input it as 30 minutes which means the the experiment will exit after 30 minutes ( if it doesn't find the best run within 30 minutes and exit on its own ) and will give out the best result found during that time.\n",
    "\n",
    "(2) max_concurrent_iterations : It is the maximum number of iterations to be executed in parallel. I will input it as '5' iterations. 5 concurrent iterations will help in quickly executing the tasks of experiment and it will also not load the compute target too much for computation.\n",
    "\n",
    "(3) primary_metric : This is the metric that will be optimized by Automated Machine Learning for model selection. I will use 'AUC_weighted' as 'primary_metric' parameter. AUC means the area under the Receiver Operating Characteristic Curve which plots the relationship between true positive rate and false positive rate. Since our dataset doesn't have high class imbalance, we can use ROC method for judging the performance of a model. I will use AUC_weighted in order to mitigate the effects of whatever little imbalance is there in the dataset. AUC_weighted is the arithmetic mean of the score for each class, weighted by the number of true instances in each class.\n",
    "\n",
    "for automl configuration, I will be using the following parameters:\n",
    "\n",
    "(1) compute_target : It is the compute target on which we will run our Azure Machine Learning experiment. Since I have created a compute target named as 'compute_target' for this purpose, I will input it as the 'compute_target' parameter.\n",
    "\n",
    "(2) task : I want to make a classification model that can predict whether the patient is at a high risk of cardiovascular disease or not. Hence, I will input 'classification' as 'task' parameter.\n",
    "\n",
    "(3) training_data : It is the training dataset to be used for the experiment. I will use 'dataset' (the registered dataset imported above for running this experiment) as 'training_data' parameter. importing training dataset means the output columns will be included and its name will be entered in 'label_column_name'.\n",
    "\n",
    "(4) label_column_name : It is the name of the output column present in the training dataset. I will enter 'DEATH_EVENT' as 'label_column_name' parameter.\n",
    "\n",
    "(5) path : This is the full path to the Azure Machine learning project folder. Hence, I will input './pipeline-project' as 'path' parameter.\n",
    "\n",
    "(6) enable_early_stopping : we can choose to terminate the experiment if the score stops improving in the short term. I will enter 'True' as 'enable_early_stopping' parameter.\n",
    "\n",
    "(7) featurization : It is the option to featurize the dataset i.e. whether we want the Azure to do it automatically or we want to turn it off or we want some customized featurization step. I will input 'auto' in the 'featurization' parameter as I want Azure to featurize the dataset automatically.\n",
    "\n",
    "(8) debug_log : it is the log file in which debug information is written. I am entering 'automl_errors.log' as 'debug_log' parameter.\n",
    "\n",
    "(9) n_cross_validations : It is the number of cross validations performed. I will input it as '5' since the input rows is way lower than 1000 and 5 cross validations will not be very computation expensive."
   ]
  },
  {
   "cell_type": "code",
   "execution_count": 45,
   "metadata": {
    "gather": {
     "logged": 1610314226246
    },
    "jupyter": {
     "outputs_hidden": false,
     "source_hidden": false
    },
    "nteract": {
     "transient": {
      "deleting": false
     }
    }
   },
   "outputs": [],
   "source": [
    "# TODO: Put your automl settings here\n",
    "automl_settings = {\n",
    "    \"experiment_timeout_minutes\" : 30,\n",
    "    \"max_concurrent_iterations\" : 5,\n",
    "    \"primary_metric\" : 'AUC_weighted'\n",
    "}\n",
    "\n",
    "# TODO: Put your automl config here\n",
    "automl_config = AutoMLConfig(compute_target=compute_target,\n",
    "                            task=\"classification\",\n",
    "                            training_data=dataset,\n",
    "                            label_column_name=\"DEATH_EVENT\",\n",
    "                            path='./pipeline-project',\n",
    "                            enable_early_stopping=True,\n",
    "                            featurization='auto',\n",
    "                            enable_onnx_compatible_models=True,\n",
    "                            debug_log=\"automl_errors.log\",\n",
    "                            **automl_settings\n",
    ")"
   ]
  },
  {
   "cell_type": "code",
   "execution_count": 46,
   "metadata": {
    "gather": {
     "logged": 1610315676994
    },
    "jupyter": {
     "outputs_hidden": false,
     "source_hidden": false
    },
    "nteract": {
     "transient": {
      "deleting": false
     }
    }
   },
   "outputs": [
    {
     "name": "stdout",
     "output_type": "stream",
     "text": [
      "Running on remote.\n",
      "No run_configuration provided, running on aml-auto with default configuration\n",
      "Running on remote compute: aml-auto\n",
      "Parent Run ID: AutoML_f6a60bf5-3952-4426-bc90-66b92c904f3e\n",
      "\n",
      "Current status: FeaturesGeneration. Generating features for the dataset.\n",
      "Current status: ModelSelection. Beginning model selection.\n",
      "\n",
      "****************************************************************************************************\n",
      "DATA GUARDRAILS: \n",
      "\n",
      "TYPE:         Cross validation\n",
      "STATUS:       DONE\n",
      "DESCRIPTION:  Each iteration of the trained model was validated through cross-validation.\n",
      "              \n",
      "DETAILS:      \n",
      "+---------------------------------+\n",
      "|Number of folds                  |\n",
      "+=================================+\n",
      "|10                               |\n",
      "+---------------------------------+\n",
      "\n",
      "****************************************************************************************************\n",
      "\n",
      "TYPE:         Class balancing detection\n",
      "STATUS:       PASSED\n",
      "DESCRIPTION:  Your inputs were analyzed, and all classes are balanced in your training data.\n",
      "              Learn more about imbalanced data: https://aka.ms/AutomatedMLImbalancedData\n",
      "\n",
      "****************************************************************************************************\n",
      "\n",
      "TYPE:         High cardinality feature detection\n",
      "STATUS:       PASSED\n",
      "DESCRIPTION:  Your inputs were analyzed, and no high cardinality features were detected.\n",
      "              Learn more about high cardinality feature handling: https://aka.ms/AutomatedMLFeaturization\n",
      "\n",
      "****************************************************************************************************\n",
      "\n",
      "****************************************************************************************************\n",
      "ITERATION: The iteration being evaluated.\n",
      "PIPELINE: A summary description of the pipeline being evaluated.\n",
      "DURATION: Time taken for the current iteration.\n",
      "METRIC: The result of computing score on the fitted pipeline.\n",
      "BEST: The best observed score thus far.\n",
      "****************************************************************************************************\n",
      "\n",
      " ITERATION   PIPELINE                                       DURATION      METRIC      BEST\n",
      "         4                                                  0:00:03          nan       nan\n",
      "         3   RobustScaler ExtremeRandomTrees                0:00:42       0.8762    0.8762\n",
      "         0   MaxAbsScaler LightGBM                          0:01:00       0.8841    0.8841\n",
      "         1   MaxAbsScaler XGBoostClassifier                 0:00:50       0.8847    0.8847\n",
      "         2   MinMaxScaler RandomForest                      0:00:45       0.9019    0.9019\n",
      "         8   MinMaxScaler ExtremeRandomTrees                0:00:48       0.8916    0.9019\n",
      "         9   SparseNormalizer KNN                           0:00:54       0.7496    0.9019\n",
      "         5   MinMaxScaler RandomForest                      0:03:32       0.8914    0.9019\n",
      "         6   StandardScalerWrapper RandomForest             0:03:25       0.8753    0.9019\n",
      "        10   MinMaxScaler ExtremeRandomTrees                0:01:07       0.8634    0.9019\n",
      "         7   MinMaxScaler ExtremeRandomTrees                0:03:35       0.8836    0.9019\n",
      "        11   RobustScaler ExtremeRandomTrees                0:00:57       0.8802    0.9019\n",
      "        12   StandardScalerWrapper RandomForest             0:00:43       0.9061    0.9061\n",
      "        13   StandardScalerWrapper SGD                      0:00:43       0.8680    0.9061\n",
      "        14   RobustScaler RandomForest                      0:00:37       0.8768    0.9061\n",
      "        15   StandardScalerWrapper KNN                      0:00:48       0.5203    0.9061\n",
      "        16   MinMaxScaler RandomForest                      0:00:48       0.8871    0.9061\n",
      "        17   MinMaxScaler ExtremeRandomTrees                0:00:54       0.8299    0.9061\n",
      "        18   MaxAbsScaler RandomForest                      0:00:56       0.8767    0.9061\n",
      "        19   StandardScalerWrapper XGBoostClassifier        0:00:53       0.8927    0.9061\n",
      "        20   MaxAbsScaler RandomForest                      0:00:50       0.8935    0.9061\n",
      "        21   MaxAbsScaler ExtremeRandomTrees                0:00:43       0.8334    0.9061\n",
      "        22   MaxAbsScaler ExtremeRandomTrees                0:00:43       0.8697    0.9061\n",
      "        23   SparseNormalizer XGBoostClassifier             0:00:45       0.8954    0.9061\n",
      "        24   MinMaxScaler LogisticRegression                0:00:45       0.8638    0.9061\n",
      "        25   MinMaxScaler RandomForest                      0:00:49       0.8845    0.9061\n",
      "        26   StandardScalerWrapper LogisticRegression       0:00:48       0.8680    0.9061\n",
      "        30                                                  0:00:03          nan    0.9061\n",
      "        27   StandardScalerWrapper ExtremeRandomTrees       0:00:46       0.8824    0.9061\n",
      "        28   StandardScalerWrapper KNN                      0:00:51       0.5097    0.9061\n",
      "        29   RobustScaler LightGBM                          0:00:45       0.8483    0.9061\n",
      "        31   MinMaxScaler LightGBM                          0:00:42       0.8998    0.9061\n",
      "        32   MinMaxScaler KNN                               0:00:52       0.7266    0.9061\n",
      "        33   RobustScaler KNN                               0:01:01       0.8200    0.9061\n",
      "        34   RobustScaler KNN                               0:00:48       0.7845    0.9061\n",
      "        35   TruncatedSVDWrapper RandomForest               0:00:43       0.8262    0.9061\n",
      "        36                                                  0:00:28          nan    0.9061\n",
      "        37                                                  0:00:08          nan    0.9061\n",
      "        38    VotingEnsemble                                0:01:47       0.9181    0.9181\n"
     ]
    }
   ],
   "source": [
    "# TODO: Submit your experiment\n",
    "remote_run = experiment.submit(config = automl_config, show_output=True)"
   ]
  },
  {
   "cell_type": "code",
   "execution_count": 47,
   "metadata": {
    "gather": {
     "logged": 1610315849854
    }
   },
   "outputs": [
    {
     "name": "stdout",
     "output_type": "stream",
     "text": [
      "\n",
      "\n",
      "****************************************************************************************************\n",
      "DATA GUARDRAILS: \n",
      "\n",
      "TYPE:         Cross validation\n",
      "STATUS:       DONE\n",
      "DESCRIPTION:  Each iteration of the trained model was validated through cross-validation.\n",
      "              \n",
      "DETAILS:      \n",
      "+---------------------------------+\n",
      "|Number of folds                  |\n",
      "+=================================+\n",
      "|10                               |\n",
      "+---------------------------------+\n",
      "\n",
      "****************************************************************************************************\n",
      "\n",
      "TYPE:         Class balancing detection\n",
      "STATUS:       PASSED\n",
      "DESCRIPTION:  Your inputs were analyzed, and all classes are balanced in your training data.\n",
      "              Learn more about imbalanced data: https://aka.ms/AutomatedMLImbalancedData\n",
      "\n",
      "****************************************************************************************************\n",
      "\n",
      "TYPE:         High cardinality feature detection\n",
      "STATUS:       PASSED\n",
      "DESCRIPTION:  Your inputs were analyzed, and no high cardinality features were detected.\n",
      "              Learn more about high cardinality feature handling: https://aka.ms/AutomatedMLFeaturization\n",
      "\n",
      "****************************************************************************************************\n",
      "\n",
      "****************************************************************************************************\n",
      "ITERATION: The iteration being evaluated.\n",
      "PIPELINE: A summary description of the pipeline being evaluated.\n",
      "DURATION: Time taken for the current iteration.\n",
      "METRIC: The result of computing score on the fitted pipeline.\n",
      "BEST: The best observed score thus far.\n",
      "****************************************************************************************************\n",
      "\n",
      " ITERATION   PIPELINE                                       DURATION      METRIC      BEST\n",
      "         0   MaxAbsScaler LightGBM                          0:01:00       0.8841    0.8841\n",
      "         1   MaxAbsScaler XGBoostClassifier                 0:00:50       0.8847    0.8847\n",
      "         2   MinMaxScaler RandomForest                      0:00:45       0.9019    0.9019\n",
      "         3   RobustScaler ExtremeRandomTrees                0:00:42       0.8762    0.9019\n",
      "         4                                                  0:00:03          nan    0.9019\n",
      "         5   MinMaxScaler RandomForest                      0:03:32       0.8914    0.9019\n",
      "         6   StandardScalerWrapper RandomForest             0:03:25       0.8753    0.9019\n",
      "         7   MinMaxScaler ExtremeRandomTrees                0:03:35       0.8836    0.9019\n",
      "         8   MinMaxScaler ExtremeRandomTrees                0:00:48       0.8916    0.9019\n",
      "         9   SparseNormalizer KNN                           0:00:54       0.7496    0.9019\n",
      "        10   MinMaxScaler ExtremeRandomTrees                0:01:07       0.8634    0.9019\n",
      "        11   RobustScaler ExtremeRandomTrees                0:00:57       0.8802    0.9019\n",
      "        12   StandardScalerWrapper RandomForest             0:00:43       0.9061    0.9061\n",
      "        13   StandardScalerWrapper SGD                      0:00:43       0.8680    0.9061\n",
      "        14   RobustScaler RandomForest                      0:00:37       0.8768    0.9061\n",
      "        15   StandardScalerWrapper KNN                      0:00:48       0.5203    0.9061\n",
      "        16   MinMaxScaler RandomForest                      0:00:48       0.8871    0.9061\n",
      "        17   MinMaxScaler ExtremeRandomTrees                0:00:54       0.8299    0.9061\n",
      "        18   MaxAbsScaler RandomForest                      0:00:56       0.8767    0.9061\n",
      "        19   StandardScalerWrapper XGBoostClassifier        0:00:53       0.8927    0.9061\n",
      "        20   MaxAbsScaler RandomForest                      0:00:50       0.8935    0.9061\n",
      "        21   MaxAbsScaler ExtremeRandomTrees                0:00:43       0.8334    0.9061\n",
      "        22   MaxAbsScaler ExtremeRandomTrees                0:00:43       0.8697    0.9061\n",
      "        23   SparseNormalizer XGBoostClassifier             0:00:45       0.8954    0.9061\n",
      "        24   MinMaxScaler LogisticRegression                0:00:45       0.8638    0.9061\n",
      "        25   MinMaxScaler RandomForest                      0:00:49       0.8845    0.9061\n",
      "        26   StandardScalerWrapper LogisticRegression       0:00:48       0.8680    0.9061\n",
      "        27   StandardScalerWrapper ExtremeRandomTrees       0:00:46       0.8824    0.9061\n",
      "        28   StandardScalerWrapper KNN                      0:00:51       0.5097    0.9061\n",
      "        29   RobustScaler LightGBM                          0:00:45       0.8483    0.9061\n",
      "        30                                                  0:00:03          nan    0.9061\n",
      "        31   MinMaxScaler LightGBM                          0:00:42       0.8998    0.9061\n",
      "        32   MinMaxScaler KNN                               0:00:52       0.7266    0.9061\n",
      "        33   RobustScaler KNN                               0:01:01       0.8200    0.9061\n",
      "        34   RobustScaler KNN                               0:00:48       0.7845    0.9061\n",
      "        35   TruncatedSVDWrapper RandomForest               0:00:43       0.8262    0.9061\n",
      "        36                                                  0:00:28          nan    0.9061\n",
      "        37                                                  0:00:08          nan    0.9061\n",
      "        38    VotingEnsemble                                0:01:47       0.9181    0.9181\n"
     ]
    },
    {
     "data": {
      "text/plain": [
       "{'runId': 'AutoML_f6a60bf5-3952-4426-bc90-66b92c904f3e',\n",
       " 'target': 'aml-auto',\n",
       " 'status': 'Completed',\n",
       " 'startTimeUtc': '2021-01-10T21:30:58.824866Z',\n",
       " 'endTimeUtc': '2021-01-10T21:54:30.026377Z',\n",
       " 'properties': {'num_iterations': '1000',\n",
       "  'training_type': 'TrainFull',\n",
       "  'acquisition_function': 'EI',\n",
       "  'primary_metric': 'AUC_weighted',\n",
       "  'train_split': '0',\n",
       "  'acquisition_parameter': '0',\n",
       "  'num_cross_validation': None,\n",
       "  'target': 'aml-auto',\n",
       "  'AMLSettingsJsonString': '{\"path\":null,\"name\":\"capstone-automl-experiment\",\"subscription_id\":\"48a74bb7-9950-4cc1-9caa-5d50f995cc55\",\"resource_group\":\"aml-quickstarts-134264\",\"workspace_name\":\"quick-starts-ws-134264\",\"region\":\"southcentralus\",\"compute_target\":\"aml-auto\",\"spark_service\":null,\"azure_service\":\"remote\",\"many_models\":false,\"pipeline_fetch_max_batch_size\":1,\"iterations\":1000,\"primary_metric\":\"AUC_weighted\",\"task_type\":\"classification\",\"data_script\":null,\"validation_size\":0.0,\"n_cross_validations\":null,\"y_min\":null,\"y_max\":null,\"num_classes\":null,\"featurization\":\"auto\",\"_ignore_package_version_incompatibilities\":false,\"is_timeseries\":false,\"max_cores_per_iteration\":1,\"max_concurrent_iterations\":5,\"iteration_timeout_minutes\":null,\"mem_in_mb\":null,\"enforce_time_on_windows\":false,\"experiment_timeout_minutes\":30,\"experiment_exit_score\":null,\"whitelist_models\":null,\"blacklist_algos\":[\"TensorFlowLinearClassifier\",\"TensorFlowDNN\"],\"supported_models\":[\"XGBoostClassifier\",\"ExtremeRandomTrees\",\"SVM\",\"TensorFlowDNN\",\"DecisionTree\",\"MultinomialNaiveBayes\",\"TensorFlowLinearClassifier\",\"SGD\",\"BernoulliNaiveBayes\",\"KNN\",\"AveragedPerceptronClassifier\",\"RandomForest\",\"LightGBM\",\"LinearSVM\",\"GradientBoosting\",\"LogisticRegression\"],\"auto_blacklist\":true,\"blacklist_samples_reached\":false,\"exclude_nan_labels\":true,\"verbosity\":20,\"_debug_log\":\"azureml_automl.log\",\"show_warnings\":false,\"model_explainability\":true,\"service_url\":null,\"sdk_url\":null,\"sdk_packages\":null,\"enable_onnx_compatible_models\":true,\"enable_split_onnx_featurizer_estimator_models\":false,\"vm_type\":\"STANDARD_D2_V2\",\"telemetry_verbosity\":20,\"send_telemetry\":true,\"enable_dnn\":false,\"scenario\":\"SDK-1.13.0\",\"environment_label\":null,\"force_text_dnn\":false,\"enable_feature_sweeping\":false,\"enable_early_stopping\":true,\"early_stopping_n_iters\":10,\"metrics\":null,\"enable_ensembling\":true,\"enable_stack_ensembling\":false,\"ensemble_iterations\":15,\"enable_tf\":false,\"enable_subsampling\":null,\"subsample_seed\":null,\"enable_nimbusml\":false,\"enable_streaming\":false,\"force_streaming\":false,\"track_child_runs\":true,\"allowed_private_models\":[],\"label_column_name\":\"DEATH_EVENT\",\"weight_column_name\":null,\"cv_split_column_names\":null,\"enable_local_managed\":false,\"_local_managed_run_id\":null,\"cost_mode\":1,\"lag_length\":0,\"metric_operation\":\"maximize\",\"preprocess\":true}',\n",
       "  'DataPrepJsonString': '{\\\\\"training_data\\\\\": \\\\\"{\\\\\\\\\\\\\"blocks\\\\\\\\\\\\\": [{\\\\\\\\\\\\\"id\\\\\\\\\\\\\": \\\\\\\\\\\\\"00a7ef9b-d39a-4025-99a0-339d39018d52\\\\\\\\\\\\\", \\\\\\\\\\\\\"type\\\\\\\\\\\\\": \\\\\\\\\\\\\"Microsoft.DPrep.GetFilesBlock\\\\\\\\\\\\\", \\\\\\\\\\\\\"arguments\\\\\\\\\\\\\": {\\\\\\\\\\\\\"isArchive\\\\\\\\\\\\\": false, \\\\\\\\\\\\\"path\\\\\\\\\\\\\": {\\\\\\\\\\\\\"target\\\\\\\\\\\\\": 4, \\\\\\\\\\\\\"resourceDetails\\\\\\\\\\\\\": [{\\\\\\\\\\\\\"path\\\\\\\\\\\\\": \\\\\\\\\\\\\"https://raw.githubusercontent.com/ujjwalbb30/nd00333-capstone/ujjwalbb30-patch-1/heart_failure_clinical_records_dataset.csv\\\\\\\\\\\\\"}]}}, \\\\\\\\\\\\\"localData\\\\\\\\\\\\\": {}, \\\\\\\\\\\\\"isEnabled\\\\\\\\\\\\\": true, \\\\\\\\\\\\\"name\\\\\\\\\\\\\": null, \\\\\\\\\\\\\"annotation\\\\\\\\\\\\\": null}, {\\\\\\\\\\\\\"id\\\\\\\\\\\\\": \\\\\\\\\\\\\"e6b18def-a2bb-4f60-98a7-bbd71f7bb585\\\\\\\\\\\\\", \\\\\\\\\\\\\"type\\\\\\\\\\\\\": \\\\\\\\\\\\\"Microsoft.DPrep.ParseDelimitedBlock\\\\\\\\\\\\\", \\\\\\\\\\\\\"arguments\\\\\\\\\\\\\": {\\\\\\\\\\\\\"columnHeadersMode\\\\\\\\\\\\\": 3, \\\\\\\\\\\\\"fileEncoding\\\\\\\\\\\\\": 0, \\\\\\\\\\\\\"handleQuotedLineBreaks\\\\\\\\\\\\\": false, \\\\\\\\\\\\\"preview\\\\\\\\\\\\\": false, \\\\\\\\\\\\\"separator\\\\\\\\\\\\\": \\\\\\\\\\\\\",\\\\\\\\\\\\\", \\\\\\\\\\\\\"skipRows\\\\\\\\\\\\\": 0, \\\\\\\\\\\\\"skipRowsMode\\\\\\\\\\\\\": 0}, \\\\\\\\\\\\\"localData\\\\\\\\\\\\\": {}, \\\\\\\\\\\\\"isEnabled\\\\\\\\\\\\\": true, \\\\\\\\\\\\\"name\\\\\\\\\\\\\": null, \\\\\\\\\\\\\"annotation\\\\\\\\\\\\\": null}, {\\\\\\\\\\\\\"id\\\\\\\\\\\\\": \\\\\\\\\\\\\"eaf31910-5524-45ce-8d33-44c07ea6a4ba\\\\\\\\\\\\\", \\\\\\\\\\\\\"type\\\\\\\\\\\\\": \\\\\\\\\\\\\"Microsoft.DPrep.DropColumnsBlock\\\\\\\\\\\\\", \\\\\\\\\\\\\"arguments\\\\\\\\\\\\\": {\\\\\\\\\\\\\"columns\\\\\\\\\\\\\": {\\\\\\\\\\\\\"type\\\\\\\\\\\\\": 0, \\\\\\\\\\\\\"details\\\\\\\\\\\\\": {\\\\\\\\\\\\\"selectedColumns\\\\\\\\\\\\\": [\\\\\\\\\\\\\"Path\\\\\\\\\\\\\"]}}}, \\\\\\\\\\\\\"localData\\\\\\\\\\\\\": {}, \\\\\\\\\\\\\"isEnabled\\\\\\\\\\\\\": true, \\\\\\\\\\\\\"name\\\\\\\\\\\\\": null, \\\\\\\\\\\\\"annotation\\\\\\\\\\\\\": null}, {\\\\\\\\\\\\\"id\\\\\\\\\\\\\": \\\\\\\\\\\\\"aaeb0f0a-ab67-4994-82e7-c4df888a2a9c\\\\\\\\\\\\\", \\\\\\\\\\\\\"type\\\\\\\\\\\\\": \\\\\\\\\\\\\"Microsoft.DPrep.SetColumnTypesBlock\\\\\\\\\\\\\", \\\\\\\\\\\\\"arguments\\\\\\\\\\\\\": {\\\\\\\\\\\\\"columnConversion\\\\\\\\\\\\\": [{\\\\\\\\\\\\\"column\\\\\\\\\\\\\": {\\\\\\\\\\\\\"type\\\\\\\\\\\\\": 2, \\\\\\\\\\\\\"details\\\\\\\\\\\\\": {\\\\\\\\\\\\\"selectedColumn\\\\\\\\\\\\\": \\\\\\\\\\\\\"age\\\\\\\\\\\\\"}}, \\\\\\\\\\\\\"typeProperty\\\\\\\\\\\\\": 3}, {\\\\\\\\\\\\\"column\\\\\\\\\\\\\": {\\\\\\\\\\\\\"type\\\\\\\\\\\\\": 2, \\\\\\\\\\\\\"details\\\\\\\\\\\\\": {\\\\\\\\\\\\\"selectedColumn\\\\\\\\\\\\\": \\\\\\\\\\\\\"anaemia\\\\\\\\\\\\\"}}, \\\\\\\\\\\\\"typeProperty\\\\\\\\\\\\\": 2}, {\\\\\\\\\\\\\"column\\\\\\\\\\\\\": {\\\\\\\\\\\\\"type\\\\\\\\\\\\\": 2, \\\\\\\\\\\\\"details\\\\\\\\\\\\\": {\\\\\\\\\\\\\"selectedColumn\\\\\\\\\\\\\": \\\\\\\\\\\\\"creatinine_phosphokinase\\\\\\\\\\\\\"}}, \\\\\\\\\\\\\"typeProperty\\\\\\\\\\\\\": 2}, {\\\\\\\\\\\\\"column\\\\\\\\\\\\\": {\\\\\\\\\\\\\"type\\\\\\\\\\\\\": 2, \\\\\\\\\\\\\"details\\\\\\\\\\\\\": {\\\\\\\\\\\\\"selectedColumn\\\\\\\\\\\\\": \\\\\\\\\\\\\"diabetes\\\\\\\\\\\\\"}}, \\\\\\\\\\\\\"typeProperty\\\\\\\\\\\\\": 2}, {\\\\\\\\\\\\\"column\\\\\\\\\\\\\": {\\\\\\\\\\\\\"type\\\\\\\\\\\\\": 2, \\\\\\\\\\\\\"details\\\\\\\\\\\\\": {\\\\\\\\\\\\\"selectedColumn\\\\\\\\\\\\\": \\\\\\\\\\\\\"ejection_fraction\\\\\\\\\\\\\"}}, \\\\\\\\\\\\\"typeProperty\\\\\\\\\\\\\": 2}, {\\\\\\\\\\\\\"column\\\\\\\\\\\\\": {\\\\\\\\\\\\\"type\\\\\\\\\\\\\": 2, \\\\\\\\\\\\\"details\\\\\\\\\\\\\": {\\\\\\\\\\\\\"selectedColumn\\\\\\\\\\\\\": \\\\\\\\\\\\\"high_blood_pressure\\\\\\\\\\\\\"}}, \\\\\\\\\\\\\"typeProperty\\\\\\\\\\\\\": 2}, {\\\\\\\\\\\\\"column\\\\\\\\\\\\\": {\\\\\\\\\\\\\"type\\\\\\\\\\\\\": 2, \\\\\\\\\\\\\"details\\\\\\\\\\\\\": {\\\\\\\\\\\\\"selectedColumn\\\\\\\\\\\\\": \\\\\\\\\\\\\"platelets\\\\\\\\\\\\\"}}, \\\\\\\\\\\\\"typeProperty\\\\\\\\\\\\\": 3}, {\\\\\\\\\\\\\"column\\\\\\\\\\\\\": {\\\\\\\\\\\\\"type\\\\\\\\\\\\\": 2, \\\\\\\\\\\\\"details\\\\\\\\\\\\\": {\\\\\\\\\\\\\"selectedColumn\\\\\\\\\\\\\": \\\\\\\\\\\\\"serum_creatinine\\\\\\\\\\\\\"}}, \\\\\\\\\\\\\"typeProperty\\\\\\\\\\\\\": 3}, {\\\\\\\\\\\\\"column\\\\\\\\\\\\\": {\\\\\\\\\\\\\"type\\\\\\\\\\\\\": 2, \\\\\\\\\\\\\"details\\\\\\\\\\\\\": {\\\\\\\\\\\\\"selectedColumn\\\\\\\\\\\\\": \\\\\\\\\\\\\"serum_sodium\\\\\\\\\\\\\"}}, \\\\\\\\\\\\\"typeProperty\\\\\\\\\\\\\": 2}, {\\\\\\\\\\\\\"column\\\\\\\\\\\\\": {\\\\\\\\\\\\\"type\\\\\\\\\\\\\": 2, \\\\\\\\\\\\\"details\\\\\\\\\\\\\": {\\\\\\\\\\\\\"selectedColumn\\\\\\\\\\\\\": \\\\\\\\\\\\\"sex\\\\\\\\\\\\\"}}, \\\\\\\\\\\\\"typeProperty\\\\\\\\\\\\\": 2}, {\\\\\\\\\\\\\"column\\\\\\\\\\\\\": {\\\\\\\\\\\\\"type\\\\\\\\\\\\\": 2, \\\\\\\\\\\\\"details\\\\\\\\\\\\\": {\\\\\\\\\\\\\"selectedColumn\\\\\\\\\\\\\": \\\\\\\\\\\\\"smoking\\\\\\\\\\\\\"}}, \\\\\\\\\\\\\"typeProperty\\\\\\\\\\\\\": 2}, {\\\\\\\\\\\\\"column\\\\\\\\\\\\\": {\\\\\\\\\\\\\"type\\\\\\\\\\\\\": 2, \\\\\\\\\\\\\"details\\\\\\\\\\\\\": {\\\\\\\\\\\\\"selectedColumn\\\\\\\\\\\\\": \\\\\\\\\\\\\"time\\\\\\\\\\\\\"}}, \\\\\\\\\\\\\"typeProperty\\\\\\\\\\\\\": 2}, {\\\\\\\\\\\\\"column\\\\\\\\\\\\\": {\\\\\\\\\\\\\"type\\\\\\\\\\\\\": 2, \\\\\\\\\\\\\"details\\\\\\\\\\\\\": {\\\\\\\\\\\\\"selectedColumn\\\\\\\\\\\\\": \\\\\\\\\\\\\"DEATH_EVENT\\\\\\\\\\\\\"}}, \\\\\\\\\\\\\"typeProperty\\\\\\\\\\\\\": 2}]}, \\\\\\\\\\\\\"localData\\\\\\\\\\\\\": {}, \\\\\\\\\\\\\"isEnabled\\\\\\\\\\\\\": true, \\\\\\\\\\\\\"name\\\\\\\\\\\\\": null, \\\\\\\\\\\\\"annotation\\\\\\\\\\\\\": null}], \\\\\\\\\\\\\"inspectors\\\\\\\\\\\\\": [], \\\\\\\\\\\\\"meta\\\\\\\\\\\\\": {\\\\\\\\\\\\\"savedDatasetId\\\\\\\\\\\\\": \\\\\\\\\\\\\"ad7279c0-6b20-4f55-b584-4bc3a4ead14d\\\\\\\\\\\\\", \\\\\\\\\\\\\"datasetType\\\\\\\\\\\\\": \\\\\\\\\\\\\"tabular\\\\\\\\\\\\\", \\\\\\\\\\\\\"subscriptionId\\\\\\\\\\\\\": \\\\\\\\\\\\\"48a74bb7-9950-4cc1-9caa-5d50f995cc55\\\\\\\\\\\\\", \\\\\\\\\\\\\"workspaceId\\\\\\\\\\\\\": \\\\\\\\\\\\\"e5523419-cfb6-4d3c-8e05-4b300c750d34\\\\\\\\\\\\\", \\\\\\\\\\\\\"workspaceLocation\\\\\\\\\\\\\": \\\\\\\\\\\\\"southcentralus\\\\\\\\\\\\\"}}\\\\\", \\\\\"activities\\\\\": 0}',\n",
       "  'EnableSubsampling': None,\n",
       "  'runTemplate': 'AutoML',\n",
       "  'azureml.runsource': 'automl',\n",
       "  'display_task_type': 'classification',\n",
       "  'dependencies_versions': '{\"azureml-widgets\": \"1.19.0\", \"azureml-train\": \"1.19.0\", \"azureml-train-restclients-hyperdrive\": \"1.19.0\", \"azureml-train-core\": \"1.19.0\", \"azureml-train-automl\": \"1.19.0\", \"azureml-train-automl-runtime\": \"1.19.0\", \"azureml-train-automl-client\": \"1.19.0\", \"azureml-tensorboard\": \"1.19.0\", \"azureml-telemetry\": \"1.19.0\", \"azureml-sdk\": \"1.19.0\", \"azureml-samples\": \"0+unknown\", \"azureml-pipeline\": \"1.19.0\", \"azureml-pipeline-steps\": \"1.19.0\", \"azureml-pipeline-core\": \"1.19.0\", \"azureml-opendatasets\": \"1.19.0\", \"azureml-model-management-sdk\": \"1.0.1b6.post1\", \"azureml-mlflow\": \"1.19.0\", \"azureml-interpret\": \"1.19.0\", \"azureml-explain-model\": \"1.19.0\", \"azureml-defaults\": \"1.19.0\", \"azureml-dataset-runtime\": \"1.19.0\", \"azureml-dataprep\": \"2.6.1\", \"azureml-dataprep-rslex\": \"1.4.0\", \"azureml-dataprep-native\": \"26.0.0\", \"azureml-datadrift\": \"1.19.0\", \"azureml-core\": \"1.19.0\", \"azureml-contrib-services\": \"1.19.0\", \"azureml-contrib-server\": \"1.19.0\", \"azureml-contrib-reinforcementlearning\": \"1.19.0\", \"azureml-contrib-pipeline-steps\": \"1.19.0\", \"azureml-contrib-notebook\": \"1.19.0\", \"azureml-contrib-interpret\": \"1.19.0\", \"azureml-contrib-gbdt\": \"1.19.0\", \"azureml-contrib-fairness\": \"1.19.0\", \"azureml-contrib-dataset\": \"1.19.0\", \"azureml-cli-common\": \"1.19.0\", \"azureml-automl-runtime\": \"1.19.0\", \"azureml-automl-core\": \"1.19.0\", \"azureml-accel-models\": \"1.19.0\"}',\n",
       "  '_aml_system_scenario_identification': 'Remote.Parent',\n",
       "  'ClientType': 'SDK',\n",
       "  'environment_cpu_name': 'AzureML-AutoML',\n",
       "  'environment_cpu_label': 'prod',\n",
       "  'environment_gpu_name': 'AzureML-AutoML-GPU',\n",
       "  'environment_gpu_label': 'prod',\n",
       "  'root_attribution': 'automl',\n",
       "  'attribution': 'AutoML',\n",
       "  'Orchestrator': 'AutoML',\n",
       "  'CancelUri': 'https://southcentralus.experiments.azureml.net/jasmine/v1.0/subscriptions/48a74bb7-9950-4cc1-9caa-5d50f995cc55/resourceGroups/aml-quickstarts-134264/providers/Microsoft.MachineLearningServices/workspaces/quick-starts-ws-134264/experimentids/98d13a31-b085-4ff2-be48-e0a433a46426/cancel/AutoML_f6a60bf5-3952-4426-bc90-66b92c904f3e',\n",
       "  'ClientSdkVersion': '1.19.0',\n",
       "  'snapshotId': '00000000-0000-0000-0000-000000000000',\n",
       "  'SetupRunId': 'AutoML_f6a60bf5-3952-4426-bc90-66b92c904f3e_setup',\n",
       "  'SetupRunContainerId': 'dcid.AutoML_f6a60bf5-3952-4426-bc90-66b92c904f3e_setup',\n",
       "  'FeaturizationRunJsonPath': 'featurizer_container.json',\n",
       "  'FeaturizationRunId': 'AutoML_f6a60bf5-3952-4426-bc90-66b92c904f3e_featurize',\n",
       "  'ProblemInfoJsonString': '{\"dataset_num_categorical\": 0, \"is_sparse\": false, \"subsampling\": false, \"dataset_classes\": 2, \"dataset_features\": 12, \"dataset_samples\": 299, \"single_frequency_class_detected\": false}',\n",
       "  'ModelExplainRunId': 'AutoML_f6a60bf5-3952-4426-bc90-66b92c904f3e_ModelExplain'},\n",
       " 'inputDatasets': [{'dataset': {'id': 'ad7279c0-6b20-4f55-b584-4bc3a4ead14d'}, 'consumptionDetails': {'type': 'RunInput', 'inputName': 'training_data', 'mechanism': 'Direct'}}],\n",
       " 'outputDatasets': [],\n",
       " 'logFiles': {}}"
      ]
     },
     "execution_count": 47,
     "metadata": {},
     "output_type": "execute_result"
    }
   ],
   "source": [
    "# waiting for completion of remote_run while showing its output\n",
    "remote_run.wait_for_completion(show_output=True)"
   ]
  },
  {
   "cell_type": "markdown",
   "metadata": {},
   "source": [
    "## Run Details\n",
    "\n",
    "OPTIONAL: Write about the different models trained and their performance. Why do you think some models did better than others?\n",
    "\n",
    "TODO: In the cell below, use the `RunDetails` widget to show the different experiments."
   ]
  },
  {
   "cell_type": "code",
   "execution_count": 48,
   "metadata": {
    "gather": {
     "logged": 1610315886212
    },
    "jupyter": {
     "outputs_hidden": false,
     "source_hidden": false
    },
    "nteract": {
     "transient": {
      "deleting": false
     }
    }
   },
   "outputs": [
    {
     "data": {
      "application/vnd.jupyter.widget-view+json": {
       "model_id": "e001797f988e4b06a5e932f22c873a96",
       "version_major": 2,
       "version_minor": 0
      },
      "text/plain": [
       "_AutoMLWidget(widget_settings={'childWidgetDisplay': 'popup', 'send_telemetry': False, 'log_level': 'INFO', 's…"
      ]
     },
     "metadata": {},
     "output_type": "display_data"
    },
    {
     "data": {
      "application/aml.mini.widget.v1": "{\"status\": \"Completed\", \"workbench_run_details_uri\": \"https://ml.azure.com/experiments/capstone-automl-experiment/runs/AutoML_f6a60bf5-3952-4426-bc90-66b92c904f3e?wsid=/subscriptions/48a74bb7-9950-4cc1-9caa-5d50f995cc55/resourcegroups/aml-quickstarts-134264/workspaces/quick-starts-ws-134264\", \"run_id\": \"AutoML_f6a60bf5-3952-4426-bc90-66b92c904f3e\", \"run_properties\": {\"run_id\": \"AutoML_f6a60bf5-3952-4426-bc90-66b92c904f3e\", \"created_utc\": \"2021-01-10T21:30:37.335678Z\", \"properties\": {\"num_iterations\": \"1000\", \"training_type\": \"TrainFull\", \"acquisition_function\": \"EI\", \"primary_metric\": \"AUC_weighted\", \"train_split\": \"0\", \"acquisition_parameter\": \"0\", \"num_cross_validation\": null, \"target\": \"aml-auto\", \"AMLSettingsJsonString\": \"{\\\"path\\\":null,\\\"name\\\":\\\"capstone-automl-experiment\\\",\\\"subscription_id\\\":\\\"48a74bb7-9950-4cc1-9caa-5d50f995cc55\\\",\\\"resource_group\\\":\\\"aml-quickstarts-134264\\\",\\\"workspace_name\\\":\\\"quick-starts-ws-134264\\\",\\\"region\\\":\\\"southcentralus\\\",\\\"compute_target\\\":\\\"aml-auto\\\",\\\"spark_service\\\":null,\\\"azure_service\\\":\\\"remote\\\",\\\"many_models\\\":false,\\\"pipeline_fetch_max_batch_size\\\":1,\\\"iterations\\\":1000,\\\"primary_metric\\\":\\\"AUC_weighted\\\",\\\"task_type\\\":\\\"classification\\\",\\\"data_script\\\":null,\\\"validation_size\\\":0.0,\\\"n_cross_validations\\\":null,\\\"y_min\\\":null,\\\"y_max\\\":null,\\\"num_classes\\\":null,\\\"featurization\\\":\\\"auto\\\",\\\"_ignore_package_version_incompatibilities\\\":false,\\\"is_timeseries\\\":false,\\\"max_cores_per_iteration\\\":1,\\\"max_concurrent_iterations\\\":5,\\\"iteration_timeout_minutes\\\":null,\\\"mem_in_mb\\\":null,\\\"enforce_time_on_windows\\\":false,\\\"experiment_timeout_minutes\\\":30,\\\"experiment_exit_score\\\":null,\\\"whitelist_models\\\":null,\\\"blacklist_algos\\\":[\\\"TensorFlowLinearClassifier\\\",\\\"TensorFlowDNN\\\"],\\\"supported_models\\\":[\\\"XGBoostClassifier\\\",\\\"ExtremeRandomTrees\\\",\\\"SVM\\\",\\\"TensorFlowDNN\\\",\\\"DecisionTree\\\",\\\"MultinomialNaiveBayes\\\",\\\"TensorFlowLinearClassifier\\\",\\\"SGD\\\",\\\"BernoulliNaiveBayes\\\",\\\"KNN\\\",\\\"AveragedPerceptronClassifier\\\",\\\"RandomForest\\\",\\\"LightGBM\\\",\\\"LinearSVM\\\",\\\"GradientBoosting\\\",\\\"LogisticRegression\\\"],\\\"auto_blacklist\\\":true,\\\"blacklist_samples_reached\\\":false,\\\"exclude_nan_labels\\\":true,\\\"verbosity\\\":20,\\\"_debug_log\\\":\\\"azureml_automl.log\\\",\\\"show_warnings\\\":false,\\\"model_explainability\\\":true,\\\"service_url\\\":null,\\\"sdk_url\\\":null,\\\"sdk_packages\\\":null,\\\"enable_onnx_compatible_models\\\":true,\\\"enable_split_onnx_featurizer_estimator_models\\\":false,\\\"vm_type\\\":\\\"STANDARD_D2_V2\\\",\\\"telemetry_verbosity\\\":20,\\\"send_telemetry\\\":true,\\\"enable_dnn\\\":false,\\\"scenario\\\":\\\"SDK-1.13.0\\\",\\\"environment_label\\\":null,\\\"force_text_dnn\\\":false,\\\"enable_feature_sweeping\\\":false,\\\"enable_early_stopping\\\":true,\\\"early_stopping_n_iters\\\":10,\\\"metrics\\\":null,\\\"enable_ensembling\\\":true,\\\"enable_stack_ensembling\\\":false,\\\"ensemble_iterations\\\":15,\\\"enable_tf\\\":false,\\\"enable_subsampling\\\":null,\\\"subsample_seed\\\":null,\\\"enable_nimbusml\\\":false,\\\"enable_streaming\\\":false,\\\"force_streaming\\\":false,\\\"track_child_runs\\\":true,\\\"allowed_private_models\\\":[],\\\"label_column_name\\\":\\\"DEATH_EVENT\\\",\\\"weight_column_name\\\":null,\\\"cv_split_column_names\\\":null,\\\"enable_local_managed\\\":false,\\\"_local_managed_run_id\\\":null,\\\"cost_mode\\\":1,\\\"lag_length\\\":0,\\\"metric_operation\\\":\\\"maximize\\\",\\\"preprocess\\\":true}\", \"DataPrepJsonString\": \"{\\\\\\\"training_data\\\\\\\": \\\\\\\"{\\\\\\\\\\\\\\\"blocks\\\\\\\\\\\\\\\": [{\\\\\\\\\\\\\\\"id\\\\\\\\\\\\\\\": \\\\\\\\\\\\\\\"00a7ef9b-d39a-4025-99a0-339d39018d52\\\\\\\\\\\\\\\", \\\\\\\\\\\\\\\"type\\\\\\\\\\\\\\\": \\\\\\\\\\\\\\\"Microsoft.DPrep.GetFilesBlock\\\\\\\\\\\\\\\", \\\\\\\\\\\\\\\"arguments\\\\\\\\\\\\\\\": {\\\\\\\\\\\\\\\"isArchive\\\\\\\\\\\\\\\": false, \\\\\\\\\\\\\\\"path\\\\\\\\\\\\\\\": {\\\\\\\\\\\\\\\"target\\\\\\\\\\\\\\\": 4, \\\\\\\\\\\\\\\"resourceDetails\\\\\\\\\\\\\\\": [{\\\\\\\\\\\\\\\"path\\\\\\\\\\\\\\\": \\\\\\\\\\\\\\\"https://raw.githubusercontent.com/ujjwalbb30/nd00333-capstone/ujjwalbb30-patch-1/heart_failure_clinical_records_dataset.csv\\\\\\\\\\\\\\\"}]}}, \\\\\\\\\\\\\\\"localData\\\\\\\\\\\\\\\": {}, \\\\\\\\\\\\\\\"isEnabled\\\\\\\\\\\\\\\": true, \\\\\\\\\\\\\\\"name\\\\\\\\\\\\\\\": null, \\\\\\\\\\\\\\\"annotation\\\\\\\\\\\\\\\": null}, {\\\\\\\\\\\\\\\"id\\\\\\\\\\\\\\\": \\\\\\\\\\\\\\\"e6b18def-a2bb-4f60-98a7-bbd71f7bb585\\\\\\\\\\\\\\\", \\\\\\\\\\\\\\\"type\\\\\\\\\\\\\\\": \\\\\\\\\\\\\\\"Microsoft.DPrep.ParseDelimitedBlock\\\\\\\\\\\\\\\", \\\\\\\\\\\\\\\"arguments\\\\\\\\\\\\\\\": {\\\\\\\\\\\\\\\"columnHeadersMode\\\\\\\\\\\\\\\": 3, \\\\\\\\\\\\\\\"fileEncoding\\\\\\\\\\\\\\\": 0, \\\\\\\\\\\\\\\"handleQuotedLineBreaks\\\\\\\\\\\\\\\": false, \\\\\\\\\\\\\\\"preview\\\\\\\\\\\\\\\": false, \\\\\\\\\\\\\\\"separator\\\\\\\\\\\\\\\": \\\\\\\\\\\\\\\",\\\\\\\\\\\\\\\", \\\\\\\\\\\\\\\"skipRows\\\\\\\\\\\\\\\": 0, \\\\\\\\\\\\\\\"skipRowsMode\\\\\\\\\\\\\\\": 0}, \\\\\\\\\\\\\\\"localData\\\\\\\\\\\\\\\": {}, \\\\\\\\\\\\\\\"isEnabled\\\\\\\\\\\\\\\": true, \\\\\\\\\\\\\\\"name\\\\\\\\\\\\\\\": null, \\\\\\\\\\\\\\\"annotation\\\\\\\\\\\\\\\": null}, {\\\\\\\\\\\\\\\"id\\\\\\\\\\\\\\\": \\\\\\\\\\\\\\\"eaf31910-5524-45ce-8d33-44c07ea6a4ba\\\\\\\\\\\\\\\", \\\\\\\\\\\\\\\"type\\\\\\\\\\\\\\\": \\\\\\\\\\\\\\\"Microsoft.DPrep.DropColumnsBlock\\\\\\\\\\\\\\\", \\\\\\\\\\\\\\\"arguments\\\\\\\\\\\\\\\": {\\\\\\\\\\\\\\\"columns\\\\\\\\\\\\\\\": {\\\\\\\\\\\\\\\"type\\\\\\\\\\\\\\\": 0, \\\\\\\\\\\\\\\"details\\\\\\\\\\\\\\\": {\\\\\\\\\\\\\\\"selectedColumns\\\\\\\\\\\\\\\": [\\\\\\\\\\\\\\\"Path\\\\\\\\\\\\\\\"]}}}, \\\\\\\\\\\\\\\"localData\\\\\\\\\\\\\\\": {}, \\\\\\\\\\\\\\\"isEnabled\\\\\\\\\\\\\\\": true, \\\\\\\\\\\\\\\"name\\\\\\\\\\\\\\\": null, \\\\\\\\\\\\\\\"annotation\\\\\\\\\\\\\\\": null}, {\\\\\\\\\\\\\\\"id\\\\\\\\\\\\\\\": \\\\\\\\\\\\\\\"aaeb0f0a-ab67-4994-82e7-c4df888a2a9c\\\\\\\\\\\\\\\", \\\\\\\\\\\\\\\"type\\\\\\\\\\\\\\\": \\\\\\\\\\\\\\\"Microsoft.DPrep.SetColumnTypesBlock\\\\\\\\\\\\\\\", \\\\\\\\\\\\\\\"arguments\\\\\\\\\\\\\\\": {\\\\\\\\\\\\\\\"columnConversion\\\\\\\\\\\\\\\": [{\\\\\\\\\\\\\\\"column\\\\\\\\\\\\\\\": {\\\\\\\\\\\\\\\"type\\\\\\\\\\\\\\\": 2, \\\\\\\\\\\\\\\"details\\\\\\\\\\\\\\\": {\\\\\\\\\\\\\\\"selectedColumn\\\\\\\\\\\\\\\": \\\\\\\\\\\\\\\"age\\\\\\\\\\\\\\\"}}, \\\\\\\\\\\\\\\"typeProperty\\\\\\\\\\\\\\\": 3}, {\\\\\\\\\\\\\\\"column\\\\\\\\\\\\\\\": {\\\\\\\\\\\\\\\"type\\\\\\\\\\\\\\\": 2, \\\\\\\\\\\\\\\"details\\\\\\\\\\\\\\\": {\\\\\\\\\\\\\\\"selectedColumn\\\\\\\\\\\\\\\": \\\\\\\\\\\\\\\"anaemia\\\\\\\\\\\\\\\"}}, \\\\\\\\\\\\\\\"typeProperty\\\\\\\\\\\\\\\": 2}, {\\\\\\\\\\\\\\\"column\\\\\\\\\\\\\\\": {\\\\\\\\\\\\\\\"type\\\\\\\\\\\\\\\": 2, \\\\\\\\\\\\\\\"details\\\\\\\\\\\\\\\": {\\\\\\\\\\\\\\\"selectedColumn\\\\\\\\\\\\\\\": \\\\\\\\\\\\\\\"creatinine_phosphokinase\\\\\\\\\\\\\\\"}}, \\\\\\\\\\\\\\\"typeProperty\\\\\\\\\\\\\\\": 2}, {\\\\\\\\\\\\\\\"column\\\\\\\\\\\\\\\": {\\\\\\\\\\\\\\\"type\\\\\\\\\\\\\\\": 2, \\\\\\\\\\\\\\\"details\\\\\\\\\\\\\\\": {\\\\\\\\\\\\\\\"selectedColumn\\\\\\\\\\\\\\\": \\\\\\\\\\\\\\\"diabetes\\\\\\\\\\\\\\\"}}, \\\\\\\\\\\\\\\"typeProperty\\\\\\\\\\\\\\\": 2}, {\\\\\\\\\\\\\\\"column\\\\\\\\\\\\\\\": {\\\\\\\\\\\\\\\"type\\\\\\\\\\\\\\\": 2, \\\\\\\\\\\\\\\"details\\\\\\\\\\\\\\\": {\\\\\\\\\\\\\\\"selectedColumn\\\\\\\\\\\\\\\": \\\\\\\\\\\\\\\"ejection_fraction\\\\\\\\\\\\\\\"}}, \\\\\\\\\\\\\\\"typeProperty\\\\\\\\\\\\\\\": 2}, {\\\\\\\\\\\\\\\"column\\\\\\\\\\\\\\\": {\\\\\\\\\\\\\\\"type\\\\\\\\\\\\\\\": 2, \\\\\\\\\\\\\\\"details\\\\\\\\\\\\\\\": {\\\\\\\\\\\\\\\"selectedColumn\\\\\\\\\\\\\\\": \\\\\\\\\\\\\\\"high_blood_pressure\\\\\\\\\\\\\\\"}}, \\\\\\\\\\\\\\\"typeProperty\\\\\\\\\\\\\\\": 2}, {\\\\\\\\\\\\\\\"column\\\\\\\\\\\\\\\": {\\\\\\\\\\\\\\\"type\\\\\\\\\\\\\\\": 2, \\\\\\\\\\\\\\\"details\\\\\\\\\\\\\\\": {\\\\\\\\\\\\\\\"selectedColumn\\\\\\\\\\\\\\\": \\\\\\\\\\\\\\\"platelets\\\\\\\\\\\\\\\"}}, \\\\\\\\\\\\\\\"typeProperty\\\\\\\\\\\\\\\": 3}, {\\\\\\\\\\\\\\\"column\\\\\\\\\\\\\\\": {\\\\\\\\\\\\\\\"type\\\\\\\\\\\\\\\": 2, \\\\\\\\\\\\\\\"details\\\\\\\\\\\\\\\": {\\\\\\\\\\\\\\\"selectedColumn\\\\\\\\\\\\\\\": \\\\\\\\\\\\\\\"serum_creatinine\\\\\\\\\\\\\\\"}}, \\\\\\\\\\\\\\\"typeProperty\\\\\\\\\\\\\\\": 3}, {\\\\\\\\\\\\\\\"column\\\\\\\\\\\\\\\": {\\\\\\\\\\\\\\\"type\\\\\\\\\\\\\\\": 2, \\\\\\\\\\\\\\\"details\\\\\\\\\\\\\\\": {\\\\\\\\\\\\\\\"selectedColumn\\\\\\\\\\\\\\\": \\\\\\\\\\\\\\\"serum_sodium\\\\\\\\\\\\\\\"}}, \\\\\\\\\\\\\\\"typeProperty\\\\\\\\\\\\\\\": 2}, {\\\\\\\\\\\\\\\"column\\\\\\\\\\\\\\\": {\\\\\\\\\\\\\\\"type\\\\\\\\\\\\\\\": 2, \\\\\\\\\\\\\\\"details\\\\\\\\\\\\\\\": {\\\\\\\\\\\\\\\"selectedColumn\\\\\\\\\\\\\\\": \\\\\\\\\\\\\\\"sex\\\\\\\\\\\\\\\"}}, \\\\\\\\\\\\\\\"typeProperty\\\\\\\\\\\\\\\": 2}, {\\\\\\\\\\\\\\\"column\\\\\\\\\\\\\\\": {\\\\\\\\\\\\\\\"type\\\\\\\\\\\\\\\": 2, \\\\\\\\\\\\\\\"details\\\\\\\\\\\\\\\": {\\\\\\\\\\\\\\\"selectedColumn\\\\\\\\\\\\\\\": \\\\\\\\\\\\\\\"smoking\\\\\\\\\\\\\\\"}}, \\\\\\\\\\\\\\\"typeProperty\\\\\\\\\\\\\\\": 2}, {\\\\\\\\\\\\\\\"column\\\\\\\\\\\\\\\": {\\\\\\\\\\\\\\\"type\\\\\\\\\\\\\\\": 2, \\\\\\\\\\\\\\\"details\\\\\\\\\\\\\\\": {\\\\\\\\\\\\\\\"selectedColumn\\\\\\\\\\\\\\\": \\\\\\\\\\\\\\\"time\\\\\\\\\\\\\\\"}}, \\\\\\\\\\\\\\\"typeProperty\\\\\\\\\\\\\\\": 2}, {\\\\\\\\\\\\\\\"column\\\\\\\\\\\\\\\": {\\\\\\\\\\\\\\\"type\\\\\\\\\\\\\\\": 2, \\\\\\\\\\\\\\\"details\\\\\\\\\\\\\\\": {\\\\\\\\\\\\\\\"selectedColumn\\\\\\\\\\\\\\\": \\\\\\\\\\\\\\\"DEATH_EVENT\\\\\\\\\\\\\\\"}}, \\\\\\\\\\\\\\\"typeProperty\\\\\\\\\\\\\\\": 2}]}, \\\\\\\\\\\\\\\"localData\\\\\\\\\\\\\\\": {}, \\\\\\\\\\\\\\\"isEnabled\\\\\\\\\\\\\\\": true, \\\\\\\\\\\\\\\"name\\\\\\\\\\\\\\\": null, \\\\\\\\\\\\\\\"annotation\\\\\\\\\\\\\\\": null}], \\\\\\\\\\\\\\\"inspectors\\\\\\\\\\\\\\\": [], \\\\\\\\\\\\\\\"meta\\\\\\\\\\\\\\\": {\\\\\\\\\\\\\\\"savedDatasetId\\\\\\\\\\\\\\\": \\\\\\\\\\\\\\\"ad7279c0-6b20-4f55-b584-4bc3a4ead14d\\\\\\\\\\\\\\\", \\\\\\\\\\\\\\\"datasetType\\\\\\\\\\\\\\\": \\\\\\\\\\\\\\\"tabular\\\\\\\\\\\\\\\", \\\\\\\\\\\\\\\"subscriptionId\\\\\\\\\\\\\\\": \\\\\\\\\\\\\\\"48a74bb7-9950-4cc1-9caa-5d50f995cc55\\\\\\\\\\\\\\\", \\\\\\\\\\\\\\\"workspaceId\\\\\\\\\\\\\\\": \\\\\\\\\\\\\\\"e5523419-cfb6-4d3c-8e05-4b300c750d34\\\\\\\\\\\\\\\", \\\\\\\\\\\\\\\"workspaceLocation\\\\\\\\\\\\\\\": \\\\\\\\\\\\\\\"southcentralus\\\\\\\\\\\\\\\"}}\\\\\\\", \\\\\\\"activities\\\\\\\": 0}\", \"EnableSubsampling\": null, \"runTemplate\": \"AutoML\", \"azureml.runsource\": \"automl\", \"display_task_type\": \"classification\", \"dependencies_versions\": \"{\\\"azureml-widgets\\\": \\\"1.19.0\\\", \\\"azureml-train\\\": \\\"1.19.0\\\", \\\"azureml-train-restclients-hyperdrive\\\": \\\"1.19.0\\\", \\\"azureml-train-core\\\": \\\"1.19.0\\\", \\\"azureml-train-automl\\\": \\\"1.19.0\\\", \\\"azureml-train-automl-runtime\\\": \\\"1.19.0\\\", \\\"azureml-train-automl-client\\\": \\\"1.19.0\\\", \\\"azureml-tensorboard\\\": \\\"1.19.0\\\", \\\"azureml-telemetry\\\": \\\"1.19.0\\\", \\\"azureml-sdk\\\": \\\"1.19.0\\\", \\\"azureml-samples\\\": \\\"0+unknown\\\", \\\"azureml-pipeline\\\": \\\"1.19.0\\\", \\\"azureml-pipeline-steps\\\": \\\"1.19.0\\\", \\\"azureml-pipeline-core\\\": \\\"1.19.0\\\", \\\"azureml-opendatasets\\\": \\\"1.19.0\\\", \\\"azureml-model-management-sdk\\\": \\\"1.0.1b6.post1\\\", \\\"azureml-mlflow\\\": \\\"1.19.0\\\", \\\"azureml-interpret\\\": \\\"1.19.0\\\", \\\"azureml-explain-model\\\": \\\"1.19.0\\\", \\\"azureml-defaults\\\": \\\"1.19.0\\\", \\\"azureml-dataset-runtime\\\": \\\"1.19.0\\\", \\\"azureml-dataprep\\\": \\\"2.6.1\\\", \\\"azureml-dataprep-rslex\\\": \\\"1.4.0\\\", \\\"azureml-dataprep-native\\\": \\\"26.0.0\\\", \\\"azureml-datadrift\\\": \\\"1.19.0\\\", \\\"azureml-core\\\": \\\"1.19.0\\\", \\\"azureml-contrib-services\\\": \\\"1.19.0\\\", \\\"azureml-contrib-server\\\": \\\"1.19.0\\\", \\\"azureml-contrib-reinforcementlearning\\\": \\\"1.19.0\\\", \\\"azureml-contrib-pipeline-steps\\\": \\\"1.19.0\\\", \\\"azureml-contrib-notebook\\\": \\\"1.19.0\\\", \\\"azureml-contrib-interpret\\\": \\\"1.19.0\\\", \\\"azureml-contrib-gbdt\\\": \\\"1.19.0\\\", \\\"azureml-contrib-fairness\\\": \\\"1.19.0\\\", \\\"azureml-contrib-dataset\\\": \\\"1.19.0\\\", \\\"azureml-cli-common\\\": \\\"1.19.0\\\", \\\"azureml-automl-runtime\\\": \\\"1.19.0\\\", \\\"azureml-automl-core\\\": \\\"1.19.0\\\", \\\"azureml-accel-models\\\": \\\"1.19.0\\\"}\", \"_aml_system_scenario_identification\": \"Remote.Parent\", \"ClientType\": \"SDK\", \"environment_cpu_name\": \"AzureML-AutoML\", \"environment_cpu_label\": \"prod\", \"environment_gpu_name\": \"AzureML-AutoML-GPU\", \"environment_gpu_label\": \"prod\", \"root_attribution\": \"automl\", \"attribution\": \"AutoML\", \"Orchestrator\": \"AutoML\", \"CancelUri\": \"https://southcentralus.experiments.azureml.net/jasmine/v1.0/subscriptions/48a74bb7-9950-4cc1-9caa-5d50f995cc55/resourceGroups/aml-quickstarts-134264/providers/Microsoft.MachineLearningServices/workspaces/quick-starts-ws-134264/experimentids/98d13a31-b085-4ff2-be48-e0a433a46426/cancel/AutoML_f6a60bf5-3952-4426-bc90-66b92c904f3e\", \"ClientSdkVersion\": \"1.19.0\", \"snapshotId\": \"00000000-0000-0000-0000-000000000000\", \"SetupRunId\": \"AutoML_f6a60bf5-3952-4426-bc90-66b92c904f3e_setup\", \"SetupRunContainerId\": \"dcid.AutoML_f6a60bf5-3952-4426-bc90-66b92c904f3e_setup\", \"FeaturizationRunJsonPath\": \"featurizer_container.json\", \"FeaturizationRunId\": \"AutoML_f6a60bf5-3952-4426-bc90-66b92c904f3e_featurize\", \"ProblemInfoJsonString\": \"{\\\"dataset_num_categorical\\\": 0, \\\"is_sparse\\\": false, \\\"subsampling\\\": false, \\\"dataset_classes\\\": 2, \\\"dataset_features\\\": 12, \\\"dataset_samples\\\": 299, \\\"single_frequency_class_detected\\\": false}\", \"ModelExplainRunId\": \"AutoML_f6a60bf5-3952-4426-bc90-66b92c904f3e_ModelExplain\"}, \"tags\": {\"model_explain_run\": \"best_run\", \"_aml_system_azureml.automlComponent\": \"AutoML\", \"pipeline_id\": \"\", \"score\": \"\", \"predicted_cost\": \"\", \"fit_time\": \"\", \"training_percent\": \"\", \"iteration\": \"\", \"run_preprocessor\": \"\", \"run_algorithm\": \"\", \"dynamic_whitelisting_iterations\": \"<25>;<30>;<35>;\", \"automl_best_child_run_id\": \"AutoML_f6a60bf5-3952-4426-bc90-66b92c904f3e_38\", \"model_explain_best_run_child_id\": \"AutoML_f6a60bf5-3952-4426-bc90-66b92c904f3e_38\"}, \"end_time_utc\": \"2021-01-10T21:54:30.026377Z\", \"status\": \"Completed\", \"log_files\": {}, \"log_groups\": [], \"run_duration\": \"0:23:52\"}, \"child_runs\": [{\"run_id\": \"AutoML_f6a60bf5-3952-4426-bc90-66b92c904f3e_0\", \"run_number\": 50, \"metric\": null, \"status\": \"Completed\", \"run_type\": \"azureml.scriptrun\", \"training_percent\": \"100\", \"start_time\": \"2021-01-10T21:40:56.528901Z\", \"end_time\": \"2021-01-10T21:41:56.212731Z\", \"created_time\": \"2021-01-10T21:39:57.801882Z\", \"created_time_dt\": \"2021-01-10T21:39:57.801882Z\", \"duration\": \"0:01:58\", \"iteration\": \"0\", \"goal\": \"AUC_weighted_max\", \"run_name\": \"MaxAbsScaler, LightGBM\", \"run_properties\": \"copy=True\", \"primary_metric\": 0.88409554, \"best_metric\": 0.88409554}, {\"run_id\": \"AutoML_f6a60bf5-3952-4426-bc90-66b92c904f3e_2\", \"run_number\": 51, \"metric\": null, \"status\": \"Completed\", \"run_type\": \"azureml.scriptrun\", \"training_percent\": \"100\", \"start_time\": \"2021-01-10T21:42:50.701704Z\", \"end_time\": \"2021-01-10T21:43:35.802408Z\", \"created_time\": \"2021-01-10T21:39:57.835039Z\", \"created_time_dt\": \"2021-01-10T21:39:57.835039Z\", \"duration\": \"0:03:37\", \"iteration\": \"2\", \"goal\": \"AUC_weighted_max\", \"run_name\": \"MinMaxScaler, RandomForest\", \"run_properties\": \"copy=True, feature_range=(0, 1\", \"primary_metric\": 0.90185081, \"best_metric\": 0.90185081}, {\"run_id\": \"AutoML_f6a60bf5-3952-4426-bc90-66b92c904f3e_4\", \"run_number\": 52, \"metric\": null, \"status\": \"Failed\", \"run_type\": null, \"training_percent\": \"100\", \"start_time\": \"2021-01-10T21:39:57.870503Z\", \"end_time\": \"2021-01-10T21:40:00.465553Z\", \"created_time\": \"2021-01-10T21:39:57.870503Z\", \"created_time_dt\": \"2021-01-10T21:39:57.870503Z\", \"duration\": \"0:00:02\", \"iteration\": \"4\", \"goal\": null, \"run_name\": \"Failed\", \"run_properties\": null}, {\"run_id\": \"AutoML_f6a60bf5-3952-4426-bc90-66b92c904f3e_1\", \"run_number\": 53, \"metric\": null, \"status\": \"Completed\", \"run_type\": \"azureml.scriptrun\", \"training_percent\": \"100\", \"start_time\": \"2021-01-10T21:41:57.856773Z\", \"end_time\": \"2021-01-10T21:42:48.05474Z\", \"created_time\": \"2021-01-10T21:39:57.874847Z\", \"created_time_dt\": \"2021-01-10T21:39:57.874847Z\", \"duration\": \"0:02:50\", \"iteration\": \"1\", \"goal\": \"AUC_weighted_max\", \"run_name\": \"MaxAbsScaler, XGBoostClassifier\", \"run_properties\": \"copy=True\", \"primary_metric\": 0.88473694, \"best_metric\": 0.88473694}, {\"run_id\": \"AutoML_f6a60bf5-3952-4426-bc90-66b92c904f3e_3\", \"run_number\": 54, \"metric\": null, \"status\": \"Completed\", \"run_type\": \"azureml.scriptrun\", \"training_percent\": \"100\", \"start_time\": \"2021-01-10T21:40:09.721583Z\", \"end_time\": \"2021-01-10T21:40:51.498871Z\", \"created_time\": \"2021-01-10T21:39:58.240092Z\", \"created_time_dt\": \"2021-01-10T21:39:58.240092Z\", \"duration\": \"0:00:53\", \"iteration\": \"3\", \"goal\": \"AUC_weighted_max\", \"run_name\": \"RobustScaler, ExtremeRandomTrees\", \"run_properties\": \"copy=True, quantile_range=[10, 90], with_centering=False,\\n             with_scaling=False\", \"primary_metric\": 0.8761868, \"best_metric\": 0.90185081}, {\"run_id\": \"AutoML_f6a60bf5-3952-4426-bc90-66b92c904f3e_5\", \"run_number\": 55, \"metric\": null, \"status\": \"Completed\", \"run_type\": \"azureml.scriptrun\", \"training_percent\": \"100\", \"start_time\": \"2021-01-10T21:42:54.925969Z\", \"end_time\": \"2021-01-10T21:46:27.380897Z\", \"created_time\": \"2021-01-10T21:40:06.845405Z\", \"created_time_dt\": \"2021-01-10T21:40:06.845405Z\", \"duration\": \"0:06:20\", \"iteration\": \"5\", \"goal\": \"AUC_weighted_max\", \"run_name\": \"MinMaxScaler, RandomForest\", \"run_properties\": \"copy=True, feature_range=(0, 1\", \"primary_metric\": 0.89136036, \"best_metric\": 0.90185081}, {\"run_id\": \"AutoML_f6a60bf5-3952-4426-bc90-66b92c904f3e_6\", \"run_number\": 56, \"metric\": null, \"status\": \"Completed\", \"run_type\": \"azureml.scriptrun\", \"training_percent\": \"100\", \"start_time\": \"2021-01-10T21:42:54.306579Z\", \"end_time\": \"2021-01-10T21:46:19.188513Z\", \"created_time\": \"2021-01-10T21:40:56.727847Z\", \"created_time_dt\": \"2021-01-10T21:40:56.727847Z\", \"duration\": \"0:05:22\", \"iteration\": \"6\", \"goal\": \"AUC_weighted_max\", \"run_name\": \"StandardScalerWrapper, RandomForest\", \"run_properties\": \"<azureml.automl.runtime.shared.model_wrappers.StandardScalerWrapper object at 0x7f015fc4b8d0\", \"primary_metric\": 0.8753031, \"best_metric\": 0.90185081}, {\"run_id\": \"AutoML_f6a60bf5-3952-4426-bc90-66b92c904f3e_7\", \"run_number\": 57, \"metric\": null, \"status\": \"Completed\", \"run_type\": \"azureml.scriptrun\", \"training_percent\": \"100\", \"start_time\": \"2021-01-10T21:42:56.747377Z\", \"end_time\": \"2021-01-10T21:46:31.453623Z\", \"created_time\": \"2021-01-10T21:42:00.782738Z\", \"created_time_dt\": \"2021-01-10T21:42:00.782738Z\", \"duration\": \"0:04:30\", \"iteration\": \"7\", \"goal\": \"AUC_weighted_max\", \"run_name\": \"MinMaxScaler, ExtremeRandomTrees\", \"run_properties\": \"copy=True, feature_range=(0, 1\", \"primary_metric\": 0.8836059, \"best_metric\": 0.90185081}, {\"run_id\": \"AutoML_f6a60bf5-3952-4426-bc90-66b92c904f3e_8\", \"run_number\": 58, \"metric\": null, \"status\": \"Completed\", \"run_type\": \"azureml.scriptrun\", \"training_percent\": \"100\", \"start_time\": \"2021-01-10T21:43:40.336676Z\", \"end_time\": \"2021-01-10T21:44:27.84993Z\", \"created_time\": \"2021-01-10T21:42:52.247932Z\", \"created_time_dt\": \"2021-01-10T21:42:52.247932Z\", \"duration\": \"0:01:35\", \"iteration\": \"8\", \"goal\": \"AUC_weighted_max\", \"run_name\": \"MinMaxScaler, ExtremeRandomTrees\", \"run_properties\": \"copy=True, feature_range=(0, 1\", \"primary_metric\": 0.89156103, \"best_metric\": 0.90185081}, {\"run_id\": \"AutoML_f6a60bf5-3952-4426-bc90-66b92c904f3e_9\", \"run_number\": 59, \"metric\": null, \"status\": \"Completed\", \"run_type\": \"azureml.scriptrun\", \"training_percent\": \"100\", \"start_time\": \"2021-01-10T21:44:28.962302Z\", \"end_time\": \"2021-01-10T21:45:23.013492Z\", \"created_time\": \"2021-01-10T21:43:40.248898Z\", \"created_time_dt\": \"2021-01-10T21:43:40.248898Z\", \"duration\": \"0:01:42\", \"iteration\": \"9\", \"goal\": \"AUC_weighted_max\", \"run_name\": \"SparseNormalizer, KNN\", \"run_properties\": \"<azureml.automl.runtime.shared.model_wrappers.SparseNormalizer object at 0x7efd61d3c0b8\", \"primary_metric\": 0.7496161, \"best_metric\": 0.90185081}, {\"run_id\": \"AutoML_f6a60bf5-3952-4426-bc90-66b92c904f3e_10\", \"run_number\": 60, \"metric\": null, \"status\": \"Completed\", \"run_type\": \"azureml.scriptrun\", \"training_percent\": \"100\", \"start_time\": \"2021-01-10T21:45:24.710729Z\", \"end_time\": \"2021-01-10T21:46:31.944364Z\", \"created_time\": \"2021-01-10T21:44:32.496458Z\", \"created_time_dt\": \"2021-01-10T21:44:32.496458Z\", \"duration\": \"0:01:59\", \"iteration\": \"10\", \"goal\": \"AUC_weighted_max\", \"run_name\": \"MinMaxScaler, ExtremeRandomTrees\", \"run_properties\": \"copy=True, feature_range=(0, 1\", \"primary_metric\": 0.86337933, \"best_metric\": 0.90185081}, {\"run_id\": \"AutoML_f6a60bf5-3952-4426-bc90-66b92c904f3e_11\", \"run_number\": 61, \"metric\": null, \"status\": \"Completed\", \"run_type\": \"azureml.scriptrun\", \"training_percent\": \"100\", \"start_time\": \"2021-01-10T21:46:19.271189Z\", \"end_time\": \"2021-01-10T21:47:16.597748Z\", \"created_time\": \"2021-01-10T21:45:27.628857Z\", \"created_time_dt\": \"2021-01-10T21:45:27.628857Z\", \"duration\": \"0:01:48\", \"iteration\": \"11\", \"goal\": \"AUC_weighted_max\", \"run_name\": \"RobustScaler, ExtremeRandomTrees\", \"run_properties\": \"copy=True, quantile_range=[10, 90], with_centering=True,\\n             with_scaling=False\", \"primary_metric\": 0.88019944, \"best_metric\": 0.90185081}, {\"run_id\": \"AutoML_f6a60bf5-3952-4426-bc90-66b92c904f3e_12\", \"run_number\": 62, \"metric\": null, \"status\": \"Completed\", \"run_type\": \"azureml.scriptrun\", \"training_percent\": \"100\", \"start_time\": \"2021-01-10T21:46:36.167674Z\", \"end_time\": \"2021-01-10T21:47:19.052201Z\", \"created_time\": \"2021-01-10T21:46:23.816106Z\", \"created_time_dt\": \"2021-01-10T21:46:23.816106Z\", \"duration\": \"0:00:55\", \"iteration\": \"12\", \"goal\": \"AUC_weighted_max\", \"run_name\": \"StandardScalerWrapper, RandomForest\", \"run_properties\": \"<azureml.automl.runtime.shared.model_wrappers.StandardScalerWrapper object at 0x7f7a5dd38438\", \"primary_metric\": 0.9061201, \"best_metric\": 0.9061201}, {\"run_id\": \"AutoML_f6a60bf5-3952-4426-bc90-66b92c904f3e_13\", \"run_number\": 63, \"metric\": null, \"status\": \"Completed\", \"run_type\": \"azureml.scriptrun\", \"training_percent\": \"100\", \"start_time\": \"2021-01-10T21:46:44.762991Z\", \"end_time\": \"2021-01-10T21:47:27.423942Z\", \"created_time\": \"2021-01-10T21:46:31.613259Z\", \"created_time_dt\": \"2021-01-10T21:46:31.613259Z\", \"duration\": \"0:00:55\", \"iteration\": \"13\", \"goal\": \"AUC_weighted_max\", \"run_name\": \"StandardScalerWrapper, SGD\", \"run_properties\": \"<azureml.automl.runtime.shared.model_wrappers.StandardScalerWrapper object at 0x7efdac4ce668\", \"primary_metric\": 0.8680379, \"best_metric\": 0.9061201}, {\"run_id\": \"AutoML_f6a60bf5-3952-4426-bc90-66b92c904f3e_15\", \"run_number\": 64, \"metric\": null, \"status\": \"Completed\", \"run_type\": \"azureml.scriptrun\", \"training_percent\": \"100\", \"start_time\": \"2021-01-10T21:47:22.798233Z\", \"end_time\": \"2021-01-10T21:48:10.568093Z\", \"created_time\": \"2021-01-10T21:46:40.275244Z\", \"created_time_dt\": \"2021-01-10T21:46:40.275244Z\", \"duration\": \"0:01:30\", \"iteration\": \"15\", \"goal\": \"AUC_weighted_max\", \"run_name\": \"StandardScalerWrapper, KNN\", \"run_properties\": \"<azureml.automl.runtime.shared.model_wrappers.StandardScalerWrapper object at 0x7f794dec20f0\", \"primary_metric\": 0.52030533, \"best_metric\": 0.9061201}, {\"run_id\": \"AutoML_f6a60bf5-3952-4426-bc90-66b92c904f3e_14\", \"run_number\": 65, \"metric\": null, \"status\": \"Completed\", \"run_type\": \"azureml.scriptrun\", \"training_percent\": \"100\", \"start_time\": \"2021-01-10T21:46:51.714934Z\", \"end_time\": \"2021-01-10T21:47:28.753029Z\", \"created_time\": \"2021-01-10T21:46:40.429202Z\", \"created_time_dt\": \"2021-01-10T21:46:40.429202Z\", \"duration\": \"0:00:48\", \"iteration\": \"14\", \"goal\": \"AUC_weighted_max\", \"run_name\": \"RobustScaler, RandomForest\", \"run_properties\": \"copy=True, quantile_range=[10, 90], with_centering=True,\\n             with_scaling=False\", \"primary_metric\": 0.87683992, \"best_metric\": 0.9061201}, {\"run_id\": \"AutoML_f6a60bf5-3952-4426-bc90-66b92c904f3e_16\", \"run_number\": 66, \"metric\": null, \"status\": \"Completed\", \"run_type\": \"azureml.scriptrun\", \"training_percent\": \"100\", \"start_time\": \"2021-01-10T21:47:31.389979Z\", \"end_time\": \"2021-01-10T21:48:19.408703Z\", \"created_time\": \"2021-01-10T21:47:19.714087Z\", \"created_time_dt\": \"2021-01-10T21:47:19.714087Z\", \"duration\": \"0:00:59\", \"iteration\": \"16\", \"goal\": \"AUC_weighted_max\", \"run_name\": \"MinMaxScaler, RandomForest\", \"run_properties\": \"copy=True, feature_range=(0, 1\", \"primary_metric\": 0.88714423, \"best_metric\": 0.9061201}, {\"run_id\": \"AutoML_f6a60bf5-3952-4426-bc90-66b92c904f3e_17\", \"run_number\": 67, \"metric\": null, \"status\": \"Completed\", \"run_type\": \"azureml.scriptrun\", \"training_percent\": \"100\", \"start_time\": \"2021-01-10T21:47:37.095575Z\", \"end_time\": \"2021-01-10T21:48:30.956514Z\", \"created_time\": \"2021-01-10T21:47:25.402402Z\", \"created_time_dt\": \"2021-01-10T21:47:25.402402Z\", \"duration\": \"0:01:05\", \"iteration\": \"17\", \"goal\": \"AUC_weighted_max\", \"run_name\": \"MinMaxScaler, ExtremeRandomTrees\", \"run_properties\": \"copy=True, feature_range=(0, 1\", \"primary_metric\": 0.82989346, \"best_metric\": 0.9061201}, {\"run_id\": \"AutoML_f6a60bf5-3952-4426-bc90-66b92c904f3e_18\", \"run_number\": 68, \"metric\": null, \"status\": \"Completed\", \"run_type\": \"azureml.scriptrun\", \"training_percent\": \"100\", \"start_time\": \"2021-01-10T21:47:43.414651Z\", \"end_time\": \"2021-01-10T21:48:39.063905Z\", \"created_time\": \"2021-01-10T21:47:31.324249Z\", \"created_time_dt\": \"2021-01-10T21:47:31.324249Z\", \"duration\": \"0:01:07\", \"iteration\": \"18\", \"goal\": \"AUC_weighted_max\", \"run_name\": \"MaxAbsScaler, RandomForest\", \"run_properties\": \"copy=True\", \"primary_metric\": 0.87665815, \"best_metric\": 0.9061201}, {\"run_id\": \"AutoML_f6a60bf5-3952-4426-bc90-66b92c904f3e_19\", \"run_number\": 69, \"metric\": null, \"status\": \"Completed\", \"run_type\": \"azureml.scriptrun\", \"training_percent\": \"100\", \"start_time\": \"2021-01-10T21:48:12.830493Z\", \"end_time\": \"2021-01-10T21:49:05.707153Z\", \"created_time\": \"2021-01-10T21:47:36.596747Z\", \"created_time_dt\": \"2021-01-10T21:47:36.596747Z\", \"duration\": \"0:01:29\", \"iteration\": \"19\", \"goal\": \"AUC_weighted_max\", \"run_name\": \"StandardScalerWrapper, XGBoostClassifier\", \"run_properties\": \"<azureml.automl.runtime.shared.model_wrappers.StandardScalerWrapper object at 0x7f591eb34dd8\", \"primary_metric\": 0.89267109, \"best_metric\": 0.9061201}, {\"run_id\": \"AutoML_f6a60bf5-3952-4426-bc90-66b92c904f3e_20\", \"run_number\": 70, \"metric\": null, \"status\": \"Completed\", \"run_type\": \"azureml.scriptrun\", \"training_percent\": \"100\", \"start_time\": \"2021-01-10T21:48:23.789689Z\", \"end_time\": \"2021-01-10T21:49:14.199114Z\", \"created_time\": \"2021-01-10T21:48:13.535072Z\", \"created_time_dt\": \"2021-01-10T21:48:13.535072Z\", \"duration\": \"0:01:00\", \"iteration\": \"20\", \"goal\": \"AUC_weighted_max\", \"run_name\": \"MaxAbsScaler, RandomForest\", \"run_properties\": \"copy=True\", \"primary_metric\": 0.89345678, \"best_metric\": 0.9061201}, {\"run_id\": \"AutoML_f6a60bf5-3952-4426-bc90-66b92c904f3e_21\", \"run_number\": 71, \"metric\": null, \"status\": \"Completed\", \"run_type\": \"azureml.scriptrun\", \"training_percent\": \"100\", \"start_time\": \"2021-01-10T21:48:38.727962Z\", \"end_time\": \"2021-01-10T21:49:21.879071Z\", \"created_time\": \"2021-01-10T21:48:22.913693Z\", \"created_time_dt\": \"2021-01-10T21:48:22.913693Z\", \"duration\": \"0:00:58\", \"iteration\": \"21\", \"goal\": \"AUC_weighted_max\", \"run_name\": \"MaxAbsScaler, ExtremeRandomTrees\", \"run_properties\": \"copy=True\", \"primary_metric\": 0.83336309, \"best_metric\": 0.9061201}, {\"run_id\": \"AutoML_f6a60bf5-3952-4426-bc90-66b92c904f3e_22\", \"run_number\": 72, \"metric\": null, \"status\": \"Completed\", \"run_type\": \"azureml.scriptrun\", \"training_percent\": \"100\", \"start_time\": \"2021-01-10T21:48:45.292792Z\", \"end_time\": \"2021-01-10T21:49:28.316103Z\", \"created_time\": \"2021-01-10T21:48:33.909656Z\", \"created_time_dt\": \"2021-01-10T21:48:33.909656Z\", \"duration\": \"0:00:54\", \"iteration\": \"22\", \"goal\": \"AUC_weighted_max\", \"run_name\": \"MaxAbsScaler, ExtremeRandomTrees\", \"run_properties\": \"copy=True\", \"primary_metric\": 0.86965659, \"best_metric\": 0.9061201}, {\"run_id\": \"AutoML_f6a60bf5-3952-4426-bc90-66b92c904f3e_23\", \"run_number\": 73, \"metric\": null, \"status\": \"Completed\", \"run_type\": \"azureml.scriptrun\", \"training_percent\": \"100\", \"start_time\": \"2021-01-10T21:49:06.454808Z\", \"end_time\": \"2021-01-10T21:49:51.654936Z\", \"created_time\": \"2021-01-10T21:48:43.621151Z\", \"created_time_dt\": \"2021-01-10T21:48:43.621151Z\", \"duration\": \"0:01:08\", \"iteration\": \"23\", \"goal\": \"AUC_weighted_max\", \"run_name\": \"SparseNormalizer, XGBoostClassifier\", \"run_properties\": \"<azureml.automl.runtime.shared.model_wrappers.SparseNormalizer object at 0x7fa9e7fc5748\", \"primary_metric\": 0.89542611, \"best_metric\": 0.9061201}, {\"run_id\": \"AutoML_f6a60bf5-3952-4426-bc90-66b92c904f3e_24\", \"run_number\": 74, \"metric\": null, \"status\": \"Completed\", \"run_type\": \"azureml.scriptrun\", \"training_percent\": \"100\", \"start_time\": \"2021-01-10T21:49:20.077372Z\", \"end_time\": \"2021-01-10T21:50:04.889225Z\", \"created_time\": \"2021-01-10T21:49:08.27789Z\", \"created_time_dt\": \"2021-01-10T21:49:08.27789Z\", \"duration\": \"0:00:56\", \"iteration\": \"24\", \"goal\": \"AUC_weighted_max\", \"run_name\": \"MinMaxScaler, LogisticRegression\", \"run_properties\": \"copy=True, feature_range=(0, 1\", \"primary_metric\": 0.86383871, \"best_metric\": 0.9061201}, {\"run_id\": \"AutoML_f6a60bf5-3952-4426-bc90-66b92c904f3e_25\", \"run_number\": 75, \"metric\": null, \"status\": \"Completed\", \"run_type\": \"azureml.scriptrun\", \"training_percent\": \"100\", \"start_time\": \"2021-01-10T21:49:34.968879Z\", \"end_time\": \"2021-01-10T21:50:24.222891Z\", \"created_time\": \"2021-01-10T21:49:18.405118Z\", \"created_time_dt\": \"2021-01-10T21:49:18.405118Z\", \"duration\": \"0:01:05\", \"iteration\": \"25\", \"goal\": \"AUC_weighted_max\", \"run_name\": \"MinMaxScaler, RandomForest\", \"run_properties\": \"copy=True, feature_range=(0, 1\", \"primary_metric\": 0.88445955, \"best_metric\": 0.9061201}, {\"run_id\": \"AutoML_f6a60bf5-3952-4426-bc90-66b92c904f3e_26\", \"run_number\": 76, \"metric\": null, \"status\": \"Completed\", \"run_type\": \"azureml.scriptrun\", \"training_percent\": \"100\", \"start_time\": \"2021-01-10T21:49:36.749269Z\", \"end_time\": \"2021-01-10T21:50:24.313568Z\", \"created_time\": \"2021-01-10T21:49:25.726309Z\", \"created_time_dt\": \"2021-01-10T21:49:25.726309Z\", \"duration\": \"0:00:58\", \"iteration\": \"26\", \"goal\": \"AUC_weighted_max\", \"run_name\": \"StandardScalerWrapper, LogisticRegression\", \"run_properties\": \"<azureml.automl.runtime.shared.model_wrappers.StandardScalerWrapper object at 0x7fb77f7e36a0\", \"primary_metric\": 0.86804377, \"best_metric\": 0.9061201}, {\"run_id\": \"AutoML_f6a60bf5-3952-4426-bc90-66b92c904f3e_27\", \"run_number\": 77, \"metric\": null, \"status\": \"Completed\", \"run_type\": \"azureml.scriptrun\", \"training_percent\": \"100\", \"start_time\": \"2021-01-10T21:49:54.3769Z\", \"end_time\": \"2021-01-10T21:50:40.361199Z\", \"created_time\": \"2021-01-10T21:49:30.053935Z\", \"created_time_dt\": \"2021-01-10T21:49:30.053935Z\", \"duration\": \"0:01:10\", \"iteration\": \"27\", \"goal\": \"AUC_weighted_max\", \"run_name\": \"StandardScalerWrapper, ExtremeRandomTrees\", \"run_properties\": \"<azureml.automl.runtime.shared.model_wrappers.StandardScalerWrapper object at 0x7f575953ee48\", \"primary_metric\": 0.88242789, \"best_metric\": 0.9061201}, {\"run_id\": \"AutoML_f6a60bf5-3952-4426-bc90-66b92c904f3e_28\", \"run_number\": 78, \"metric\": null, \"status\": \"Completed\", \"run_type\": \"azureml.scriptrun\", \"training_percent\": \"100\", \"start_time\": \"2021-01-10T21:50:10.996369Z\", \"end_time\": \"2021-01-10T21:51:02.210233Z\", \"created_time\": \"2021-01-10T21:49:54.707087Z\", \"created_time_dt\": \"2021-01-10T21:49:54.707087Z\", \"duration\": \"0:01:07\", \"iteration\": \"28\", \"goal\": \"AUC_weighted_max\", \"run_name\": \"StandardScalerWrapper, KNN\", \"run_properties\": \"<azureml.automl.runtime.shared.model_wrappers.StandardScalerWrapper object at 0x7fc9454a1f98\", \"primary_metric\": 0.50967553, \"best_metric\": 0.9061201}, {\"run_id\": \"AutoML_f6a60bf5-3952-4426-bc90-66b92c904f3e_29\", \"run_number\": 79, \"metric\": null, \"status\": \"Completed\", \"run_type\": \"azureml.scriptrun\", \"training_percent\": \"100\", \"start_time\": \"2021-01-10T21:50:28.941374Z\", \"end_time\": \"2021-01-10T21:51:13.972131Z\", \"created_time\": \"2021-01-10T21:50:06.742591Z\", \"created_time_dt\": \"2021-01-10T21:50:06.742591Z\", \"duration\": \"0:01:07\", \"iteration\": \"29\", \"goal\": \"AUC_weighted_max\", \"run_name\": \"RobustScaler, LightGBM\", \"run_properties\": \"copy=True, quantile_range=[10, 90], with_centering=False,\\n             with_scaling=False\", \"primary_metric\": 0.84833572, \"best_metric\": 0.9061201}, {\"run_id\": \"AutoML_f6a60bf5-3952-4426-bc90-66b92c904f3e_30\", \"run_number\": 80, \"metric\": null, \"status\": \"Failed\", \"run_type\": null, \"training_percent\": \"100\", \"start_time\": \"2021-01-10T21:50:27.355768Z\", \"end_time\": \"2021-01-10T21:50:30.104918Z\", \"created_time\": \"2021-01-10T21:50:27.355768Z\", \"created_time_dt\": \"2021-01-10T21:50:27.355768Z\", \"duration\": \"0:00:02\", \"iteration\": \"30\", \"goal\": null, \"run_name\": \"Failed\", \"run_properties\": null}, {\"run_id\": \"AutoML_f6a60bf5-3952-4426-bc90-66b92c904f3e_31\", \"run_number\": 81, \"metric\": null, \"status\": \"Completed\", \"run_type\": \"azureml.scriptrun\", \"training_percent\": \"100\", \"start_time\": \"2021-01-10T21:50:38.704619Z\", \"end_time\": \"2021-01-10T21:51:20.64943Z\", \"created_time\": \"2021-01-10T21:50:27.38026Z\", \"created_time_dt\": \"2021-01-10T21:50:27.38026Z\", \"duration\": \"0:00:53\", \"iteration\": \"31\", \"goal\": \"AUC_weighted_max\", \"run_name\": \"MinMaxScaler, LightGBM\", \"run_properties\": \"copy=True, feature_range=(0, 1\", \"primary_metric\": 0.89979244, \"best_metric\": 0.9061201}, {\"run_id\": \"AutoML_f6a60bf5-3952-4426-bc90-66b92c904f3e_32\", \"run_number\": 82, \"metric\": null, \"status\": \"Completed\", \"run_type\": \"azureml.scriptrun\", \"training_percent\": \"100\", \"start_time\": \"2021-01-10T21:50:48.960459Z\", \"end_time\": \"2021-01-10T21:51:41.432365Z\", \"created_time\": \"2021-01-10T21:50:31.801389Z\", \"created_time_dt\": \"2021-01-10T21:50:31.801389Z\", \"duration\": \"0:01:09\", \"iteration\": \"32\", \"goal\": \"AUC_weighted_max\", \"run_name\": \"MinMaxScaler, KNN\", \"run_properties\": \"copy=True, feature_range=(0, 1\", \"primary_metric\": 0.72662385, \"best_metric\": 0.9061201}, {\"run_id\": \"AutoML_f6a60bf5-3952-4426-bc90-66b92c904f3e_33\", \"run_number\": 83, \"metric\": null, \"status\": \"Completed\", \"run_type\": \"azureml.scriptrun\", \"training_percent\": \"100\", \"start_time\": \"2021-01-10T21:51:05.18619Z\", \"end_time\": \"2021-01-10T21:52:05.919908Z\", \"created_time\": \"2021-01-10T21:50:42.207899Z\", \"created_time_dt\": \"2021-01-10T21:50:42.207899Z\", \"duration\": \"0:01:23\", \"iteration\": \"33\", \"goal\": \"AUC_weighted_max\", \"run_name\": \"RobustScaler, KNN\", \"run_properties\": \"copy=True, quantile_range=[25, 75], with_centering=False,\\n             with_scaling=True\", \"primary_metric\": 0.82001868, \"best_metric\": 0.9061201}, {\"run_id\": \"AutoML_f6a60bf5-3952-4426-bc90-66b92c904f3e_34\", \"run_number\": 84, \"metric\": null, \"status\": \"Completed\", \"run_type\": \"azureml.scriptrun\", \"training_percent\": \"100\", \"start_time\": \"2021-01-10T21:51:18.679923Z\", \"end_time\": \"2021-01-10T21:52:06.911707Z\", \"created_time\": \"2021-01-10T21:51:03.995764Z\", \"created_time_dt\": \"2021-01-10T21:51:03.995764Z\", \"duration\": \"0:01:02\", \"iteration\": \"34\", \"goal\": \"AUC_weighted_max\", \"run_name\": \"RobustScaler, KNN\", \"run_properties\": \"copy=True, quantile_range=[10, 90], with_centering=True,\\n             with_scaling=True\", \"primary_metric\": 0.78449014, \"best_metric\": 0.9061201}, {\"run_id\": \"AutoML_f6a60bf5-3952-4426-bc90-66b92c904f3e_35\", \"run_number\": 85, \"metric\": null, \"status\": \"Canceled\", \"run_type\": \"azureml.scriptrun\", \"training_percent\": \"100\", \"start_time\": \"2021-01-10T21:51:29.4639Z\", \"end_time\": \"2021-01-10T21:52:12.852248Z\", \"created_time\": \"2021-01-10T21:51:16.783227Z\", \"created_time_dt\": \"2021-01-10T21:51:16.783227Z\", \"duration\": \"0:00:56\", \"iteration\": \"35\", \"goal\": \"AUC_weighted_max\", \"run_name\": \"TruncatedSVDWrapper, RandomForest\", \"run_properties\": \"n_components=0.8015789473684211, random_state=None\", \"primary_metric\": 0.82623652, \"best_metric\": 0.9061201}, {\"run_id\": \"AutoML_f6a60bf5-3952-4426-bc90-66b92c904f3e_36\", \"run_number\": 86, \"metric\": null, \"status\": \"Canceled\", \"run_type\": \"azureml.scriptrun\", \"training_percent\": \"100\", \"start_time\": \"2021-01-10T21:51:44.731032Z\", \"end_time\": \"2021-01-10T21:52:12.559928Z\", \"created_time\": \"2021-01-10T21:51:22.324989Z\", \"created_time_dt\": \"2021-01-10T21:51:22.324989Z\", \"duration\": \"0:00:50\", \"iteration\": \"36\", \"goal\": null, \"run_name\": \"Canceled\", \"run_properties\": null}, {\"run_id\": \"AutoML_f6a60bf5-3952-4426-bc90-66b92c904f3e_37\", \"run_number\": 87, \"metric\": null, \"status\": \"Canceled\", \"run_type\": \"azureml.scriptrun\", \"training_percent\": \"100\", \"start_time\": \"2021-01-10T21:52:05.324166Z\", \"end_time\": \"2021-01-10T21:52:12.999025Z\", \"created_time\": \"2021-01-10T21:51:43.610872Z\", \"created_time_dt\": \"2021-01-10T21:51:43.610872Z\", \"duration\": \"0:00:29\", \"iteration\": \"37\", \"goal\": null, \"run_name\": \"Canceled\", \"run_properties\": null}, {\"run_id\": \"AutoML_f6a60bf5-3952-4426-bc90-66b92c904f3e_38\", \"run_number\": 88, \"metric\": null, \"status\": \"Completed\", \"run_type\": \"azureml.scriptrun\", \"training_percent\": \"100\", \"start_time\": \"2021-01-10T21:52:31.369629Z\", \"end_time\": \"2021-01-10T21:54:18.635281Z\", \"created_time\": \"2021-01-10T21:52:21.410898Z\", \"created_time_dt\": \"2021-01-10T21:52:21.410898Z\", \"duration\": \"0:01:57\", \"iteration\": \"38\", \"goal\": \"AUC_weighted_max\", \"run_name\": \"VotingEnsemble\", \"run_properties\": \"classification_labels=None,\\n                              estimators=[('12',\\n                                           Pipeline(memory=None,\\n                                                    steps=[('standardscalerwrapper',\\n                                                            <azureml.automl.runtime.shared.model_wrappers.StandardScalerWrapper object at 0x7efce257aa58>\", \"primary_metric\": 0.91809285, \"best_metric\": 0.91809285}], \"children_metrics\": {\"categories\": [0], \"series\": {\"matthews_correlation\": [{\"categories\": [\"0\", \"1\", \"2\", \"3\", \"5\", \"6\", \"7\", \"8\", \"9\", \"10\", \"11\", \"12\", \"13\", \"14\", \"15\", \"16\", \"17\", \"18\", \"19\", \"20\", \"21\", \"22\", \"23\", \"24\", \"25\", \"26\", \"27\", \"28\", \"29\", \"31\", \"32\", \"33\", \"34\", \"35\", \"38\"], \"mode\": \"markers\", \"name\": \"matthews_correlation\", \"stepped\": false, \"type\": \"scatter\", \"data\": [0.6231314496952846, 0.6345538749068885, 0.5911676816984763, 0.5073973163034167, 0.5967387856438762, 0.6256768921217395, 0.6546759342324272, 0.5076956186993092, 0.4352854456898543, 0.5178732938823079, 0.6252232678304998, 0.6276872423394424, 0.602374560767889, 0.5714758342867405, 0.10426477830980234, 0.5245400660703098, 0.5188411857220403, 0.6130948606935939, 0.646988587139857, 0.6046045016988689, 0.4915157265954722, 0.5739873454740945, 0.6494261400909689, 0.5986771914346563, 0.606877152655451, 0.5585540540065608, 0.5992005218846856, 0.053061132549899394, 0.37135677584662713, 0.6534960550964094, 0.2667427191504349, 0.3786123485596561, 0.21188325841156302, 0.484740400461407, 0.7004178371936793]}, {\"categories\": [\"0\", \"1\", \"2\", \"3\", \"5\", \"6\", \"7\", \"8\", \"9\", \"10\", \"11\", \"12\", \"13\", \"14\", \"15\", \"16\", \"17\", \"18\", \"19\", \"20\", \"21\", \"22\", \"23\", \"24\", \"25\", \"26\", \"27\", \"28\", \"29\", \"31\", \"32\", \"33\", \"34\", \"35\", \"38\"], \"mode\": \"lines\", \"name\": \"matthews_correlation_max\", \"stepped\": true, \"type\": \"scatter\", \"data\": [0.6231314496952846, 0.6345538749068885, 0.6345538749068885, 0.6345538749068885, 0.6345538749068885, 0.6345538749068885, 0.6546759342324272, 0.6546759342324272, 0.6546759342324272, 0.6546759342324272, 0.6546759342324272, 0.6546759342324272, 0.6546759342324272, 0.6546759342324272, 0.6546759342324272, 0.6546759342324272, 0.6546759342324272, 0.6546759342324272, 0.6546759342324272, 0.6546759342324272, 0.6546759342324272, 0.6546759342324272, 0.6546759342324272, 0.6546759342324272, 0.6546759342324272, 0.6546759342324272, 0.6546759342324272, 0.6546759342324272, 0.6546759342324272, 0.6546759342324272, 0.6546759342324272, 0.6546759342324272, 0.6546759342324272, 0.6546759342324272, 0.7004178371936793]}], \"recall_score_micro\": [{\"categories\": [\"0\", \"1\", \"2\", \"3\", \"5\", \"6\", \"7\", \"8\", \"9\", \"10\", \"11\", \"12\", \"13\", \"14\", \"15\", \"16\", \"17\", \"18\", \"19\", \"20\", \"21\", \"22\", \"23\", \"24\", \"25\", \"26\", \"27\", \"28\", \"29\", \"31\", \"32\", \"33\", \"34\", \"35\", \"38\"], \"mode\": \"markers\", \"name\": \"recall_score_micro\", \"stepped\": false, \"type\": \"scatter\", \"data\": [0.8359770114942527, 0.8358620689655172, 0.8224137931034482, 0.7894252873563219, 0.8260919540229885, 0.8322988505747126, 0.8526436781609196, 0.7926436781609196, 0.7659770114942528, 0.7959770114942529, 0.8362068965517242, 0.8222988505747126, 0.822528735632184, 0.7989655172413792, 0.6389655172413793, 0.8093103448275862, 0.7857471264367817, 0.825632183908046, 0.8459770114942529, 0.8227586206896552, 0.7620689655172413, 0.8127586206896552, 0.8429885057471264, 0.822528735632184, 0.8157471264367816, 0.792528735632184, 0.8258620689655173, 0.612183908045977, 0.7524137931034482, 0.8493103448275864, 0.7225287356321839, 0.7493103448275862, 0.7225287356321839, 0.7686206896551726, 0.8662068965517242]}, {\"categories\": [\"0\", \"1\", \"2\", \"3\", \"5\", \"6\", \"7\", \"8\", \"9\", \"10\", \"11\", \"12\", \"13\", \"14\", \"15\", \"16\", \"17\", \"18\", \"19\", \"20\", \"21\", \"22\", \"23\", \"24\", \"25\", \"26\", \"27\", \"28\", \"29\", \"31\", \"32\", \"33\", \"34\", \"35\", \"38\"], \"mode\": \"lines\", \"name\": \"recall_score_micro_max\", \"stepped\": true, \"type\": \"scatter\", \"data\": [0.8359770114942527, 0.8359770114942527, 0.8359770114942527, 0.8359770114942527, 0.8359770114942527, 0.8359770114942527, 0.8526436781609196, 0.8526436781609196, 0.8526436781609196, 0.8526436781609196, 0.8526436781609196, 0.8526436781609196, 0.8526436781609196, 0.8526436781609196, 0.8526436781609196, 0.8526436781609196, 0.8526436781609196, 0.8526436781609196, 0.8526436781609196, 0.8526436781609196, 0.8526436781609196, 0.8526436781609196, 0.8526436781609196, 0.8526436781609196, 0.8526436781609196, 0.8526436781609196, 0.8526436781609196, 0.8526436781609196, 0.8526436781609196, 0.8526436781609196, 0.8526436781609196, 0.8526436781609196, 0.8526436781609196, 0.8526436781609196, 0.8662068965517242]}], \"AUC_weighted\": [{\"categories\": [\"0\", \"1\", \"2\", \"3\", \"5\", \"6\", \"7\", \"8\", \"9\", \"10\", \"11\", \"12\", \"13\", \"14\", \"15\", \"16\", \"17\", \"18\", \"19\", \"20\", \"21\", \"22\", \"23\", \"24\", \"25\", \"26\", \"27\", \"28\", \"29\", \"31\", \"32\", \"33\", \"34\", \"35\", \"38\"], \"mode\": \"markers\", \"name\": \"AUC_weighted\", \"stepped\": false, \"type\": \"scatter\", \"data\": [0.8840955354735103, 0.8847369443591411, 0.9018508071754925, 0.8761868042140926, 0.8913603571676226, 0.8753030973078625, 0.8836059010889101, 0.8915610258903739, 0.7496161006793443, 0.8633793332694933, 0.8801994434097982, 0.9061201005368054, 0.8680379021774902, 0.8768399185821382, 0.5203053263648802, 0.8871442284069859, 0.8298934587786991, 0.8766581465466476, 0.8926710928479522, 0.8934567799054068, 0.8333630939998218, 0.8696565867347331, 0.8954261114193036, 0.8638387105774978, 0.884459551216645, 0.8680437667786066, 0.8824278882592956, 0.5096755295132869, 0.8483357245221089, 0.8997924416883227, 0.7266238517076619, 0.8200186766322922, 0.7844901350323548, 0.826236521282345, 0.9180928505387316]}, {\"categories\": [\"0\", \"1\", \"2\", \"3\", \"5\", \"6\", \"7\", \"8\", \"9\", \"10\", \"11\", \"12\", \"13\", \"14\", \"15\", \"16\", \"17\", \"18\", \"19\", \"20\", \"21\", \"22\", \"23\", \"24\", \"25\", \"26\", \"27\", \"28\", \"29\", \"31\", \"32\", \"33\", \"34\", \"35\", \"38\"], \"mode\": \"lines\", \"name\": \"AUC_weighted_max\", \"stepped\": true, \"type\": \"scatter\", \"data\": [0.8840955354735103, 0.8847369443591411, 0.9018508071754925, 0.9018508071754925, 0.9018508071754925, 0.9018508071754925, 0.9018508071754925, 0.9018508071754925, 0.9018508071754925, 0.9018508071754925, 0.9018508071754925, 0.9061201005368054, 0.9061201005368054, 0.9061201005368054, 0.9061201005368054, 0.9061201005368054, 0.9061201005368054, 0.9061201005368054, 0.9061201005368054, 0.9061201005368054, 0.9061201005368054, 0.9061201005368054, 0.9061201005368054, 0.9061201005368054, 0.9061201005368054, 0.9061201005368054, 0.9061201005368054, 0.9061201005368054, 0.9061201005368054, 0.9061201005368054, 0.9061201005368054, 0.9061201005368054, 0.9061201005368054, 0.9061201005368054, 0.9180928505387316]}], \"precision_score_macro\": [{\"categories\": [\"0\", \"1\", \"2\", \"3\", \"5\", \"6\", \"7\", \"8\", \"9\", \"10\", \"11\", \"12\", \"13\", \"14\", \"15\", \"16\", \"17\", \"18\", \"19\", \"20\", \"21\", \"22\", \"23\", \"24\", \"25\", \"26\", \"27\", \"28\", \"29\", \"31\", \"32\", \"33\", \"34\", \"35\", \"38\"], \"mode\": \"markers\", \"name\": \"precision_score_macro\", \"stepped\": false, \"type\": \"scatter\", \"data\": [0.8167365852764965, 0.8232986049897815, 0.8096014765920877, 0.8349550787376874, 0.8074109660586644, 0.8165427563473904, 0.8471525751883808, 0.8184772654881349, 0.7703082497212932, 0.8345559979473023, 0.8586581462016245, 0.8011479720400001, 0.8151354336929281, 0.777485462668529, 0.5543597592139792, 0.8246146466255162, 0.7606404968515279, 0.7956776871107535, 0.8340552732291864, 0.8092616232517127, 0.7389919503964125, 0.7911766343559823, 0.8287023390004948, 0.8133497194072137, 0.7968751176359873, 0.7717295219830049, 0.8204451816299642, 0.5183381690772996, 0.7925214056585871, 0.8427658346200545, 0.7339996351030834, 0.7495871113588505, 0.6360337038440488, 0.7357107231097674, 0.8784641336923945]}, {\"categories\": [\"0\", \"1\", \"2\", \"3\", \"5\", \"6\", \"7\", \"8\", \"9\", \"10\", \"11\", \"12\", \"13\", \"14\", \"15\", \"16\", \"17\", \"18\", \"19\", \"20\", \"21\", \"22\", \"23\", \"24\", \"25\", \"26\", \"27\", \"28\", \"29\", \"31\", \"32\", \"33\", \"34\", \"35\", \"38\"], \"mode\": \"lines\", \"name\": \"precision_score_macro_max\", \"stepped\": true, \"type\": \"scatter\", \"data\": [0.8167365852764965, 0.8232986049897815, 0.8232986049897815, 0.8349550787376874, 0.8349550787376874, 0.8349550787376874, 0.8471525751883808, 0.8471525751883808, 0.8471525751883808, 0.8471525751883808, 0.8586581462016245, 0.8586581462016245, 0.8586581462016245, 0.8586581462016245, 0.8586581462016245, 0.8586581462016245, 0.8586581462016245, 0.8586581462016245, 0.8586581462016245, 0.8586581462016245, 0.8586581462016245, 0.8586581462016245, 0.8586581462016245, 0.8586581462016245, 0.8586581462016245, 0.8586581462016245, 0.8586581462016245, 0.8586581462016245, 0.8586581462016245, 0.8586581462016245, 0.8586581462016245, 0.8586581462016245, 0.8586581462016245, 0.8586581462016245, 0.8784641336923945]}], \"balanced_accuracy\": [{\"categories\": [\"0\", \"1\", \"2\", \"3\", \"5\", \"6\", \"7\", \"8\", \"9\", \"10\", \"11\", \"12\", \"13\", \"14\", \"15\", \"16\", \"17\", \"18\", \"19\", \"20\", \"21\", \"22\", \"23\", \"24\", \"25\", \"26\", \"27\", \"28\", \"29\", \"31\", \"32\", \"33\", \"34\", \"35\", \"38\"], \"mode\": \"markers\", \"name\": \"balanced_accuracy\", \"stepped\": false, \"type\": \"scatter\", \"data\": [0.8077082895810014, 0.8130249020938379, 0.7836447339528003, 0.6965366892197556, 0.7908975885860897, 0.809885999996698, 0.8097269850350515, 0.7095086902037703, 0.6780357113964093, 0.7131315665646328, 0.7758795824376488, 0.8284620745704843, 0.7897339131755607, 0.7962633143299618, 0.5513534193685796, 0.7143890787574998, 0.7585625435459532, 0.8188718366238389, 0.8143370774597891, 0.7964540650044083, 0.7535449844142637, 0.7847813737241655, 0.8223294703326168, 0.7878200375774747, 0.8112789623928067, 0.7890289850944885, 0.781768439956941, 0.533303825687407, 0.623593168527379, 0.8137756235945595, 0.5803545548654243, 0.6471309940694951, 0.5808673709966616, 0.7511580292959011, 0.8260754385139396]}, {\"categories\": [\"0\", \"1\", \"2\", \"3\", \"5\", \"6\", \"7\", \"8\", \"9\", \"10\", \"11\", \"12\", \"13\", \"14\", \"15\", \"16\", \"17\", \"18\", \"19\", \"20\", \"21\", \"22\", \"23\", \"24\", \"25\", \"26\", \"27\", \"28\", \"29\", \"31\", \"32\", \"33\", \"34\", \"35\", \"38\"], \"mode\": \"lines\", \"name\": \"balanced_accuracy_max\", \"stepped\": true, \"type\": \"scatter\", \"data\": [0.8077082895810014, 0.8130249020938379, 0.8130249020938379, 0.8130249020938379, 0.8130249020938379, 0.8130249020938379, 0.8130249020938379, 0.8130249020938379, 0.8130249020938379, 0.8130249020938379, 0.8130249020938379, 0.8284620745704843, 0.8284620745704843, 0.8284620745704843, 0.8284620745704843, 0.8284620745704843, 0.8284620745704843, 0.8284620745704843, 0.8284620745704843, 0.8284620745704843, 0.8284620745704843, 0.8284620745704843, 0.8284620745704843, 0.8284620745704843, 0.8284620745704843, 0.8284620745704843, 0.8284620745704843, 0.8284620745704843, 0.8284620745704843, 0.8284620745704843, 0.8284620745704843, 0.8284620745704843, 0.8284620745704843, 0.8284620745704843, 0.8284620745704843]}], \"accuracy\": [{\"categories\": [\"0\", \"1\", \"2\", \"3\", \"5\", \"6\", \"7\", \"8\", \"9\", \"10\", \"11\", \"12\", \"13\", \"14\", \"15\", \"16\", \"17\", \"18\", \"19\", \"20\", \"21\", \"22\", \"23\", \"24\", \"25\", \"26\", \"27\", \"28\", \"29\", \"31\", \"32\", \"33\", \"34\", \"35\", \"38\"], \"mode\": \"markers\", \"name\": \"accuracy\", \"stepped\": false, \"type\": \"scatter\", \"data\": [0.8359770114942527, 0.8358620689655172, 0.8224137931034482, 0.7894252873563219, 0.8260919540229885, 0.8322988505747126, 0.8526436781609196, 0.7926436781609196, 0.7659770114942528, 0.7959770114942529, 0.8362068965517242, 0.8222988505747126, 0.822528735632184, 0.7989655172413792, 0.6389655172413793, 0.8093103448275862, 0.7857471264367817, 0.825632183908046, 0.8459770114942529, 0.8227586206896552, 0.7620689655172413, 0.8127586206896552, 0.8429885057471264, 0.822528735632184, 0.8157471264367816, 0.792528735632184, 0.8258620689655173, 0.612183908045977, 0.7524137931034482, 0.8493103448275864, 0.7225287356321839, 0.7493103448275862, 0.7225287356321839, 0.7686206896551726, 0.8662068965517242]}, {\"categories\": [\"0\", \"1\", \"2\", \"3\", \"5\", \"6\", \"7\", \"8\", \"9\", \"10\", \"11\", \"12\", \"13\", \"14\", \"15\", \"16\", \"17\", \"18\", \"19\", \"20\", \"21\", \"22\", \"23\", \"24\", \"25\", \"26\", \"27\", \"28\", \"29\", \"31\", \"32\", \"33\", \"34\", \"35\", \"38\"], \"mode\": \"lines\", \"name\": \"accuracy_max\", \"stepped\": true, \"type\": \"scatter\", \"data\": [0.8359770114942527, 0.8359770114942527, 0.8359770114942527, 0.8359770114942527, 0.8359770114942527, 0.8359770114942527, 0.8526436781609196, 0.8526436781609196, 0.8526436781609196, 0.8526436781609196, 0.8526436781609196, 0.8526436781609196, 0.8526436781609196, 0.8526436781609196, 0.8526436781609196, 0.8526436781609196, 0.8526436781609196, 0.8526436781609196, 0.8526436781609196, 0.8526436781609196, 0.8526436781609196, 0.8526436781609196, 0.8526436781609196, 0.8526436781609196, 0.8526436781609196, 0.8526436781609196, 0.8526436781609196, 0.8526436781609196, 0.8526436781609196, 0.8526436781609196, 0.8526436781609196, 0.8526436781609196, 0.8526436781609196, 0.8526436781609196, 0.8662068965517242]}], \"norm_macro_recall\": [{\"categories\": [\"0\", \"1\", \"2\", \"3\", \"5\", \"6\", \"7\", \"8\", \"9\", \"10\", \"11\", \"12\", \"13\", \"14\", \"15\", \"16\", \"17\", \"18\", \"19\", \"20\", \"21\", \"22\", \"23\", \"24\", \"25\", \"26\", \"27\", \"28\", \"29\", \"31\", \"32\", \"33\", \"34\", \"35\", \"38\"], \"mode\": \"markers\", \"name\": \"norm_macro_recall\", \"stepped\": false, \"type\": \"scatter\", \"data\": [0.6154165791620023, 0.626049804187676, 0.5672894679056008, 0.3930733784395112, 0.5817951771721794, 0.6197719999933958, 0.6194539700701027, 0.4190173804075405, 0.3560714227928186, 0.4262631331292658, 0.5517591648752976, 0.6569241491409683, 0.5794678263511216, 0.5925266286599238, 0.1267612930547713, 0.4287781575149996, 0.5171250870919064, 0.6377436732476778, 0.6286741549195781, 0.5929081300088165, 0.5070899688285272, 0.569562747448331, 0.6446589406652334, 0.5756400751549493, 0.6225579247856137, 0.5780579701889771, 0.563536879913882, 0.1253586956521739, 0.25173179160021264, 0.627551247189119, 0.1694047619047619, 0.2942619881389904, 0.18080651232825146, 0.5055628118385554, 0.6521508770278793]}, {\"categories\": [\"0\", \"1\", \"2\", \"3\", \"5\", \"6\", \"7\", \"8\", \"9\", \"10\", \"11\", \"12\", \"13\", \"14\", \"15\", \"16\", \"17\", \"18\", \"19\", \"20\", \"21\", \"22\", \"23\", \"24\", \"25\", \"26\", \"27\", \"28\", \"29\", \"31\", \"32\", \"33\", \"34\", \"35\", \"38\"], \"mode\": \"lines\", \"name\": \"norm_macro_recall_max\", \"stepped\": true, \"type\": \"scatter\", \"data\": [0.6154165791620023, 0.626049804187676, 0.626049804187676, 0.626049804187676, 0.626049804187676, 0.626049804187676, 0.626049804187676, 0.626049804187676, 0.626049804187676, 0.626049804187676, 0.626049804187676, 0.6569241491409683, 0.6569241491409683, 0.6569241491409683, 0.6569241491409683, 0.6569241491409683, 0.6569241491409683, 0.6569241491409683, 0.6569241491409683, 0.6569241491409683, 0.6569241491409683, 0.6569241491409683, 0.6569241491409683, 0.6569241491409683, 0.6569241491409683, 0.6569241491409683, 0.6569241491409683, 0.6569241491409683, 0.6569241491409683, 0.6569241491409683, 0.6569241491409683, 0.6569241491409683, 0.6569241491409683, 0.6569241491409683, 0.6569241491409683]}], \"recall_score_macro\": [{\"categories\": [\"0\", \"1\", \"2\", \"3\", \"5\", \"6\", \"7\", \"8\", \"9\", \"10\", \"11\", \"12\", \"13\", \"14\", \"15\", \"16\", \"17\", \"18\", \"19\", \"20\", \"21\", \"22\", \"23\", \"24\", \"25\", \"26\", \"27\", \"28\", \"29\", \"31\", \"32\", \"33\", \"34\", \"35\", \"38\"], \"mode\": \"markers\", \"name\": \"recall_score_macro\", \"stepped\": false, \"type\": \"scatter\", \"data\": [0.8077082895810014, 0.8130249020938379, 0.7836447339528003, 0.6965366892197556, 0.7908975885860897, 0.809885999996698, 0.8097269850350515, 0.7095086902037703, 0.6780357113964093, 0.7131315665646328, 0.7758795824376488, 0.8284620745704843, 0.7897339131755607, 0.7962633143299618, 0.5513534193685796, 0.7143890787574998, 0.7585625435459532, 0.8188718366238389, 0.8143370774597891, 0.7964540650044083, 0.7535449844142637, 0.7847813737241655, 0.8223294703326168, 0.7878200375774747, 0.8112789623928067, 0.7890289850944885, 0.781768439956941, 0.533303825687407, 0.623593168527379, 0.8137756235945595, 0.5803545548654243, 0.6471309940694951, 0.5808673709966616, 0.7511580292959011, 0.8260754385139396]}, {\"categories\": [\"0\", \"1\", \"2\", \"3\", \"5\", \"6\", \"7\", \"8\", \"9\", \"10\", \"11\", \"12\", \"13\", \"14\", \"15\", \"16\", \"17\", \"18\", \"19\", \"20\", \"21\", \"22\", \"23\", \"24\", \"25\", \"26\", \"27\", \"28\", \"29\", \"31\", \"32\", \"33\", \"34\", \"35\", \"38\"], \"mode\": \"lines\", \"name\": \"recall_score_macro_max\", \"stepped\": true, \"type\": \"scatter\", \"data\": [0.8077082895810014, 0.8130249020938379, 0.8130249020938379, 0.8130249020938379, 0.8130249020938379, 0.8130249020938379, 0.8130249020938379, 0.8130249020938379, 0.8130249020938379, 0.8130249020938379, 0.8130249020938379, 0.8284620745704843, 0.8284620745704843, 0.8284620745704843, 0.8284620745704843, 0.8284620745704843, 0.8284620745704843, 0.8284620745704843, 0.8284620745704843, 0.8284620745704843, 0.8284620745704843, 0.8284620745704843, 0.8284620745704843, 0.8284620745704843, 0.8284620745704843, 0.8284620745704843, 0.8284620745704843, 0.8284620745704843, 0.8284620745704843, 0.8284620745704843, 0.8284620745704843, 0.8284620745704843, 0.8284620745704843, 0.8284620745704843, 0.8284620745704843]}], \"recall_score_weighted\": [{\"categories\": [\"0\", \"1\", \"2\", \"3\", \"5\", \"6\", \"7\", \"8\", \"9\", \"10\", \"11\", \"12\", \"13\", \"14\", \"15\", \"16\", \"17\", \"18\", \"19\", \"20\", \"21\", \"22\", \"23\", \"24\", \"25\", \"26\", \"27\", \"28\", \"29\", \"31\", \"32\", \"33\", \"34\", \"35\", \"38\"], \"mode\": \"markers\", \"name\": \"recall_score_weighted\", \"stepped\": false, \"type\": \"scatter\", \"data\": [0.8359770114942527, 0.8358620689655172, 0.8224137931034482, 0.7894252873563219, 0.8260919540229885, 0.8322988505747126, 0.8526436781609196, 0.7926436781609196, 0.7659770114942528, 0.7959770114942529, 0.8362068965517242, 0.8222988505747126, 0.822528735632184, 0.7989655172413792, 0.6389655172413793, 0.8093103448275862, 0.7857471264367817, 0.825632183908046, 0.8459770114942529, 0.8227586206896552, 0.7620689655172413, 0.8127586206896552, 0.8429885057471264, 0.822528735632184, 0.8157471264367816, 0.792528735632184, 0.8258620689655173, 0.612183908045977, 0.7524137931034482, 0.8493103448275864, 0.7225287356321839, 0.7493103448275862, 0.7225287356321839, 0.7686206896551726, 0.8662068965517242]}, {\"categories\": [\"0\", \"1\", \"2\", \"3\", \"5\", \"6\", \"7\", \"8\", \"9\", \"10\", \"11\", \"12\", \"13\", \"14\", \"15\", \"16\", \"17\", \"18\", \"19\", \"20\", \"21\", \"22\", \"23\", \"24\", \"25\", \"26\", \"27\", \"28\", \"29\", \"31\", \"32\", \"33\", \"34\", \"35\", \"38\"], \"mode\": \"lines\", \"name\": \"recall_score_weighted_max\", \"stepped\": true, \"type\": \"scatter\", \"data\": [0.8359770114942527, 0.8359770114942527, 0.8359770114942527, 0.8359770114942527, 0.8359770114942527, 0.8359770114942527, 0.8526436781609196, 0.8526436781609196, 0.8526436781609196, 0.8526436781609196, 0.8526436781609196, 0.8526436781609196, 0.8526436781609196, 0.8526436781609196, 0.8526436781609196, 0.8526436781609196, 0.8526436781609196, 0.8526436781609196, 0.8526436781609196, 0.8526436781609196, 0.8526436781609196, 0.8526436781609196, 0.8526436781609196, 0.8526436781609196, 0.8526436781609196, 0.8526436781609196, 0.8526436781609196, 0.8526436781609196, 0.8526436781609196, 0.8526436781609196, 0.8526436781609196, 0.8526436781609196, 0.8526436781609196, 0.8526436781609196, 0.8662068965517242]}], \"f1_score_macro\": [{\"categories\": [\"0\", \"1\", \"2\", \"3\", \"5\", \"6\", \"7\", \"8\", \"9\", \"10\", \"11\", \"12\", \"13\", \"14\", \"15\", \"16\", \"17\", \"18\", \"19\", \"20\", \"21\", \"22\", \"23\", \"24\", \"25\", \"26\", \"27\", \"28\", \"29\", \"31\", \"32\", \"33\", \"34\", \"35\", \"38\"], \"mode\": \"markers\", \"name\": \"f1_score_macro\", \"stepped\": false, \"type\": \"scatter\", \"data\": [0.8043314151248963, 0.8078501228997539, 0.7842838643864276, 0.7068984814419647, 0.7892549333073884, 0.8067091946966098, 0.816838591523374, 0.7073071733025466, 0.6844538166645457, 0.7126506700708267, 0.7896244649665215, 0.7996795668367707, 0.786520686032605, 0.770837243125196, 0.5251633085767229, 0.7286664438056688, 0.7537354915447998, 0.7970315536763085, 0.8142843879199096, 0.7925091478765569, 0.7318167661755163, 0.7764365117684694, 0.8147761748454128, 0.7859665734784926, 0.79068145560162, 0.7627173409308519, 0.7850288527897225, 0.5089748246681844, 0.6140556857377051, 0.8148775816520866, 0.5530180469477166, 0.6480179132869976, 0.5537296780897497, 0.7337417080710041, 0.8354478001952426]}, {\"categories\": [\"0\", \"1\", \"2\", \"3\", \"5\", \"6\", \"7\", \"8\", \"9\", \"10\", \"11\", \"12\", \"13\", \"14\", \"15\", \"16\", \"17\", \"18\", \"19\", \"20\", \"21\", \"22\", \"23\", \"24\", \"25\", \"26\", \"27\", \"28\", \"29\", \"31\", \"32\", \"33\", \"34\", \"35\", \"38\"], \"mode\": \"lines\", \"name\": \"f1_score_macro_max\", \"stepped\": true, \"type\": \"scatter\", \"data\": [0.8043314151248963, 0.8078501228997539, 0.8078501228997539, 0.8078501228997539, 0.8078501228997539, 0.8078501228997539, 0.816838591523374, 0.816838591523374, 0.816838591523374, 0.816838591523374, 0.816838591523374, 0.816838591523374, 0.816838591523374, 0.816838591523374, 0.816838591523374, 0.816838591523374, 0.816838591523374, 0.816838591523374, 0.816838591523374, 0.816838591523374, 0.816838591523374, 0.816838591523374, 0.816838591523374, 0.816838591523374, 0.816838591523374, 0.816838591523374, 0.816838591523374, 0.816838591523374, 0.816838591523374, 0.816838591523374, 0.816838591523374, 0.816838591523374, 0.816838591523374, 0.816838591523374, 0.8354478001952426]}], \"average_precision_score_macro\": [{\"categories\": [\"0\", \"1\", \"2\", \"3\", \"5\", \"6\", \"7\", \"8\", \"9\", \"10\", \"11\", \"12\", \"13\", \"14\", \"15\", \"16\", \"17\", \"18\", \"19\", \"20\", \"21\", \"22\", \"23\", \"24\", \"25\", \"26\", \"27\", \"28\", \"29\", \"31\", \"32\", \"33\", \"34\", \"35\", \"38\"], \"mode\": \"markers\", \"name\": \"average_precision_score_macro\", \"stepped\": false, \"type\": \"scatter\", \"data\": [0.8807888197525153, 0.8807340475847678, 0.8985650619056077, 0.874911419712266, 0.884606806259742, 0.8597901310229444, 0.8870419718160114, 0.8815042575335565, 0.7610796181270093, 0.860736365218383, 0.8808134235523306, 0.8884124815271093, 0.8560088141628679, 0.869709704021847, 0.5793782772753733, 0.8767254995717991, 0.8254346235616433, 0.8687151210092002, 0.88294953870567, 0.8846176021514172, 0.8404338785729047, 0.8601364250310267, 0.889131438509632, 0.8531397251050148, 0.8789430526609309, 0.8530575948984758, 0.8762225013077904, 0.5710799178948294, 0.843909786582868, 0.8890396022720763, 0.7339998732243326, 0.8015964236715222, 0.7698241574663145, 0.8226147402143147, 0.910839813123214]}, {\"categories\": [\"0\", \"1\", \"2\", \"3\", \"5\", \"6\", \"7\", \"8\", \"9\", \"10\", \"11\", \"12\", \"13\", \"14\", \"15\", \"16\", \"17\", \"18\", \"19\", \"20\", \"21\", \"22\", \"23\", \"24\", \"25\", \"26\", \"27\", \"28\", \"29\", \"31\", \"32\", \"33\", \"34\", \"35\", \"38\"], \"mode\": \"lines\", \"name\": \"average_precision_score_macro_max\", \"stepped\": true, \"type\": \"scatter\", \"data\": [0.8807888197525153, 0.8807888197525153, 0.8985650619056077, 0.8985650619056077, 0.8985650619056077, 0.8985650619056077, 0.8985650619056077, 0.8985650619056077, 0.8985650619056077, 0.8985650619056077, 0.8985650619056077, 0.8985650619056077, 0.8985650619056077, 0.8985650619056077, 0.8985650619056077, 0.8985650619056077, 0.8985650619056077, 0.8985650619056077, 0.8985650619056077, 0.8985650619056077, 0.8985650619056077, 0.8985650619056077, 0.8985650619056077, 0.8985650619056077, 0.8985650619056077, 0.8985650619056077, 0.8985650619056077, 0.8985650619056077, 0.8985650619056077, 0.8985650619056077, 0.8985650619056077, 0.8985650619056077, 0.8985650619056077, 0.8985650619056077, 0.910839813123214]}], \"average_precision_score_weighted\": [{\"categories\": [\"0\", \"1\", \"2\", \"3\", \"5\", \"6\", \"7\", \"8\", \"9\", \"10\", \"11\", \"12\", \"13\", \"14\", \"15\", \"16\", \"17\", \"18\", \"19\", \"20\", \"21\", \"22\", \"23\", \"24\", \"25\", \"26\", \"27\", \"28\", \"29\", \"31\", \"32\", \"33\", \"34\", \"35\", \"38\"], \"mode\": \"markers\", \"name\": \"average_precision_score_weighted\", \"stepped\": false, \"type\": \"scatter\", \"data\": [0.9061112830231934, 0.907154018724502, 0.9215250117431566, 0.901076138545972, 0.9099622954892107, 0.8933793529039706, 0.9082411337881651, 0.9072203028320087, 0.7960613547349917, 0.8903744719997049, 0.9038185443658586, 0.9177768914026252, 0.8913912219351632, 0.8992707012157254, 0.6358285919365991, 0.9105426393058369, 0.8597259080266385, 0.8983717480143181, 0.9083415973457256, 0.9093236681161875, 0.873242395517223, 0.8920872305411256, 0.9127015336773994, 0.8879444208863108, 0.9052760473143966, 0.8890932320358041, 0.9033768391226118, 0.6280706970669568, 0.8825963710614915, 0.9156582755322742, 0.7868233606853516, 0.849006868154843, 0.8225188513035073, 0.8662714977902967, 0.9319080459870012]}, {\"categories\": [\"0\", \"1\", \"2\", \"3\", \"5\", \"6\", \"7\", \"8\", \"9\", \"10\", \"11\", \"12\", \"13\", \"14\", \"15\", \"16\", \"17\", \"18\", \"19\", \"20\", \"21\", \"22\", \"23\", \"24\", \"25\", \"26\", \"27\", \"28\", \"29\", \"31\", \"32\", \"33\", \"34\", \"35\", \"38\"], \"mode\": \"lines\", \"name\": \"average_precision_score_weighted_max\", \"stepped\": true, \"type\": \"scatter\", \"data\": [0.9061112830231934, 0.907154018724502, 0.9215250117431566, 0.9215250117431566, 0.9215250117431566, 0.9215250117431566, 0.9215250117431566, 0.9215250117431566, 0.9215250117431566, 0.9215250117431566, 0.9215250117431566, 0.9215250117431566, 0.9215250117431566, 0.9215250117431566, 0.9215250117431566, 0.9215250117431566, 0.9215250117431566, 0.9215250117431566, 0.9215250117431566, 0.9215250117431566, 0.9215250117431566, 0.9215250117431566, 0.9215250117431566, 0.9215250117431566, 0.9215250117431566, 0.9215250117431566, 0.9215250117431566, 0.9215250117431566, 0.9215250117431566, 0.9215250117431566, 0.9215250117431566, 0.9215250117431566, 0.9215250117431566, 0.9215250117431566, 0.9319080459870012]}], \"log_loss\": [{\"categories\": [\"0\", \"1\", \"2\", \"3\", \"5\", \"6\", \"7\", \"8\", \"9\", \"10\", \"11\", \"12\", \"13\", \"14\", \"15\", \"16\", \"17\", \"18\", \"19\", \"20\", \"21\", \"22\", \"23\", \"24\", \"25\", \"26\", \"27\", \"28\", \"29\", \"31\", \"32\", \"33\", \"34\", \"35\", \"38\"], \"mode\": \"markers\", \"name\": \"log_loss\", \"stepped\": false, \"type\": \"scatter\", \"data\": [0.4772179826627182, 0.41764279466886123, 0.3818744978683807, 0.4674655739730085, 0.3980129383406431, 0.41073056573586575, 0.3967003090403958, 0.46723296124880925, 1.2837639362986895, 0.47372004162799836, 0.4333508119321251, 0.4208435822109541, 0.41872795517314343, 0.4482194176203273, 0.7617709563916407, 0.4560519540937828, 0.6338608395728427, 0.5304009397641783, 0.48001321655997786, 0.4020557183699315, 0.5283266635204592, 0.4785973159412971, 0.38997725486933127, 0.43148772234073673, 0.4365745727719643, 0.4627281460969881, 0.4146286026287817, 1.3201854176949437, 0.5123136836149278, 0.36369423572929227, 0.5768005725668037, 0.6940116432057775, 0.735687185998445, 0.5911956601204078, 0.4224562458110925]}, {\"categories\": [\"0\", \"1\", \"2\", \"3\", \"5\", \"6\", \"7\", \"8\", \"9\", \"10\", \"11\", \"12\", \"13\", \"14\", \"15\", \"16\", \"17\", \"18\", \"19\", \"20\", \"21\", \"22\", \"23\", \"24\", \"25\", \"26\", \"27\", \"28\", \"29\", \"31\", \"32\", \"33\", \"34\", \"35\", \"38\"], \"mode\": \"lines\", \"name\": \"log_loss_min\", \"stepped\": true, \"type\": \"scatter\", \"data\": [0.4772179826627182, 0.41764279466886123, 0.3818744978683807, 0.3818744978683807, 0.3818744978683807, 0.3818744978683807, 0.3818744978683807, 0.3818744978683807, 0.3818744978683807, 0.3818744978683807, 0.3818744978683807, 0.3818744978683807, 0.3818744978683807, 0.3818744978683807, 0.3818744978683807, 0.3818744978683807, 0.3818744978683807, 0.3818744978683807, 0.3818744978683807, 0.3818744978683807, 0.3818744978683807, 0.3818744978683807, 0.3818744978683807, 0.3818744978683807, 0.3818744978683807, 0.3818744978683807, 0.3818744978683807, 0.3818744978683807, 0.3818744978683807, 0.36369423572929227, 0.36369423572929227, 0.36369423572929227, 0.36369423572929227, 0.36369423572929227, 0.36369423572929227]}], \"AUC_macro\": [{\"categories\": [\"0\", \"1\", \"2\", \"3\", \"5\", \"6\", \"7\", \"8\", \"9\", \"10\", \"11\", \"12\", \"13\", \"14\", \"15\", \"16\", \"17\", \"18\", \"19\", \"20\", \"21\", \"22\", \"23\", \"24\", \"25\", \"26\", \"27\", \"28\", \"29\", \"31\", \"32\", \"33\", \"34\", \"35\", \"38\"], \"mode\": \"markers\", \"name\": \"AUC_macro\", \"stepped\": false, \"type\": \"scatter\", \"data\": [0.8840955354735103, 0.8847369443591411, 0.9018508071754925, 0.8761868042140926, 0.8913603571676226, 0.8752191295514808, 0.8836059010889101, 0.8915610258903739, 0.7496161006793443, 0.8633793332694933, 0.8801994434097982, 0.9061201005368054, 0.8680379021774902, 0.8768399185821382, 0.5203053263648802, 0.8871442284069859, 0.8298934587786991, 0.8766581465466476, 0.8926710928479522, 0.8934567799054068, 0.8333630939998218, 0.8696565867347331, 0.8954261114193036, 0.8638387105774978, 0.884459551216645, 0.8680437667786066, 0.8824278882592956, 0.5096755295132869, 0.8483357245221089, 0.8997924416883226, 0.7266238517076617, 0.8200186766322922, 0.7844901350323548, 0.826236521282345, 0.9180928505387314]}, {\"categories\": [\"0\", \"1\", \"2\", \"3\", \"5\", \"6\", \"7\", \"8\", \"9\", \"10\", \"11\", \"12\", \"13\", \"14\", \"15\", \"16\", \"17\", \"18\", \"19\", \"20\", \"21\", \"22\", \"23\", \"24\", \"25\", \"26\", \"27\", \"28\", \"29\", \"31\", \"32\", \"33\", \"34\", \"35\", \"38\"], \"mode\": \"lines\", \"name\": \"AUC_macro_max\", \"stepped\": true, \"type\": \"scatter\", \"data\": [0.8840955354735103, 0.8847369443591411, 0.9018508071754925, 0.9018508071754925, 0.9018508071754925, 0.9018508071754925, 0.9018508071754925, 0.9018508071754925, 0.9018508071754925, 0.9018508071754925, 0.9018508071754925, 0.9061201005368054, 0.9061201005368054, 0.9061201005368054, 0.9061201005368054, 0.9061201005368054, 0.9061201005368054, 0.9061201005368054, 0.9061201005368054, 0.9061201005368054, 0.9061201005368054, 0.9061201005368054, 0.9061201005368054, 0.9061201005368054, 0.9061201005368054, 0.9061201005368054, 0.9061201005368054, 0.9061201005368054, 0.9061201005368054, 0.9061201005368054, 0.9061201005368054, 0.9061201005368054, 0.9061201005368054, 0.9061201005368054, 0.9180928505387314]}], \"precision_score_micro\": [{\"categories\": [\"0\", \"1\", \"2\", \"3\", \"5\", \"6\", \"7\", \"8\", \"9\", \"10\", \"11\", \"12\", \"13\", \"14\", \"15\", \"16\", \"17\", \"18\", \"19\", \"20\", \"21\", \"22\", \"23\", \"24\", \"25\", \"26\", \"27\", \"28\", \"29\", \"31\", \"32\", \"33\", \"34\", \"35\", \"38\"], \"mode\": \"markers\", \"name\": \"precision_score_micro\", \"stepped\": false, \"type\": \"scatter\", \"data\": [0.8359770114942527, 0.8358620689655172, 0.8224137931034482, 0.7894252873563219, 0.8260919540229885, 0.8322988505747126, 0.8526436781609196, 0.7926436781609196, 0.7659770114942528, 0.7959770114942529, 0.8362068965517242, 0.8222988505747126, 0.822528735632184, 0.7989655172413792, 0.6389655172413793, 0.8093103448275862, 0.7857471264367817, 0.825632183908046, 0.8459770114942529, 0.8227586206896552, 0.7620689655172413, 0.8127586206896552, 0.8429885057471264, 0.822528735632184, 0.8157471264367816, 0.792528735632184, 0.8258620689655173, 0.612183908045977, 0.7524137931034482, 0.8493103448275864, 0.7225287356321839, 0.7493103448275862, 0.7225287356321839, 0.7686206896551726, 0.8662068965517242]}, {\"categories\": [\"0\", \"1\", \"2\", \"3\", \"5\", \"6\", \"7\", \"8\", \"9\", \"10\", \"11\", \"12\", \"13\", \"14\", \"15\", \"16\", \"17\", \"18\", \"19\", \"20\", \"21\", \"22\", \"23\", \"24\", \"25\", \"26\", \"27\", \"28\", \"29\", \"31\", \"32\", \"33\", \"34\", \"35\", \"38\"], \"mode\": \"lines\", \"name\": \"precision_score_micro_max\", \"stepped\": true, \"type\": \"scatter\", \"data\": [0.8359770114942527, 0.8359770114942527, 0.8359770114942527, 0.8359770114942527, 0.8359770114942527, 0.8359770114942527, 0.8526436781609196, 0.8526436781609196, 0.8526436781609196, 0.8526436781609196, 0.8526436781609196, 0.8526436781609196, 0.8526436781609196, 0.8526436781609196, 0.8526436781609196, 0.8526436781609196, 0.8526436781609196, 0.8526436781609196, 0.8526436781609196, 0.8526436781609196, 0.8526436781609196, 0.8526436781609196, 0.8526436781609196, 0.8526436781609196, 0.8526436781609196, 0.8526436781609196, 0.8526436781609196, 0.8526436781609196, 0.8526436781609196, 0.8526436781609196, 0.8526436781609196, 0.8526436781609196, 0.8526436781609196, 0.8526436781609196, 0.8662068965517242]}], \"weighted_accuracy\": [{\"categories\": [\"0\", \"1\", \"2\", \"3\", \"5\", \"6\", \"7\", \"8\", \"9\", \"10\", \"11\", \"12\", \"13\", \"14\", \"15\", \"16\", \"17\", \"18\", \"19\", \"20\", \"21\", \"22\", \"23\", \"24\", \"25\", \"26\", \"27\", \"28\", \"29\", \"31\", \"32\", \"33\", \"34\", \"35\", \"38\"], \"mode\": \"markers\", \"name\": \"weighted_accuracy\", \"stepped\": false, \"type\": \"scatter\", \"data\": [0.8541321922200625, 0.8502962163535492, 0.8468716113631631, 0.8492951694946997, 0.8493283931217842, 0.8461341545812026, 0.8803676616905012, 0.8493518649344927, 0.8227930918585225, 0.8503101736509798, 0.8759525204496112, 0.8172783382884117, 0.8435084368086869, 0.8002614220258686, 0.6980167624045801, 0.8667279285845628, 0.8012621617315162, 0.8285455530661553, 0.8663413826199623, 0.8388165566289452, 0.7652580590355107, 0.8311737350523304, 0.8565302839557992, 0.8451681878460313, 0.8167035330495127, 0.794035685460014, 0.8553639493651449, 0.6654624759893507, 0.8330786114535854, 0.8720230971388899, 0.8123959278594732, 0.814935325191481, 0.8109662399854489, 0.7810713672022498, 0.8919142447842928]}, {\"categories\": [\"0\", \"1\", \"2\", \"3\", \"5\", \"6\", \"7\", \"8\", \"9\", \"10\", \"11\", \"12\", \"13\", \"14\", \"15\", \"16\", \"17\", \"18\", \"19\", \"20\", \"21\", \"22\", \"23\", \"24\", \"25\", \"26\", \"27\", \"28\", \"29\", \"31\", \"32\", \"33\", \"34\", \"35\", \"38\"], \"mode\": \"lines\", \"name\": \"weighted_accuracy_max\", \"stepped\": true, \"type\": \"scatter\", \"data\": [0.8541321922200625, 0.8541321922200625, 0.8541321922200625, 0.8541321922200625, 0.8541321922200625, 0.8541321922200625, 0.8803676616905012, 0.8803676616905012, 0.8803676616905012, 0.8803676616905012, 0.8803676616905012, 0.8803676616905012, 0.8803676616905012, 0.8803676616905012, 0.8803676616905012, 0.8803676616905012, 0.8803676616905012, 0.8803676616905012, 0.8803676616905012, 0.8803676616905012, 0.8803676616905012, 0.8803676616905012, 0.8803676616905012, 0.8803676616905012, 0.8803676616905012, 0.8803676616905012, 0.8803676616905012, 0.8803676616905012, 0.8803676616905012, 0.8803676616905012, 0.8803676616905012, 0.8803676616905012, 0.8803676616905012, 0.8803676616905012, 0.8919142447842928]}], \"AUC_micro\": [{\"categories\": [\"0\", \"1\", \"2\", \"3\", \"5\", \"6\", \"7\", \"8\", \"9\", \"10\", \"11\", \"12\", \"13\", \"14\", \"15\", \"16\", \"17\", \"18\", \"19\", \"20\", \"21\", \"22\", \"23\", \"24\", \"25\", \"26\", \"27\", \"28\", \"29\", \"31\", \"32\", \"33\", \"34\", \"35\", \"38\"], \"mode\": \"markers\", \"name\": \"AUC_micro\", \"stepped\": false, \"type\": \"scatter\", \"data\": [0.9035422116527941, 0.9042166732725592, 0.9101640903686088, 0.8747234773417889, 0.9021211520676443, 0.8873444312326596, 0.9087956136874091, 0.8741796802748052, 0.8096416963931828, 0.8702596115735236, 0.8902868278504427, 0.896049147839873, 0.8840607742105959, 0.8886358832078214, 0.6464215880565465, 0.887273219711983, 0.8452519487382746, 0.8865463073061169, 0.9007410490157222, 0.8979281278900778, 0.8418972123133835, 0.8925967763244813, 0.9030664552781079, 0.882282996432818, 0.8932128418549347, 0.8643045316422249, 0.8956650812524771, 0.6298134495970406, 0.8464486722156164, 0.9145869996036463, 0.7781115074646585, 0.8350705509314308, 0.8134214559386972, 0.8313885585942661, 0.9222380763641169]}, {\"categories\": [\"0\", \"1\", \"2\", \"3\", \"5\", \"6\", \"7\", \"8\", \"9\", \"10\", \"11\", \"12\", \"13\", \"14\", \"15\", \"16\", \"17\", \"18\", \"19\", \"20\", \"21\", \"22\", \"23\", \"24\", \"25\", \"26\", \"27\", \"28\", \"29\", \"31\", \"32\", \"33\", \"34\", \"35\", \"38\"], \"mode\": \"lines\", \"name\": \"AUC_micro_max\", \"stepped\": true, \"type\": \"scatter\", \"data\": [0.9035422116527941, 0.9042166732725592, 0.9101640903686088, 0.9101640903686088, 0.9101640903686088, 0.9101640903686088, 0.9101640903686088, 0.9101640903686088, 0.9101640903686088, 0.9101640903686088, 0.9101640903686088, 0.9101640903686088, 0.9101640903686088, 0.9101640903686088, 0.9101640903686088, 0.9101640903686088, 0.9101640903686088, 0.9101640903686088, 0.9101640903686088, 0.9101640903686088, 0.9101640903686088, 0.9101640903686088, 0.9101640903686088, 0.9101640903686088, 0.9101640903686088, 0.9101640903686088, 0.9101640903686088, 0.9101640903686088, 0.9101640903686088, 0.9145869996036463, 0.9145869996036463, 0.9145869996036463, 0.9145869996036463, 0.9145869996036463, 0.9222380763641169]}], \"average_precision_score_micro\": [{\"categories\": [\"0\", \"1\", \"2\", \"3\", \"5\", \"6\", \"7\", \"8\", \"9\", \"10\", \"11\", \"12\", \"13\", \"14\", \"15\", \"16\", \"17\", \"18\", \"19\", \"20\", \"21\", \"22\", \"23\", \"24\", \"25\", \"26\", \"27\", \"28\", \"29\", \"31\", \"32\", \"33\", \"34\", \"35\", \"38\"], \"mode\": \"markers\", \"name\": \"average_precision_score_micro\", \"stepped\": false, \"type\": \"scatter\", \"data\": [0.9020054536251629, 0.9033793522124445, 0.9145057180003976, 0.8789040746658955, 0.9052253990956052, 0.8866073534719072, 0.9044994336767751, 0.881003320604002, 0.7964089391804331, 0.8731671850920459, 0.8900663273648766, 0.8944835933219624, 0.8881450357525814, 0.8918121015247678, 0.6466874753087125, 0.8939235753084992, 0.8433491270467703, 0.8854666219926346, 0.9018748387824994, 0.9000492818823591, 0.8518236058698665, 0.890386434295021, 0.9052399519542853, 0.8853339581728836, 0.8946255559644601, 0.8622069868095963, 0.8958060934489238, 0.6330807824259007, 0.8570646193302289, 0.9166066638266427, 0.7857710182366615, 0.8399828291801207, 0.8165647657515673, 0.8434807737322056, 0.9254886209636204]}, {\"categories\": [\"0\", \"1\", \"2\", \"3\", \"5\", \"6\", \"7\", \"8\", \"9\", \"10\", \"11\", \"12\", \"13\", \"14\", \"15\", \"16\", \"17\", \"18\", \"19\", \"20\", \"21\", \"22\", \"23\", \"24\", \"25\", \"26\", \"27\", \"28\", \"29\", \"31\", \"32\", \"33\", \"34\", \"35\", \"38\"], \"mode\": \"lines\", \"name\": \"average_precision_score_micro_max\", \"stepped\": true, \"type\": \"scatter\", \"data\": [0.9020054536251629, 0.9033793522124445, 0.9145057180003976, 0.9145057180003976, 0.9145057180003976, 0.9145057180003976, 0.9145057180003976, 0.9145057180003976, 0.9145057180003976, 0.9145057180003976, 0.9145057180003976, 0.9145057180003976, 0.9145057180003976, 0.9145057180003976, 0.9145057180003976, 0.9145057180003976, 0.9145057180003976, 0.9145057180003976, 0.9145057180003976, 0.9145057180003976, 0.9145057180003976, 0.9145057180003976, 0.9145057180003976, 0.9145057180003976, 0.9145057180003976, 0.9145057180003976, 0.9145057180003976, 0.9145057180003976, 0.9145057180003976, 0.9166066638266427, 0.9166066638266427, 0.9166066638266427, 0.9166066638266427, 0.9166066638266427, 0.9254886209636204]}], \"f1_score_weighted\": [{\"categories\": [\"0\", \"1\", \"2\", \"3\", \"5\", \"6\", \"7\", \"8\", \"9\", \"10\", \"11\", \"12\", \"13\", \"14\", \"15\", \"16\", \"17\", \"18\", \"19\", \"20\", \"21\", \"22\", \"23\", \"24\", \"25\", \"26\", \"27\", \"28\", \"29\", \"31\", \"32\", \"33\", \"34\", \"35\", \"38\"], \"mode\": \"markers\", \"name\": \"f1_score_weighted\", \"stepped\": false, \"type\": \"scatter\", \"data\": [0.8333388901455894, 0.8342588560383983, 0.8179651831032414, 0.761544321081239, 0.8222944794421652, 0.8334145797044015, 0.8468170359922234, 0.7602722048315644, 0.743922190318357, 0.7680472943393851, 0.8246110075269908, 0.8274489792098387, 0.8190519819982247, 0.8022740795165131, 0.6071892452709331, 0.7885930147030401, 0.7863150300668417, 0.8285971622532775, 0.8423687340762982, 0.8201116311881504, 0.765762968931134, 0.8095472658498858, 0.8405083889148862, 0.81906121720746, 0.817838643290991, 0.7966623210665318, 0.8181608499779415, 0.5887806702489582, 0.702036648678012, 0.8445411993104122, 0.6579793265089061, 0.7180976665728166, 0.6643716818378651, 0.7736704758969625, 0.8596491421305117]}, {\"categories\": [\"0\", \"1\", \"2\", \"3\", \"5\", \"6\", \"7\", \"8\", \"9\", \"10\", \"11\", \"12\", \"13\", \"14\", \"15\", \"16\", \"17\", \"18\", \"19\", \"20\", \"21\", \"22\", \"23\", \"24\", \"25\", \"26\", \"27\", \"28\", \"29\", \"31\", \"32\", \"33\", \"34\", \"35\", \"38\"], \"mode\": \"lines\", \"name\": \"f1_score_weighted_max\", \"stepped\": true, \"type\": \"scatter\", \"data\": [0.8333388901455894, 0.8342588560383983, 0.8342588560383983, 0.8342588560383983, 0.8342588560383983, 0.8342588560383983, 0.8468170359922234, 0.8468170359922234, 0.8468170359922234, 0.8468170359922234, 0.8468170359922234, 0.8468170359922234, 0.8468170359922234, 0.8468170359922234, 0.8468170359922234, 0.8468170359922234, 0.8468170359922234, 0.8468170359922234, 0.8468170359922234, 0.8468170359922234, 0.8468170359922234, 0.8468170359922234, 0.8468170359922234, 0.8468170359922234, 0.8468170359922234, 0.8468170359922234, 0.8468170359922234, 0.8468170359922234, 0.8468170359922234, 0.8468170359922234, 0.8468170359922234, 0.8468170359922234, 0.8468170359922234, 0.8468170359922234, 0.8596491421305117]}], \"precision_score_weighted\": [{\"categories\": [\"0\", \"1\", \"2\", \"3\", \"5\", \"6\", \"7\", \"8\", \"9\", \"10\", \"11\", \"12\", \"13\", \"14\", \"15\", \"16\", \"17\", \"18\", \"19\", \"20\", \"21\", \"22\", \"23\", \"24\", \"25\", \"26\", \"27\", \"28\", \"29\", \"31\", \"32\", \"33\", \"34\", \"35\", \"38\"], \"mode\": \"markers\", \"name\": \"precision_score_weighted\", \"stepped\": false, \"type\": \"scatter\", \"data\": [0.8443308716969533, 0.8506678986628277, 0.8360479198908116, 0.8231036398347242, 0.8366173763742994, 0.8460871661030958, 0.8614227684333514, 0.8188294492863459, 0.7837569262377359, 0.831057051592234, 0.8558999827009572, 0.8574856767087737, 0.8438501419573876, 0.8325423346844085, 0.6261394969463244, 0.8284848061409781, 0.7977030403413219, 0.848343626841871, 0.8575007112244745, 0.8372068304748105, 0.7949553161351276, 0.8265612134408986, 0.8576816716314642, 0.8413501419573877, 0.8437313430225725, 0.8303048768950072, 0.8395089938796836, 0.5968046374997649, 0.7860933798465033, 0.8624771473546101, 0.7527872590159946, 0.7640703510576824, 0.6992710664814114, 0.7920545572771565, 0.8813734074909487]}, {\"categories\": [\"0\", \"1\", \"2\", \"3\", \"5\", \"6\", \"7\", \"8\", \"9\", \"10\", \"11\", \"12\", \"13\", \"14\", \"15\", \"16\", \"17\", \"18\", \"19\", \"20\", \"21\", \"22\", \"23\", \"24\", \"25\", \"26\", \"27\", \"28\", \"29\", \"31\", \"32\", \"33\", \"34\", \"35\", \"38\"], \"mode\": \"lines\", \"name\": \"precision_score_weighted_max\", \"stepped\": true, \"type\": \"scatter\", \"data\": [0.8443308716969533, 0.8506678986628277, 0.8506678986628277, 0.8506678986628277, 0.8506678986628277, 0.8506678986628277, 0.8614227684333514, 0.8614227684333514, 0.8614227684333514, 0.8614227684333514, 0.8614227684333514, 0.8614227684333514, 0.8614227684333514, 0.8614227684333514, 0.8614227684333514, 0.8614227684333514, 0.8614227684333514, 0.8614227684333514, 0.8614227684333514, 0.8614227684333514, 0.8614227684333514, 0.8614227684333514, 0.8614227684333514, 0.8614227684333514, 0.8614227684333514, 0.8614227684333514, 0.8614227684333514, 0.8614227684333514, 0.8614227684333514, 0.8624771473546101, 0.8624771473546101, 0.8624771473546101, 0.8624771473546101, 0.8624771473546101, 0.8813734074909487]}], \"f1_score_micro\": [{\"categories\": [\"0\", \"1\", \"2\", \"3\", \"5\", \"6\", \"7\", \"8\", \"9\", \"10\", \"11\", \"12\", \"13\", \"14\", \"15\", \"16\", \"17\", \"18\", \"19\", \"20\", \"21\", \"22\", \"23\", \"24\", \"25\", \"26\", \"27\", \"28\", \"29\", \"31\", \"32\", \"33\", \"34\", \"35\", \"38\"], \"mode\": \"markers\", \"name\": \"f1_score_micro\", \"stepped\": false, \"type\": \"scatter\", \"data\": [0.8359770114942527, 0.8358620689655172, 0.8224137931034482, 0.7894252873563219, 0.8260919540229885, 0.8322988505747126, 0.8526436781609196, 0.7926436781609196, 0.7659770114942528, 0.7959770114942529, 0.8362068965517242, 0.8222988505747126, 0.822528735632184, 0.7989655172413792, 0.6389655172413793, 0.8093103448275862, 0.7857471264367817, 0.825632183908046, 0.8459770114942529, 0.8227586206896552, 0.7620689655172413, 0.8127586206896552, 0.8429885057471264, 0.822528735632184, 0.8157471264367816, 0.792528735632184, 0.8258620689655173, 0.612183908045977, 0.7524137931034482, 0.8493103448275864, 0.7225287356321839, 0.7493103448275862, 0.7225287356321839, 0.7686206896551726, 0.8662068965517242]}, {\"categories\": [\"0\", \"1\", \"2\", \"3\", \"5\", \"6\", \"7\", \"8\", \"9\", \"10\", \"11\", \"12\", \"13\", \"14\", \"15\", \"16\", \"17\", \"18\", \"19\", \"20\", \"21\", \"22\", \"23\", \"24\", \"25\", \"26\", \"27\", \"28\", \"29\", \"31\", \"32\", \"33\", \"34\", \"35\", \"38\"], \"mode\": \"lines\", \"name\": \"f1_score_micro_max\", \"stepped\": true, \"type\": \"scatter\", \"data\": [0.8359770114942527, 0.8359770114942527, 0.8359770114942527, 0.8359770114942527, 0.8359770114942527, 0.8359770114942527, 0.8526436781609196, 0.8526436781609196, 0.8526436781609196, 0.8526436781609196, 0.8526436781609196, 0.8526436781609196, 0.8526436781609196, 0.8526436781609196, 0.8526436781609196, 0.8526436781609196, 0.8526436781609196, 0.8526436781609196, 0.8526436781609196, 0.8526436781609196, 0.8526436781609196, 0.8526436781609196, 0.8526436781609196, 0.8526436781609196, 0.8526436781609196, 0.8526436781609196, 0.8526436781609196, 0.8526436781609196, 0.8526436781609196, 0.8526436781609196, 0.8526436781609196, 0.8526436781609196, 0.8526436781609196, 0.8526436781609196, 0.8662068965517242]}]}, \"metricName\": null, \"primaryMetricName\": \"AUC_weighted\", \"showLegend\": false}, \"run_metrics\": [{\"name\": \"experiment_status\", \"run_id\": \"AutoML_f6a60bf5-3952-4426-bc90-66b92c904f3e\", \"categories\": [0, 1, 2, 3, 4, 5, 6, 7, 8, 9, 10, 11, 12, 13], \"series\": [{\"data\": [\"DatasetEvaluation\", \"FeaturesGeneration\", \"DatasetFeaturization\", \"DatasetFeaturizationCompleted\", \"DatasetCrossValidationSplit\", \"ModelSelection\", \"BestRunExplainModel\", \"ModelExplanationDataSetSetup\", \"PickSurrogateModel\", \"EngineeredFeatureExplanations\", \"EngineeredFeatureExplanations\", \"RawFeaturesExplanations\", \"RawFeaturesExplanations\", \"BestRunExplainModel\"]}]}, {\"name\": \"experiment_status_description\", \"run_id\": \"AutoML_f6a60bf5-3952-4426-bc90-66b92c904f3e\", \"categories\": [0, 1, 2, 3, 4, 5, 6, 7, 8, 9, 10, 11, 12, 13], \"series\": [{\"data\": [\"Gathering dataset statistics.\", \"Generating features for the dataset.\", \"Beginning to fit featurizers and featurize the dataset.\", \"Completed fit featurizers and featurizing the dataset.\", \"Generating individually featurized CV splits.\", \"Beginning model selection.\", \"Best run model explanations started\", \"Model explanations data setup completed\", \"Choosing LightGBM as the surrogate model for explanations\", \"Computation of engineered features started\", \"Computation of engineered features completed\", \"Computation of raw features started\", \"Computation of raw features completed\", \"Best run model explanations completed\"]}]}, {\"name\": \"f1_score_macro\", \"run_id\": \"AutoML_f6a60bf5-3952-4426-bc90-66b92c904f3e\", \"categories\": [0], \"series\": [{\"data\": [0.8354478001952426]}]}, {\"name\": \"AUC_micro\", \"run_id\": \"AutoML_f6a60bf5-3952-4426-bc90-66b92c904f3e\", \"categories\": [0], \"series\": [{\"data\": [0.9222380763641169]}]}, {\"name\": \"recall_score_macro\", \"run_id\": \"AutoML_f6a60bf5-3952-4426-bc90-66b92c904f3e\", \"categories\": [0], \"series\": [{\"data\": [0.8260754385139396]}]}, {\"name\": \"precision_score_micro\", \"run_id\": \"AutoML_f6a60bf5-3952-4426-bc90-66b92c904f3e\", \"categories\": [0], \"series\": [{\"data\": [0.8662068965517242]}]}, {\"name\": \"precision_score_macro\", \"run_id\": \"AutoML_f6a60bf5-3952-4426-bc90-66b92c904f3e\", \"categories\": [0], \"series\": [{\"data\": [0.8784641336923945]}]}, {\"name\": \"balanced_accuracy\", \"run_id\": \"AutoML_f6a60bf5-3952-4426-bc90-66b92c904f3e\", \"categories\": [0], \"series\": [{\"data\": [0.8260754385139396]}]}, {\"name\": \"accuracy\", \"run_id\": \"AutoML_f6a60bf5-3952-4426-bc90-66b92c904f3e\", \"categories\": [0], \"series\": [{\"data\": [0.8662068965517242]}]}, {\"name\": \"norm_macro_recall\", \"run_id\": \"AutoML_f6a60bf5-3952-4426-bc90-66b92c904f3e\", \"categories\": [0], \"series\": [{\"data\": [0.6521508770278793]}]}, {\"name\": \"f1_score_weighted\", \"run_id\": \"AutoML_f6a60bf5-3952-4426-bc90-66b92c904f3e\", \"categories\": [0], \"series\": [{\"data\": [0.8596491421305117]}]}, {\"name\": \"recall_score_micro\", \"run_id\": \"AutoML_f6a60bf5-3952-4426-bc90-66b92c904f3e\", \"categories\": [0], \"series\": [{\"data\": [0.8662068965517242]}]}, {\"name\": \"matthews_correlation\", \"run_id\": \"AutoML_f6a60bf5-3952-4426-bc90-66b92c904f3e\", \"categories\": [0], \"series\": [{\"data\": [0.7004178371936793]}]}, {\"name\": \"precision_score_weighted\", \"run_id\": \"AutoML_f6a60bf5-3952-4426-bc90-66b92c904f3e\", \"categories\": [0], \"series\": [{\"data\": [0.8813734074909487]}]}, {\"name\": \"weighted_accuracy\", \"run_id\": \"AutoML_f6a60bf5-3952-4426-bc90-66b92c904f3e\", \"categories\": [0], \"series\": [{\"data\": [0.8919142447842928]}]}, {\"name\": \"average_precision_score_macro\", \"run_id\": \"AutoML_f6a60bf5-3952-4426-bc90-66b92c904f3e\", \"categories\": [0], \"series\": [{\"data\": [0.910839813123214]}]}, {\"name\": \"log_loss\", \"run_id\": \"AutoML_f6a60bf5-3952-4426-bc90-66b92c904f3e\", \"categories\": [0], \"series\": [{\"data\": [0.4224562458110925]}]}, {\"name\": \"AUC_macro\", \"run_id\": \"AutoML_f6a60bf5-3952-4426-bc90-66b92c904f3e\", \"categories\": [0], \"series\": [{\"data\": [0.9180928505387314]}]}, {\"name\": \"f1_score_micro\", \"run_id\": \"AutoML_f6a60bf5-3952-4426-bc90-66b92c904f3e\", \"categories\": [0], \"series\": [{\"data\": [0.8662068965517242]}]}, {\"name\": \"recall_score_weighted\", \"run_id\": \"AutoML_f6a60bf5-3952-4426-bc90-66b92c904f3e\", \"categories\": [0], \"series\": [{\"data\": [0.8662068965517242]}]}, {\"name\": \"average_precision_score_micro\", \"run_id\": \"AutoML_f6a60bf5-3952-4426-bc90-66b92c904f3e\", \"categories\": [0], \"series\": [{\"data\": [0.9254886209636204]}]}, {\"name\": \"AUC_weighted\", \"run_id\": \"AutoML_f6a60bf5-3952-4426-bc90-66b92c904f3e\", \"categories\": [0], \"series\": [{\"data\": [0.9180928505387316]}]}, {\"name\": \"average_precision_score_weighted\", \"run_id\": \"AutoML_f6a60bf5-3952-4426-bc90-66b92c904f3e\", \"categories\": [0], \"series\": [{\"data\": [0.9319080459870012]}]}], \"run_logs\": \"\\nRun is completed.\", \"graph\": {}, \"widget_settings\": {\"childWidgetDisplay\": \"popup\", \"send_telemetry\": false, \"log_level\": \"INFO\", \"sdk_version\": \"1.19.0\"}, \"loading\": false}"
     },
     "metadata": {},
     "output_type": "display_data"
    }
   ],
   "source": [
    "# importing required dependencies\n",
    "from azureml.widgets import RunDetails\n",
    "\n",
    "RunDetails(remote_run).show()"
   ]
  },
  {
   "cell_type": "markdown",
   "metadata": {},
   "source": [
    "## Best Model\n",
    "\n",
    "TODO: In the cell below, get the best model from the automl experiments and display all the properties of the model.\n",
    "\n"
   ]
  },
  {
   "cell_type": "code",
   "execution_count": 49,
   "metadata": {
    "gather": {
     "logged": 1610315930946
    },
    "jupyter": {
     "outputs_hidden": false,
     "source_hidden": false
    },
    "nteract": {
     "transient": {
      "deleting": false
     }
    }
   },
   "outputs": [
    {
     "name": "stdout",
     "output_type": "stream",
     "text": [
      "Run(Experiment: capstone-automl-experiment,\n",
      "Id: AutoML_f6a60bf5-3952-4426-bc90-66b92c904f3e_38,\n",
      "Type: azureml.scriptrun,\n",
      "Status: Completed)\n",
      "Pipeline(memory=None,\n",
      "         steps=[('datatransformer',\n",
      "                 DataTransformer(enable_dnn=None, enable_feature_sweeping=None,\n",
      "                                 feature_sweeping_config=None,\n",
      "                                 feature_sweeping_timeout=None,\n",
      "                                 featurization_config=None, force_text_dnn=None,\n",
      "                                 is_cross_validation=None,\n",
      "                                 is_onnx_compatible=None, logger=None,\n",
      "                                 observer=None, task=None, working_dir=None)),\n",
      "                ('prefittedsoftvotingclassifier',...\n",
      "                                                                                                  oob_score=True,\n",
      "                                                                                                  random_state=None,\n",
      "                                                                                                  verbose=0,\n",
      "                                                                                                  warm_start=False))],\n",
      "                                                                     verbose=False))],\n",
      "                                               flatten_transform=None,\n",
      "                                               weights=[0.06666666666666667,\n",
      "                                                        0.06666666666666667,\n",
      "                                                        0.06666666666666667,\n",
      "                                                        0.06666666666666667,\n",
      "                                                        0.06666666666666667,\n",
      "                                                        0.2,\n",
      "                                                        0.13333333333333333,\n",
      "                                                        0.06666666666666667,\n",
      "                                                        0.06666666666666667,\n",
      "                                                        0.06666666666666667,\n",
      "                                                        0.06666666666666667,\n",
      "                                                        0.06666666666666667]))],\n",
      "         verbose=False)\n"
     ]
    }
   ],
   "source": [
    "# Retrieve best model from AutoML Run\n",
    "\n",
    "# importing required dependencies\n",
    "import joblib\n",
    "\n",
    "best_automl_run, best_automl_fitted_model = remote_run.get_output()\n",
    "print(best_automl_run)\n",
    "print(best_automl_fitted_model)"
   ]
  },
  {
   "cell_type": "code",
   "execution_count": 50,
   "metadata": {
    "gather": {
     "logged": 1610315934833
    },
    "jupyter": {
     "outputs_hidden": false,
     "source_hidden": false
    },
    "nteract": {
     "transient": {
      "deleting": false
     }
    }
   },
   "outputs": [
    {
     "data": {
      "text/plain": [
       "['best_automl_model.pkl']"
      ]
     },
     "execution_count": 50,
     "metadata": {},
     "output_type": "execute_result"
    }
   ],
   "source": [
    "#TODO: Save the best model\n",
    "joblib.dump(best_automl_fitted_model,'best_automl_model.pkl')"
   ]
  },
  {
   "cell_type": "code",
   "execution_count": 51,
   "metadata": {
    "gather": {
     "logged": 1610315937533
    }
   },
   "outputs": [
    {
     "data": {
      "text/plain": [
       "{'_aml_system_azureml.automlComponent': 'AutoML',\n",
       " '_aml_system_ComputeTargetStatus': '{\"AllocationState\":\"steady\",\"PreparingNodeCount\":0,\"RunningNodeCount\":3,\"CurrentNodeCount\":4}',\n",
       " 'ensembled_iterations': '[12, 2, 31, 23, 20, 8, 16, 7, 14, 18, 29, 21]',\n",
       " 'ensembled_algorithms': \"['RandomForest', 'RandomForest', 'LightGBM', 'XGBoostClassifier', 'RandomForest', 'ExtremeRandomTrees', 'RandomForest', 'ExtremeRandomTrees', 'RandomForest', 'RandomForest', 'LightGBM', 'ExtremeRandomTrees']\",\n",
       " 'ensemble_weights': '[0.06666666666666667, 0.06666666666666667, 0.06666666666666667, 0.06666666666666667, 0.06666666666666667, 0.2, 0.13333333333333333, 0.06666666666666667, 0.06666666666666667, 0.06666666666666667, 0.06666666666666667, 0.06666666666666667]',\n",
       " 'best_individual_pipeline_score': '0.9061201005368054',\n",
       " 'best_individual_iteration': '12',\n",
       " '_aml_system_automl_is_child_run_end_telemetry_event_logged': 'True',\n",
       " 'model_explain_run_id': 'AutoML_f6a60bf5-3952-4426-bc90-66b92c904f3e_ModelExplain',\n",
       " 'model_explanation': 'True'}"
      ]
     },
     "execution_count": 51,
     "metadata": {},
     "output_type": "execute_result"
    }
   ],
   "source": [
    "# getting the details of the best model produced by automl\n",
    "best_automl_run.get_tags()"
   ]
  },
  {
   "cell_type": "code",
   "execution_count": 52,
   "metadata": {
    "gather": {
     "logged": 1610315940701
    }
   },
   "outputs": [
    {
     "name": "stdout",
     "output_type": "stream",
     "text": [
      "datatransformer\n",
      "{'enable_dnn': None,\n",
      " 'enable_feature_sweeping': None,\n",
      " 'feature_sweeping_config': None,\n",
      " 'feature_sweeping_timeout': None,\n",
      " 'featurization_config': None,\n",
      " 'force_text_dnn': None,\n",
      " 'is_cross_validation': None,\n",
      " 'is_onnx_compatible': None,\n",
      " 'logger': None,\n",
      " 'observer': None,\n",
      " 'task': None,\n",
      " 'working_dir': None}\n",
      "\n",
      "prefittedsoftvotingclassifier\n",
      "{'estimators': ['12',\n",
      "                '2',\n",
      "                '31',\n",
      "                '23',\n",
      "                '20',\n",
      "                '8',\n",
      "                '16',\n",
      "                '7',\n",
      "                '14',\n",
      "                '18',\n",
      "                '29',\n",
      "                '21'],\n",
      " 'weights': [0.06666666666666667,\n",
      "             0.06666666666666667,\n",
      "             0.06666666666666667,\n",
      "             0.06666666666666667,\n",
      "             0.06666666666666667,\n",
      "             0.2,\n",
      "             0.13333333333333333,\n",
      "             0.06666666666666667,\n",
      "             0.06666666666666667,\n",
      "             0.06666666666666667,\n",
      "             0.06666666666666667,\n",
      "             0.06666666666666667]}\n",
      "\n",
      "12-standardscalerwrapper\n",
      "{'class_name': 'StandardScaler',\n",
      " 'copy': True,\n",
      " 'module_name': 'sklearn.preprocessing._data',\n",
      " 'with_mean': True,\n",
      " 'with_std': False}\n",
      "\n",
      "12-randomforestclassifier\n",
      "{'bootstrap': False,\n",
      " 'ccp_alpha': 0.0,\n",
      " 'class_weight': 'balanced',\n",
      " 'criterion': 'entropy',\n",
      " 'max_depth': None,\n",
      " 'max_features': 'log2',\n",
      " 'max_leaf_nodes': None,\n",
      " 'max_samples': None,\n",
      " 'min_impurity_decrease': 0.0,\n",
      " 'min_impurity_split': None,\n",
      " 'min_samples_leaf': 0.01,\n",
      " 'min_samples_split': 0.29105263157894734,\n",
      " 'min_weight_fraction_leaf': 0.0,\n",
      " 'n_estimators': 25,\n",
      " 'n_jobs': 1,\n",
      " 'oob_score': False,\n",
      " 'random_state': None,\n",
      " 'verbose': 0,\n",
      " 'warm_start': False}\n",
      "\n",
      "2-minmaxscaler\n",
      "{'copy': True, 'feature_range': (0, 1)}\n",
      "\n",
      "2-randomforestclassifier\n",
      "{'bootstrap': False,\n",
      " 'ccp_alpha': 0.0,\n",
      " 'class_weight': None,\n",
      " 'criterion': 'gini',\n",
      " 'max_depth': None,\n",
      " 'max_features': 'sqrt',\n",
      " 'max_leaf_nodes': None,\n",
      " 'max_samples': None,\n",
      " 'min_impurity_decrease': 0.0,\n",
      " 'min_impurity_split': None,\n",
      " 'min_samples_leaf': 0.01,\n",
      " 'min_samples_split': 0.10368421052631578,\n",
      " 'min_weight_fraction_leaf': 0.0,\n",
      " 'n_estimators': 10,\n",
      " 'n_jobs': 1,\n",
      " 'oob_score': False,\n",
      " 'random_state': None,\n",
      " 'verbose': 0,\n",
      " 'warm_start': False}\n",
      "\n",
      "31-minmaxscaler\n",
      "{'copy': True, 'feature_range': (0, 1)}\n",
      "\n",
      "31-lightgbmclassifier\n",
      "{'boosting_type': 'gbdt',\n",
      " 'class_weight': None,\n",
      " 'colsample_bytree': 0.3966666666666666,\n",
      " 'importance_type': 'split',\n",
      " 'learning_rate': 0.07894947368421053,\n",
      " 'max_bin': 310,\n",
      " 'max_depth': 10,\n",
      " 'min_child_samples': 22,\n",
      " 'min_child_weight': 7,\n",
      " 'min_split_gain': 0.894736842105263,\n",
      " 'n_estimators': 100,\n",
      " 'n_jobs': 1,\n",
      " 'num_leaves': 176,\n",
      " 'objective': None,\n",
      " 'random_state': None,\n",
      " 'reg_alpha': 0.15789473684210525,\n",
      " 'reg_lambda': 0.7368421052631579,\n",
      " 'silent': True,\n",
      " 'subsample': 0.5447368421052632,\n",
      " 'subsample_for_bin': 200000,\n",
      " 'subsample_freq': 0,\n",
      " 'verbose': -10}\n",
      "\n",
      "23-sparsenormalizer\n",
      "{'copy': True, 'norm': 'l1'}\n",
      "\n",
      "23-xgboostclassifier\n",
      "{'base_score': 0.5,\n",
      " 'booster': 'gbtree',\n",
      " 'colsample_bylevel': 0.7,\n",
      " 'colsample_bynode': 1,\n",
      " 'colsample_bytree': 1,\n",
      " 'eta': 0.3,\n",
      " 'gamma': 0,\n",
      " 'grow_policy': 'lossguide',\n",
      " 'learning_rate': 0.1,\n",
      " 'max_bin': 255,\n",
      " 'max_delta_step': 0,\n",
      " 'max_depth': 10,\n",
      " 'max_leaves': 511,\n",
      " 'min_child_weight': 1,\n",
      " 'missing': nan,\n",
      " 'n_estimators': 200,\n",
      " 'n_jobs': 1,\n",
      " 'nthread': None,\n",
      " 'objective': 'reg:logistic',\n",
      " 'random_state': 0,\n",
      " 'reg_alpha': 2.3958333333333335,\n",
      " 'reg_lambda': 1.4583333333333335,\n",
      " 'scale_pos_weight': 1,\n",
      " 'seed': None,\n",
      " 'silent': None,\n",
      " 'subsample': 1,\n",
      " 'tree_method': 'hist',\n",
      " 'verbose': -10,\n",
      " 'verbosity': 0}\n",
      "\n",
      "20-maxabsscaler\n",
      "{'copy': True}\n",
      "\n",
      "20-randomforestclassifier\n",
      "{'bootstrap': True,\n",
      " 'ccp_alpha': 0.0,\n",
      " 'class_weight': None,\n",
      " 'criterion': 'gini',\n",
      " 'max_depth': None,\n",
      " 'max_features': 'log2',\n",
      " 'max_leaf_nodes': None,\n",
      " 'max_samples': None,\n",
      " 'min_impurity_decrease': 0.0,\n",
      " 'min_impurity_split': None,\n",
      " 'min_samples_leaf': 0.01,\n",
      " 'min_samples_split': 0.01,\n",
      " 'min_weight_fraction_leaf': 0.0,\n",
      " 'n_estimators': 10,\n",
      " 'n_jobs': 1,\n",
      " 'oob_score': False,\n",
      " 'random_state': None,\n",
      " 'verbose': 0,\n",
      " 'warm_start': False}\n",
      "\n",
      "8-minmaxscaler\n",
      "{'copy': True, 'feature_range': (0, 1)}\n",
      "\n",
      "8-extratreesclassifier\n",
      "{'bootstrap': True,\n",
      " 'ccp_alpha': 0.0,\n",
      " 'class_weight': None,\n",
      " 'criterion': 'entropy',\n",
      " 'max_depth': None,\n",
      " 'max_features': 0.3,\n",
      " 'max_leaf_nodes': None,\n",
      " 'max_samples': None,\n",
      " 'min_impurity_decrease': 0.0,\n",
      " 'min_impurity_split': None,\n",
      " 'min_samples_leaf': 0.01,\n",
      " 'min_samples_split': 0.056842105263157895,\n",
      " 'min_weight_fraction_leaf': 0.0,\n",
      " 'n_estimators': 25,\n",
      " 'n_jobs': 1,\n",
      " 'oob_score': True,\n",
      " 'random_state': None,\n",
      " 'verbose': 0,\n",
      " 'warm_start': False}\n",
      "\n",
      "16-minmaxscaler\n",
      "{'copy': True, 'feature_range': (0, 1)}\n",
      "\n",
      "16-randomforestclassifier\n",
      "{'bootstrap': True,\n",
      " 'ccp_alpha': 0.0,\n",
      " 'class_weight': None,\n",
      " 'criterion': 'gini',\n",
      " 'max_depth': None,\n",
      " 'max_features': 0.05,\n",
      " 'max_leaf_nodes': None,\n",
      " 'max_samples': None,\n",
      " 'min_impurity_decrease': 0.0,\n",
      " 'min_impurity_split': None,\n",
      " 'min_samples_leaf': 0.01,\n",
      " 'min_samples_split': 0.10368421052631578,\n",
      " 'min_weight_fraction_leaf': 0.0,\n",
      " 'n_estimators': 25,\n",
      " 'n_jobs': 1,\n",
      " 'oob_score': False,\n",
      " 'random_state': None,\n",
      " 'verbose': 0,\n",
      " 'warm_start': False}\n",
      "\n",
      "7-minmaxscaler\n",
      "{'copy': True, 'feature_range': (0, 1)}\n",
      "\n",
      "7-extratreesclassifier\n",
      "{'bootstrap': True,\n",
      " 'ccp_alpha': 0.0,\n",
      " 'class_weight': None,\n",
      " 'criterion': 'gini',\n",
      " 'max_depth': None,\n",
      " 'max_features': 0.9,\n",
      " 'max_leaf_nodes': None,\n",
      " 'max_samples': None,\n",
      " 'min_impurity_decrease': 0.0,\n",
      " 'min_impurity_split': None,\n",
      " 'min_samples_leaf': 0.01,\n",
      " 'min_samples_split': 0.15052631578947367,\n",
      " 'min_weight_fraction_leaf': 0.0,\n",
      " 'n_estimators': 10,\n",
      " 'n_jobs': 1,\n",
      " 'oob_score': True,\n",
      " 'random_state': None,\n",
      " 'verbose': 0,\n",
      " 'warm_start': False}\n",
      "\n",
      "14-robustscaler\n",
      "{'copy': True,\n",
      " 'quantile_range': [10, 90],\n",
      " 'with_centering': True,\n",
      " 'with_scaling': False}\n",
      "\n",
      "14-randomforestclassifier\n",
      "{'bootstrap': True,\n",
      " 'ccp_alpha': 0.0,\n",
      " 'class_weight': 'balanced',\n",
      " 'criterion': 'entropy',\n",
      " 'max_depth': None,\n",
      " 'max_features': 0.2,\n",
      " 'max_leaf_nodes': None,\n",
      " 'max_samples': None,\n",
      " 'min_impurity_decrease': 0.0,\n",
      " 'min_impurity_split': None,\n",
      " 'min_samples_leaf': 0.01,\n",
      " 'min_samples_split': 0.10368421052631578,\n",
      " 'min_weight_fraction_leaf': 0.0,\n",
      " 'n_estimators': 10,\n",
      " 'n_jobs': 1,\n",
      " 'oob_score': True,\n",
      " 'random_state': None,\n",
      " 'verbose': 0,\n",
      " 'warm_start': False}\n",
      "\n",
      "18-maxabsscaler\n",
      "{'copy': True}\n",
      "\n",
      "18-randomforestclassifier\n",
      "{'bootstrap': False,\n",
      " 'ccp_alpha': 0.0,\n",
      " 'class_weight': 'balanced',\n",
      " 'criterion': 'gini',\n",
      " 'max_depth': None,\n",
      " 'max_features': 0.05,\n",
      " 'max_leaf_nodes': None,\n",
      " 'max_samples': None,\n",
      " 'min_impurity_decrease': 0.0,\n",
      " 'min_impurity_split': None,\n",
      " 'min_samples_leaf': 0.06157894736842105,\n",
      " 'min_samples_split': 0.056842105263157895,\n",
      " 'min_weight_fraction_leaf': 0.0,\n",
      " 'n_estimators': 50,\n",
      " 'n_jobs': 1,\n",
      " 'oob_score': False,\n",
      " 'random_state': None,\n",
      " 'verbose': 0,\n",
      " 'warm_start': False}\n",
      "\n",
      "29-robustscaler\n",
      "{'copy': True,\n",
      " 'quantile_range': [10, 90],\n",
      " 'with_centering': False,\n",
      " 'with_scaling': False}\n",
      "\n",
      "29-lightgbmclassifier\n",
      "{'boosting_type': 'gbdt',\n",
      " 'class_weight': None,\n",
      " 'colsample_bytree': 0.1988888888888889,\n",
      " 'importance_type': 'split',\n",
      " 'learning_rate': 0.08947473684210526,\n",
      " 'max_bin': 280,\n",
      " 'max_depth': 10,\n",
      " 'min_child_samples': 4,\n",
      " 'min_child_weight': 3,\n",
      " 'min_split_gain': 0.7894736842105263,\n",
      " 'n_estimators': 25,\n",
      " 'n_jobs': 1,\n",
      " 'num_leaves': 65,\n",
      " 'objective': None,\n",
      " 'random_state': None,\n",
      " 'reg_alpha': 0.9473684210526315,\n",
      " 'reg_lambda': 0.3157894736842105,\n",
      " 'silent': True,\n",
      " 'subsample': 0.99,\n",
      " 'subsample_for_bin': 200000,\n",
      " 'subsample_freq': 0,\n",
      " 'verbose': -10}\n",
      "\n",
      "21-maxabsscaler\n",
      "{'copy': True}\n",
      "\n",
      "21-extratreesclassifier\n",
      "{'bootstrap': True,\n",
      " 'ccp_alpha': 0.0,\n",
      " 'class_weight': 'balanced',\n",
      " 'criterion': 'gini',\n",
      " 'max_depth': None,\n",
      " 'max_features': 0.4,\n",
      " 'max_leaf_nodes': None,\n",
      " 'max_samples': None,\n",
      " 'min_impurity_decrease': 0.0,\n",
      " 'min_impurity_split': None,\n",
      " 'min_samples_leaf': 0.01,\n",
      " 'min_samples_split': 0.15052631578947367,\n",
      " 'min_weight_fraction_leaf': 0.0,\n",
      " 'n_estimators': 10,\n",
      " 'n_jobs': 1,\n",
      " 'oob_score': True,\n",
      " 'random_state': None,\n",
      " 'verbose': 0,\n",
      " 'warm_start': False}\n",
      "\n"
     ]
    }
   ],
   "source": [
    "from pprint import pprint\n",
    "\n",
    "def print_model(model,prefix=\"\"):\n",
    "    for step in model.steps:\n",
    "        print(prefix+step[0])\n",
    "        if hasattr(step[1],'estimators') and hasattr(step[1],'weights'):\n",
    "            pprint({'estimators':list(e[0] for e in step[1].estimators), 'weights':step[1].weights})\n",
    "            print()\n",
    "            for estimator in step[1].estimators:\n",
    "                print_model(estimator[1],estimator[0]+'-')\n",
    "        else:\n",
    "            pprint(step[1].get_params())\n",
    "            print()\n",
    "\n",
    "print_model(best_automl_fitted_model)"
   ]
  },
  {
   "cell_type": "code",
   "execution_count": 53,
   "metadata": {
    "gather": {
     "logged": 1610315981198
    }
   },
   "outputs": [],
   "source": [
    "# retrieving the best model as ONNX model\n",
    "best_auto_run, best_onnx_model = remote_run.get_output(return_onnx_model=True)"
   ]
  },
  {
   "cell_type": "code",
   "execution_count": 54,
   "metadata": {
    "gather": {
     "logged": 1610315984655
    }
   },
   "outputs": [],
   "source": [
    "# importing required dependencies\n",
    "from azureml.automl.runtime.onnx_convert import OnnxConverter\n",
    "\n",
    "# saving the best model as onnx_model\n",
    "onnx_fl_path = \"./best_model.onnx\"\n",
    "OnnxConverter.save_onnx_model(best_onnx_model, onnx_fl_path)"
   ]
  },
  {
   "cell_type": "markdown",
   "metadata": {},
   "source": [
    "## Model Deployment\n",
    "\n",
    "Remember you have to deploy only one of the two models you trained.. Perform the steps in the rest of this notebook only if you wish to deploy this model.\n",
    "\n",
    "TODO: In the cell below, register the model, create an inference config and deploy the model as a web service."
   ]
  },
  {
   "cell_type": "code",
   "execution_count": 56,
   "metadata": {
    "gather": {
     "logged": 1610316136150
    },
    "jupyter": {
     "outputs_hidden": false,
     "source_hidden": false
    },
    "nteract": {
     "transient": {
      "deleting": false
     }
    }
   },
   "outputs": [
    {
     "name": "stdout",
     "output_type": "stream",
     "text": [
      "AutoMLf6a60bf5338\n",
      "automl-heart-failure-predictions\n",
      "Tips: You can try get_logs(): https://aka.ms/debugimage#dockerlog or local deployment: https://aka.ms/debugimage#debug-locally to debug if deployment takes longer than 10 minutes.\n",
      "Running................\n",
      "Succeeded\n",
      "ACI service creation operation finished, operation \"Succeeded\"\n",
      "Healthy\n"
     ]
    }
   ],
   "source": [
    "# registering the best automl model\n",
    "\n",
    "description = 'heart failure predictions'\n",
    "tags = None\n",
    "\n",
    "model = remote_run.register_model(description = description, tags = tags)\n",
    "\n",
    "print(remote_run.model_id)\n",
    "\n",
    "# importing required dependencies\n",
    "from azureml.core.model import InferenceConfig\n",
    "from azureml.core.webservice import AciWebservice\n",
    "from azureml.core.webservice import Webservice\n",
    "from azureml.core.model import Model\n",
    "from azureml.core.environment import Environment\n",
    "\n",
    "# loading a curated environment from workspace\n",
    "\n",
    "env = Environment.get(ws, \"AzureML-AutoML\")\n",
    "\n",
    "# specifying scikit-learn as dependency\n",
    "for pip_package in [\"scikit-learn\"]:\n",
    "    env.python.conda_dependencies.add_pip_package(pip_package)\n",
    "\n",
    "# creating an inference config\n",
    "inference_config = InferenceConfig(entry_script='entry_script.py', environment=env)\n",
    "\n",
    "aciconfig = AciWebservice.deploy_configuration(cpu_cores = 1, memory_gb = 1, enable_app_insights = True)\n",
    "\n",
    "# naming the service to be deployed\n",
    "aci_service_name = 'automl-heart-failure-predictions'\n",
    "print(aci_service_name)\n",
    "\n",
    "# deploying the model\n",
    "aci_service = Model.deploy(ws, aci_service_name, [model], inference_config, aciconfig)\n",
    "aci_service.wait_for_deployment(show_output = True)\n",
    "print(aci_service.state)"
   ]
  },
  {
   "cell_type": "markdown",
   "metadata": {
    "collapsed": true,
    "gather": {
     "logged": 1598431657736
    },
    "jupyter": {
     "outputs_hidden": false,
     "source_hidden": false
    },
    "nteract": {
     "transient": {
      "deleting": false
     }
    }
   },
   "source": [
    "TODO: In the cell below, send a request to the web service you deployed to test it."
   ]
  },
  {
   "cell_type": "code",
   "execution_count": 57,
   "metadata": {
    "gather": {
     "logged": 1610316152263
    },
    "jupyter": {
     "outputs_hidden": false,
     "source_hidden": false
    },
    "nteract": {
     "transient": {
      "deleting": false
     }
    }
   },
   "outputs": [
    {
     "name": "stdout",
     "output_type": "stream",
     "text": [
      "<bound method Response.json of <Response [200]>>\n",
      "[0]\n"
     ]
    }
   ],
   "source": [
    "# importing required dependencies\n",
    "from numpy import array\n",
    "import json\n",
    "import requests\n",
    "\n",
    "# creating a test sample\n",
    "data = {\"data\": [{\"age\":60.000000,\"anaemia\":0.000000,\"creatinine_phosphokinase\":250.000000,\"diabetes\":0.000000,\"ejection_fraction\":38.000000,\"high_blood_pressure\":0.000000,\"platelets\":262000.000000,\"serum_creatinine\":1.10000,\"serum_sodium\":137.000000,\"sex\":1.000000,\"smoking\":0.00000,\"time\":115.000000}]}\n",
    "td = json.dumps(data)\n",
    "headers = {'Content-Type': 'application/json'}\n",
    "\n",
    "# sending request to test the deployed webservice\n",
    "resp = requests.post(aci_service.scoring_uri, td, headers=headers)\n",
    "print(resp.json())\n",
    "y_pred = (json.loads(resp.text))\n",
    "print(y_pred)"
   ]
  },
  {
   "cell_type": "markdown",
   "metadata": {
    "collapsed": true,
    "gather": {
     "logged": 1598432765711
    },
    "jupyter": {
     "outputs_hidden": false,
     "source_hidden": false
    },
    "nteract": {
     "transient": {
      "deleting": false
     }
    }
   },
   "source": [
    "TODO: In the cell below, print the logs of the web service and delete the service"
   ]
  },
  {
   "cell_type": "code",
   "execution_count": 58,
   "metadata": {
    "gather": {
     "logged": 1610316163651
    },
    "jupyter": {
     "outputs_hidden": false,
     "source_hidden": false
    },
    "nteract": {
     "transient": {
      "deleting": false
     }
    }
   },
   "outputs": [
    {
     "data": {
      "text/plain": [
       "'2021-01-10T22:01:47,813158900+00:00 - iot-server/run \\n2021-01-10T22:01:47,818480800+00:00 - rsyslog/run \\n2021-01-10T22:01:47,824220000+00:00 - nginx/run \\n2021-01-10T22:01:47,825775800+00:00 - gunicorn/run \\n/usr/sbin/nginx: /azureml-envs/azureml_8eff28b157f42edcd2424a5aae6c8074/lib/libcrypto.so.1.0.0: no version information available (required by /usr/sbin/nginx)\\n/usr/sbin/nginx: /azureml-envs/azureml_8eff28b157f42edcd2424a5aae6c8074/lib/libcrypto.so.1.0.0: no version information available (required by /usr/sbin/nginx)\\n/usr/sbin/nginx: /azureml-envs/azureml_8eff28b157f42edcd2424a5aae6c8074/lib/libssl.so.1.0.0: no version information available (required by /usr/sbin/nginx)\\n/usr/sbin/nginx: /azureml-envs/azureml_8eff28b157f42edcd2424a5aae6c8074/lib/libssl.so.1.0.0: no version information available (required by /usr/sbin/nginx)\\n/usr/sbin/nginx: /azureml-envs/azureml_8eff28b157f42edcd2424a5aae6c8074/lib/libssl.so.1.0.0: no version information available (required by /usr/sbin/nginx)\\nrsyslogd: /azureml-envs/azureml_8eff28b157f42edcd2424a5aae6c8074/lib/libuuid.so.1: no version information available (required by rsyslogd)\\nEdgeHubConnectionString and IOTEDGE_IOTHUBHOSTNAME are not set. Exiting...\\n2021-01-10T22:01:49,618923600+00:00 - iot-server/finish 1 0\\n2021-01-10T22:01:49,630394100+00:00 - Exit code 1 is normal. Not restarting iot-server.\\nStarting gunicorn 19.9.0\\nListening at: http://127.0.0.1:31311 (71)\\nUsing worker: sync\\nworker timeout is set to 300\\nBooting worker with pid: 97\\nSPARK_HOME not set. Skipping PySpark Initialization.\\nGenerating new fontManager, this may take some time...\\nInitializing logger\\n2021-01-10 22:01:54,513 | root | INFO | Starting up app insights client\\nStarting up app insights client\\n2021-01-10 22:01:54,514 | root | INFO | Starting up request id generator\\nStarting up request id generator\\n2021-01-10 22:01:54,514 | root | INFO | Starting up app insight hooks\\nStarting up app insight hooks\\n2021-01-10 22:01:54,515 | root | INFO | Invoking user\\'s init function\\nInvoking user\\'s init function\\n2021-01-10 22:02:01,653 | root | INFO | Users\\'s init has completed successfully\\nUsers\\'s init has completed successfully\\n2021-01-10 22:02:01,660 | root | INFO | Skipping middleware: dbg_model_info as it\\'s not enabled.\\nSkipping middleware: dbg_model_info as it\\'s not enabled.\\n2021-01-10 22:02:01,660 | root | INFO | Skipping middleware: dbg_resource_usage as it\\'s not enabled.\\nSkipping middleware: dbg_resource_usage as it\\'s not enabled.\\n2021-01-10 22:02:01,664 | root | INFO | Scoring timeout is found from os.environ: 60000 ms\\nScoring timeout is found from os.environ: 60000 ms\\n2021-01-10 22:02:13,673 | root | INFO | Swagger file not present\\nSwagger file not present\\n2021-01-10 22:02:13,674 | root | INFO | 404\\n404\\n127.0.0.1 - - [10/Jan/2021:22:02:13 +0000] \"GET /swagger.json HTTP/1.0\" 404 19 \"-\" \"Go-http-client/1.1\"\\n2021-01-10 22:02:16,063 | root | INFO | Swagger file not present\\nSwagger file not present\\n2021-01-10 22:02:16,063 | root | INFO | 404\\n404\\n127.0.0.1 - - [10/Jan/2021:22:02:16 +0000] \"GET /swagger.json HTTP/1.0\" 404 19 \"-\" \"Go-http-client/1.1\"\\n2021-01-10 22:02:32,129 | root | INFO | Validation Request Content-Type\\nValidation Request Content-Type\\n2021-01-10 22:02:32,130 | root | INFO | \\tHost: localhost:5001\\n\\tHost: localhost:5001\\n2021-01-10 22:02:32,130 | root | INFO | \\tX-Real-Ip: 127.0.0.1\\n\\tX-Real-Ip: 127.0.0.1\\n2021-01-10 22:02:32,130 | root | INFO | \\tX-Forwarded-For: 127.0.0.1\\n\\tX-Forwarded-For: 127.0.0.1\\n2021-01-10 22:02:32,131 | root | INFO | \\tX-Forwarded-Proto: http\\n\\tX-Forwarded-Proto: http\\n2021-01-10 22:02:32,131 | root | INFO | \\tConnection: close\\n\\tConnection: close\\n2021-01-10 22:02:32,131 | root | INFO | \\tContent-Length: 262\\n\\tContent-Length: 262\\n2021-01-10 22:02:32,131 | root | INFO | \\tUser-Agent: python-requests/2.25.0\\n\\tUser-Agent: python-requests/2.25.0\\n2021-01-10 22:02:32,131 | root | INFO | \\tAccept: */*\\n\\tAccept: */*\\n2021-01-10 22:02:32,131 | root | INFO | \\tAccept-Encoding: gzip, deflate\\n\\tAccept-Encoding: gzip, deflate\\n2021-01-10 22:02:32,132 | root | INFO | \\tContent-Type: application/json\\n\\tContent-Type: application/json\\n2021-01-10 22:02:32,132 | root | INFO | \\tX-Ms-Request-Id: d5a82a47-80fb-4f90-a771-722918a3506a\\n\\tX-Ms-Request-Id: d5a82a47-80fb-4f90-a771-722918a3506a\\n2021-01-10 22:02:32,133 | root | INFO | Scoring Timer is set to 60.0 seconds\\nScoring Timer is set to 60.0 seconds\\n2021-01-10 22:02:32,229 | root | INFO | 200\\n200\\n127.0.0.1 - - [10/Jan/2021:22:02:32 +0000] \"POST /score HTTP/1.0\" 200 3 \"-\" \"python-requests/2.25.0\"\\n'"
      ]
     },
     "execution_count": 58,
     "metadata": {},
     "output_type": "execute_result"
    }
   ],
   "source": [
    "# printing the logs of deployed web service\n",
    "dep_logs = aci_service.get_logs()\n",
    "for l in dep_logs.split('\\n'):\n",
    "    print(l)"
   ]
  },
  {
   "cell_type": "code",
   "execution_count": 59,
   "metadata": {
    "gather": {
     "logged": 1610316168603
    }
   },
   "outputs": [],
   "source": [
    "# deleting a web service\n",
    "aci_service.delete()"
   ]
  },
  {
   "cell_type": "code",
   "execution_count": 60,
   "metadata": {
    "gather": {
     "logged": 1610316171653
    }
   },
   "outputs": [
    {
     "name": "stdout",
     "output_type": "stream",
     "text": [
      "Current provisioning state of AmlCompute is \"Deleting\"\n",
      "\n",
      "Current provisioning state of AmlCompute is \"Deleting\"\n",
      "\n",
      "Current provisioning state of AmlCompute is \"Deleting\"\n",
      "\n",
      "Current provisioning state of AmlCompute is \"Deleting\"\n",
      "\n",
      "Current provisioning state of AmlCompute is \"Deleting\"\n",
      "\n"
     ]
    }
   ],
   "source": [
    "# delete compute cluster\n",
    "compute_target.delete()"
   ]
  }
 ],
 "metadata": {
  "kernel_info": {
   "name": "python3"
  },
  "kernelspec": {
   "display_name": "Python 3",
   "language": "python",
   "name": "python3"
  },
  "language_info": {
   "codemirror_mode": {
    "name": "ipython",
    "version": 3
   },
   "file_extension": ".py",
   "mimetype": "text/x-python",
   "name": "python",
   "nbconvert_exporter": "python",
   "pygments_lexer": "ipython3",
   "version": "3.8.3"
  },
  "nteract": {
   "version": "nteract-front-end@1.0.0"
  }
 },
 "nbformat": 4,
 "nbformat_minor": 2
}
