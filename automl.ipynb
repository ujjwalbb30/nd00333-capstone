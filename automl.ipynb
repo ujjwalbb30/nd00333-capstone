{
 "cells": [
  {
   "cell_type": "markdown",
   "metadata": {},
   "source": [
    "# Automated ML\n",
    "\n",
    "TODO: Import Dependencies. In the cell below, import all the dependencies that you will need to complete the project.\n",
    "\n",
    "With the help of python notebooks provided in 1st and 2nd project of this nanodegree program ('Optimizing a pipeline in Azure' and 'Operationalizing machine learning'), I have imported following basic dependencies required to complete this project. Any other specific dependecy will be imported as we proceed further in this project."
   ]
  },
  {
   "cell_type": "code",
   "execution_count": 1,
   "metadata": {
    "gather": {
     "logged": 1607762706592
    },
    "jupyter": {
     "outputs_hidden": false,
     "source_hidden": false
    },
    "nteract": {
     "transient": {
      "deleting": false
     }
    }
   },
   "outputs": [
    {
     "name": "stdout",
     "output_type": "stream",
     "text": [
      "SDK Version: 1.19.0\n"
     ]
    }
   ],
   "source": [
    "import logging\n",
    "import os\n",
    "import csv\n",
    "\n",
    "from matplotlib import pyplot as pyplot\n",
    "import numpy as np\n",
    "import pandas as pd\n",
    "from sklearn import datasets\n",
    "import pkg_resources\n",
    "\n",
    "import azureml.core\n",
    "from azureml.core.experiment import Experiment\n",
    "from azureml.core.workspace import Workspace\n",
    "from azureml.train.automl import AutoMLConfig\n",
    "from azureml.core.dataset import Dataset\n",
    "\n",
    "from azureml.pipeline.steps import AutoMLStep\n",
    "\n",
    "# CheckIng core SDK version number\n",
    "print(\"SDK Version:\", azureml.core.VERSION)"
   ]
  },
  {
   "cell_type": "markdown",
   "metadata": {},
   "source": [
    "## Dataset\n",
    "\n",
    "### Overview\n",
    "TODO: In this markdown cell, give an overview of the dataset you are using. Also mention the task you will be performing.\n",
    "\n",
    "I will be using the 'Heart Failure Clinical Data' which consists of 12 features ( age, anaemia, creatinine_phosphokinase, diabetes, ejection_fraction, high_blood_pressure, platelets, serum_creatinine, serum_sodium, sex, smoking, time ) which can be used to predict mortality by heart failure. There are total of 299 input rows in the dataset with 0 null entries.\n",
    "\n",
    "The 12 features are as follows:\n",
    "\n",
    "(1) age\n",
    "\n",
    "(2) anaemia i.e. decrease of red blood cells or hemoglobin (boolean)\n",
    "\n",
    "(3) creatining_phosphokinase i.e. level of the CPK enzyme in the blood (mcg/L)\n",
    "\n",
    "(4) diabetes i.e. if the patient has diabetes or not (boolean)\n",
    "\n",
    "(5) ejection_fraction i.e. percentage of blood leaving the heart at each contraction (percentage)\n",
    "\n",
    "(6) high_blood_pressure i.e. if the patient has hypertension (boolean)\n",
    "\n",
    "(7) platelets i.e. platelets in the blood (kiloplatelets/mL)\n",
    "\n",
    "(8) serum_creatinine i.e. level of serum creatinine in the blood (mg/dL)\n",
    "\n",
    "(9) serum_sodium i.e. level of serum sodium in the blood (mEq/L)\n",
    "\n",
    "(10) sex i.e. woman or man (binary)\n",
    "\n",
    "(11) smoking i.e. if the patient smokes or not (boolean)\n",
    "\n",
    "(12) time i.e. follow-up period (days)\n",
    "\n",
    "\n",
    "We will be predicting the following output:\n",
    "\n",
    "DEATH_EVENT i.e if the patient deceased during the follow-up period (boolean)\n",
    "\n",
    "A machine learning classification model on this dataset will be helpful for early detection of people with cardiovascular disease or those who are at high risk of cardiovascular disease. \n",
    "\n",
    "SOURCE : https://www.kaggle.com/andrewmvd/heart-failure-clinical-data\n",
    "\n",
    "TODO: Get data. In the cell below, write code to access the data you will be using in this project. Remember that the dataset needs to be external.\n",
    "\n",
    "I have already registered the dataset after downloading it from kaggle. So, I will be using the name and description that I saved the dataset with, to import it in my experiment."
   ]
  },
  {
   "cell_type": "code",
   "execution_count": 2,
   "metadata": {
    "gather": {
     "logged": 1607762815802
    },
    "jupyter": {
     "outputs_hidden": false,
     "source_hidden": false
    },
    "nteract": {
     "transient": {
      "deleting": false
     }
    }
   },
   "outputs": [
    {
     "name": "stdout",
     "output_type": "stream",
     "text": [
      "Performing interactive authentication. Please follow the instructions on the terminal.\n",
      "To sign in, use a web browser to open the page https://microsoft.com/devicelogin and enter the code RW8Z7NMVS to authenticate.\n",
      "You have logged in. Now let us find all the subscriptions to which you have access...\n",
      "Interactive authentication successfully completed.\n"
     ]
    }
   ],
   "source": [
    "# creating an automl experiment in our workspace\n",
    "\n",
    "# initializing a workspace\n",
    "ws = Workspace.from_config()\n",
    "print(ws.name, ws.resource_group, ws.location, ws.subscription_id, sep='\\n')\n",
    "\n",
    "# choosing a name for experiment\n",
    "experiment_name = 'capstone-automl-experiment'\n",
    "project_folder = './pipeline-project'\n",
    "\n",
    "# creating the experiment\n",
    "experiment = Experiment(ws, experiment_name)\n",
    "experiment.start_logging()\n",
    "experiment"
   ]
  },
  {
   "cell_type": "code",
   "execution_count": null,
   "metadata": {},
   "outputs": [],
   "source": [
    "# creating an AMLCompute cluster for running the experiment\n",
    "\n",
    "# importing required dependencies\n",
    "from azureml.core.compute import AmlCompute, ComputeTarget\n",
    "from azureml.core.compute_target import ComputeTargetException\n",
    "\n",
    "# Choosing a name for our CPU cluster\n",
    "amlcompute_cluster_name = \"aml-auto\"\n",
    "\n",
    "# Verifying that cluster does not exist already\n",
    "try:\n",
    "    compute_target = ComputeTarget(workspace=ws, name=amlcompute_cluster_name)\n",
    "    print('Found existing cluster, use it.')\n",
    "except ComputeTargetException:\n",
    "    compute_config = AmlCompute.provisioning_configuration(vm_size='STANDARD_D2_V2', max_nodes=4)\n",
    "    compute_target = ComputeTarget.create(ws, amlcompute_cluster_name, compute_config)\n",
    "\n",
    "compute_target.wait_for_completion(show_output=True, min_node_count = 1, timeout_in_minutes = 10)\n",
    "compute_target.get_status()"
   ]
  },
  {
   "cell_type": "code",
   "execution_count": 3,
   "metadata": {
    "gather": {
     "logged": 1607763814558
    },
    "jupyter": {
     "outputs_hidden": false,
     "source_hidden": false
    },
    "nteract": {
     "transient": {
      "deleting": false
     }
    }
   },
   "outputs": [
    {
     "data": {
      "text/html": [
       "<div>\n",
       "<style scoped>\n",
       "    .dataframe tbody tr th:only-of-type {\n",
       "        vertical-align: middle;\n",
       "    }\n",
       "\n",
       "    .dataframe tbody tr th {\n",
       "        vertical-align: top;\n",
       "    }\n",
       "\n",
       "    .dataframe thead th {\n",
       "        text-align: right;\n",
       "    }\n",
       "</style>\n",
       "<table border=\"1\" class=\"dataframe\">\n",
       "  <thead>\n",
       "    <tr style=\"text-align: right;\">\n",
       "      <th></th>\n",
       "      <th>age</th>\n",
       "      <th>anaemia</th>\n",
       "      <th>creatinine_phosphokinase</th>\n",
       "      <th>diabetes</th>\n",
       "      <th>ejection_fraction</th>\n",
       "      <th>high_blood_pressure</th>\n",
       "      <th>platelets</th>\n",
       "      <th>serum_creatinine</th>\n",
       "      <th>serum_sodium</th>\n",
       "      <th>sex</th>\n",
       "      <th>smoking</th>\n",
       "      <th>time</th>\n",
       "      <th>DEATH_EVENT</th>\n",
       "    </tr>\n",
       "  </thead>\n",
       "  <tbody>\n",
       "    <tr>\n",
       "      <th>count</th>\n",
       "      <td>299.000000</td>\n",
       "      <td>299.000000</td>\n",
       "      <td>299.000000</td>\n",
       "      <td>299.000000</td>\n",
       "      <td>299.000000</td>\n",
       "      <td>299.000000</td>\n",
       "      <td>299.000000</td>\n",
       "      <td>299.00000</td>\n",
       "      <td>299.000000</td>\n",
       "      <td>299.000000</td>\n",
       "      <td>299.00000</td>\n",
       "      <td>299.000000</td>\n",
       "      <td>299.00000</td>\n",
       "    </tr>\n",
       "    <tr>\n",
       "      <th>mean</th>\n",
       "      <td>60.833893</td>\n",
       "      <td>0.431438</td>\n",
       "      <td>581.839465</td>\n",
       "      <td>0.418060</td>\n",
       "      <td>38.083612</td>\n",
       "      <td>0.351171</td>\n",
       "      <td>263358.029264</td>\n",
       "      <td>1.39388</td>\n",
       "      <td>136.625418</td>\n",
       "      <td>0.648829</td>\n",
       "      <td>0.32107</td>\n",
       "      <td>130.260870</td>\n",
       "      <td>0.32107</td>\n",
       "    </tr>\n",
       "    <tr>\n",
       "      <th>std</th>\n",
       "      <td>11.894809</td>\n",
       "      <td>0.496107</td>\n",
       "      <td>970.287881</td>\n",
       "      <td>0.494067</td>\n",
       "      <td>11.834841</td>\n",
       "      <td>0.478136</td>\n",
       "      <td>97804.236869</td>\n",
       "      <td>1.03451</td>\n",
       "      <td>4.412477</td>\n",
       "      <td>0.478136</td>\n",
       "      <td>0.46767</td>\n",
       "      <td>77.614208</td>\n",
       "      <td>0.46767</td>\n",
       "    </tr>\n",
       "    <tr>\n",
       "      <th>min</th>\n",
       "      <td>40.000000</td>\n",
       "      <td>0.000000</td>\n",
       "      <td>23.000000</td>\n",
       "      <td>0.000000</td>\n",
       "      <td>14.000000</td>\n",
       "      <td>0.000000</td>\n",
       "      <td>25100.000000</td>\n",
       "      <td>0.50000</td>\n",
       "      <td>113.000000</td>\n",
       "      <td>0.000000</td>\n",
       "      <td>0.00000</td>\n",
       "      <td>4.000000</td>\n",
       "      <td>0.00000</td>\n",
       "    </tr>\n",
       "    <tr>\n",
       "      <th>25%</th>\n",
       "      <td>51.000000</td>\n",
       "      <td>0.000000</td>\n",
       "      <td>116.500000</td>\n",
       "      <td>0.000000</td>\n",
       "      <td>30.000000</td>\n",
       "      <td>0.000000</td>\n",
       "      <td>212500.000000</td>\n",
       "      <td>0.90000</td>\n",
       "      <td>134.000000</td>\n",
       "      <td>0.000000</td>\n",
       "      <td>0.00000</td>\n",
       "      <td>73.000000</td>\n",
       "      <td>0.00000</td>\n",
       "    </tr>\n",
       "    <tr>\n",
       "      <th>50%</th>\n",
       "      <td>60.000000</td>\n",
       "      <td>0.000000</td>\n",
       "      <td>250.000000</td>\n",
       "      <td>0.000000</td>\n",
       "      <td>38.000000</td>\n",
       "      <td>0.000000</td>\n",
       "      <td>262000.000000</td>\n",
       "      <td>1.10000</td>\n",
       "      <td>137.000000</td>\n",
       "      <td>1.000000</td>\n",
       "      <td>0.00000</td>\n",
       "      <td>115.000000</td>\n",
       "      <td>0.00000</td>\n",
       "    </tr>\n",
       "    <tr>\n",
       "      <th>75%</th>\n",
       "      <td>70.000000</td>\n",
       "      <td>1.000000</td>\n",
       "      <td>582.000000</td>\n",
       "      <td>1.000000</td>\n",
       "      <td>45.000000</td>\n",
       "      <td>1.000000</td>\n",
       "      <td>303500.000000</td>\n",
       "      <td>1.40000</td>\n",
       "      <td>140.000000</td>\n",
       "      <td>1.000000</td>\n",
       "      <td>1.00000</td>\n",
       "      <td>203.000000</td>\n",
       "      <td>1.00000</td>\n",
       "    </tr>\n",
       "    <tr>\n",
       "      <th>max</th>\n",
       "      <td>95.000000</td>\n",
       "      <td>1.000000</td>\n",
       "      <td>7861.000000</td>\n",
       "      <td>1.000000</td>\n",
       "      <td>80.000000</td>\n",
       "      <td>1.000000</td>\n",
       "      <td>850000.000000</td>\n",
       "      <td>9.40000</td>\n",
       "      <td>148.000000</td>\n",
       "      <td>1.000000</td>\n",
       "      <td>1.00000</td>\n",
       "      <td>285.000000</td>\n",
       "      <td>1.00000</td>\n",
       "    </tr>\n",
       "  </tbody>\n",
       "</table>\n",
       "</div>"
      ],
      "text/plain": [
       "              age     anaemia  ...        time  DEATH_EVENT\n",
       "count  299.000000  299.000000  ...  299.000000    299.00000\n",
       "mean    60.833893    0.431438  ...  130.260870      0.32107\n",
       "std     11.894809    0.496107  ...   77.614208      0.46767\n",
       "min     40.000000    0.000000  ...    4.000000      0.00000\n",
       "25%     51.000000    0.000000  ...   73.000000      0.00000\n",
       "50%     60.000000    0.000000  ...  115.000000      0.00000\n",
       "75%     70.000000    1.000000  ...  203.000000      1.00000\n",
       "max     95.000000    1.000000  ...  285.000000      1.00000\n",
       "\n",
       "[8 rows x 13 columns]"
      ]
     },
     "execution_count": 3,
     "metadata": {},
     "output_type": "execute_result"
    }
   ],
   "source": [
    "# entering the dataset's name and description in 'key' and 'description_text' respectively\n",
    "\n",
    "key = 'heart-failure-clinical-data'\n",
    "description_text = 'heart failure predictions'\n",
    "\n",
    "# importing the dataset for use\n",
    "dataset = ws.datasets[key]\n",
    "\n",
    "# converting the imported dataset to pandas dataframe for analyzing purpose\n",
    "df = dataset.to_pandas_dataframe()\n",
    "\n",
    "# analyzing the dataframe\n",
    "df.describe()    "
   ]
  },
  {
   "cell_type": "markdown",
   "metadata": {},
   "source": [
    "## AutoML Configuration\n",
    "\n",
    "TODO: Explain why you chose the automl settings and cofiguration you used below.\n",
    "\n",
    "for automl settings, I will be using the following parameters:\n",
    "\n",
    "(1) experiment_timeout_minutes : It is the amount of time that the experiment will run upto. I will input it as 30 minutes which means the the experiment will exit after 30 minutes ( if it doesn't find the best run within 30 minutes and exit on its own ) and will give out the best result found during that time.\n",
    "\n",
    "(2) max_concurrent_iterations : It is the maximum number of iterations to be executed in parallel. I will input it as '5' iterations. 5 concurrent iterations will help in quickly executing the tasks of experiment and it will also not load the compute target too much for computation.\n",
    "\n",
    "(3) primary_metric : This is the metric that will be optimized by Automated Machine Learning for model selection. I will use 'AUC_weighted' as 'primary_metric' parameter. AUC means the area under the Receiver Operating Characteristic Curve which plots the relationship between true positive rate and false positive rate. Since our dataset doesn't have high class imbalance, we can use ROC method for judging the performance of a model. I will use AUC_weighted in order to mitigate the effects of whatever little imbalance is there in the dataset. AUC_weighted is the arithmetic mean of the score for each class, weighted by the number of true instances in each class.\n",
    "\n",
    "for automl configuration, I will be using the following parameters:\n",
    "\n",
    "(1) compute_target : It is the compute target on which we will run our Azure Machine Learning experiment. Since I have created a compute target named as 'compute_target' for this purpose, I will input it as the 'compute_target' parameter.\n",
    "\n",
    "(2) task : I want to make a classification model that can predict whether the patient is at a high risk of cardiovascular disease or not. Hence, I will input 'classification' as 'task' parameter.\n",
    "\n",
    "(3) training_data : It is the training dataset to be used for the experiment. I will use 'dataset' (the registered dataset imported above for running this experiment) as 'training_data' parameter. importing training dataset means the output columns will be included and its name will be entered in 'label_column_name'.\n",
    "\n",
    "(4) label_column_name : It is the name of the output column present in the training dataset. I will enter 'DEATH_EVENT' as 'label_column_name' parameter.\n",
    "\n",
    "(5) path : This is the full path to the Azure Machine learning project folder. Hence, I will input './pipeline-project' as 'path' parameter.\n",
    "\n",
    "(6) enable_early_stopping : we can choose to terminate the experiment if the score stops improving in the short term. I will enter 'True' as 'enable_early_stopping' parameter.\n",
    "\n",
    "(7) featurization : It is the option to featurize the dataset i.e. whether we want the Azure to do it automatically or we want to turn it off or we want some customized featurization step. I will input 'auto' in the 'featurization' parameter as I want Azure to featurize the dataset automatically.\n",
    "\n",
    "(8) debug_log : it is the log file in which debug information is written. I am entering 'automl_errors.log' as 'debug_log' parameter.\n",
    "\n",
    "(9) n_cross_validations : It is the number of cross validations performed. I will input it as '5' since the input rows is way lower than 1000 and 5 cross validations will not be very computation expensive."
   ]
  },
  {
   "cell_type": "code",
   "execution_count": 4,
   "metadata": {
    "gather": {
     "logged": 1607764367174
    },
    "jupyter": {
     "outputs_hidden": false,
     "source_hidden": false
    },
    "nteract": {
     "transient": {
      "deleting": false
     }
    }
   },
   "outputs": [],
   "source": [
    "# TODO: Put your automl settings here\n",
    "automl_settings = {\n",
    "    \"experiment_timeout_minutes\" : 30,\n",
    "    \"max_concurrent_iterations\" : 5,\n",
    "    \"primary_metric\" : 'AUC_weighted'\n",
    "}\n",
    "\n",
    "# TODO: Put your automl config here\n",
    "automl_config = AutoMLConfig(compute_target=compute_target,\n",
    "                            task=\"classification\",\n",
    "                            training_data=dataset,\n",
    "                            label_column_name=\"DEATH_EVENT\",\n",
    "                            path='./pipeline-project',\n",
    "                            enable_early_stopping=True,\n",
    "                            featurization='auto',\n",
    "                            enable_onnx_compatible_models=True,\n",
    "                            debug_log=\"automl_errors.log\",\n",
    "                            **automl_settings\n",
    ")"
   ]
  },
  {
   "cell_type": "code",
   "execution_count": 5,
   "metadata": {
    "gather": {
     "logged": 1607764433662
    },
    "jupyter": {
     "outputs_hidden": false,
     "source_hidden": false
    },
    "nteract": {
     "transient": {
      "deleting": false
     }
    }
   },
   "outputs": [
    {
     "name": "stdout",
     "output_type": "stream",
     "text": [
      "Running on remote.\n"
     ]
    }
   ],
   "source": [
    "# TODO: Submit your experiment\n",
    "remote_run = experiment.submit(config = automl_config, show_output=True)"
   ]
  },
  {
   "cell_type": "code",
   "execution_count": null,
   "metadata": {},
   "outputs": [],
   "source": [
    "# waiting for completion of remote_run while showing its output\n",
    "remote_run.wait_for_completion(show_output=True)"
   ]
  },
  {
   "cell_type": "markdown",
   "metadata": {},
   "source": [
    "## Run Details\n",
    "\n",
    "OPTIONAL: Write about the different models trained and their performance. Why do you think some models did better than others?\n",
    "\n",
    "TODO: In the cell below, use the `RunDetails` widget to show the different experiments."
   ]
  },
  {
   "cell_type": "code",
   "execution_count": 8,
   "metadata": {
    "gather": {
     "logged": 1607766547387
    },
    "jupyter": {
     "outputs_hidden": false,
     "source_hidden": false
    },
    "nteract": {
     "transient": {
      "deleting": false
     }
    }
   },
   "outputs": [
    {
     "data": {
      "application/vnd.jupyter.widget-view+json": {
       "model_id": "fca4723dd80f455488427adc65acc621",
       "version_major": 2,
       "version_minor": 0
      },
      "text/plain": [
       "_AutoMLWidget(widget_settings={'childWidgetDisplay': 'popup', 'send_telemetry': False, 'log_level': 'INFO', 's…"
      ]
     },
     "metadata": {},
     "output_type": "display_data"
    },
    {
     "data": {
      "application/aml.mini.widget.v1": "{\"status\": \"Completed\", \"workbench_run_details_uri\": \"https://ml.azure.com/experiments/capstone-automl-experiment/runs/AutoML_0f3c2865-a426-4af8-9657-8b3d54d6aa46?wsid=/subscriptions/3929502f-a035-4029-a2f5-865565e57a0a/resourcegroups/aml-quickstarts-130193/workspaces/quick-starts-ws-130193\", \"run_id\": \"AutoML_0f3c2865-a426-4af8-9657-8b3d54d6aa46\", \"run_properties\": {\"run_id\": \"AutoML_0f3c2865-a426-4af8-9657-8b3d54d6aa46\", \"created_utc\": \"2020-12-12T09:13:52.289835Z\", \"properties\": {\"num_iterations\": \"1000\", \"training_type\": \"TrainFull\", \"acquisition_function\": \"EI\", \"primary_metric\": \"AUC_weighted\", \"train_split\": \"0\", \"acquisition_parameter\": \"0\", \"num_cross_validation\": null, \"target\": \"notebook130193\", \"AMLSettingsJsonString\": \"{\\\"path\\\":null,\\\"name\\\":\\\"capstone-automl-experiment\\\",\\\"subscription_id\\\":\\\"3929502f-a035-4029-a2f5-865565e57a0a\\\",\\\"resource_group\\\":\\\"aml-quickstarts-130193\\\",\\\"workspace_name\\\":\\\"quick-starts-ws-130193\\\",\\\"region\\\":\\\"southcentralus\\\",\\\"compute_target\\\":\\\"notebook130193\\\",\\\"spark_service\\\":null,\\\"azure_service\\\":\\\"remote\\\",\\\"many_models\\\":false,\\\"pipeline_fetch_max_batch_size\\\":1,\\\"iterations\\\":1000,\\\"primary_metric\\\":\\\"AUC_weighted\\\",\\\"task_type\\\":\\\"classification\\\",\\\"data_script\\\":null,\\\"validation_size\\\":0.0,\\\"n_cross_validations\\\":null,\\\"y_min\\\":null,\\\"y_max\\\":null,\\\"num_classes\\\":null,\\\"featurization\\\":\\\"auto\\\",\\\"_ignore_package_version_incompatibilities\\\":false,\\\"is_timeseries\\\":false,\\\"max_cores_per_iteration\\\":1,\\\"max_concurrent_iterations\\\":5,\\\"iteration_timeout_minutes\\\":null,\\\"mem_in_mb\\\":null,\\\"enforce_time_on_windows\\\":false,\\\"experiment_timeout_minutes\\\":20,\\\"experiment_exit_score\\\":null,\\\"whitelist_models\\\":null,\\\"blacklist_algos\\\":[\\\"TensorFlowLinearClassifier\\\",\\\"TensorFlowDNN\\\"],\\\"supported_models\\\":[\\\"SGD\\\",\\\"TensorFlowLinearClassifier\\\",\\\"BernoulliNaiveBayes\\\",\\\"TensorFlowDNN\\\",\\\"GradientBoosting\\\",\\\"DecisionTree\\\",\\\"MultinomialNaiveBayes\\\",\\\"LinearSVM\\\",\\\"KNN\\\",\\\"XGBoostClassifier\\\",\\\"ExtremeRandomTrees\\\",\\\"LogisticRegression\\\",\\\"AveragedPerceptronClassifier\\\",\\\"LightGBM\\\",\\\"RandomForest\\\",\\\"SVM\\\"],\\\"auto_blacklist\\\":true,\\\"blacklist_samples_reached\\\":false,\\\"exclude_nan_labels\\\":true,\\\"verbosity\\\":20,\\\"_debug_log\\\":\\\"azureml_automl.log\\\",\\\"show_warnings\\\":false,\\\"model_explainability\\\":true,\\\"service_url\\\":null,\\\"sdk_url\\\":null,\\\"sdk_packages\\\":null,\\\"enable_onnx_compatible_models\\\":false,\\\"enable_split_onnx_featurizer_estimator_models\\\":false,\\\"vm_type\\\":\\\"STANDARD_DS3_V2\\\",\\\"telemetry_verbosity\\\":20,\\\"send_telemetry\\\":true,\\\"enable_dnn\\\":false,\\\"scenario\\\":\\\"SDK-1.13.0\\\",\\\"environment_label\\\":null,\\\"force_text_dnn\\\":false,\\\"enable_feature_sweeping\\\":true,\\\"enable_early_stopping\\\":true,\\\"early_stopping_n_iters\\\":10,\\\"metrics\\\":null,\\\"enable_ensembling\\\":true,\\\"enable_stack_ensembling\\\":true,\\\"ensemble_iterations\\\":15,\\\"enable_tf\\\":false,\\\"enable_subsampling\\\":null,\\\"subsample_seed\\\":null,\\\"enable_nimbusml\\\":false,\\\"enable_streaming\\\":false,\\\"force_streaming\\\":false,\\\"track_child_runs\\\":true,\\\"allowed_private_models\\\":[],\\\"label_column_name\\\":\\\"DEATH_EVENT\\\",\\\"weight_column_name\\\":null,\\\"cv_split_column_names\\\":null,\\\"enable_local_managed\\\":false,\\\"_local_managed_run_id\\\":null,\\\"cost_mode\\\":1,\\\"lag_length\\\":0,\\\"metric_operation\\\":\\\"maximize\\\",\\\"preprocess\\\":true}\", \"DataPrepJsonString\": \"{\\\\\\\"training_data\\\\\\\": \\\\\\\"{\\\\\\\\\\\\\\\"blocks\\\\\\\\\\\\\\\": [{\\\\\\\\\\\\\\\"id\\\\\\\\\\\\\\\": \\\\\\\\\\\\\\\"5888ec20-9252-4f8b-bb6f-367022c655cc\\\\\\\\\\\\\\\", \\\\\\\\\\\\\\\"type\\\\\\\\\\\\\\\": \\\\\\\\\\\\\\\"Microsoft.DPrep.GetDatastoreFilesBlock\\\\\\\\\\\\\\\", \\\\\\\\\\\\\\\"arguments\\\\\\\\\\\\\\\": {\\\\\\\\\\\\\\\"datastores\\\\\\\\\\\\\\\": [{\\\\\\\\\\\\\\\"datastoreName\\\\\\\\\\\\\\\": \\\\\\\\\\\\\\\"workspaceblobstore\\\\\\\\\\\\\\\", \\\\\\\\\\\\\\\"path\\\\\\\\\\\\\\\": \\\\\\\\\\\\\\\"UI/12-12-2020_083429_UTC/heart_failure_clinical_records_dataset.csv\\\\\\\\\\\\\\\", \\\\\\\\\\\\\\\"resourceGroup\\\\\\\\\\\\\\\": \\\\\\\\\\\\\\\"aml-quickstarts-130193\\\\\\\\\\\\\\\", \\\\\\\\\\\\\\\"subscription\\\\\\\\\\\\\\\": \\\\\\\\\\\\\\\"3929502f-a035-4029-a2f5-865565e57a0a\\\\\\\\\\\\\\\", \\\\\\\\\\\\\\\"workspaceName\\\\\\\\\\\\\\\": \\\\\\\\\\\\\\\"quick-starts-ws-130193\\\\\\\\\\\\\\\"}]}, \\\\\\\\\\\\\\\"localData\\\\\\\\\\\\\\\": {}, \\\\\\\\\\\\\\\"isEnabled\\\\\\\\\\\\\\\": true, \\\\\\\\\\\\\\\"name\\\\\\\\\\\\\\\": null, \\\\\\\\\\\\\\\"annotation\\\\\\\\\\\\\\\": null}, {\\\\\\\\\\\\\\\"id\\\\\\\\\\\\\\\": \\\\\\\\\\\\\\\"fd4635bb-1134-4c37-b317-dd8321762d9d\\\\\\\\\\\\\\\", \\\\\\\\\\\\\\\"type\\\\\\\\\\\\\\\": \\\\\\\\\\\\\\\"Microsoft.DPrep.ParseDelimitedBlock\\\\\\\\\\\\\\\", \\\\\\\\\\\\\\\"arguments\\\\\\\\\\\\\\\": {\\\\\\\\\\\\\\\"columnHeadersMode\\\\\\\\\\\\\\\": 1, \\\\\\\\\\\\\\\"fileEncoding\\\\\\\\\\\\\\\": 0, \\\\\\\\\\\\\\\"handleQuotedLineBreaks\\\\\\\\\\\\\\\": false, \\\\\\\\\\\\\\\"preview\\\\\\\\\\\\\\\": false, \\\\\\\\\\\\\\\"separator\\\\\\\\\\\\\\\": \\\\\\\\\\\\\\\",\\\\\\\\\\\\\\\", \\\\\\\\\\\\\\\"skipRows\\\\\\\\\\\\\\\": 0, \\\\\\\\\\\\\\\"skipRowsMode\\\\\\\\\\\\\\\": 0}, \\\\\\\\\\\\\\\"localData\\\\\\\\\\\\\\\": {}, \\\\\\\\\\\\\\\"isEnabled\\\\\\\\\\\\\\\": true, \\\\\\\\\\\\\\\"name\\\\\\\\\\\\\\\": null, \\\\\\\\\\\\\\\"annotation\\\\\\\\\\\\\\\": null}, {\\\\\\\\\\\\\\\"id\\\\\\\\\\\\\\\": \\\\\\\\\\\\\\\"165375a4-db7e-4f81-893d-a82489de8989\\\\\\\\\\\\\\\", \\\\\\\\\\\\\\\"type\\\\\\\\\\\\\\\": \\\\\\\\\\\\\\\"Microsoft.DPrep.DropColumnsBlock\\\\\\\\\\\\\\\", \\\\\\\\\\\\\\\"arguments\\\\\\\\\\\\\\\": {\\\\\\\\\\\\\\\"columns\\\\\\\\\\\\\\\": {\\\\\\\\\\\\\\\"type\\\\\\\\\\\\\\\": 0, \\\\\\\\\\\\\\\"details\\\\\\\\\\\\\\\": {\\\\\\\\\\\\\\\"selectedColumns\\\\\\\\\\\\\\\": [\\\\\\\\\\\\\\\"Path\\\\\\\\\\\\\\\"]}}}, \\\\\\\\\\\\\\\"localData\\\\\\\\\\\\\\\": {}, \\\\\\\\\\\\\\\"isEnabled\\\\\\\\\\\\\\\": true, \\\\\\\\\\\\\\\"name\\\\\\\\\\\\\\\": null, \\\\\\\\\\\\\\\"annotation\\\\\\\\\\\\\\\": null}, {\\\\\\\\\\\\\\\"id\\\\\\\\\\\\\\\": \\\\\\\\\\\\\\\"939cab6b-b289-4ea3-b98b-1fe6652818a6\\\\\\\\\\\\\\\", \\\\\\\\\\\\\\\"type\\\\\\\\\\\\\\\": \\\\\\\\\\\\\\\"Microsoft.DPrep.SetColumnTypesBlock\\\\\\\\\\\\\\\", \\\\\\\\\\\\\\\"arguments\\\\\\\\\\\\\\\": {\\\\\\\\\\\\\\\"columnConversion\\\\\\\\\\\\\\\": [{\\\\\\\\\\\\\\\"column\\\\\\\\\\\\\\\": {\\\\\\\\\\\\\\\"type\\\\\\\\\\\\\\\": 2, \\\\\\\\\\\\\\\"details\\\\\\\\\\\\\\\": {\\\\\\\\\\\\\\\"selectedColumn\\\\\\\\\\\\\\\": \\\\\\\\\\\\\\\"Path\\\\\\\\\\\\\\\"}}, \\\\\\\\\\\\\\\"typeProperty\\\\\\\\\\\\\\\": 0}, {\\\\\\\\\\\\\\\"column\\\\\\\\\\\\\\\": {\\\\\\\\\\\\\\\"type\\\\\\\\\\\\\\\": 2, \\\\\\\\\\\\\\\"details\\\\\\\\\\\\\\\": {\\\\\\\\\\\\\\\"selectedColumn\\\\\\\\\\\\\\\": \\\\\\\\\\\\\\\"age\\\\\\\\\\\\\\\"}}, \\\\\\\\\\\\\\\"typeProperty\\\\\\\\\\\\\\\": 3}, {\\\\\\\\\\\\\\\"column\\\\\\\\\\\\\\\": {\\\\\\\\\\\\\\\"type\\\\\\\\\\\\\\\": 2, \\\\\\\\\\\\\\\"details\\\\\\\\\\\\\\\": {\\\\\\\\\\\\\\\"selectedColumn\\\\\\\\\\\\\\\": \\\\\\\\\\\\\\\"anaemia\\\\\\\\\\\\\\\"}}, \\\\\\\\\\\\\\\"typeProperty\\\\\\\\\\\\\\\": 2}, {\\\\\\\\\\\\\\\"column\\\\\\\\\\\\\\\": {\\\\\\\\\\\\\\\"type\\\\\\\\\\\\\\\": 2, \\\\\\\\\\\\\\\"details\\\\\\\\\\\\\\\": {\\\\\\\\\\\\\\\"selectedColumn\\\\\\\\\\\\\\\": \\\\\\\\\\\\\\\"creatinine_phosphokinase\\\\\\\\\\\\\\\"}}, \\\\\\\\\\\\\\\"typeProperty\\\\\\\\\\\\\\\": 2}, {\\\\\\\\\\\\\\\"column\\\\\\\\\\\\\\\": {\\\\\\\\\\\\\\\"type\\\\\\\\\\\\\\\": 2, \\\\\\\\\\\\\\\"details\\\\\\\\\\\\\\\": {\\\\\\\\\\\\\\\"selectedColumn\\\\\\\\\\\\\\\": \\\\\\\\\\\\\\\"diabetes\\\\\\\\\\\\\\\"}}, \\\\\\\\\\\\\\\"typeProperty\\\\\\\\\\\\\\\": 2}, {\\\\\\\\\\\\\\\"column\\\\\\\\\\\\\\\": {\\\\\\\\\\\\\\\"type\\\\\\\\\\\\\\\": 2, \\\\\\\\\\\\\\\"details\\\\\\\\\\\\\\\": {\\\\\\\\\\\\\\\"selectedColumn\\\\\\\\\\\\\\\": \\\\\\\\\\\\\\\"ejection_fraction\\\\\\\\\\\\\\\"}}, \\\\\\\\\\\\\\\"typeProperty\\\\\\\\\\\\\\\": 2}, {\\\\\\\\\\\\\\\"column\\\\\\\\\\\\\\\": {\\\\\\\\\\\\\\\"type\\\\\\\\\\\\\\\": 2, \\\\\\\\\\\\\\\"details\\\\\\\\\\\\\\\": {\\\\\\\\\\\\\\\"selectedColumn\\\\\\\\\\\\\\\": \\\\\\\\\\\\\\\"high_blood_pressure\\\\\\\\\\\\\\\"}}, \\\\\\\\\\\\\\\"typeProperty\\\\\\\\\\\\\\\": 2}, {\\\\\\\\\\\\\\\"column\\\\\\\\\\\\\\\": {\\\\\\\\\\\\\\\"type\\\\\\\\\\\\\\\": 2, \\\\\\\\\\\\\\\"details\\\\\\\\\\\\\\\": {\\\\\\\\\\\\\\\"selectedColumn\\\\\\\\\\\\\\\": \\\\\\\\\\\\\\\"platelets\\\\\\\\\\\\\\\"}}, \\\\\\\\\\\\\\\"typeProperty\\\\\\\\\\\\\\\": 3}, {\\\\\\\\\\\\\\\"column\\\\\\\\\\\\\\\": {\\\\\\\\\\\\\\\"type\\\\\\\\\\\\\\\": 2, \\\\\\\\\\\\\\\"details\\\\\\\\\\\\\\\": {\\\\\\\\\\\\\\\"selectedColumn\\\\\\\\\\\\\\\": \\\\\\\\\\\\\\\"serum_creatinine\\\\\\\\\\\\\\\"}}, \\\\\\\\\\\\\\\"typeProperty\\\\\\\\\\\\\\\": 3}, {\\\\\\\\\\\\\\\"column\\\\\\\\\\\\\\\": {\\\\\\\\\\\\\\\"type\\\\\\\\\\\\\\\": 2, \\\\\\\\\\\\\\\"details\\\\\\\\\\\\\\\": {\\\\\\\\\\\\\\\"selectedColumn\\\\\\\\\\\\\\\": \\\\\\\\\\\\\\\"serum_sodium\\\\\\\\\\\\\\\"}}, \\\\\\\\\\\\\\\"typeProperty\\\\\\\\\\\\\\\": 2}, {\\\\\\\\\\\\\\\"column\\\\\\\\\\\\\\\": {\\\\\\\\\\\\\\\"type\\\\\\\\\\\\\\\": 2, \\\\\\\\\\\\\\\"details\\\\\\\\\\\\\\\": {\\\\\\\\\\\\\\\"selectedColumn\\\\\\\\\\\\\\\": \\\\\\\\\\\\\\\"sex\\\\\\\\\\\\\\\"}}, \\\\\\\\\\\\\\\"typeProperty\\\\\\\\\\\\\\\": 2}, {\\\\\\\\\\\\\\\"column\\\\\\\\\\\\\\\": {\\\\\\\\\\\\\\\"type\\\\\\\\\\\\\\\": 2, \\\\\\\\\\\\\\\"details\\\\\\\\\\\\\\\": {\\\\\\\\\\\\\\\"selectedColumn\\\\\\\\\\\\\\\": \\\\\\\\\\\\\\\"smoking\\\\\\\\\\\\\\\"}}, \\\\\\\\\\\\\\\"typeProperty\\\\\\\\\\\\\\\": 2}, {\\\\\\\\\\\\\\\"column\\\\\\\\\\\\\\\": {\\\\\\\\\\\\\\\"type\\\\\\\\\\\\\\\": 2, \\\\\\\\\\\\\\\"details\\\\\\\\\\\\\\\": {\\\\\\\\\\\\\\\"selectedColumn\\\\\\\\\\\\\\\": \\\\\\\\\\\\\\\"time\\\\\\\\\\\\\\\"}}, \\\\\\\\\\\\\\\"typeProperty\\\\\\\\\\\\\\\": 2}, {\\\\\\\\\\\\\\\"column\\\\\\\\\\\\\\\": {\\\\\\\\\\\\\\\"type\\\\\\\\\\\\\\\": 2, \\\\\\\\\\\\\\\"details\\\\\\\\\\\\\\\": {\\\\\\\\\\\\\\\"selectedColumn\\\\\\\\\\\\\\\": \\\\\\\\\\\\\\\"DEATH_EVENT\\\\\\\\\\\\\\\"}}, \\\\\\\\\\\\\\\"typeProperty\\\\\\\\\\\\\\\": 2}]}, \\\\\\\\\\\\\\\"localData\\\\\\\\\\\\\\\": {}, \\\\\\\\\\\\\\\"isEnabled\\\\\\\\\\\\\\\": true, \\\\\\\\\\\\\\\"name\\\\\\\\\\\\\\\": null, \\\\\\\\\\\\\\\"annotation\\\\\\\\\\\\\\\": null}], \\\\\\\\\\\\\\\"inspectors\\\\\\\\\\\\\\\": [], \\\\\\\\\\\\\\\"meta\\\\\\\\\\\\\\\": {\\\\\\\\\\\\\\\"savedDatasetId\\\\\\\\\\\\\\\": \\\\\\\\\\\\\\\"a82fab68-f1d2-4f33-8a03-d242fd2755a1\\\\\\\\\\\\\\\", \\\\\\\\\\\\\\\"datasetType\\\\\\\\\\\\\\\": \\\\\\\\\\\\\\\"tabular\\\\\\\\\\\\\\\", \\\\\\\\\\\\\\\"subscriptionId\\\\\\\\\\\\\\\": \\\\\\\\\\\\\\\"3929502f-a035-4029-a2f5-865565e57a0a\\\\\\\\\\\\\\\", \\\\\\\\\\\\\\\"workspaceId\\\\\\\\\\\\\\\": \\\\\\\\\\\\\\\"22ff2c10-9a79-4fcd-85db-cbf856735420\\\\\\\\\\\\\\\", \\\\\\\\\\\\\\\"workspaceLocation\\\\\\\\\\\\\\\": \\\\\\\\\\\\\\\"southcentralus\\\\\\\\\\\\\\\"}}\\\\\\\", \\\\\\\"activities\\\\\\\": 0}\", \"EnableSubsampling\": null, \"runTemplate\": \"AutoML\", \"azureml.runsource\": \"automl\", \"display_task_type\": \"classification\", \"dependencies_versions\": \"{\\\"azureml-widgets\\\": \\\"1.19.0\\\", \\\"azureml-train\\\": \\\"1.19.0\\\", \\\"azureml-train-restclients-hyperdrive\\\": \\\"1.19.0\\\", \\\"azureml-train-core\\\": \\\"1.19.0\\\", \\\"azureml-train-automl\\\": \\\"1.19.0\\\", \\\"azureml-train-automl-runtime\\\": \\\"1.19.0\\\", \\\"azureml-train-automl-client\\\": \\\"1.19.0\\\", \\\"azureml-tensorboard\\\": \\\"1.19.0\\\", \\\"azureml-telemetry\\\": \\\"1.19.0\\\", \\\"azureml-sdk\\\": \\\"1.19.0\\\", \\\"azureml-samples\\\": \\\"0+unknown\\\", \\\"azureml-pipeline\\\": \\\"1.19.0\\\", \\\"azureml-pipeline-steps\\\": \\\"1.19.0\\\", \\\"azureml-pipeline-core\\\": \\\"1.19.0\\\", \\\"azureml-opendatasets\\\": \\\"1.19.0\\\", \\\"azureml-model-management-sdk\\\": \\\"1.0.1b6.post1\\\", \\\"azureml-mlflow\\\": \\\"1.19.0\\\", \\\"azureml-interpret\\\": \\\"1.19.0\\\", \\\"azureml-explain-model\\\": \\\"1.19.0\\\", \\\"azureml-defaults\\\": \\\"1.19.0\\\", \\\"azureml-dataset-runtime\\\": \\\"1.19.0\\\", \\\"azureml-dataprep\\\": \\\"2.6.1\\\", \\\"azureml-dataprep-rslex\\\": \\\"1.4.0\\\", \\\"azureml-dataprep-native\\\": \\\"26.0.0\\\", \\\"azureml-datadrift\\\": \\\"1.19.0\\\", \\\"azureml-core\\\": \\\"1.19.0\\\", \\\"azureml-contrib-services\\\": \\\"1.19.0\\\", \\\"azureml-contrib-server\\\": \\\"1.19.0\\\", \\\"azureml-contrib-reinforcementlearning\\\": \\\"1.19.0\\\", \\\"azureml-contrib-pipeline-steps\\\": \\\"1.19.0\\\", \\\"azureml-contrib-notebook\\\": \\\"1.19.0\\\", \\\"azureml-contrib-interpret\\\": \\\"1.19.0\\\", \\\"azureml-contrib-gbdt\\\": \\\"1.19.0\\\", \\\"azureml-contrib-fairness\\\": \\\"1.19.0\\\", \\\"azureml-contrib-dataset\\\": \\\"1.19.0\\\", \\\"azureml-cli-common\\\": \\\"1.19.0\\\", \\\"azureml-automl-runtime\\\": \\\"1.19.0\\\", \\\"azureml-automl-core\\\": \\\"1.19.0\\\", \\\"azureml-accel-models\\\": \\\"1.19.0\\\"}\", \"_aml_system_scenario_identification\": \"Remote.Parent\", \"ClientType\": \"SDK\", \"environment_cpu_name\": \"AzureML-AutoML\", \"environment_cpu_version\": \"48\", \"environment_gpu_name\": \"AzureML-AutoML-GPU\", \"environment_gpu_version\": \"36\", \"root_attribution\": \"automl\", \"attribution\": \"AutoML\", \"Orchestrator\": \"AutoML\", \"CancelUri\": \"https://southcentralus.experiments.azureml.net/jasmine/v1.0/subscriptions/3929502f-a035-4029-a2f5-865565e57a0a/resourceGroups/aml-quickstarts-130193/providers/Microsoft.MachineLearningServices/workspaces/quick-starts-ws-130193/experimentids/43cd08a9-5ec6-4fff-ad7f-c85d6b6ac4c4/cancel/AutoML_0f3c2865-a426-4af8-9657-8b3d54d6aa46\", \"ClientSdkVersion\": \"1.18.0.post1\", \"snapshotId\": \"00000000-0000-0000-0000-000000000000\", \"SetupRunId\": \"AutoML_0f3c2865-a426-4af8-9657-8b3d54d6aa46_setup\", \"SetupRunContainerId\": \"dcid.AutoML_0f3c2865-a426-4af8-9657-8b3d54d6aa46_setup\", \"FeaturizationRunJsonPath\": \"featurizer_container.json\", \"FeaturizationRunId\": \"AutoML_0f3c2865-a426-4af8-9657-8b3d54d6aa46_featurize\", \"ProblemInfoJsonString\": \"{\\\"dataset_num_categorical\\\": 0, \\\"is_sparse\\\": false, \\\"subsampling\\\": false, \\\"dataset_classes\\\": 2, \\\"dataset_features\\\": 12, \\\"dataset_samples\\\": 299, \\\"single_frequency_class_detected\\\": false}\", \"ModelExplainRunId\": \"AutoML_0f3c2865-a426-4af8-9657-8b3d54d6aa46_ModelExplain\"}, \"tags\": {\"model_explain_run\": \"best_run\", \"_aml_system_azureml.automlComponent\": \"AutoML\", \"pipeline_id\": \"\", \"score\": \"\", \"predicted_cost\": \"\", \"fit_time\": \"\", \"training_percent\": \"\", \"iteration\": \"\", \"run_preprocessor\": \"\", \"run_algorithm\": \"\", \"dynamic_whitelisting_iterations\": \"<24>;<30>;<35>;<39>;<45>;<50>;<55>;<60>;\", \"automl_best_child_run_id\": \"AutoML_0f3c2865-a426-4af8-9657-8b3d54d6aa46_65\", \"model_explain_best_run_child_id\": \"AutoML_0f3c2865-a426-4af8-9657-8b3d54d6aa46_65\"}, \"end_time_utc\": \"2020-12-12T09:42:48.279492Z\", \"status\": \"Completed\", \"log_files\": {}, \"log_groups\": [], \"run_duration\": \"0:28:55\"}, \"child_runs\": [{\"run_id\": \"AutoML_0f3c2865-a426-4af8-9657-8b3d54d6aa46_0\", \"run_number\": 5, \"metric\": null, \"status\": \"Completed\", \"run_type\": \"azureml.scriptrun\", \"training_percent\": \"100\", \"start_time\": \"2020-12-12T09:19:29.11492Z\", \"end_time\": \"2020-12-12T09:20:33.132768Z\", \"created_time\": \"2020-12-12T09:19:15.428198Z\", \"created_time_dt\": \"2020-12-12T09:19:15.428198Z\", \"duration\": \"0:01:17\", \"iteration\": \"0\", \"goal\": \"AUC_weighted_max\", \"run_name\": \"MaxAbsScaler, LightGBM\", \"run_properties\": \"copy=True\", \"primary_metric\": 0.88218288, \"best_metric\": 0.88218288}, {\"run_id\": \"AutoML_0f3c2865-a426-4af8-9657-8b3d54d6aa46_3\", \"run_number\": 6, \"metric\": null, \"status\": \"Completed\", \"run_type\": \"azureml.scriptrun\", \"training_percent\": \"100\", \"start_time\": \"2020-12-12T09:19:30.168797Z\", \"end_time\": \"2020-12-12T09:20:34.559417Z\", \"created_time\": \"2020-12-12T09:19:15.580832Z\", \"created_time_dt\": \"2020-12-12T09:19:15.580832Z\", \"duration\": \"0:01:18\", \"iteration\": \"3\", \"goal\": \"AUC_weighted_max\", \"run_name\": \"RobustScaler, ExtremeRandomTrees\", \"run_properties\": \"copy=True, quantile_range=[10, 90], with_centering=False,\\n             with_scaling=False\", \"primary_metric\": 0.86626758, \"best_metric\": 0.89022913}, {\"run_id\": \"AutoML_0f3c2865-a426-4af8-9657-8b3d54d6aa46_2\", \"run_number\": 7, \"metric\": null, \"status\": \"Completed\", \"run_type\": \"azureml.scriptrun\", \"training_percent\": \"100\", \"start_time\": \"2020-12-12T09:19:27.966897Z\", \"end_time\": \"2020-12-12T09:20:25.358037Z\", \"created_time\": \"2020-12-12T09:19:15.67029Z\", \"created_time_dt\": \"2020-12-12T09:19:15.67029Z\", \"duration\": \"0:01:09\", \"iteration\": \"2\", \"goal\": \"AUC_weighted_max\", \"run_name\": \"MinMaxScaler, RandomForest\", \"run_properties\": \"copy=True, feature_range=(0, 1\", \"primary_metric\": 0.89022913, \"best_metric\": 0.89022913}, {\"run_id\": \"AutoML_0f3c2865-a426-4af8-9657-8b3d54d6aa46_4\", \"run_number\": 8, \"metric\": null, \"status\": \"Completed\", \"run_type\": \"azureml.scriptrun\", \"training_percent\": \"100\", \"start_time\": \"2020-12-12T09:19:30.204632Z\", \"end_time\": \"2020-12-12T09:20:31.47833Z\", \"created_time\": \"2020-12-12T09:19:15.705327Z\", \"created_time_dt\": \"2020-12-12T09:19:15.705327Z\", \"duration\": \"0:01:15\", \"iteration\": \"4\", \"goal\": \"AUC_weighted_max\", \"run_name\": \"MinMaxScaler, RandomForest\", \"run_properties\": \"copy=True, feature_range=(0, 1\", \"primary_metric\": 0.89552296, \"best_metric\": 0.89552296}, {\"run_id\": \"AutoML_0f3c2865-a426-4af8-9657-8b3d54d6aa46_1\", \"run_number\": 9, \"metric\": null, \"status\": \"Completed\", \"run_type\": \"azureml.scriptrun\", \"training_percent\": \"100\", \"start_time\": \"2020-12-12T09:19:30.388058Z\", \"end_time\": \"2020-12-12T09:20:31.86582Z\", \"created_time\": \"2020-12-12T09:19:15.738257Z\", \"created_time_dt\": \"2020-12-12T09:19:15.738257Z\", \"duration\": \"0:01:16\", \"iteration\": \"1\", \"goal\": \"AUC_weighted_max\", \"run_name\": \"MaxAbsScaler, XGBoostClassifier\", \"run_properties\": \"copy=True\", \"primary_metric\": 0.87172218, \"best_metric\": 0.88218288}, {\"run_id\": \"AutoML_0f3c2865-a426-4af8-9657-8b3d54d6aa46_5\", \"run_number\": 10, \"metric\": null, \"status\": \"Completed\", \"run_type\": \"azureml.scriptrun\", \"training_percent\": \"100\", \"start_time\": \"2020-12-12T09:20:48.953637Z\", \"end_time\": \"2020-12-12T09:21:48.769763Z\", \"created_time\": \"2020-12-12T09:20:30.053257Z\", \"created_time_dt\": \"2020-12-12T09:20:30.053257Z\", \"duration\": \"0:01:18\", \"iteration\": \"5\", \"goal\": \"AUC_weighted_max\", \"run_name\": \"MinMaxScaler, RandomForest\", \"run_properties\": \"copy=True, feature_range=(0, 1\", \"primary_metric\": 0.89022912, \"best_metric\": 0.89552296}, {\"run_id\": \"AutoML_0f3c2865-a426-4af8-9657-8b3d54d6aa46_6\", \"run_number\": 11, \"metric\": null, \"status\": \"Completed\", \"run_type\": \"azureml.scriptrun\", \"training_percent\": \"100\", \"start_time\": \"2020-12-12T09:20:50.003877Z\", \"end_time\": \"2020-12-12T09:21:54.356213Z\", \"created_time\": \"2020-12-12T09:20:37.208877Z\", \"created_time_dt\": \"2020-12-12T09:20:37.208877Z\", \"duration\": \"0:01:17\", \"iteration\": \"6\", \"goal\": \"AUC_weighted_max\", \"run_name\": \"StandardScalerWrapper, RandomForest\", \"run_properties\": \"<azureml.automl.runtime.shared.model_wrappers.StandardScalerWrapper object at 0x7f374c079e48\", \"primary_metric\": 0.87943317, \"best_metric\": 0.89552296}, {\"run_id\": \"AutoML_0f3c2865-a426-4af8-9657-8b3d54d6aa46_8\", \"run_number\": 12, \"metric\": null, \"status\": \"Completed\", \"run_type\": \"azureml.scriptrun\", \"training_percent\": \"100\", \"start_time\": \"2020-12-12T09:20:50.360136Z\", \"end_time\": \"2020-12-12T09:22:59.515909Z\", \"created_time\": \"2020-12-12T09:20:37.325331Z\", \"created_time_dt\": \"2020-12-12T09:20:37.325331Z\", \"duration\": \"0:02:22\", \"iteration\": \"8\", \"goal\": \"AUC_weighted_max\", \"run_name\": \"MinMaxScaler, ExtremeRandomTrees\", \"run_properties\": \"copy=True, feature_range=(0, 1\", \"primary_metric\": 0.85249018, \"best_metric\": 0.89552296}, {\"run_id\": \"AutoML_0f3c2865-a426-4af8-9657-8b3d54d6aa46_7\", \"run_number\": 13, \"metric\": null, \"status\": \"Completed\", \"run_type\": \"azureml.scriptrun\", \"training_percent\": \"100\", \"start_time\": \"2020-12-12T09:20:48.216419Z\", \"end_time\": \"2020-12-12T09:22:41.429609Z\", \"created_time\": \"2020-12-12T09:20:37.380339Z\", \"created_time_dt\": \"2020-12-12T09:20:37.380339Z\", \"duration\": \"0:02:04\", \"iteration\": \"7\", \"goal\": \"AUC_weighted_max\", \"run_name\": \"MinMaxScaler, ExtremeRandomTrees\", \"run_properties\": \"copy=True, feature_range=(0, 1\", \"primary_metric\": 0.88846478, \"best_metric\": 0.89552296}, {\"run_id\": \"AutoML_0f3c2865-a426-4af8-9657-8b3d54d6aa46_9\", \"run_number\": 14, \"metric\": null, \"status\": \"Completed\", \"run_type\": \"azureml.scriptrun\", \"training_percent\": \"100\", \"start_time\": \"2020-12-12T09:20:59.155737Z\", \"end_time\": \"2020-12-12T09:21:54.443965Z\", \"created_time\": \"2020-12-12T09:20:44.307956Z\", \"created_time_dt\": \"2020-12-12T09:20:44.307956Z\", \"duration\": \"0:01:10\", \"iteration\": \"9\", \"goal\": \"AUC_weighted_max\", \"run_name\": \"SparseNormalizer, KNN\", \"run_properties\": \"<azureml.automl.runtime.shared.model_wrappers.SparseNormalizer object at 0x7f8fd1bea198\", \"primary_metric\": 0.72069191, \"best_metric\": 0.89552296}, {\"run_id\": \"AutoML_0f3c2865-a426-4af8-9657-8b3d54d6aa46_10\", \"run_number\": 15, \"metric\": null, \"status\": \"Completed\", \"run_type\": \"azureml.scriptrun\", \"training_percent\": \"100\", \"start_time\": \"2020-12-12T09:22:08.336891Z\", \"end_time\": \"2020-12-12T09:23:08.360399Z\", \"created_time\": \"2020-12-12T09:21:53.400241Z\", \"created_time_dt\": \"2020-12-12T09:21:53.400241Z\", \"duration\": \"0:01:14\", \"iteration\": \"10\", \"goal\": \"AUC_weighted_max\", \"run_name\": \"MinMaxScaler, ExtremeRandomTrees\", \"run_properties\": \"copy=True, feature_range=(0, 1\", \"primary_metric\": 0.87372414, \"best_metric\": 0.89552296}, {\"run_id\": \"AutoML_0f3c2865-a426-4af8-9657-8b3d54d6aa46_11\", \"run_number\": 16, \"metric\": null, \"status\": \"Completed\", \"run_type\": \"azureml.scriptrun\", \"training_percent\": \"100\", \"start_time\": \"2020-12-12T09:22:15.079872Z\", \"end_time\": \"2020-12-12T09:23:16.016952Z\", \"created_time\": \"2020-12-12T09:22:00.727262Z\", \"created_time_dt\": \"2020-12-12T09:22:00.727262Z\", \"duration\": \"0:01:15\", \"iteration\": \"11\", \"goal\": \"AUC_weighted_max\", \"run_name\": \"RobustScaler, ExtremeRandomTrees\", \"run_properties\": \"copy=True, quantile_range=[10, 90], with_centering=True,\\n             with_scaling=False\", \"primary_metric\": 0.87397894, \"best_metric\": 0.89552296}, {\"run_id\": \"AutoML_0f3c2865-a426-4af8-9657-8b3d54d6aa46_12\", \"run_number\": 17, \"metric\": null, \"status\": \"Completed\", \"run_type\": \"azureml.scriptrun\", \"training_percent\": \"100\", \"start_time\": \"2020-12-12T09:22:12.18403Z\", \"end_time\": \"2020-12-12T09:23:08.671145Z\", \"created_time\": \"2020-12-12T09:22:00.970517Z\", \"created_time_dt\": \"2020-12-12T09:22:00.970517Z\", \"duration\": \"0:01:07\", \"iteration\": \"12\", \"goal\": \"AUC_weighted_max\", \"run_name\": \"StandardScalerWrapper, RandomForest\", \"run_properties\": \"<azureml.automl.runtime.shared.model_wrappers.StandardScalerWrapper object at 0x7f2be831e0f0\", \"primary_metric\": 0.88873512, \"best_metric\": 0.89552296}, {\"run_id\": \"AutoML_0f3c2865-a426-4af8-9657-8b3d54d6aa46_13\", \"run_number\": 18, \"metric\": null, \"status\": \"Completed\", \"run_type\": \"azureml.scriptrun\", \"training_percent\": \"100\", \"start_time\": \"2020-12-12T09:23:01.007042Z\", \"end_time\": \"2020-12-12T09:24:13.948561Z\", \"created_time\": \"2020-12-12T09:22:46.172923Z\", \"created_time_dt\": \"2020-12-12T09:22:46.172923Z\", \"duration\": \"0:01:27\", \"iteration\": \"13\", \"goal\": \"AUC_weighted_max\", \"run_name\": \"StandardScalerWrapper, SGD\", \"run_properties\": \"<azureml.automl.runtime.shared.model_wrappers.StandardScalerWrapper object at 0x7fe1404dd320\", \"primary_metric\": 0.85569975, \"best_metric\": 0.89552296}, {\"run_id\": \"AutoML_0f3c2865-a426-4af8-9657-8b3d54d6aa46_14\", \"run_number\": 19, \"metric\": null, \"status\": \"Completed\", \"run_type\": \"azureml.scriptrun\", \"training_percent\": \"100\", \"start_time\": \"2020-12-12T09:23:18.737644Z\", \"end_time\": \"2020-12-12T09:24:23.76904Z\", \"created_time\": \"2020-12-12T09:23:04.928637Z\", \"created_time_dt\": \"2020-12-12T09:23:04.928637Z\", \"duration\": \"0:01:18\", \"iteration\": \"14\", \"goal\": \"AUC_weighted_max\", \"run_name\": \"RobustScaler, RandomForest\", \"run_properties\": \"copy=True, quantile_range=[10, 90], with_centering=True,\\n             with_scaling=False\", \"primary_metric\": 0.874554, \"best_metric\": 0.89552296}, {\"run_id\": \"AutoML_0f3c2865-a426-4af8-9657-8b3d54d6aa46_16\", \"run_number\": 20, \"metric\": null, \"status\": \"Completed\", \"run_type\": \"azureml.scriptrun\", \"training_percent\": \"100\", \"start_time\": \"2020-12-12T09:23:25.638446Z\", \"end_time\": \"2020-12-12T09:24:28.689093Z\", \"created_time\": \"2020-12-12T09:23:13.304882Z\", \"created_time_dt\": \"2020-12-12T09:23:13.304882Z\", \"duration\": \"0:01:15\", \"iteration\": \"16\", \"goal\": \"AUC_weighted_max\", \"run_name\": \"MinMaxScaler, RandomForest\", \"run_properties\": \"copy=True, feature_range=(0, 1\", \"primary_metric\": 0.88480611, \"best_metric\": 0.89552296}, {\"run_id\": \"AutoML_0f3c2865-a426-4af8-9657-8b3d54d6aa46_15\", \"run_number\": 21, \"metric\": null, \"status\": \"Completed\", \"run_type\": \"azureml.scriptrun\", \"training_percent\": \"100\", \"start_time\": \"2020-12-12T09:23:25.137264Z\", \"end_time\": \"2020-12-12T09:24:24.959024Z\", \"created_time\": \"2020-12-12T09:23:13.527295Z\", \"created_time_dt\": \"2020-12-12T09:23:13.527295Z\", \"duration\": \"0:01:11\", \"iteration\": \"15\", \"goal\": \"AUC_weighted_max\", \"run_name\": \"StandardScalerWrapper, KNN\", \"run_properties\": \"<azureml.automl.runtime.shared.model_wrappers.StandardScalerWrapper object at 0x7fa6028e6c50\", \"primary_metric\": 0.56820407, \"best_metric\": 0.89552296}, {\"run_id\": \"AutoML_0f3c2865-a426-4af8-9657-8b3d54d6aa46_17\", \"run_number\": 22, \"metric\": null, \"status\": \"Completed\", \"run_type\": \"azureml.scriptrun\", \"training_percent\": \"100\", \"start_time\": \"2020-12-12T09:23:33.943821Z\", \"end_time\": \"2020-12-12T09:25:07.090825Z\", \"created_time\": \"2020-12-12T09:23:21.60352Z\", \"created_time_dt\": \"2020-12-12T09:23:21.60352Z\", \"duration\": \"0:01:45\", \"iteration\": \"17\", \"goal\": \"AUC_weighted_max\", \"run_name\": \"MinMaxScaler, ExtremeRandomTrees\", \"run_properties\": \"copy=True, feature_range=(0, 1\", \"primary_metric\": 0.80580532, \"best_metric\": 0.89552296}, {\"run_id\": \"AutoML_0f3c2865-a426-4af8-9657-8b3d54d6aa46_18\", \"run_number\": 23, \"metric\": null, \"status\": \"Completed\", \"run_type\": \"azureml.scriptrun\", \"training_percent\": \"100\", \"start_time\": \"2020-12-12T09:24:37.562132Z\", \"end_time\": \"2020-12-12T09:25:43.100458Z\", \"created_time\": \"2020-12-12T09:24:19.217368Z\", \"created_time_dt\": \"2020-12-12T09:24:19.217368Z\", \"duration\": \"0:01:23\", \"iteration\": \"18\", \"goal\": \"AUC_weighted_max\", \"run_name\": \"MaxAbsScaler, RandomForest\", \"run_properties\": \"copy=True\", \"primary_metric\": 0.87957389, \"best_metric\": 0.89552296}, {\"run_id\": \"AutoML_0f3c2865-a426-4af8-9657-8b3d54d6aa46_19\", \"run_number\": 24, \"metric\": null, \"status\": \"Completed\", \"run_type\": \"azureml.scriptrun\", \"training_percent\": \"100\", \"start_time\": \"2020-12-12T09:24:51.051586Z\", \"end_time\": \"2020-12-12T09:26:32.506148Z\", \"created_time\": \"2020-12-12T09:24:28.401195Z\", \"created_time_dt\": \"2020-12-12T09:24:28.401195Z\", \"duration\": \"0:02:04\", \"iteration\": \"19\", \"goal\": \"AUC_weighted_max\", \"run_name\": \"StandardScalerWrapper, XGBoostClassifier\", \"run_properties\": \"<azureml.automl.runtime.shared.model_wrappers.StandardScalerWrapper object at 0x7f0dc4071eb8\", \"primary_metric\": 0.89103731, \"best_metric\": 0.89552296}, {\"run_id\": \"AutoML_0f3c2865-a426-4af8-9657-8b3d54d6aa46_21\", \"run_number\": 25, \"metric\": null, \"status\": \"Completed\", \"run_type\": \"azureml.scriptrun\", \"training_percent\": \"100\", \"start_time\": \"2020-12-12T09:24:59.204132Z\", \"end_time\": \"2020-12-12T09:26:31.139951Z\", \"created_time\": \"2020-12-12T09:24:45.020926Z\", \"created_time_dt\": \"2020-12-12T09:24:45.020926Z\", \"duration\": \"0:01:46\", \"iteration\": \"21\", \"goal\": \"AUC_weighted_max\", \"run_name\": \"MaxAbsScaler, ExtremeRandomTrees\", \"run_properties\": \"copy=True\", \"primary_metric\": 0.86131884, \"best_metric\": 0.89552296}, {\"run_id\": \"AutoML_0f3c2865-a426-4af8-9657-8b3d54d6aa46_20\", \"run_number\": 26, \"metric\": null, \"status\": \"Completed\", \"run_type\": \"azureml.scriptrun\", \"training_percent\": \"100\", \"start_time\": \"2020-12-12T09:24:57.993113Z\", \"end_time\": \"2020-12-12T09:26:48.164103Z\", \"created_time\": \"2020-12-12T09:24:45.081183Z\", \"created_time_dt\": \"2020-12-12T09:24:45.081183Z\", \"duration\": \"0:02:03\", \"iteration\": \"20\", \"goal\": \"AUC_weighted_max\", \"run_name\": \"MaxAbsScaler, RandomForest\", \"run_properties\": \"copy=True\", \"primary_metric\": 0.88045311, \"best_metric\": 0.89552296}, {\"run_id\": \"AutoML_0f3c2865-a426-4af8-9657-8b3d54d6aa46_22\", \"run_number\": 27, \"metric\": null, \"status\": \"Completed\", \"run_type\": \"azureml.scriptrun\", \"training_percent\": \"100\", \"start_time\": \"2020-12-12T09:25:24.535402Z\", \"end_time\": \"2020-12-12T09:26:53.098919Z\", \"created_time\": \"2020-12-12T09:25:12.22868Z\", \"created_time_dt\": \"2020-12-12T09:25:12.22868Z\", \"duration\": \"0:01:40\", \"iteration\": \"22\", \"goal\": \"AUC_weighted_max\", \"run_name\": \"MaxAbsScaler, ExtremeRandomTrees\", \"run_properties\": \"copy=True\", \"primary_metric\": 0.86821068, \"best_metric\": 0.89552296}, {\"run_id\": \"AutoML_0f3c2865-a426-4af8-9657-8b3d54d6aa46_23\", \"run_number\": 28, \"metric\": null, \"status\": \"Completed\", \"run_type\": \"azureml.scriptrun\", \"training_percent\": \"100\", \"start_time\": \"2020-12-12T09:26:01.89796Z\", \"end_time\": \"2020-12-12T09:27:15.914704Z\", \"created_time\": \"2020-12-12T09:25:47.609595Z\", \"created_time_dt\": \"2020-12-12T09:25:47.609595Z\", \"duration\": \"0:01:28\", \"iteration\": \"23\", \"goal\": \"AUC_weighted_max\", \"run_name\": \"MinMaxScaler, RandomForest\", \"run_properties\": \"copy=True, feature_range=(0, 1\", \"primary_metric\": 0.89739416, \"best_metric\": 0.89739416}, {\"run_id\": \"AutoML_0f3c2865-a426-4af8-9657-8b3d54d6aa46_25\", \"run_number\": 29, \"metric\": null, \"status\": \"Completed\", \"run_type\": \"azureml.scriptrun\", \"training_percent\": \"100\", \"start_time\": \"2020-12-12T09:26:50.834229Z\", \"end_time\": \"2020-12-12T09:28:16.142105Z\", \"created_time\": \"2020-12-12T09:26:38.553224Z\", \"created_time_dt\": \"2020-12-12T09:26:38.553224Z\", \"duration\": \"0:01:37\", \"iteration\": \"25\", \"goal\": \"AUC_weighted_max\", \"run_name\": \"MinMaxScaler, ExtremeRandomTrees\", \"run_properties\": \"copy=True, feature_range=(0, 1\", \"primary_metric\": 0.89963592, \"best_metric\": 0.89963592}, {\"run_id\": \"AutoML_0f3c2865-a426-4af8-9657-8b3d54d6aa46_24\", \"run_number\": 30, \"metric\": null, \"status\": \"Completed\", \"run_type\": \"azureml.scriptrun\", \"training_percent\": \"100\", \"start_time\": \"2020-12-12T09:26:51.307106Z\", \"end_time\": \"2020-12-12T09:28:18.894083Z\", \"created_time\": \"2020-12-12T09:26:38.638487Z\", \"created_time_dt\": \"2020-12-12T09:26:38.638487Z\", \"duration\": \"0:01:40\", \"iteration\": \"24\", \"goal\": \"AUC_weighted_max\", \"run_name\": \"MinMaxScaler, RandomForest\", \"run_properties\": \"copy=True, feature_range=(0, 1\", \"primary_metric\": 0.89103596, \"best_metric\": 0.89739416}, {\"run_id\": \"AutoML_0f3c2865-a426-4af8-9657-8b3d54d6aa46_26\", \"run_number\": 31, \"metric\": null, \"status\": \"Completed\", \"run_type\": \"azureml.scriptrun\", \"training_percent\": \"100\", \"start_time\": \"2020-12-12T09:27:04.713435Z\", \"end_time\": \"2020-12-12T09:28:13.825932Z\", \"created_time\": \"2020-12-12T09:26:51.585769Z\", \"created_time_dt\": \"2020-12-12T09:26:51.585769Z\", \"duration\": \"0:01:22\", \"iteration\": \"26\", \"goal\": \"AUC_weighted_max\", \"run_name\": \"MaxAbsScaler, ExtremeRandomTrees\", \"run_properties\": \"copy=True\", \"primary_metric\": 0.88884772, \"best_metric\": 0.89963592}, {\"run_id\": \"AutoML_0f3c2865-a426-4af8-9657-8b3d54d6aa46_27\", \"run_number\": 32, \"metric\": null, \"status\": \"Completed\", \"run_type\": \"azureml.scriptrun\", \"training_percent\": \"100\", \"start_time\": \"2020-12-12T09:27:12.151986Z\", \"end_time\": \"2020-12-12T09:28:20.822064Z\", \"created_time\": \"2020-12-12T09:26:59.081071Z\", \"created_time_dt\": \"2020-12-12T09:26:59.081071Z\", \"duration\": \"0:01:21\", \"iteration\": \"27\", \"goal\": \"AUC_weighted_max\", \"run_name\": \"StandardScalerWrapper, XGBoostClassifier\", \"run_properties\": \"<azureml.automl.runtime.shared.model_wrappers.StandardScalerWrapper object at 0x7ff5d8e9d898\", \"primary_metric\": 0.88639336, \"best_metric\": 0.89963592}, {\"run_id\": \"AutoML_0f3c2865-a426-4af8-9657-8b3d54d6aa46_28\", \"run_number\": 33, \"metric\": null, \"status\": \"Completed\", \"run_type\": \"azureml.scriptrun\", \"training_percent\": \"100\", \"start_time\": \"2020-12-12T09:27:32.708574Z\", \"end_time\": \"2020-12-12T09:28:39.918996Z\", \"created_time\": \"2020-12-12T09:27:19.5551Z\", \"created_time_dt\": \"2020-12-12T09:27:19.5551Z\", \"duration\": \"0:01:20\", \"iteration\": \"28\", \"goal\": \"AUC_weighted_max\", \"run_name\": \"MaxAbsScaler, RandomForest\", \"run_properties\": \"copy=True\", \"primary_metric\": 0.88200836, \"best_metric\": 0.89963592}, {\"run_id\": \"AutoML_0f3c2865-a426-4af8-9657-8b3d54d6aa46_29\", \"run_number\": 34, \"metric\": null, \"status\": \"Completed\", \"run_type\": \"azureml.scriptrun\", \"training_percent\": \"100\", \"start_time\": \"2020-12-12T09:28:31.899977Z\", \"end_time\": \"2020-12-12T09:30:02.436642Z\", \"created_time\": \"2020-12-12T09:28:17.54099Z\", \"created_time_dt\": \"2020-12-12T09:28:17.54099Z\", \"duration\": \"0:01:44\", \"iteration\": \"29\", \"goal\": \"AUC_weighted_max\", \"run_name\": \"RobustScaler, LightGBM\", \"run_properties\": \"copy=True, quantile_range=[10, 90], with_centering=True,\\n             with_scaling=True\", \"primary_metric\": 0.87906031, \"best_metric\": 0.89963592}, {\"run_id\": \"AutoML_0f3c2865-a426-4af8-9657-8b3d54d6aa46_32\", \"run_number\": 35, \"metric\": null, \"status\": \"Completed\", \"run_type\": \"azureml.scriptrun\", \"training_percent\": \"100\", \"start_time\": \"2020-12-12T09:28:40.346261Z\", \"end_time\": \"2020-12-12T09:30:00.479596Z\", \"created_time\": \"2020-12-12T09:28:25.726429Z\", \"created_time_dt\": \"2020-12-12T09:28:25.726429Z\", \"duration\": \"0:01:34\", \"iteration\": \"32\", \"goal\": \"AUC_weighted_max\", \"run_name\": \"StandardScalerWrapper, XGBoostClassifier\", \"run_properties\": \"<azureml.automl.runtime.shared.model_wrappers.StandardScalerWrapper object at 0x7f62a4077828\", \"primary_metric\": 0.88795662, \"best_metric\": 0.89963592}, {\"run_id\": \"AutoML_0f3c2865-a426-4af8-9657-8b3d54d6aa46_31\", \"run_number\": 36, \"metric\": null, \"status\": \"Completed\", \"run_type\": \"azureml.scriptrun\", \"training_percent\": \"100\", \"start_time\": \"2020-12-12T09:28:37.243669Z\", \"end_time\": \"2020-12-12T09:30:00.225489Z\", \"created_time\": \"2020-12-12T09:28:25.748612Z\", \"created_time_dt\": \"2020-12-12T09:28:25.748612Z\", \"duration\": \"0:01:34\", \"iteration\": \"31\", \"goal\": \"AUC_weighted_max\", \"run_name\": \"StandardScalerWrapper, XGBoostClassifier\", \"run_properties\": \"<azureml.automl.runtime.shared.model_wrappers.StandardScalerWrapper object at 0x7f42b46eeb00\", \"primary_metric\": 0.86660954, \"best_metric\": 0.89963592}, {\"run_id\": \"AutoML_0f3c2865-a426-4af8-9657-8b3d54d6aa46_30\", \"run_number\": 37, \"metric\": null, \"status\": \"Completed\", \"run_type\": \"azureml.scriptrun\", \"training_percent\": \"100\", \"start_time\": \"2020-12-12T09:28:38.682446Z\", \"end_time\": \"2020-12-12T09:29:56.833701Z\", \"created_time\": \"2020-12-12T09:28:25.825341Z\", \"created_time_dt\": \"2020-12-12T09:28:25.825341Z\", \"duration\": \"0:01:31\", \"iteration\": \"30\", \"goal\": \"AUC_weighted_max\", \"run_name\": \"PCA, ExtremeRandomTrees\", \"run_properties\": \"copy=True, iterated_power='auto', n_components=0.05947368421052632,\\n    random_state=None, svd_solver='auto', tol=0.0, whiten=True\", \"primary_metric\": 0.53108475, \"best_metric\": 0.89963592}, {\"run_id\": \"AutoML_0f3c2865-a426-4af8-9657-8b3d54d6aa46_33\", \"run_number\": 38, \"metric\": null, \"status\": \"Completed\", \"run_type\": \"azureml.scriptrun\", \"training_percent\": \"100\", \"start_time\": \"2020-12-12T09:29:20.868151Z\", \"end_time\": \"2020-12-12T09:30:28.870863Z\", \"created_time\": \"2020-12-12T09:28:43.28496Z\", \"created_time_dt\": \"2020-12-12T09:28:43.28496Z\", \"duration\": \"0:01:45\", \"iteration\": \"33\", \"goal\": \"AUC_weighted_max\", \"run_name\": \"RobustScaler, RandomForest\", \"run_properties\": \"copy=True, quantile_range=[25, 75], with_centering=True,\\n             with_scaling=False\", \"primary_metric\": 0.90121395, \"best_metric\": 0.90121395}, {\"run_id\": \"AutoML_0f3c2865-a426-4af8-9657-8b3d54d6aa46_34\", \"run_number\": 39, \"metric\": null, \"status\": \"Completed\", \"run_type\": \"azureml.scriptrun\", \"training_percent\": \"100\", \"start_time\": \"2020-12-12T09:30:13.88861Z\", \"end_time\": \"2020-12-12T09:31:33.420739Z\", \"created_time\": \"2020-12-12T09:30:00.166085Z\", \"created_time_dt\": \"2020-12-12T09:30:00.166085Z\", \"duration\": \"0:01:33\", \"iteration\": \"34\", \"goal\": \"AUC_weighted_max\", \"run_name\": \"StandardScalerWrapper, LightGBM\", \"run_properties\": \"<azureml.automl.runtime.shared.model_wrappers.StandardScalerWrapper object at 0x7f7129112a90\", \"primary_metric\": 0.89856982, \"best_metric\": 0.90121395}, {\"run_id\": \"AutoML_0f3c2865-a426-4af8-9657-8b3d54d6aa46_35\", \"run_number\": 40, \"metric\": null, \"status\": \"Completed\", \"run_type\": \"azureml.scriptrun\", \"training_percent\": \"100\", \"start_time\": \"2020-12-12T09:30:16.768305Z\", \"end_time\": \"2020-12-12T09:31:30.69901Z\", \"created_time\": \"2020-12-12T09:30:05.810522Z\", \"created_time_dt\": \"2020-12-12T09:30:05.810522Z\", \"duration\": \"0:01:24\", \"iteration\": \"35\", \"goal\": \"AUC_weighted_max\", \"run_name\": \"TruncatedSVDWrapper, ExtremeRandomTrees\", \"run_properties\": \"n_components=0.9005263157894737, random_state=None\", \"primary_metric\": 0.75079947, \"best_metric\": 0.90121395}, {\"run_id\": \"AutoML_0f3c2865-a426-4af8-9657-8b3d54d6aa46_37\", \"run_number\": 41, \"metric\": null, \"status\": \"Completed\", \"run_type\": \"azureml.scriptrun\", \"training_percent\": \"100\", \"start_time\": \"2020-12-12T09:30:19.265503Z\", \"end_time\": \"2020-12-12T09:31:30.434378Z\", \"created_time\": \"2020-12-12T09:30:05.930106Z\", \"created_time_dt\": \"2020-12-12T09:30:05.930106Z\", \"duration\": \"0:01:24\", \"iteration\": \"37\", \"goal\": \"AUC_weighted_max\", \"run_name\": \"RobustScaler, LightGBM\", \"run_properties\": \"copy=True, quantile_range=[25, 75], with_centering=False,\\n             with_scaling=True\", \"primary_metric\": 0.90584186, \"best_metric\": 0.90584186}, {\"run_id\": \"AutoML_0f3c2865-a426-4af8-9657-8b3d54d6aa46_36\", \"run_number\": 42, \"metric\": null, \"status\": \"Completed\", \"run_type\": \"azureml.scriptrun\", \"training_percent\": \"100\", \"start_time\": \"2020-12-12T09:30:19.356003Z\", \"end_time\": \"2020-12-12T09:31:34.997328Z\", \"created_time\": \"2020-12-12T09:30:05.968393Z\", \"created_time_dt\": \"2020-12-12T09:30:05.968393Z\", \"duration\": \"0:01:29\", \"iteration\": \"36\", \"goal\": \"AUC_weighted_max\", \"run_name\": \"StandardScalerWrapper, LightGBM\", \"run_properties\": \"<azureml.automl.runtime.shared.model_wrappers.StandardScalerWrapper object at 0x7f2de5448a58\", \"primary_metric\": 0.90375879, \"best_metric\": 0.90375879}, {\"run_id\": \"AutoML_0f3c2865-a426-4af8-9657-8b3d54d6aa46_38\", \"run_number\": 43, \"metric\": null, \"status\": \"Completed\", \"run_type\": \"azureml.scriptrun\", \"training_percent\": \"100\", \"start_time\": \"2020-12-12T09:30:48.049133Z\", \"end_time\": \"2020-12-12T09:31:50.454198Z\", \"created_time\": \"2020-12-12T09:30:31.518808Z\", \"created_time_dt\": \"2020-12-12T09:30:31.518808Z\", \"duration\": \"0:01:18\", \"iteration\": \"38\", \"goal\": \"AUC_weighted_max\", \"run_name\": \"StandardScalerWrapper, XGBoostClassifier\", \"run_properties\": \"<azureml.automl.runtime.shared.model_wrappers.StandardScalerWrapper object at 0x7effba2c1eb8\", \"primary_metric\": 0.89051195, \"best_metric\": 0.90584186}, {\"run_id\": \"AutoML_0f3c2865-a426-4af8-9657-8b3d54d6aa46_39\", \"run_number\": 44, \"metric\": null, \"status\": \"Completed\", \"run_type\": \"azureml.scriptrun\", \"training_percent\": \"100\", \"start_time\": \"2020-12-12T09:31:48.470174Z\", \"end_time\": \"2020-12-12T09:32:53.811667Z\", \"created_time\": \"2020-12-12T09:31:34.646196Z\", \"created_time_dt\": \"2020-12-12T09:31:34.646196Z\", \"duration\": \"0:01:19\", \"iteration\": \"39\", \"goal\": \"AUC_weighted_max\", \"run_name\": \"StandardScalerWrapper, LightGBM\", \"run_properties\": \"<azureml.automl.runtime.shared.model_wrappers.StandardScalerWrapper object at 0x7fa4af2fab00\", \"primary_metric\": 0.88824959, \"best_metric\": 0.90584186}, {\"run_id\": \"AutoML_0f3c2865-a426-4af8-9657-8b3d54d6aa46_40\", \"run_number\": 45, \"metric\": null, \"status\": \"Completed\", \"run_type\": \"azureml.scriptrun\", \"training_percent\": \"100\", \"start_time\": \"2020-12-12T09:31:49.202279Z\", \"end_time\": \"2020-12-12T09:32:50.892842Z\", \"created_time\": \"2020-12-12T09:31:34.768255Z\", \"created_time_dt\": \"2020-12-12T09:31:34.768255Z\", \"duration\": \"0:01:16\", \"iteration\": \"40\", \"goal\": \"AUC_weighted_max\", \"run_name\": \"StandardScalerWrapper, XGBoostClassifier\", \"run_properties\": \"<azureml.automl.runtime.shared.model_wrappers.StandardScalerWrapper object at 0x7fba40899c88\", \"primary_metric\": 0.89273754, \"best_metric\": 0.90584186}, {\"run_id\": \"AutoML_0f3c2865-a426-4af8-9657-8b3d54d6aa46_41\", \"run_number\": 46, \"metric\": null, \"status\": \"Completed\", \"run_type\": \"azureml.scriptrun\", \"training_percent\": \"100\", \"start_time\": \"2020-12-12T09:31:58.217389Z\", \"end_time\": \"2020-12-12T09:32:59.638707Z\", \"created_time\": \"2020-12-12T09:31:42.111929Z\", \"created_time_dt\": \"2020-12-12T09:31:42.111929Z\", \"duration\": \"0:01:17\", \"iteration\": \"41\", \"goal\": \"AUC_weighted_max\", \"run_name\": \"StandardScalerWrapper, LogisticRegression\", \"run_properties\": \"<azureml.automl.runtime.shared.model_wrappers.StandardScalerWrapper object at 0x7fb6ece08cc0\", \"primary_metric\": 0.85500032, \"best_metric\": 0.90584186}, {\"run_id\": \"AutoML_0f3c2865-a426-4af8-9657-8b3d54d6aa46_42\", \"run_number\": 47, \"metric\": null, \"status\": \"Completed\", \"run_type\": \"azureml.scriptrun\", \"training_percent\": \"100\", \"start_time\": \"2020-12-12T09:31:53.608312Z\", \"end_time\": \"2020-12-12T09:32:59.640439Z\", \"created_time\": \"2020-12-12T09:31:42.119001Z\", \"created_time_dt\": \"2020-12-12T09:31:42.119001Z\", \"duration\": \"0:01:17\", \"iteration\": \"42\", \"goal\": \"AUC_weighted_max\", \"run_name\": \"RobustScaler, LightGBM\", \"run_properties\": \"copy=True, quantile_range=[10, 90], with_centering=True,\\n             with_scaling=True\", \"primary_metric\": 0.88389288, \"best_metric\": 0.90584186}, {\"run_id\": \"AutoML_0f3c2865-a426-4af8-9657-8b3d54d6aa46_43\", \"run_number\": 48, \"metric\": null, \"status\": \"Completed\", \"run_type\": \"azureml.scriptrun\", \"training_percent\": \"100\", \"start_time\": \"2020-12-12T09:32:08.088508Z\", \"end_time\": \"2020-12-12T09:33:50.546484Z\", \"created_time\": \"2020-12-12T09:31:53.36674Z\", \"created_time_dt\": \"2020-12-12T09:31:53.36674Z\", \"duration\": \"0:01:57\", \"iteration\": \"43\", \"goal\": \"AUC_weighted_max\", \"run_name\": \"StandardScalerWrapper, LogisticRegression\", \"run_properties\": \"<azureml.automl.runtime.shared.model_wrappers.StandardScalerWrapper object at 0x7f0213a1b828\", \"primary_metric\": 0.85319735, \"best_metric\": 0.90584186}, {\"run_id\": \"AutoML_0f3c2865-a426-4af8-9657-8b3d54d6aa46_44\", \"run_number\": 49, \"metric\": null, \"status\": \"Completed\", \"run_type\": \"azureml.scriptrun\", \"training_percent\": \"100\", \"start_time\": \"2020-12-12T09:33:08.431554Z\", \"end_time\": \"2020-12-12T09:34:21.2204Z\", \"created_time\": \"2020-12-12T09:32:53.949458Z\", \"created_time_dt\": \"2020-12-12T09:32:53.949458Z\", \"duration\": \"0:01:27\", \"iteration\": \"44\", \"goal\": \"AUC_weighted_max\", \"run_name\": \"StandardScalerWrapper, LightGBM\", \"run_properties\": \"<azureml.automl.runtime.shared.model_wrappers.StandardScalerWrapper object at 0x7f92d5354518\", \"primary_metric\": 0.90719282, \"best_metric\": 0.90719282}, {\"run_id\": \"AutoML_0f3c2865-a426-4af8-9657-8b3d54d6aa46_45\", \"run_number\": 50, \"metric\": null, \"status\": \"Completed\", \"run_type\": \"azureml.scriptrun\", \"training_percent\": \"100\", \"start_time\": \"2020-12-12T09:33:17.447349Z\", \"end_time\": \"2020-12-12T09:34:13.33644Z\", \"created_time\": \"2020-12-12T09:33:02.964132Z\", \"created_time_dt\": \"2020-12-12T09:33:02.964132Z\", \"duration\": \"0:01:10\", \"iteration\": \"45\", \"goal\": \"AUC_weighted_max\", \"run_name\": \"MaxAbsScaler, LightGBM\", \"run_properties\": \"copy=True\", \"primary_metric\": 0.88048854, \"best_metric\": 0.90719282}, {\"run_id\": \"AutoML_0f3c2865-a426-4af8-9657-8b3d54d6aa46_47\", \"run_number\": 51, \"metric\": null, \"status\": \"Completed\", \"run_type\": \"azureml.scriptrun\", \"training_percent\": \"100\", \"start_time\": \"2020-12-12T09:33:13.351926Z\", \"end_time\": \"2020-12-12T09:34:10.43566Z\", \"created_time\": \"2020-12-12T09:33:03.128488Z\", \"created_time_dt\": \"2020-12-12T09:33:03.128488Z\", \"duration\": \"0:01:07\", \"iteration\": \"47\", \"goal\": \"AUC_weighted_max\", \"run_name\": \"MaxAbsScaler, LightGBM\", \"run_properties\": \"copy=True\", \"primary_metric\": 0.87338479, \"best_metric\": 0.90719282}, {\"run_id\": \"AutoML_0f3c2865-a426-4af8-9657-8b3d54d6aa46_46\", \"run_number\": 52, \"metric\": null, \"status\": \"Completed\", \"run_type\": \"azureml.scriptrun\", \"training_percent\": \"100\", \"start_time\": \"2020-12-12T09:33:16.170121Z\", \"end_time\": \"2020-12-12T09:34:34.079292Z\", \"created_time\": \"2020-12-12T09:33:03.20672Z\", \"created_time_dt\": \"2020-12-12T09:33:03.20672Z\", \"duration\": \"0:01:30\", \"iteration\": \"46\", \"goal\": \"AUC_weighted_max\", \"run_name\": \"StandardScalerWrapper, ExtremeRandomTrees\", \"run_properties\": \"<azureml.automl.runtime.shared.model_wrappers.StandardScalerWrapper object at 0x7fa3b4113da0\", \"primary_metric\": 0.85832943, \"best_metric\": 0.90719282}, {\"run_id\": \"AutoML_0f3c2865-a426-4af8-9657-8b3d54d6aa46_48\", \"run_number\": 53, \"metric\": null, \"status\": \"Completed\", \"run_type\": \"azureml.scriptrun\", \"training_percent\": \"100\", \"start_time\": \"2020-12-12T09:34:05.398105Z\", \"end_time\": \"2020-12-12T09:35:17.544505Z\", \"created_time\": \"2020-12-12T09:33:53.132257Z\", \"created_time_dt\": \"2020-12-12T09:33:53.132257Z\", \"duration\": \"0:01:24\", \"iteration\": \"48\", \"goal\": \"AUC_weighted_max\", \"run_name\": \"StandardScalerWrapper, ExtremeRandomTrees\", \"run_properties\": \"<azureml.automl.runtime.shared.model_wrappers.StandardScalerWrapper object at 0x7f062c20cdd8\", \"primary_metric\": 0.88848564, \"best_metric\": 0.90719282}, {\"run_id\": \"AutoML_0f3c2865-a426-4af8-9657-8b3d54d6aa46_49\", \"run_number\": 54, \"metric\": null, \"status\": \"Completed\", \"run_type\": \"azureml.scriptrun\", \"training_percent\": \"100\", \"start_time\": \"2020-12-12T09:34:25.103996Z\", \"end_time\": \"2020-12-12T09:35:44.237468Z\", \"created_time\": \"2020-12-12T09:34:13.134505Z\", \"created_time_dt\": \"2020-12-12T09:34:13.134505Z\", \"duration\": \"0:01:31\", \"iteration\": \"49\", \"goal\": \"AUC_weighted_max\", \"run_name\": \"MaxAbsScaler, RandomForest\", \"run_properties\": \"copy=True\", \"primary_metric\": 0.89351399, \"best_metric\": 0.90719282}, {\"run_id\": \"AutoML_0f3c2865-a426-4af8-9657-8b3d54d6aa46_50\", \"run_number\": 55, \"metric\": null, \"status\": \"Completed\", \"run_type\": \"azureml.scriptrun\", \"training_percent\": \"100\", \"start_time\": \"2020-12-12T09:34:32.683107Z\", \"end_time\": \"2020-12-12T09:35:40.434397Z\", \"created_time\": \"2020-12-12T09:34:19.5914Z\", \"created_time_dt\": \"2020-12-12T09:34:19.5914Z\", \"duration\": \"0:01:20\", \"iteration\": \"50\", \"goal\": \"AUC_weighted_max\", \"run_name\": \"MinMaxScaler, LightGBM\", \"run_properties\": \"copy=True, feature_range=(0, 1\", \"primary_metric\": 0.85880601, \"best_metric\": 0.90719282}, {\"run_id\": \"AutoML_0f3c2865-a426-4af8-9657-8b3d54d6aa46_51\", \"run_number\": 56, \"metric\": null, \"status\": \"Completed\", \"run_type\": \"azureml.scriptrun\", \"training_percent\": \"100\", \"start_time\": \"2020-12-12T09:34:37.458807Z\", \"end_time\": \"2020-12-12T09:35:55.053425Z\", \"created_time\": \"2020-12-12T09:34:25.060409Z\", \"created_time_dt\": \"2020-12-12T09:34:25.060409Z\", \"duration\": \"0:01:29\", \"iteration\": \"51\", \"goal\": \"AUC_weighted_max\", \"run_name\": \"StandardScalerWrapper, XGBoostClassifier\", \"run_properties\": \"<azureml.automl.runtime.shared.model_wrappers.StandardScalerWrapper object at 0x7f40902cd1d0\", \"primary_metric\": 0.89195332, \"best_metric\": 0.90719282}, {\"run_id\": \"AutoML_0f3c2865-a426-4af8-9657-8b3d54d6aa46_52\", \"run_number\": 57, \"metric\": null, \"status\": \"Completed\", \"run_type\": \"azureml.scriptrun\", \"training_percent\": \"100\", \"start_time\": \"2020-12-12T09:34:48.312806Z\", \"end_time\": \"2020-12-12T09:36:34.729218Z\", \"created_time\": \"2020-12-12T09:34:36.40212Z\", \"created_time_dt\": \"2020-12-12T09:34:36.40212Z\", \"duration\": \"0:01:58\", \"iteration\": \"52\", \"goal\": \"AUC_weighted_max\", \"run_name\": \"RobustScaler, RandomForest\", \"run_properties\": \"copy=True, quantile_range=[10, 90], with_centering=True,\\n             with_scaling=True\", \"primary_metric\": 0.89202576, \"best_metric\": 0.90719282}, {\"run_id\": \"AutoML_0f3c2865-a426-4af8-9657-8b3d54d6aa46_53\", \"run_number\": 58, \"metric\": null, \"status\": \"Completed\", \"run_type\": \"azureml.scriptrun\", \"training_percent\": \"100\", \"start_time\": \"2020-12-12T09:35:35.406845Z\", \"end_time\": \"2020-12-12T09:36:50.153426Z\", \"created_time\": \"2020-12-12T09:35:20.72094Z\", \"created_time_dt\": \"2020-12-12T09:35:20.72094Z\", \"duration\": \"0:01:29\", \"iteration\": \"53\", \"goal\": \"AUC_weighted_max\", \"run_name\": \"StandardScalerWrapper, XGBoostClassifier\", \"run_properties\": \"<azureml.automl.runtime.shared.model_wrappers.StandardScalerWrapper object at 0x7f20e8bf00b8\", \"primary_metric\": 0.88062629, \"best_metric\": 0.90719282}, {\"run_id\": \"AutoML_0f3c2865-a426-4af8-9657-8b3d54d6aa46_54\", \"run_number\": 59, \"metric\": null, \"status\": \"Completed\", \"run_type\": \"azureml.scriptrun\", \"training_percent\": \"100\", \"start_time\": \"2020-12-12T09:36:00.081085Z\", \"end_time\": \"2020-12-12T09:37:13.580158Z\", \"created_time\": \"2020-12-12T09:35:47.771531Z\", \"created_time_dt\": \"2020-12-12T09:35:47.771531Z\", \"duration\": \"0:01:25\", \"iteration\": \"54\", \"goal\": \"AUC_weighted_max\", \"run_name\": \"StandardScalerWrapper, XGBoostClassifier\", \"run_properties\": \"<azureml.automl.runtime.shared.model_wrappers.StandardScalerWrapper object at 0x7f82633c37b8\", \"primary_metric\": 0.86479872, \"best_metric\": 0.90719282}, {\"run_id\": \"AutoML_0f3c2865-a426-4af8-9657-8b3d54d6aa46_55\", \"run_number\": 60, \"metric\": null, \"status\": \"Completed\", \"run_type\": \"azureml.scriptrun\", \"training_percent\": \"100\", \"start_time\": \"2020-12-12T09:36:07.360349Z\", \"end_time\": \"2020-12-12T09:37:29.758941Z\", \"created_time\": \"2020-12-12T09:35:56.959392Z\", \"created_time_dt\": \"2020-12-12T09:35:56.959392Z\", \"duration\": \"0:01:32\", \"iteration\": \"55\", \"goal\": \"AUC_weighted_max\", \"run_name\": \"StandardScalerWrapper, LightGBM\", \"run_properties\": \"<azureml.automl.runtime.shared.model_wrappers.StandardScalerWrapper object at 0x7fdb5d015160\", \"primary_metric\": 0.89809094, \"best_metric\": 0.90719282}, {\"run_id\": \"AutoML_0f3c2865-a426-4af8-9657-8b3d54d6aa46_56\", \"run_number\": 61, \"metric\": null, \"status\": \"Completed\", \"run_type\": \"azureml.scriptrun\", \"training_percent\": \"100\", \"start_time\": \"2020-12-12T09:36:13.060292Z\", \"end_time\": \"2020-12-12T09:37:57.329422Z\", \"created_time\": \"2020-12-12T09:36:02.249974Z\", \"created_time_dt\": \"2020-12-12T09:36:02.249974Z\", \"duration\": \"0:01:55\", \"iteration\": \"56\", \"goal\": \"AUC_weighted_max\", \"run_name\": \"StandardScalerWrapper, GradientBoosting\", \"run_properties\": \"<azureml.automl.runtime.shared.model_wrappers.StandardScalerWrapper object at 0x7f9a57cd24e0\", \"primary_metric\": 0.88492952, \"best_metric\": 0.90719282}, {\"run_id\": \"AutoML_0f3c2865-a426-4af8-9657-8b3d54d6aa46_57\", \"run_number\": 62, \"metric\": null, \"status\": \"Completed\", \"run_type\": \"azureml.scriptrun\", \"training_percent\": \"100\", \"start_time\": \"2020-12-12T09:36:55.051096Z\", \"end_time\": \"2020-12-12T09:38:20.121697Z\", \"created_time\": \"2020-12-12T09:36:42.19881Z\", \"created_time_dt\": \"2020-12-12T09:36:42.19881Z\", \"duration\": \"0:01:37\", \"iteration\": \"57\", \"goal\": \"AUC_weighted_max\", \"run_name\": \"StandardScalerWrapper, LightGBM\", \"run_properties\": \"<azureml.automl.runtime.shared.model_wrappers.StandardScalerWrapper object at 0x7f300e9d8898\", \"primary_metric\": 0.90283885, \"best_metric\": 0.90719282}, {\"run_id\": \"AutoML_0f3c2865-a426-4af8-9657-8b3d54d6aa46_58\", \"run_number\": 63, \"metric\": null, \"status\": \"Completed\", \"run_type\": \"azureml.scriptrun\", \"training_percent\": \"100\", \"start_time\": \"2020-12-12T09:37:05.242346Z\", \"end_time\": \"2020-12-12T09:38:24.27512Z\", \"created_time\": \"2020-12-12T09:36:52.500613Z\", \"created_time_dt\": \"2020-12-12T09:36:52.500613Z\", \"duration\": \"0:01:31\", \"iteration\": \"58\", \"goal\": \"AUC_weighted_max\", \"run_name\": \"MinMaxScaler, RandomForest\", \"run_properties\": \"copy=True, feature_range=(0, 1\", \"primary_metric\": 0.89071807, \"best_metric\": 0.90719282}, {\"run_id\": \"AutoML_0f3c2865-a426-4af8-9657-8b3d54d6aa46_59\", \"run_number\": 64, \"metric\": null, \"status\": \"Completed\", \"run_type\": \"azureml.scriptrun\", \"training_percent\": \"100\", \"start_time\": \"2020-12-12T09:37:26.74809Z\", \"end_time\": \"2020-12-12T09:38:35.808309Z\", \"created_time\": \"2020-12-12T09:37:15.856401Z\", \"created_time_dt\": \"2020-12-12T09:37:15.856401Z\", \"duration\": \"0:01:19\", \"iteration\": \"59\", \"goal\": \"AUC_weighted_max\", \"run_name\": \"MaxAbsScaler, ExtremeRandomTrees\", \"run_properties\": \"copy=True\", \"primary_metric\": 0.86025148, \"best_metric\": 0.90719282}, {\"run_id\": \"AutoML_0f3c2865-a426-4af8-9657-8b3d54d6aa46_60\", \"run_number\": 65, \"metric\": null, \"status\": \"Completed\", \"run_type\": \"azureml.scriptrun\", \"training_percent\": \"100\", \"start_time\": \"2020-12-12T09:37:45.41451Z\", \"end_time\": \"2020-12-12T09:39:25.585398Z\", \"created_time\": \"2020-12-12T09:37:33.210722Z\", \"created_time_dt\": \"2020-12-12T09:37:33.210722Z\", \"duration\": \"0:01:52\", \"iteration\": \"60\", \"goal\": \"AUC_weighted_max\", \"run_name\": \"MinMaxScaler, LightGBM\", \"run_properties\": \"copy=True, feature_range=(0, 1\", \"primary_metric\": 0.89504228, \"best_metric\": 0.90719282}, {\"run_id\": \"AutoML_0f3c2865-a426-4af8-9657-8b3d54d6aa46_61\", \"run_number\": 66, \"metric\": null, \"status\": \"Completed\", \"run_type\": \"azureml.scriptrun\", \"training_percent\": \"100\", \"start_time\": \"2020-12-12T09:38:12.799996Z\", \"end_time\": \"2020-12-12T09:39:23.701448Z\", \"created_time\": \"2020-12-12T09:37:59.682902Z\", \"created_time_dt\": \"2020-12-12T09:37:59.682902Z\", \"duration\": \"0:01:24\", \"iteration\": \"61\", \"goal\": \"AUC_weighted_max\", \"run_name\": \"StandardScalerWrapper, XGBoostClassifier\", \"run_properties\": \"<azureml.automl.runtime.shared.model_wrappers.StandardScalerWrapper object at 0x7f55e400dc88\", \"primary_metric\": 0.89830431, \"best_metric\": 0.90719282}, {\"run_id\": \"AutoML_0f3c2865-a426-4af8-9657-8b3d54d6aa46_62\", \"run_number\": 67, \"metric\": null, \"status\": \"Canceled\", \"run_type\": \"azureml.scriptrun\", \"training_percent\": \"100\", \"start_time\": \"2020-12-12T09:38:38.888842Z\", \"end_time\": \"2020-12-12T09:39:31.155101Z\", \"created_time\": \"2020-12-12T09:38:22.453475Z\", \"created_time_dt\": \"2020-12-12T09:38:22.453475Z\", \"duration\": \"0:01:08\", \"iteration\": \"62\", \"goal\": null, \"run_name\": \"StandardScalerWrapper, XGBoostClassifier\", \"run_properties\": null}, {\"run_id\": \"AutoML_0f3c2865-a426-4af8-9657-8b3d54d6aa46_63\", \"run_number\": 68, \"metric\": null, \"status\": \"Canceled\", \"run_type\": \"azureml.scriptrun\", \"training_percent\": \"100\", \"start_time\": \"2020-12-12T09:38:40.229354Z\", \"end_time\": \"2020-12-12T09:39:31.60274Z\", \"created_time\": \"2020-12-12T09:38:27.282061Z\", \"created_time_dt\": \"2020-12-12T09:38:27.282061Z\", \"duration\": \"0:01:04\", \"iteration\": \"63\", \"goal\": null, \"run_name\": \"StandardScalerWrapper, XGBoostClassifier\", \"run_properties\": null}, {\"run_id\": \"AutoML_0f3c2865-a426-4af8-9657-8b3d54d6aa46_64\", \"run_number\": 69, \"metric\": null, \"status\": \"Canceled\", \"run_type\": \"azureml.scriptrun\", \"training_percent\": \"100\", \"start_time\": \"2020-12-12T09:38:51.232499Z\", \"end_time\": \"2020-12-12T09:39:31.706638Z\", \"created_time\": \"2020-12-12T09:38:38.041474Z\", \"created_time_dt\": \"2020-12-12T09:38:38.041474Z\", \"duration\": \"0:00:53\", \"iteration\": \"64\", \"goal\": null, \"run_name\": \"Canceled\", \"run_properties\": null}, {\"run_id\": \"AutoML_0f3c2865-a426-4af8-9657-8b3d54d6aa46_65\", \"run_number\": 70, \"metric\": null, \"status\": \"Completed\", \"run_type\": \"azureml.scriptrun\", \"training_percent\": \"100\", \"start_time\": \"2020-12-12T09:39:47.0217Z\", \"end_time\": \"2020-12-12T09:42:37.005793Z\", \"created_time\": \"2020-12-12T09:39:32.894823Z\", \"created_time_dt\": \"2020-12-12T09:39:32.894823Z\", \"duration\": \"0:03:04\", \"iteration\": \"65\", \"goal\": \"AUC_weighted_max\", \"run_name\": \"VotingEnsemble\", \"run_properties\": \"classification_labels=None,\\n                              estimators=[('44',\\n                                           Pipeline(memory=None,\\n                                                    steps=[('standardscalerwrapper',\\n                                                            <azureml.automl.runtime.shared.model_wrappers.StandardScalerWrapper object at 0x7fcd2d02c240>\", \"primary_metric\": 0.91426899, \"best_metric\": 0.91426899}, {\"run_id\": \"AutoML_0f3c2865-a426-4af8-9657-8b3d54d6aa46_66\", \"run_number\": 71, \"metric\": null, \"status\": \"Completed\", \"run_type\": \"azureml.scriptrun\", \"training_percent\": \"100\", \"start_time\": \"2020-12-12T09:39:45.988951Z\", \"end_time\": \"2020-12-12T09:42:37.548088Z\", \"created_time\": \"2020-12-12T09:39:33.028913Z\", \"created_time_dt\": \"2020-12-12T09:39:33.028913Z\", \"duration\": \"0:03:04\", \"iteration\": \"66\", \"goal\": \"AUC_weighted_max\", \"run_name\": \"StackEnsemble\", \"run_properties\": \"base_learners=[('44',\\n                                        Pipeline(memory=None,\\n                                                 steps=[('standardscalerwrapper',\\n                                                         <azureml.automl.runtime.shared.model_wrappers.StandardScalerWrapper object at 0x7f067c3abc18>\", \"primary_metric\": 0.90823861, \"best_metric\": 0.91426899}], \"children_metrics\": {\"categories\": [0], \"series\": {\"average_precision_score_weighted\": [{\"categories\": [\"0\", \"1\", \"2\", \"3\", \"4\", \"5\", \"6\", \"7\", \"8\", \"9\", \"10\", \"11\", \"12\", \"13\", \"14\", \"15\", \"16\", \"17\", \"18\", \"19\", \"20\", \"21\", \"22\", \"23\", \"24\", \"25\", \"26\", \"27\", \"28\", \"29\", \"30\", \"31\", \"32\", \"33\", \"34\", \"35\", \"36\", \"37\", \"38\", \"39\", \"40\", \"41\", \"42\", \"43\", \"44\", \"45\", \"46\", \"47\", \"48\", \"49\", \"50\", \"51\", \"52\", \"53\", \"54\", \"55\", \"56\", \"57\", \"58\", \"59\", \"60\", \"61\", \"65\", \"66\"], \"mode\": \"markers\", \"name\": \"average_precision_score_weighted\", \"stepped\": false, \"type\": \"scatter\", \"data\": [0.9156642734629606, 0.9101945312982677, 0.9241452214761949, 0.9056991078207755, 0.9223287206369326, 0.9227144200061115, 0.9100030902265381, 0.917361780162158, 0.9016765061161234, 0.7932695760707114, 0.9073791800749611, 0.9158666892636965, 0.9203027961568075, 0.8979427119828362, 0.9084420238947668, 0.6517522324004078, 0.9155251996746356, 0.8541599275135077, 0.9124456036159477, 0.9216228855737671, 0.9145059941964819, 0.8983405411859774, 0.9077801270261654, 0.9247833282864113, 0.9139090081307986, 0.9221279618588054, 0.9184795937400508, 0.9148213608730371, 0.9151842657255328, 0.9135054289704521, 0.613442674055275, 0.9013427393427786, 0.9199684321765119, 0.9284577574022966, 0.9244290767514304, 0.7586342241808048, 0.9301883235443393, 0.9301572175623892, 0.9184453717910326, 0.9185764018701551, 0.9198248361618122, 0.8956994697245741, 0.9132824358647287, 0.8949109554307061, 0.9303844854599493, 0.9093450425662495, 0.9068504289608805, 0.8995473217792196, 0.9178074912098984, 0.9222542077303109, 0.8896557117267004, 0.919684403222249, 0.9180325215093543, 0.9135944954635444, 0.9068558233116322, 0.9249227718506852, 0.9155800394424147, 0.9268754191521567, 0.9256005442795073, 0.9046598533730432, 0.9260354562544849, 0.9257492735785876, 0.9367594307015314, 0.9322758211849258]}, {\"categories\": [\"0\", \"1\", \"2\", \"3\", \"4\", \"5\", \"6\", \"7\", \"8\", \"9\", \"10\", \"11\", \"12\", \"13\", \"14\", \"15\", \"16\", \"17\", \"18\", \"19\", \"20\", \"21\", \"22\", \"23\", \"24\", \"25\", \"26\", \"27\", \"28\", \"29\", \"30\", \"31\", \"32\", \"33\", \"34\", \"35\", \"36\", \"37\", \"38\", \"39\", \"40\", \"41\", \"42\", \"43\", \"44\", \"45\", \"46\", \"47\", \"48\", \"49\", \"50\", \"51\", \"52\", \"53\", \"54\", \"55\", \"56\", \"57\", \"58\", \"59\", \"60\", \"61\", \"65\", \"66\"], \"mode\": \"lines\", \"name\": \"average_precision_score_weighted_max\", \"stepped\": true, \"type\": \"scatter\", \"data\": [0.9156642734629606, 0.9156642734629606, 0.9241452214761949, 0.9241452214761949, 0.9241452214761949, 0.9241452214761949, 0.9241452214761949, 0.9241452214761949, 0.9241452214761949, 0.9241452214761949, 0.9241452214761949, 0.9241452214761949, 0.9241452214761949, 0.9241452214761949, 0.9241452214761949, 0.9241452214761949, 0.9241452214761949, 0.9241452214761949, 0.9241452214761949, 0.9241452214761949, 0.9241452214761949, 0.9241452214761949, 0.9241452214761949, 0.9247833282864113, 0.9247833282864113, 0.9247833282864113, 0.9247833282864113, 0.9247833282864113, 0.9247833282864113, 0.9247833282864113, 0.9247833282864113, 0.9247833282864113, 0.9247833282864113, 0.9284577574022966, 0.9284577574022966, 0.9284577574022966, 0.9301883235443393, 0.9301883235443393, 0.9301883235443393, 0.9301883235443393, 0.9301883235443393, 0.9301883235443393, 0.9301883235443393, 0.9301883235443393, 0.9303844854599493, 0.9303844854599493, 0.9303844854599493, 0.9303844854599493, 0.9303844854599493, 0.9303844854599493, 0.9303844854599493, 0.9303844854599493, 0.9303844854599493, 0.9303844854599493, 0.9303844854599493, 0.9303844854599493, 0.9303844854599493, 0.9303844854599493, 0.9303844854599493, 0.9303844854599493, 0.9303844854599493, 0.9303844854599493, 0.9367594307015314, 0.9367594307015314]}], \"f1_score_macro\": [{\"categories\": [\"0\", \"1\", \"2\", \"3\", \"4\", \"5\", \"6\", \"7\", \"8\", \"9\", \"10\", \"11\", \"12\", \"13\", \"14\", \"15\", \"16\", \"17\", \"18\", \"19\", \"20\", \"21\", \"22\", \"23\", \"24\", \"25\", \"26\", \"27\", \"28\", \"29\", \"30\", \"31\", \"32\", \"33\", \"34\", \"35\", \"36\", \"37\", \"38\", \"39\", \"40\", \"41\", \"42\", \"43\", \"44\", \"45\", \"46\", \"47\", \"48\", \"49\", \"50\", \"51\", \"52\", \"53\", \"54\", \"55\", \"56\", \"57\", \"58\", \"59\", \"60\", \"61\", \"65\", \"66\"], \"mode\": \"markers\", \"name\": \"f1_score_macro\", \"stepped\": false, \"type\": \"scatter\", \"data\": [0.816001336152938, 0.7913782065467154, 0.7878699349517846, 0.6732666197086642, 0.7868420781081552, 0.7780050615480654, 0.7653217741724896, 0.7775723653193785, 0.6682099807388574, 0.6537657400578619, 0.6730512533328429, 0.7520258724739046, 0.7756888709787955, 0.7820597443938578, 0.7933278598998558, 0.5186026879389158, 0.6496074293843213, 0.7366330998566977, 0.772031806474174, 0.7977564109326541, 0.7756070911234035, 0.7733519244793705, 0.7858966549283906, 0.795784858261062, 0.8037323826815106, 0.7747356601130122, 0.784969875559302, 0.8066559271430982, 0.7317102886790408, 0.6806866219355959, 0.4959206155839091, 0.7736280803065142, 0.8059839227734941, 0.795651093390455, 0.7961679738829822, 0.4020928701207964, 0.8137363056662894, 0.7994604875783365, 0.7804078626342681, 0.782083508789556, 0.8036919719480217, 0.7443594590047057, 0.7825010311267102, 0.745901047956826, 0.8004626629604722, 0.628820774254985, 0.7859103182327505, 0.662587658389642, 0.80371351908598, 0.7762398937170257, 0.4020928701207964, 0.7896374374314907, 0.787271406043495, 0.7742265801623036, 0.7741910294913229, 0.8078305753154789, 0.8079481675444139, 0.8254191460016236, 0.7904216354759833, 0.7907188897883115, 0.8214693555539931, 0.8039724428703898, 0.8061408127980109, 0.8143010470147836]}, {\"categories\": [\"0\", \"1\", \"2\", \"3\", \"4\", \"5\", \"6\", \"7\", \"8\", \"9\", \"10\", \"11\", \"12\", \"13\", \"14\", \"15\", \"16\", \"17\", \"18\", \"19\", \"20\", \"21\", \"22\", \"23\", \"24\", \"25\", \"26\", \"27\", \"28\", \"29\", \"30\", \"31\", \"32\", \"33\", \"34\", \"35\", \"36\", \"37\", \"38\", \"39\", \"40\", \"41\", \"42\", \"43\", \"44\", \"45\", \"46\", \"47\", \"48\", \"49\", \"50\", \"51\", \"52\", \"53\", \"54\", \"55\", \"56\", \"57\", \"58\", \"59\", \"60\", \"61\", \"65\", \"66\"], \"mode\": \"lines\", \"name\": \"f1_score_macro_max\", \"stepped\": true, \"type\": \"scatter\", \"data\": [0.816001336152938, 0.816001336152938, 0.816001336152938, 0.816001336152938, 0.816001336152938, 0.816001336152938, 0.816001336152938, 0.816001336152938, 0.816001336152938, 0.816001336152938, 0.816001336152938, 0.816001336152938, 0.816001336152938, 0.816001336152938, 0.816001336152938, 0.816001336152938, 0.816001336152938, 0.816001336152938, 0.816001336152938, 0.816001336152938, 0.816001336152938, 0.816001336152938, 0.816001336152938, 0.816001336152938, 0.816001336152938, 0.816001336152938, 0.816001336152938, 0.816001336152938, 0.816001336152938, 0.816001336152938, 0.816001336152938, 0.816001336152938, 0.816001336152938, 0.816001336152938, 0.816001336152938, 0.816001336152938, 0.816001336152938, 0.816001336152938, 0.816001336152938, 0.816001336152938, 0.816001336152938, 0.816001336152938, 0.816001336152938, 0.816001336152938, 0.816001336152938, 0.816001336152938, 0.816001336152938, 0.816001336152938, 0.816001336152938, 0.816001336152938, 0.816001336152938, 0.816001336152938, 0.816001336152938, 0.816001336152938, 0.816001336152938, 0.816001336152938, 0.816001336152938, 0.8254191460016236, 0.8254191460016236, 0.8254191460016236, 0.8254191460016236, 0.8254191460016236, 0.8254191460016236, 0.8254191460016236]}], \"precision_score_weighted\": [{\"categories\": [\"0\", \"1\", \"2\", \"3\", \"4\", \"5\", \"6\", \"7\", \"8\", \"9\", \"10\", \"11\", \"12\", \"13\", \"14\", \"15\", \"16\", \"17\", \"18\", \"19\", \"20\", \"21\", \"22\", \"23\", \"24\", \"25\", \"26\", \"27\", \"28\", \"29\", \"30\", \"31\", \"32\", \"33\", \"34\", \"35\", \"36\", \"37\", \"38\", \"39\", \"40\", \"41\", \"42\", \"43\", \"44\", \"45\", \"46\", \"47\", \"48\", \"49\", \"50\", \"51\", \"52\", \"53\", \"54\", \"55\", \"56\", \"57\", \"58\", \"59\", \"60\", \"61\", \"65\", \"66\"], \"mode\": \"markers\", \"name\": \"precision_score_weighted\", \"stepped\": false, \"type\": \"scatter\", \"data\": [0.8658810842926681, 0.8401639640136642, 0.8509686061432469, 0.8101165580712806, 0.8494995914551268, 0.8457325682396897, 0.8289532373822203, 0.8558426960872987, 0.7994041185247832, 0.7869237299717178, 0.8124512694202352, 0.8454791600703147, 0.8427852912185141, 0.8412732404339467, 0.8469541163082319, 0.6188420290132434, 0.7926842495215559, 0.795195466062049, 0.8308252207187298, 0.8616079697676794, 0.8350559771378835, 0.8309352191671415, 0.8438749154852381, 0.8634041987322585, 0.8549415088423709, 0.8325693301949307, 0.8417058367576142, 0.8520304560448567, 0.8149506816688227, 0.8149146260203233, 0.5960299563193338, 0.8512883796197139, 0.8603007707432073, 0.8521252507915793, 0.8505214012762738, 0.4720362002906592, 0.8655691625877651, 0.8570437876299944, 0.8606623874210081, 0.8441897680308476, 0.8536749873040993, 0.8111006635571103, 0.8488342614407083, 0.8138093086420233, 0.8535637310645201, 0.7967179667288863, 0.8459571020832364, 0.7822772806820033, 0.8735301722265743, 0.8426013272374835, 0.4720362002906592, 0.8461699175664693, 0.8489711479462734, 0.8509464510169158, 0.8531180344550897, 0.8520700516966396, 0.8521477206164139, 0.8649813248137835, 0.8499960641887085, 0.844393716811258, 0.8630404381142762, 0.8554212959689366, 0.8576800078828211, 0.8656102754709833]}, {\"categories\": [\"0\", \"1\", \"2\", \"3\", \"4\", \"5\", \"6\", \"7\", \"8\", \"9\", \"10\", \"11\", \"12\", \"13\", \"14\", \"15\", \"16\", \"17\", \"18\", \"19\", \"20\", \"21\", \"22\", \"23\", \"24\", \"25\", \"26\", \"27\", \"28\", \"29\", \"30\", \"31\", \"32\", \"33\", \"34\", \"35\", \"36\", \"37\", \"38\", \"39\", \"40\", \"41\", \"42\", \"43\", \"44\", \"45\", \"46\", \"47\", \"48\", \"49\", \"50\", \"51\", \"52\", \"53\", \"54\", \"55\", \"56\", \"57\", \"58\", \"59\", \"60\", \"61\", \"65\", \"66\"], \"mode\": \"lines\", \"name\": \"precision_score_weighted_max\", \"stepped\": true, \"type\": \"scatter\", \"data\": [0.8658810842926681, 0.8658810842926681, 0.8658810842926681, 0.8658810842926681, 0.8658810842926681, 0.8658810842926681, 0.8658810842926681, 0.8658810842926681, 0.8658810842926681, 0.8658810842926681, 0.8658810842926681, 0.8658810842926681, 0.8658810842926681, 0.8658810842926681, 0.8658810842926681, 0.8658810842926681, 0.8658810842926681, 0.8658810842926681, 0.8658810842926681, 0.8658810842926681, 0.8658810842926681, 0.8658810842926681, 0.8658810842926681, 0.8658810842926681, 0.8658810842926681, 0.8658810842926681, 0.8658810842926681, 0.8658810842926681, 0.8658810842926681, 0.8658810842926681, 0.8658810842926681, 0.8658810842926681, 0.8658810842926681, 0.8658810842926681, 0.8658810842926681, 0.8658810842926681, 0.8658810842926681, 0.8658810842926681, 0.8658810842926681, 0.8658810842926681, 0.8658810842926681, 0.8658810842926681, 0.8658810842926681, 0.8658810842926681, 0.8658810842926681, 0.8658810842926681, 0.8658810842926681, 0.8658810842926681, 0.8735301722265743, 0.8735301722265743, 0.8735301722265743, 0.8735301722265743, 0.8735301722265743, 0.8735301722265743, 0.8735301722265743, 0.8735301722265743, 0.8735301722265743, 0.8735301722265743, 0.8735301722265743, 0.8735301722265743, 0.8735301722265743, 0.8735301722265743, 0.8735301722265743, 0.8735301722265743]}], \"recall_score_weighted\": [{\"categories\": [\"0\", \"1\", \"2\", \"3\", \"4\", \"5\", \"6\", \"7\", \"8\", \"9\", \"10\", \"11\", \"12\", \"13\", \"14\", \"15\", \"16\", \"17\", \"18\", \"19\", \"20\", \"21\", \"22\", \"23\", \"24\", \"25\", \"26\", \"27\", \"28\", \"29\", \"30\", \"31\", \"32\", \"33\", \"34\", \"35\", \"36\", \"37\", \"38\", \"39\", \"40\", \"41\", \"42\", \"43\", \"44\", \"45\", \"46\", \"47\", \"48\", \"49\", \"50\", \"51\", \"52\", \"53\", \"54\", \"55\", \"56\", \"57\", \"58\", \"59\", \"60\", \"61\", \"65\", \"66\"], \"mode\": \"markers\", \"name\": \"recall_score_weighted\", \"stepped\": false, \"type\": \"scatter\", \"data\": [0.8528735632183908, 0.8294252873563218, 0.8395402298850575, 0.7790804597701151, 0.8294252873563218, 0.8328735632183909, 0.8190804597701149, 0.8429885057471266, 0.7725287356321838, 0.7458620689655173, 0.7859770114942529, 0.8260919540229885, 0.8160919540229885, 0.8326436781609197, 0.8262068965517242, 0.6285057471264367, 0.7726436781609196, 0.7789655172413793, 0.8058620689655174, 0.8493103448275863, 0.8293103448275863, 0.8158620689655173, 0.8393103448275863, 0.8462068965517242, 0.8325287356321839, 0.8293103448275863, 0.8393103448275863, 0.8426436781609196, 0.8060919540229886, 0.782528735632184, 0.5650574712643678, 0.8326436781609197, 0.8526436781609196, 0.8393103448275863, 0.8460919540229886, 0.6788505747126437, 0.859425287356322, 0.8495402298850575, 0.8427586206896553, 0.8391954022988506, 0.8427586206896553, 0.7855172413793103, 0.8360919540229886, 0.785632183908046, 0.8493103448275863, 0.7658620689655172, 0.8391954022988506, 0.7625287356321839, 0.8627586206896553, 0.8158620689655172, 0.6788505747126437, 0.8426436781609196, 0.8257471264367815, 0.835977011494253, 0.835977011494253, 0.8460919540229886, 0.8427586206896553, 0.8593103448275862, 0.8326436781609197, 0.8327586206896553, 0.859425287356322, 0.8527586206896552, 0.8527586206896552, 0.859425287356322]}, {\"categories\": [\"0\", \"1\", \"2\", \"3\", \"4\", \"5\", \"6\", \"7\", \"8\", \"9\", \"10\", \"11\", \"12\", \"13\", \"14\", \"15\", \"16\", \"17\", \"18\", \"19\", \"20\", \"21\", \"22\", \"23\", \"24\", \"25\", \"26\", \"27\", \"28\", \"29\", \"30\", \"31\", \"32\", \"33\", \"34\", \"35\", \"36\", \"37\", \"38\", \"39\", \"40\", \"41\", \"42\", \"43\", \"44\", \"45\", \"46\", \"47\", \"48\", \"49\", \"50\", \"51\", \"52\", \"53\", \"54\", \"55\", \"56\", \"57\", \"58\", \"59\", \"60\", \"61\", \"65\", \"66\"], \"mode\": \"lines\", \"name\": \"recall_score_weighted_max\", \"stepped\": true, \"type\": \"scatter\", \"data\": [0.8528735632183908, 0.8528735632183908, 0.8528735632183908, 0.8528735632183908, 0.8528735632183908, 0.8528735632183908, 0.8528735632183908, 0.8528735632183908, 0.8528735632183908, 0.8528735632183908, 0.8528735632183908, 0.8528735632183908, 0.8528735632183908, 0.8528735632183908, 0.8528735632183908, 0.8528735632183908, 0.8528735632183908, 0.8528735632183908, 0.8528735632183908, 0.8528735632183908, 0.8528735632183908, 0.8528735632183908, 0.8528735632183908, 0.8528735632183908, 0.8528735632183908, 0.8528735632183908, 0.8528735632183908, 0.8528735632183908, 0.8528735632183908, 0.8528735632183908, 0.8528735632183908, 0.8528735632183908, 0.8528735632183908, 0.8528735632183908, 0.8528735632183908, 0.8528735632183908, 0.859425287356322, 0.859425287356322, 0.859425287356322, 0.859425287356322, 0.859425287356322, 0.859425287356322, 0.859425287356322, 0.859425287356322, 0.859425287356322, 0.859425287356322, 0.859425287356322, 0.859425287356322, 0.8627586206896553, 0.8627586206896553, 0.8627586206896553, 0.8627586206896553, 0.8627586206896553, 0.8627586206896553, 0.8627586206896553, 0.8627586206896553, 0.8627586206896553, 0.8627586206896553, 0.8627586206896553, 0.8627586206896553, 0.8627586206896553, 0.8627586206896553, 0.8627586206896553, 0.8627586206896553]}], \"AUC_weighted\": [{\"categories\": [\"0\", \"1\", \"2\", \"3\", \"4\", \"5\", \"6\", \"7\", \"8\", \"9\", \"10\", \"11\", \"12\", \"13\", \"14\", \"15\", \"16\", \"17\", \"18\", \"19\", \"20\", \"21\", \"22\", \"23\", \"24\", \"25\", \"26\", \"27\", \"28\", \"29\", \"30\", \"31\", \"32\", \"33\", \"34\", \"35\", \"36\", \"37\", \"38\", \"39\", \"40\", \"41\", \"42\", \"43\", \"44\", \"45\", \"46\", \"47\", \"48\", \"49\", \"50\", \"51\", \"52\", \"53\", \"54\", \"55\", \"56\", \"57\", \"58\", \"59\", \"60\", \"61\", \"65\", \"66\"], \"mode\": \"markers\", \"name\": \"AUC_weighted\", \"stepped\": false, \"type\": \"scatter\", \"data\": [0.8821828799692835, 0.8717221751769996, 0.8902291256339503, 0.8662675759263478, 0.8955229574356768, 0.8902291197269268, 0.8794331720504965, 0.8884647751533716, 0.8524901753542105, 0.7206919107533143, 0.8737241430596694, 0.8739789391407813, 0.8887351208408226, 0.8556997525379104, 0.8745539977890855, 0.5682040669856459, 0.8848061087061089, 0.8058053239158502, 0.8795738861041492, 0.8910373120300752, 0.8804531089930212, 0.8613188360210291, 0.8682106784216433, 0.8973941615402141, 0.891035960482013, 0.8996359237740817, 0.8888477182012269, 0.8863933562863388, 0.882008358438183, 0.8790603139793929, 0.5310847504915488, 0.8666095442731407, 0.8879566236719745, 0.901213952389391, 0.898569820384294, 0.7507994707939882, 0.903758793237302, 0.9058418550585217, 0.890511946111069, 0.888249587563184, 0.8927375363914838, 0.8550003231985688, 0.8838928788722648, 0.8531973466916447, 0.907192822966507, 0.8804885395306448, 0.8583294319553092, 0.8733847856172418, 0.8884856370724791, 0.8935139871986364, 0.8588060055441634, 0.8919533248103424, 0.8920257592634787, 0.8806262895243158, 0.8647987171210856, 0.8980909350396192, 0.8849295241470679, 0.9028388473287595, 0.8907180683189454, 0.8602514771777929, 0.8950422807861406, 0.898304310228433, 0.9142689931900458, 0.9082386140013332]}, {\"categories\": [\"0\", \"1\", \"2\", \"3\", \"4\", \"5\", \"6\", \"7\", \"8\", \"9\", \"10\", \"11\", \"12\", \"13\", \"14\", \"15\", \"16\", \"17\", \"18\", \"19\", \"20\", \"21\", \"22\", \"23\", \"24\", \"25\", \"26\", \"27\", \"28\", \"29\", \"30\", \"31\", \"32\", \"33\", \"34\", \"35\", \"36\", \"37\", \"38\", \"39\", \"40\", \"41\", \"42\", \"43\", \"44\", \"45\", \"46\", \"47\", \"48\", \"49\", \"50\", \"51\", \"52\", \"53\", \"54\", \"55\", \"56\", \"57\", \"58\", \"59\", \"60\", \"61\", \"65\", \"66\"], \"mode\": \"lines\", \"name\": \"AUC_weighted_max\", \"stepped\": true, \"type\": \"scatter\", \"data\": [0.8821828799692835, 0.8821828799692835, 0.8902291256339503, 0.8902291256339503, 0.8955229574356768, 0.8955229574356768, 0.8955229574356768, 0.8955229574356768, 0.8955229574356768, 0.8955229574356768, 0.8955229574356768, 0.8955229574356768, 0.8955229574356768, 0.8955229574356768, 0.8955229574356768, 0.8955229574356768, 0.8955229574356768, 0.8955229574356768, 0.8955229574356768, 0.8955229574356768, 0.8955229574356768, 0.8955229574356768, 0.8955229574356768, 0.8973941615402141, 0.8973941615402141, 0.8996359237740817, 0.8996359237740817, 0.8996359237740817, 0.8996359237740817, 0.8996359237740817, 0.8996359237740817, 0.8996359237740817, 0.8996359237740817, 0.901213952389391, 0.901213952389391, 0.901213952389391, 0.903758793237302, 0.9058418550585217, 0.9058418550585217, 0.9058418550585217, 0.9058418550585217, 0.9058418550585217, 0.9058418550585217, 0.9058418550585217, 0.907192822966507, 0.907192822966507, 0.907192822966507, 0.907192822966507, 0.907192822966507, 0.907192822966507, 0.907192822966507, 0.907192822966507, 0.907192822966507, 0.907192822966507, 0.907192822966507, 0.907192822966507, 0.907192822966507, 0.907192822966507, 0.907192822966507, 0.907192822966507, 0.907192822966507, 0.907192822966507, 0.9142689931900458, 0.9142689931900458]}], \"f1_score_weighted\": [{\"categories\": [\"0\", \"1\", \"2\", \"3\", \"4\", \"5\", \"6\", \"7\", \"8\", \"9\", \"10\", \"11\", \"12\", \"13\", \"14\", \"15\", \"16\", \"17\", \"18\", \"19\", \"20\", \"21\", \"22\", \"23\", \"24\", \"25\", \"26\", \"27\", \"28\", \"29\", \"30\", \"31\", \"32\", \"33\", \"34\", \"35\", \"36\", \"37\", \"38\", \"39\", \"40\", \"41\", \"42\", \"43\", \"44\", \"45\", \"46\", \"47\", \"48\", \"49\", \"50\", \"51\", \"52\", \"53\", \"54\", \"55\", \"56\", \"57\", \"58\", \"59\", \"60\", \"61\", \"65\", \"66\"], \"mode\": \"markers\", \"name\": \"f1_score_weighted\", \"stepped\": false, \"type\": \"scatter\", \"data\": [0.850686174915935, 0.8303399291049066, 0.8387324750076977, 0.7504935905531256, 0.8328845269449892, 0.8295182875692371, 0.8161205038112411, 0.8343999743583181, 0.7438608617691546, 0.727050720691546, 0.7551375178923603, 0.8117377297537368, 0.8226420707879832, 0.8312218424813682, 0.8325176318411751, 0.6036852560964625, 0.7401487984604213, 0.7827149217185894, 0.8133072727371056, 0.8468130205328143, 0.8302374633181155, 0.820398072339086, 0.8399457062223388, 0.8444376341641565, 0.8388243131523314, 0.8276958163525231, 0.8382369052323266, 0.8424456111296561, 0.7926391196199392, 0.7527776413282947, 0.5703135207676999, 0.8279042826796801, 0.8515050464247128, 0.8431925762208227, 0.8424836170773584, 0.5535154091836946, 0.8579603898377863, 0.8458800231801493, 0.8359217923019674, 0.8362266920936087, 0.843041340985782, 0.792557970513297, 0.8350866165278404, 0.7931995179019009, 0.8461977787101226, 0.7255085487108173, 0.8391873449247745, 0.7327241236421504, 0.8554045930414592, 0.8224666044334603, 0.5535154091836946, 0.8399206039149554, 0.8318888649498671, 0.8301427183683264, 0.8300244143360302, 0.8460028166925702, 0.8428481293602579, 0.8589526492853592, 0.8378217047444935, 0.8355936158029451, 0.8560079294386334, 0.8514417532184633, 0.8508648458866583, 0.8577665950433049]}, {\"categories\": [\"0\", \"1\", \"2\", \"3\", \"4\", \"5\", \"6\", \"7\", \"8\", \"9\", \"10\", \"11\", \"12\", \"13\", \"14\", \"15\", \"16\", \"17\", \"18\", \"19\", \"20\", \"21\", \"22\", \"23\", \"24\", \"25\", \"26\", \"27\", \"28\", \"29\", \"30\", \"31\", \"32\", \"33\", \"34\", \"35\", \"36\", \"37\", \"38\", \"39\", \"40\", \"41\", \"42\", \"43\", \"44\", \"45\", \"46\", \"47\", \"48\", \"49\", \"50\", \"51\", \"52\", \"53\", \"54\", \"55\", \"56\", \"57\", \"58\", \"59\", \"60\", \"61\", \"65\", \"66\"], \"mode\": \"lines\", \"name\": \"f1_score_weighted_max\", \"stepped\": true, \"type\": \"scatter\", \"data\": [0.850686174915935, 0.850686174915935, 0.850686174915935, 0.850686174915935, 0.850686174915935, 0.850686174915935, 0.850686174915935, 0.850686174915935, 0.850686174915935, 0.850686174915935, 0.850686174915935, 0.850686174915935, 0.850686174915935, 0.850686174915935, 0.850686174915935, 0.850686174915935, 0.850686174915935, 0.850686174915935, 0.850686174915935, 0.850686174915935, 0.850686174915935, 0.850686174915935, 0.850686174915935, 0.850686174915935, 0.850686174915935, 0.850686174915935, 0.850686174915935, 0.850686174915935, 0.850686174915935, 0.850686174915935, 0.850686174915935, 0.850686174915935, 0.8515050464247128, 0.8515050464247128, 0.8515050464247128, 0.8515050464247128, 0.8579603898377863, 0.8579603898377863, 0.8579603898377863, 0.8579603898377863, 0.8579603898377863, 0.8579603898377863, 0.8579603898377863, 0.8579603898377863, 0.8579603898377863, 0.8579603898377863, 0.8579603898377863, 0.8579603898377863, 0.8579603898377863, 0.8579603898377863, 0.8579603898377863, 0.8579603898377863, 0.8579603898377863, 0.8579603898377863, 0.8579603898377863, 0.8579603898377863, 0.8579603898377863, 0.8589526492853592, 0.8589526492853592, 0.8589526492853592, 0.8589526492853592, 0.8589526492853592, 0.8589526492853592, 0.8589526492853592]}], \"accuracy\": [{\"categories\": [\"0\", \"1\", \"2\", \"3\", \"4\", \"5\", \"6\", \"7\", \"8\", \"9\", \"10\", \"11\", \"12\", \"13\", \"14\", \"15\", \"16\", \"17\", \"18\", \"19\", \"20\", \"21\", \"22\", \"23\", \"24\", \"25\", \"26\", \"27\", \"28\", \"29\", \"30\", \"31\", \"32\", \"33\", \"34\", \"35\", \"36\", \"37\", \"38\", \"39\", \"40\", \"41\", \"42\", \"43\", \"44\", \"45\", \"46\", \"47\", \"48\", \"49\", \"50\", \"51\", \"52\", \"53\", \"54\", \"55\", \"56\", \"57\", \"58\", \"59\", \"60\", \"61\", \"65\", \"66\"], \"mode\": \"markers\", \"name\": \"accuracy\", \"stepped\": false, \"type\": \"scatter\", \"data\": [0.8528735632183908, 0.8294252873563218, 0.8395402298850575, 0.7790804597701151, 0.8294252873563218, 0.8328735632183909, 0.8190804597701149, 0.8429885057471266, 0.7725287356321838, 0.7458620689655173, 0.7859770114942529, 0.8260919540229885, 0.8160919540229885, 0.8326436781609197, 0.8262068965517242, 0.6285057471264367, 0.7726436781609196, 0.7789655172413793, 0.8058620689655174, 0.8493103448275863, 0.8293103448275863, 0.8158620689655173, 0.8393103448275863, 0.8462068965517242, 0.8325287356321839, 0.8293103448275863, 0.8393103448275863, 0.8426436781609196, 0.8060919540229886, 0.782528735632184, 0.5650574712643678, 0.8326436781609197, 0.8526436781609196, 0.8393103448275863, 0.8460919540229886, 0.6788505747126437, 0.859425287356322, 0.8495402298850575, 0.8427586206896553, 0.8391954022988506, 0.8427586206896553, 0.7855172413793103, 0.8360919540229886, 0.785632183908046, 0.8493103448275863, 0.7658620689655172, 0.8391954022988506, 0.7625287356321839, 0.8627586206896553, 0.8158620689655172, 0.6788505747126437, 0.8426436781609196, 0.8257471264367815, 0.835977011494253, 0.835977011494253, 0.8460919540229886, 0.8427586206896553, 0.8593103448275862, 0.8326436781609197, 0.8327586206896553, 0.859425287356322, 0.8527586206896552, 0.8527586206896552, 0.859425287356322]}, {\"categories\": [\"0\", \"1\", \"2\", \"3\", \"4\", \"5\", \"6\", \"7\", \"8\", \"9\", \"10\", \"11\", \"12\", \"13\", \"14\", \"15\", \"16\", \"17\", \"18\", \"19\", \"20\", \"21\", \"22\", \"23\", \"24\", \"25\", \"26\", \"27\", \"28\", \"29\", \"30\", \"31\", \"32\", \"33\", \"34\", \"35\", \"36\", \"37\", \"38\", \"39\", \"40\", \"41\", \"42\", \"43\", \"44\", \"45\", \"46\", \"47\", \"48\", \"49\", \"50\", \"51\", \"52\", \"53\", \"54\", \"55\", \"56\", \"57\", \"58\", \"59\", \"60\", \"61\", \"65\", \"66\"], \"mode\": \"lines\", \"name\": \"accuracy_max\", \"stepped\": true, \"type\": \"scatter\", \"data\": [0.8528735632183908, 0.8528735632183908, 0.8528735632183908, 0.8528735632183908, 0.8528735632183908, 0.8528735632183908, 0.8528735632183908, 0.8528735632183908, 0.8528735632183908, 0.8528735632183908, 0.8528735632183908, 0.8528735632183908, 0.8528735632183908, 0.8528735632183908, 0.8528735632183908, 0.8528735632183908, 0.8528735632183908, 0.8528735632183908, 0.8528735632183908, 0.8528735632183908, 0.8528735632183908, 0.8528735632183908, 0.8528735632183908, 0.8528735632183908, 0.8528735632183908, 0.8528735632183908, 0.8528735632183908, 0.8528735632183908, 0.8528735632183908, 0.8528735632183908, 0.8528735632183908, 0.8528735632183908, 0.8528735632183908, 0.8528735632183908, 0.8528735632183908, 0.8528735632183908, 0.859425287356322, 0.859425287356322, 0.859425287356322, 0.859425287356322, 0.859425287356322, 0.859425287356322, 0.859425287356322, 0.859425287356322, 0.859425287356322, 0.859425287356322, 0.859425287356322, 0.859425287356322, 0.8627586206896553, 0.8627586206896553, 0.8627586206896553, 0.8627586206896553, 0.8627586206896553, 0.8627586206896553, 0.8627586206896553, 0.8627586206896553, 0.8627586206896553, 0.8627586206896553, 0.8627586206896553, 0.8627586206896553, 0.8627586206896553, 0.8627586206896553, 0.8627586206896553, 0.8627586206896553]}], \"precision_score_micro\": [{\"categories\": [\"0\", \"1\", \"2\", \"3\", \"4\", \"5\", \"6\", \"7\", \"8\", \"9\", \"10\", \"11\", \"12\", \"13\", \"14\", \"15\", \"16\", \"17\", \"18\", \"19\", \"20\", \"21\", \"22\", \"23\", \"24\", \"25\", \"26\", \"27\", \"28\", \"29\", \"30\", \"31\", \"32\", \"33\", \"34\", \"35\", \"36\", \"37\", \"38\", \"39\", \"40\", \"41\", \"42\", \"43\", \"44\", \"45\", \"46\", \"47\", \"48\", \"49\", \"50\", \"51\", \"52\", \"53\", \"54\", \"55\", \"56\", \"57\", \"58\", \"59\", \"60\", \"61\", \"65\", \"66\"], \"mode\": \"markers\", \"name\": \"precision_score_micro\", \"stepped\": false, \"type\": \"scatter\", \"data\": [0.8528735632183908, 0.8294252873563218, 0.8395402298850575, 0.7790804597701151, 0.8294252873563218, 0.8328735632183909, 0.8190804597701149, 0.8429885057471266, 0.7725287356321838, 0.7458620689655173, 0.7859770114942529, 0.8260919540229885, 0.8160919540229885, 0.8326436781609197, 0.8262068965517242, 0.6285057471264367, 0.7726436781609196, 0.7789655172413793, 0.8058620689655174, 0.8493103448275863, 0.8293103448275863, 0.8158620689655173, 0.8393103448275863, 0.8462068965517242, 0.8325287356321839, 0.8293103448275863, 0.8393103448275863, 0.8426436781609196, 0.8060919540229886, 0.782528735632184, 0.5650574712643678, 0.8326436781609197, 0.8526436781609196, 0.8393103448275863, 0.8460919540229886, 0.6788505747126437, 0.859425287356322, 0.8495402298850575, 0.8427586206896553, 0.8391954022988506, 0.8427586206896553, 0.7855172413793103, 0.8360919540229886, 0.785632183908046, 0.8493103448275863, 0.7658620689655172, 0.8391954022988506, 0.7625287356321839, 0.8627586206896553, 0.8158620689655172, 0.6788505747126437, 0.8426436781609196, 0.8257471264367815, 0.835977011494253, 0.835977011494253, 0.8460919540229886, 0.8427586206896553, 0.8593103448275862, 0.8326436781609197, 0.8327586206896553, 0.859425287356322, 0.8527586206896552, 0.8527586206896552, 0.859425287356322]}, {\"categories\": [\"0\", \"1\", \"2\", \"3\", \"4\", \"5\", \"6\", \"7\", \"8\", \"9\", \"10\", \"11\", \"12\", \"13\", \"14\", \"15\", \"16\", \"17\", \"18\", \"19\", \"20\", \"21\", \"22\", \"23\", \"24\", \"25\", \"26\", \"27\", \"28\", \"29\", \"30\", \"31\", \"32\", \"33\", \"34\", \"35\", \"36\", \"37\", \"38\", \"39\", \"40\", \"41\", \"42\", \"43\", \"44\", \"45\", \"46\", \"47\", \"48\", \"49\", \"50\", \"51\", \"52\", \"53\", \"54\", \"55\", \"56\", \"57\", \"58\", \"59\", \"60\", \"61\", \"65\", \"66\"], \"mode\": \"lines\", \"name\": \"precision_score_micro_max\", \"stepped\": true, \"type\": \"scatter\", \"data\": [0.8528735632183908, 0.8528735632183908, 0.8528735632183908, 0.8528735632183908, 0.8528735632183908, 0.8528735632183908, 0.8528735632183908, 0.8528735632183908, 0.8528735632183908, 0.8528735632183908, 0.8528735632183908, 0.8528735632183908, 0.8528735632183908, 0.8528735632183908, 0.8528735632183908, 0.8528735632183908, 0.8528735632183908, 0.8528735632183908, 0.8528735632183908, 0.8528735632183908, 0.8528735632183908, 0.8528735632183908, 0.8528735632183908, 0.8528735632183908, 0.8528735632183908, 0.8528735632183908, 0.8528735632183908, 0.8528735632183908, 0.8528735632183908, 0.8528735632183908, 0.8528735632183908, 0.8528735632183908, 0.8528735632183908, 0.8528735632183908, 0.8528735632183908, 0.8528735632183908, 0.859425287356322, 0.859425287356322, 0.859425287356322, 0.859425287356322, 0.859425287356322, 0.859425287356322, 0.859425287356322, 0.859425287356322, 0.859425287356322, 0.859425287356322, 0.859425287356322, 0.859425287356322, 0.8627586206896553, 0.8627586206896553, 0.8627586206896553, 0.8627586206896553, 0.8627586206896553, 0.8627586206896553, 0.8627586206896553, 0.8627586206896553, 0.8627586206896553, 0.8627586206896553, 0.8627586206896553, 0.8627586206896553, 0.8627586206896553, 0.8627586206896553, 0.8627586206896553, 0.8627586206896553]}], \"AUC_macro\": [{\"categories\": [\"0\", \"1\", \"2\", \"3\", \"4\", \"5\", \"6\", \"7\", \"8\", \"9\", \"10\", \"11\", \"12\", \"13\", \"14\", \"15\", \"16\", \"17\", \"18\", \"19\", \"20\", \"21\", \"22\", \"23\", \"24\", \"25\", \"26\", \"27\", \"28\", \"29\", \"30\", \"31\", \"32\", \"33\", \"34\", \"35\", \"36\", \"37\", \"38\", \"39\", \"40\", \"41\", \"42\", \"43\", \"44\", \"45\", \"46\", \"47\", \"48\", \"49\", \"50\", \"51\", \"52\", \"53\", \"54\", \"55\", \"56\", \"57\", \"58\", \"59\", \"60\", \"61\", \"65\", \"66\"], \"mode\": \"markers\", \"name\": \"AUC_macro\", \"stepped\": false, \"type\": \"scatter\", \"data\": [0.8821828799692835, 0.8717221751769996, 0.8902291256339503, 0.8662675759263478, 0.8955229574356768, 0.8902291197269268, 0.8794012741238617, 0.8884647751533716, 0.8524901753542105, 0.7206919107533143, 0.8737241430596694, 0.8739789391407813, 0.8887351208408226, 0.8556997525379106, 0.8745539977890855, 0.5682040669856459, 0.8848061087061089, 0.8058053239158502, 0.8795738861041492, 0.8910373120300752, 0.8804531089930212, 0.8613188360210291, 0.8682106784216433, 0.8973941615402141, 0.891035960482013, 0.8996359237740817, 0.888847718201227, 0.8863933562863388, 0.882008358438183, 0.8790603139793929, 0.5310847504915488, 0.8666095442731407, 0.8879566236719745, 0.901213952389391, 0.898569820384294, 0.7507994707939883, 0.903758793237302, 0.9058418550585218, 0.890511946111069, 0.8882495875631842, 0.8927375363914838, 0.8550003231985688, 0.8838928788722648, 0.8531973466916447, 0.9071928229665073, 0.8804885395306448, 0.8583294319553092, 0.8733847856172418, 0.8884856370724792, 0.8935139871986364, 0.8588060055441634, 0.8919533248103424, 0.8920257592634787, 0.8806262895243158, 0.8647987171210856, 0.8980909350396192, 0.8849295241470682, 0.9028388473287595, 0.8907180683189454, 0.8602514771777929, 0.8950422807861406, 0.8983043102284329, 0.9142689931900458, 0.9082386140013332]}, {\"categories\": [\"0\", \"1\", \"2\", \"3\", \"4\", \"5\", \"6\", \"7\", \"8\", \"9\", \"10\", \"11\", \"12\", \"13\", \"14\", \"15\", \"16\", \"17\", \"18\", \"19\", \"20\", \"21\", \"22\", \"23\", \"24\", \"25\", \"26\", \"27\", \"28\", \"29\", \"30\", \"31\", \"32\", \"33\", \"34\", \"35\", \"36\", \"37\", \"38\", \"39\", \"40\", \"41\", \"42\", \"43\", \"44\", \"45\", \"46\", \"47\", \"48\", \"49\", \"50\", \"51\", \"52\", \"53\", \"54\", \"55\", \"56\", \"57\", \"58\", \"59\", \"60\", \"61\", \"65\", \"66\"], \"mode\": \"lines\", \"name\": \"AUC_macro_max\", \"stepped\": true, \"type\": \"scatter\", \"data\": [0.8821828799692835, 0.8821828799692835, 0.8902291256339503, 0.8902291256339503, 0.8955229574356768, 0.8955229574356768, 0.8955229574356768, 0.8955229574356768, 0.8955229574356768, 0.8955229574356768, 0.8955229574356768, 0.8955229574356768, 0.8955229574356768, 0.8955229574356768, 0.8955229574356768, 0.8955229574356768, 0.8955229574356768, 0.8955229574356768, 0.8955229574356768, 0.8955229574356768, 0.8955229574356768, 0.8955229574356768, 0.8955229574356768, 0.8973941615402141, 0.8973941615402141, 0.8996359237740817, 0.8996359237740817, 0.8996359237740817, 0.8996359237740817, 0.8996359237740817, 0.8996359237740817, 0.8996359237740817, 0.8996359237740817, 0.901213952389391, 0.901213952389391, 0.901213952389391, 0.903758793237302, 0.9058418550585218, 0.9058418550585218, 0.9058418550585218, 0.9058418550585218, 0.9058418550585218, 0.9058418550585218, 0.9058418550585218, 0.9071928229665073, 0.9071928229665073, 0.9071928229665073, 0.9071928229665073, 0.9071928229665073, 0.9071928229665073, 0.9071928229665073, 0.9071928229665073, 0.9071928229665073, 0.9071928229665073, 0.9071928229665073, 0.9071928229665073, 0.9071928229665073, 0.9071928229665073, 0.9071928229665073, 0.9071928229665073, 0.9071928229665073, 0.9071928229665073, 0.9142689931900458, 0.9142689931900458]}], \"average_precision_score_micro\": [{\"categories\": [\"0\", \"1\", \"2\", \"3\", \"4\", \"5\", \"6\", \"7\", \"8\", \"9\", \"10\", \"11\", \"12\", \"13\", \"14\", \"15\", \"16\", \"17\", \"18\", \"19\", \"20\", \"21\", \"22\", \"23\", \"24\", \"25\", \"26\", \"27\", \"28\", \"29\", \"30\", \"31\", \"32\", \"33\", \"34\", \"35\", \"36\", \"37\", \"38\", \"39\", \"40\", \"41\", \"42\", \"43\", \"44\", \"45\", \"46\", \"47\", \"48\", \"49\", \"50\", \"51\", \"52\", \"53\", \"54\", \"55\", \"56\", \"57\", \"58\", \"59\", \"60\", \"61\", \"65\", \"66\"], \"mode\": \"markers\", \"name\": \"average_precision_score_micro\", \"stepped\": false, \"type\": \"scatter\", \"data\": [0.9103669076530551, 0.9004445736495577, 0.9118869087155588, 0.8812555227076346, 0.912364398879045, 0.9078850197606396, 0.9037081330368137, 0.909234319839828, 0.8790735590739269, 0.7813566999467227, 0.8813051184446039, 0.8997188149943478, 0.8994316414335355, 0.8944614377281436, 0.8997641337262425, 0.6617596005896169, 0.884847497292925, 0.8446320138917403, 0.9035466990289116, 0.9061806910640101, 0.9068301414565362, 0.8938531804262826, 0.9001082382679287, 0.9160245465094341, 0.9088885559393137, 0.912757792897567, 0.911970392980653, 0.9089734653571823, 0.9005858243660473, 0.8800913797727834, 0.5406742629718034, 0.8916406560298794, 0.9164118316058982, 0.9146457551144304, 0.9192587434132807, 0.7685807380487922, 0.9239819080924315, 0.9202458655760928, 0.9071772438699581, 0.9130040453997348, 0.9161858660452348, 0.8688696834918475, 0.9088619687207844, 0.867452744239705, 0.9225827076115689, 0.87451912914359, 0.8939249702065734, 0.8763471451154098, 0.9092705865683725, 0.911640861725368, 0.8466030562216542, 0.9143208721917967, 0.9092837958158674, 0.8962035273053898, 0.8941205431006105, 0.9158392801365972, 0.9108643870945272, 0.9228155160322766, 0.915826693565668, 0.8941429853908958, 0.919917438285853, 0.9189102813314971, 0.9278767762512103, 0.9235707105776246]}, {\"categories\": [\"0\", \"1\", \"2\", \"3\", \"4\", \"5\", \"6\", \"7\", \"8\", \"9\", \"10\", \"11\", \"12\", \"13\", \"14\", \"15\", \"16\", \"17\", \"18\", \"19\", \"20\", \"21\", \"22\", \"23\", \"24\", \"25\", \"26\", \"27\", \"28\", \"29\", \"30\", \"31\", \"32\", \"33\", \"34\", \"35\", \"36\", \"37\", \"38\", \"39\", \"40\", \"41\", \"42\", \"43\", \"44\", \"45\", \"46\", \"47\", \"48\", \"49\", \"50\", \"51\", \"52\", \"53\", \"54\", \"55\", \"56\", \"57\", \"58\", \"59\", \"60\", \"61\", \"65\", \"66\"], \"mode\": \"lines\", \"name\": \"average_precision_score_micro_max\", \"stepped\": true, \"type\": \"scatter\", \"data\": [0.9103669076530551, 0.9103669076530551, 0.9118869087155588, 0.9118869087155588, 0.912364398879045, 0.912364398879045, 0.912364398879045, 0.912364398879045, 0.912364398879045, 0.912364398879045, 0.912364398879045, 0.912364398879045, 0.912364398879045, 0.912364398879045, 0.912364398879045, 0.912364398879045, 0.912364398879045, 0.912364398879045, 0.912364398879045, 0.912364398879045, 0.912364398879045, 0.912364398879045, 0.912364398879045, 0.9160245465094341, 0.9160245465094341, 0.9160245465094341, 0.9160245465094341, 0.9160245465094341, 0.9160245465094341, 0.9160245465094341, 0.9160245465094341, 0.9160245465094341, 0.9164118316058982, 0.9164118316058982, 0.9192587434132807, 0.9192587434132807, 0.9239819080924315, 0.9239819080924315, 0.9239819080924315, 0.9239819080924315, 0.9239819080924315, 0.9239819080924315, 0.9239819080924315, 0.9239819080924315, 0.9239819080924315, 0.9239819080924315, 0.9239819080924315, 0.9239819080924315, 0.9239819080924315, 0.9239819080924315, 0.9239819080924315, 0.9239819080924315, 0.9239819080924315, 0.9239819080924315, 0.9239819080924315, 0.9239819080924315, 0.9239819080924315, 0.9239819080924315, 0.9239819080924315, 0.9239819080924315, 0.9239819080924315, 0.9239819080924315, 0.9278767762512103, 0.9278767762512103]}], \"recall_score_micro\": [{\"categories\": [\"0\", \"1\", \"2\", \"3\", \"4\", \"5\", \"6\", \"7\", \"8\", \"9\", \"10\", \"11\", \"12\", \"13\", \"14\", \"15\", \"16\", \"17\", \"18\", \"19\", \"20\", \"21\", \"22\", \"23\", \"24\", \"25\", \"26\", \"27\", \"28\", \"29\", \"30\", \"31\", \"32\", \"33\", \"34\", \"35\", \"36\", \"37\", \"38\", \"39\", \"40\", \"41\", \"42\", \"43\", \"44\", \"45\", \"46\", \"47\", \"48\", \"49\", \"50\", \"51\", \"52\", \"53\", \"54\", \"55\", \"56\", \"57\", \"58\", \"59\", \"60\", \"61\", \"65\", \"66\"], \"mode\": \"markers\", \"name\": \"recall_score_micro\", \"stepped\": false, \"type\": \"scatter\", \"data\": [0.8528735632183908, 0.8294252873563218, 0.8395402298850575, 0.7790804597701151, 0.8294252873563218, 0.8328735632183909, 0.8190804597701149, 0.8429885057471266, 0.7725287356321838, 0.7458620689655173, 0.7859770114942529, 0.8260919540229885, 0.8160919540229885, 0.8326436781609197, 0.8262068965517242, 0.6285057471264367, 0.7726436781609196, 0.7789655172413793, 0.8058620689655174, 0.8493103448275863, 0.8293103448275863, 0.8158620689655173, 0.8393103448275863, 0.8462068965517242, 0.8325287356321839, 0.8293103448275863, 0.8393103448275863, 0.8426436781609196, 0.8060919540229886, 0.782528735632184, 0.5650574712643678, 0.8326436781609197, 0.8526436781609196, 0.8393103448275863, 0.8460919540229886, 0.6788505747126437, 0.859425287356322, 0.8495402298850575, 0.8427586206896553, 0.8391954022988506, 0.8427586206896553, 0.7855172413793103, 0.8360919540229886, 0.785632183908046, 0.8493103448275863, 0.7658620689655172, 0.8391954022988506, 0.7625287356321839, 0.8627586206896553, 0.8158620689655172, 0.6788505747126437, 0.8426436781609196, 0.8257471264367815, 0.835977011494253, 0.835977011494253, 0.8460919540229886, 0.8427586206896553, 0.8593103448275862, 0.8326436781609197, 0.8327586206896553, 0.859425287356322, 0.8527586206896552, 0.8527586206896552, 0.859425287356322]}, {\"categories\": [\"0\", \"1\", \"2\", \"3\", \"4\", \"5\", \"6\", \"7\", \"8\", \"9\", \"10\", \"11\", \"12\", \"13\", \"14\", \"15\", \"16\", \"17\", \"18\", \"19\", \"20\", \"21\", \"22\", \"23\", \"24\", \"25\", \"26\", \"27\", \"28\", \"29\", \"30\", \"31\", \"32\", \"33\", \"34\", \"35\", \"36\", \"37\", \"38\", \"39\", \"40\", \"41\", \"42\", \"43\", \"44\", \"45\", \"46\", \"47\", \"48\", \"49\", \"50\", \"51\", \"52\", \"53\", \"54\", \"55\", \"56\", \"57\", \"58\", \"59\", \"60\", \"61\", \"65\", \"66\"], \"mode\": \"lines\", \"name\": \"recall_score_micro_max\", \"stepped\": true, \"type\": \"scatter\", \"data\": [0.8528735632183908, 0.8528735632183908, 0.8528735632183908, 0.8528735632183908, 0.8528735632183908, 0.8528735632183908, 0.8528735632183908, 0.8528735632183908, 0.8528735632183908, 0.8528735632183908, 0.8528735632183908, 0.8528735632183908, 0.8528735632183908, 0.8528735632183908, 0.8528735632183908, 0.8528735632183908, 0.8528735632183908, 0.8528735632183908, 0.8528735632183908, 0.8528735632183908, 0.8528735632183908, 0.8528735632183908, 0.8528735632183908, 0.8528735632183908, 0.8528735632183908, 0.8528735632183908, 0.8528735632183908, 0.8528735632183908, 0.8528735632183908, 0.8528735632183908, 0.8528735632183908, 0.8528735632183908, 0.8528735632183908, 0.8528735632183908, 0.8528735632183908, 0.8528735632183908, 0.859425287356322, 0.859425287356322, 0.859425287356322, 0.859425287356322, 0.859425287356322, 0.859425287356322, 0.859425287356322, 0.859425287356322, 0.859425287356322, 0.859425287356322, 0.859425287356322, 0.859425287356322, 0.8627586206896553, 0.8627586206896553, 0.8627586206896553, 0.8627586206896553, 0.8627586206896553, 0.8627586206896553, 0.8627586206896553, 0.8627586206896553, 0.8627586206896553, 0.8627586206896553, 0.8627586206896553, 0.8627586206896553, 0.8627586206896553, 0.8627586206896553, 0.8627586206896553, 0.8627586206896553]}], \"precision_score_macro\": [{\"categories\": [\"0\", \"1\", \"2\", \"3\", \"4\", \"5\", \"6\", \"7\", \"8\", \"9\", \"10\", \"11\", \"12\", \"13\", \"14\", \"15\", \"16\", \"17\", \"18\", \"19\", \"20\", \"21\", \"22\", \"23\", \"24\", \"25\", \"26\", \"27\", \"28\", \"29\", \"30\", \"31\", \"32\", \"33\", \"34\", \"35\", \"36\", \"37\", \"38\", \"39\", \"40\", \"41\", \"42\", \"43\", \"44\", \"45\", \"46\", \"47\", \"48\", \"49\", \"50\", \"51\", \"52\", \"53\", \"54\", \"55\", \"56\", \"57\", \"58\", \"59\", \"60\", \"61\", \"65\", \"66\"], \"mode\": \"markers\", \"name\": \"precision_score_macro\", \"stepped\": false, \"type\": \"scatter\", \"data\": [0.8478050569440729, 0.8122953918062613, 0.8075360641786136, 0.7884469789331109, 0.7964665135059872, 0.8091735679779157, 0.7826603289074685, 0.8243446300076736, 0.7789051821769213, 0.744199567364529, 0.78924805271357, 0.8379071766564271, 0.7792520733194108, 0.7992070374772623, 0.792864530550289, 0.5712756934053786, 0.7555711852559679, 0.7381512736900407, 0.7700606093253152, 0.8247982357078467, 0.7826917810556255, 0.7703000525427669, 0.7912749151781997, 0.82500596435093, 0.8007284382284382, 0.7849041624010664, 0.7883662395968898, 0.8285837452656674, 0.8044817578723127, 0.8108141340169077, 0.5065367392923255, 0.8127270085622488, 0.8381973484094132, 0.7927896313925726, 0.834886171917459, 0.3394252873563218, 0.844122829932721, 0.8408627858832032, 0.8269372294372295, 0.8025655938264633, 0.8164113273269956, 0.7491568322981367, 0.8063206077336511, 0.7507035086609896, 0.8362441501964897, 0.7637610276058553, 0.7914851177088018, 0.7632062828475873, 0.8615288122671931, 0.7813357104282026, 0.3394252873563218, 0.8046014657856764, 0.7914106633533877, 0.8150964615095051, 0.8164303132666978, 0.8151397749424065, 0.8280021075415812, 0.8437009891329114, 0.790358743566948, 0.7933712875288962, 0.8507578737687433, 0.815370148856991, 0.8375678060092762, 0.8447754083484573]}, {\"categories\": [\"0\", \"1\", \"2\", \"3\", \"4\", \"5\", \"6\", \"7\", \"8\", \"9\", \"10\", \"11\", \"12\", \"13\", \"14\", \"15\", \"16\", \"17\", \"18\", \"19\", \"20\", \"21\", \"22\", \"23\", \"24\", \"25\", \"26\", \"27\", \"28\", \"29\", \"30\", \"31\", \"32\", \"33\", \"34\", \"35\", \"36\", \"37\", \"38\", \"39\", \"40\", \"41\", \"42\", \"43\", \"44\", \"45\", \"46\", \"47\", \"48\", \"49\", \"50\", \"51\", \"52\", \"53\", \"54\", \"55\", \"56\", \"57\", \"58\", \"59\", \"60\", \"61\", \"65\", \"66\"], \"mode\": \"lines\", \"name\": \"precision_score_macro_max\", \"stepped\": true, \"type\": \"scatter\", \"data\": [0.8478050569440729, 0.8478050569440729, 0.8478050569440729, 0.8478050569440729, 0.8478050569440729, 0.8478050569440729, 0.8478050569440729, 0.8478050569440729, 0.8478050569440729, 0.8478050569440729, 0.8478050569440729, 0.8478050569440729, 0.8478050569440729, 0.8478050569440729, 0.8478050569440729, 0.8478050569440729, 0.8478050569440729, 0.8478050569440729, 0.8478050569440729, 0.8478050569440729, 0.8478050569440729, 0.8478050569440729, 0.8478050569440729, 0.8478050569440729, 0.8478050569440729, 0.8478050569440729, 0.8478050569440729, 0.8478050569440729, 0.8478050569440729, 0.8478050569440729, 0.8478050569440729, 0.8478050569440729, 0.8478050569440729, 0.8478050569440729, 0.8478050569440729, 0.8478050569440729, 0.8478050569440729, 0.8478050569440729, 0.8478050569440729, 0.8478050569440729, 0.8478050569440729, 0.8478050569440729, 0.8478050569440729, 0.8478050569440729, 0.8478050569440729, 0.8478050569440729, 0.8478050569440729, 0.8478050569440729, 0.8615288122671931, 0.8615288122671931, 0.8615288122671931, 0.8615288122671931, 0.8615288122671931, 0.8615288122671931, 0.8615288122671931, 0.8615288122671931, 0.8615288122671931, 0.8615288122671931, 0.8615288122671931, 0.8615288122671931, 0.8615288122671931, 0.8615288122671931, 0.8615288122671931, 0.8615288122671931]}], \"matthews_correlation\": [{\"categories\": [\"0\", \"1\", \"2\", \"3\", \"4\", \"5\", \"6\", \"7\", \"8\", \"9\", \"10\", \"11\", \"12\", \"13\", \"14\", \"15\", \"16\", \"17\", \"18\", \"19\", \"20\", \"21\", \"22\", \"23\", \"24\", \"25\", \"26\", \"27\", \"28\", \"29\", \"30\", \"31\", \"32\", \"33\", \"34\", \"35\", \"36\", \"37\", \"38\", \"39\", \"40\", \"41\", \"42\", \"43\", \"44\", \"45\", \"46\", \"47\", \"48\", \"49\", \"50\", \"51\", \"52\", \"53\", \"54\", \"55\", \"56\", \"57\", \"58\", \"59\", \"60\", \"61\", \"65\", \"66\"], \"mode\": \"markers\", \"name\": \"matthews_correlation\", \"stepped\": false, \"type\": \"scatter\", \"data\": [0.6513585985756285, 0.5937735919757674, 0.5899552402613817, 0.43545178836281123, 0.5900521744074496, 0.5770083098604387, 0.5475630295760769, 0.5867540779260861, 0.4235695138805674, 0.3852790267030642, 0.43959008707729064, 0.559314240825687, 0.5676071787282175, 0.5771971593854668, 0.5975146261305292, 0.08676087080200032, 0.3912286073956251, 0.48428143181413114, 0.5592331070939178, 0.6141447474571213, 0.5555628947477901, 0.5548497107776933, 0.5755003193835875, 0.6139239635804488, 0.6209881150493257, 0.5571478430930555, 0.5749184971420271, 0.6255909280822098, 0.5067112165906238, 0.45707505722750474, 0.018954841062000117, 0.5760353274198813, 0.628377184618979, 0.5975434974358846, 0.6102395453447106, 0.0, 0.6426111711825768, 0.6201972194449795, 0.5933627722655656, 0.5761578997390775, 0.6189094723520433, 0.5033681113888724, 0.5810575123708339, 0.508160459414224, 0.617453941004869, 0.37387114357643386, 0.579131935796038, 0.4072216815624655, 0.6395498592959452, 0.5698490763209458, 0.0, 0.5893802169501663, 0.5889990029603319, 0.5762679910908157, 0.5784603311585567, 0.622304107786229, 0.6271880594600877, 0.6588862634125925, 0.5897284737381292, 0.5887785155043362, 0.6552402946789678, 0.6141662801216219, 0.6269813379144187, 0.6442160871266542]}, {\"categories\": [\"0\", \"1\", \"2\", \"3\", \"4\", \"5\", \"6\", \"7\", \"8\", \"9\", \"10\", \"11\", \"12\", \"13\", \"14\", \"15\", \"16\", \"17\", \"18\", \"19\", \"20\", \"21\", \"22\", \"23\", \"24\", \"25\", \"26\", \"27\", \"28\", \"29\", \"30\", \"31\", \"32\", \"33\", \"34\", \"35\", \"36\", \"37\", \"38\", \"39\", \"40\", \"41\", \"42\", \"43\", \"44\", \"45\", \"46\", \"47\", \"48\", \"49\", \"50\", \"51\", \"52\", \"53\", \"54\", \"55\", \"56\", \"57\", \"58\", \"59\", \"60\", \"61\", \"65\", \"66\"], \"mode\": \"lines\", \"name\": \"matthews_correlation_max\", \"stepped\": true, \"type\": \"scatter\", \"data\": [0.6513585985756285, 0.6513585985756285, 0.6513585985756285, 0.6513585985756285, 0.6513585985756285, 0.6513585985756285, 0.6513585985756285, 0.6513585985756285, 0.6513585985756285, 0.6513585985756285, 0.6513585985756285, 0.6513585985756285, 0.6513585985756285, 0.6513585985756285, 0.6513585985756285, 0.6513585985756285, 0.6513585985756285, 0.6513585985756285, 0.6513585985756285, 0.6513585985756285, 0.6513585985756285, 0.6513585985756285, 0.6513585985756285, 0.6513585985756285, 0.6513585985756285, 0.6513585985756285, 0.6513585985756285, 0.6513585985756285, 0.6513585985756285, 0.6513585985756285, 0.6513585985756285, 0.6513585985756285, 0.6513585985756285, 0.6513585985756285, 0.6513585985756285, 0.6513585985756285, 0.6513585985756285, 0.6513585985756285, 0.6513585985756285, 0.6513585985756285, 0.6513585985756285, 0.6513585985756285, 0.6513585985756285, 0.6513585985756285, 0.6513585985756285, 0.6513585985756285, 0.6513585985756285, 0.6513585985756285, 0.6513585985756285, 0.6513585985756285, 0.6513585985756285, 0.6513585985756285, 0.6513585985756285, 0.6513585985756285, 0.6513585985756285, 0.6513585985756285, 0.6513585985756285, 0.6588862634125925, 0.6588862634125925, 0.6588862634125925, 0.6588862634125925, 0.6588862634125925, 0.6588862634125925, 0.6588862634125925]}], \"weighted_accuracy\": [{\"categories\": [\"0\", \"1\", \"2\", \"3\", \"4\", \"5\", \"6\", \"7\", \"8\", \"9\", \"10\", \"11\", \"12\", \"13\", \"14\", \"15\", \"16\", \"17\", \"18\", \"19\", \"20\", \"21\", \"22\", \"23\", \"24\", \"25\", \"26\", \"27\", \"28\", \"29\", \"30\", \"31\", \"32\", \"33\", \"34\", \"35\", \"36\", \"37\", \"38\", \"39\", \"40\", \"41\", \"42\", \"43\", \"44\", \"45\", \"46\", \"47\", \"48\", \"49\", \"50\", \"51\", \"52\", \"53\", \"54\", \"55\", \"56\", \"57\", \"58\", \"59\", \"60\", \"61\", \"65\", \"66\"], \"mode\": \"markers\", \"name\": \"weighted_accuracy\", \"stepped\": false, \"type\": \"scatter\", \"data\": [0.8769762059573883, 0.8518333326626155, 0.864963996999356, 0.8422353138850169, 0.8434300549555234, 0.8633241462813632, 0.8450735857179682, 0.8807590175761366, 0.8363084571987425, 0.79811009672, 0.8543438466368289, 0.8740188458100769, 0.8207251163775313, 0.8602703040838626, 0.833892312434774, 0.6902207630720387, 0.8398673363658515, 0.7941568056630671, 0.8112609561682593, 0.8761083073971199, 0.8533550021937015, 0.8268253054281361, 0.8612107868865448, 0.8713367374961294, 0.8349482481174189, 0.851448442599206, 0.8585530309489254, 0.8651649275736272, 0.8550948076408214, 0.84246598706419, 0.5944566843756138, 0.8640161812341972, 0.8754404686516176, 0.8480794639903383, 0.8750999999914502, 0.7870991149539355, 0.8808579492964019, 0.8774096665254157, 0.8784254345186865, 0.867766437030608, 0.8628604009288295, 0.7982217135761351, 0.8658984059924532, 0.7958346798987103, 0.8757530607462389, 0.8384640318077861, 0.8581966299487952, 0.8232469926255599, 0.8985350716259493, 0.8243532014667897, 0.7870991149539355, 0.8678959273670793, 0.8340818951335226, 0.8709910481869434, 0.8702809709587094, 0.8646636024523883, 0.8637992921367452, 0.8795375837494644, 0.8416692075800821, 0.8483545344820511, 0.887715191970168, 0.874893224598581, 0.8761885237155441, 0.8801948193229272]}, {\"categories\": [\"0\", \"1\", \"2\", \"3\", \"4\", \"5\", \"6\", \"7\", \"8\", \"9\", \"10\", \"11\", \"12\", \"13\", \"14\", \"15\", \"16\", \"17\", \"18\", \"19\", \"20\", \"21\", \"22\", \"23\", \"24\", \"25\", \"26\", \"27\", \"28\", \"29\", \"30\", \"31\", \"32\", \"33\", \"34\", \"35\", \"36\", \"37\", \"38\", \"39\", \"40\", \"41\", \"42\", \"43\", \"44\", \"45\", \"46\", \"47\", \"48\", \"49\", \"50\", \"51\", \"52\", \"53\", \"54\", \"55\", \"56\", \"57\", \"58\", \"59\", \"60\", \"61\", \"65\", \"66\"], \"mode\": \"lines\", \"name\": \"weighted_accuracy_max\", \"stepped\": true, \"type\": \"scatter\", \"data\": [0.8769762059573883, 0.8769762059573883, 0.8769762059573883, 0.8769762059573883, 0.8769762059573883, 0.8769762059573883, 0.8769762059573883, 0.8807590175761366, 0.8807590175761366, 0.8807590175761366, 0.8807590175761366, 0.8807590175761366, 0.8807590175761366, 0.8807590175761366, 0.8807590175761366, 0.8807590175761366, 0.8807590175761366, 0.8807590175761366, 0.8807590175761366, 0.8807590175761366, 0.8807590175761366, 0.8807590175761366, 0.8807590175761366, 0.8807590175761366, 0.8807590175761366, 0.8807590175761366, 0.8807590175761366, 0.8807590175761366, 0.8807590175761366, 0.8807590175761366, 0.8807590175761366, 0.8807590175761366, 0.8807590175761366, 0.8807590175761366, 0.8807590175761366, 0.8807590175761366, 0.8808579492964019, 0.8808579492964019, 0.8808579492964019, 0.8808579492964019, 0.8808579492964019, 0.8808579492964019, 0.8808579492964019, 0.8808579492964019, 0.8808579492964019, 0.8808579492964019, 0.8808579492964019, 0.8808579492964019, 0.8985350716259493, 0.8985350716259493, 0.8985350716259493, 0.8985350716259493, 0.8985350716259493, 0.8985350716259493, 0.8985350716259493, 0.8985350716259493, 0.8985350716259493, 0.8985350716259493, 0.8985350716259493, 0.8985350716259493, 0.8985350716259493, 0.8985350716259493, 0.8985350716259493, 0.8985350716259493]}], \"balanced_accuracy\": [{\"categories\": [\"0\", \"1\", \"2\", \"3\", \"4\", \"5\", \"6\", \"7\", \"8\", \"9\", \"10\", \"11\", \"12\", \"13\", \"14\", \"15\", \"16\", \"17\", \"18\", \"19\", \"20\", \"21\", \"22\", \"23\", \"24\", \"25\", \"26\", \"27\", \"28\", \"29\", \"30\", \"31\", \"32\", \"33\", \"34\", \"35\", \"36\", \"37\", \"38\", \"39\", \"40\", \"41\", \"42\", \"43\", \"44\", \"45\", \"46\", \"47\", \"48\", \"49\", \"50\", \"51\", \"52\", \"53\", \"54\", \"55\", \"56\", \"57\", \"58\", \"59\", \"60\", \"61\", \"65\", \"66\"], \"mode\": \"markers\", \"name\": \"balanced_accuracy\", \"stepped\": false, \"type\": \"scatter\", \"data\": [0.8069458209918737, 0.7833175837320574, 0.784244101415154, 0.6714268372952583, 0.7948176185413028, 0.7705746689957216, 0.7666104528999265, 0.7671177691704008, 0.6637939007873218, 0.6557719298245613, 0.6671060352902459, 0.7363991797676008, 0.7888312511075668, 0.7804967121085542, 0.8053982367535, 0.5252898249411408, 0.6494119864054075, 0.7471865047720312, 0.7917484937090201, 0.7917290701501227, 0.7730965640110378, 0.7858112895876055, 0.784603332827017, 0.7915544669755196, 0.8215646470975418, 0.773247658287132, 0.7868573010809852, 0.7992983690286322, 0.7150250056960583, 0.6780100250626566, 0.514905157464368, 0.7670306574517102, 0.7983438235740867, 0.8051847864611024, 0.7835850706311233, 0.5, 0.8063664559125087, 0.7881124876585404, 0.770991050859472, 0.7750359832662465, 0.8034205431508064, 0.7554401818941292, 0.7764549600010126, 0.758654467608415, 0.7893026980329612, 0.6354518493202704, 0.7880319042555884, 0.661259724437356, 0.7881524265208475, 0.7896032220703273, 0.5, 0.7860045030505557, 0.7984671590592642, 0.7649864560390875, 0.7659785195311511, 0.8075584352294879, 0.8011759797220324, 0.8170807416267942, 0.7997958975722134, 0.796383094731779, 0.8068277606896028, 0.7997004854307486, 0.7972575093035619, 0.8073585194045719]}, {\"categories\": [\"0\", \"1\", \"2\", \"3\", \"4\", \"5\", \"6\", \"7\", \"8\", \"9\", \"10\", \"11\", \"12\", \"13\", \"14\", \"15\", \"16\", \"17\", \"18\", \"19\", \"20\", \"21\", \"22\", \"23\", \"24\", \"25\", \"26\", \"27\", \"28\", \"29\", \"30\", \"31\", \"32\", \"33\", \"34\", \"35\", \"36\", \"37\", \"38\", \"39\", \"40\", \"41\", \"42\", \"43\", \"44\", \"45\", \"46\", \"47\", \"48\", \"49\", \"50\", \"51\", \"52\", \"53\", \"54\", \"55\", \"56\", \"57\", \"58\", \"59\", \"60\", \"61\", \"65\", \"66\"], \"mode\": \"lines\", \"name\": \"balanced_accuracy_max\", \"stepped\": true, \"type\": \"scatter\", \"data\": [0.8069458209918737, 0.8069458209918737, 0.8069458209918737, 0.8069458209918737, 0.8069458209918737, 0.8069458209918737, 0.8069458209918737, 0.8069458209918737, 0.8069458209918737, 0.8069458209918737, 0.8069458209918737, 0.8069458209918737, 0.8069458209918737, 0.8069458209918737, 0.8069458209918737, 0.8069458209918737, 0.8069458209918737, 0.8069458209918737, 0.8069458209918737, 0.8069458209918737, 0.8069458209918737, 0.8069458209918737, 0.8069458209918737, 0.8069458209918737, 0.8215646470975418, 0.8215646470975418, 0.8215646470975418, 0.8215646470975418, 0.8215646470975418, 0.8215646470975418, 0.8215646470975418, 0.8215646470975418, 0.8215646470975418, 0.8215646470975418, 0.8215646470975418, 0.8215646470975418, 0.8215646470975418, 0.8215646470975418, 0.8215646470975418, 0.8215646470975418, 0.8215646470975418, 0.8215646470975418, 0.8215646470975418, 0.8215646470975418, 0.8215646470975418, 0.8215646470975418, 0.8215646470975418, 0.8215646470975418, 0.8215646470975418, 0.8215646470975418, 0.8215646470975418, 0.8215646470975418, 0.8215646470975418, 0.8215646470975418, 0.8215646470975418, 0.8215646470975418, 0.8215646470975418, 0.8215646470975418, 0.8215646470975418, 0.8215646470975418, 0.8215646470975418, 0.8215646470975418, 0.8215646470975418, 0.8215646470975418]}], \"norm_macro_recall\": [{\"categories\": [\"0\", \"1\", \"2\", \"3\", \"4\", \"5\", \"6\", \"7\", \"8\", \"9\", \"10\", \"11\", \"12\", \"13\", \"14\", \"15\", \"16\", \"17\", \"18\", \"19\", \"20\", \"21\", \"22\", \"23\", \"24\", \"25\", \"26\", \"27\", \"28\", \"29\", \"30\", \"31\", \"32\", \"33\", \"34\", \"35\", \"36\", \"37\", \"38\", \"39\", \"40\", \"41\", \"42\", \"43\", \"44\", \"45\", \"46\", \"47\", \"48\", \"49\", \"50\", \"51\", \"52\", \"53\", \"54\", \"55\", \"56\", \"57\", \"58\", \"59\", \"60\", \"61\", \"65\", \"66\"], \"mode\": \"markers\", \"name\": \"norm_macro_recall\", \"stepped\": false, \"type\": \"scatter\", \"data\": [0.6138916419837473, 0.5746351674641148, 0.5684882028303081, 0.34285367459051674, 0.5896352370826056, 0.5411493379914433, 0.5332209057998532, 0.5342355383408015, 0.3275878015746437, 0.3115438596491228, 0.3382120705804916, 0.47279835953520166, 0.5776625022151338, 0.5609934242171085, 0.6107964735069998, 0.09105187210450365, 0.29882397281081496, 0.4943730095440622, 0.58349698741804, 0.5834581403002456, 0.5501931280220754, 0.5756225791752108, 0.5692066656540341, 0.5831089339510391, 0.6431292941950837, 0.546495316574264, 0.5737146021619706, 0.5985967380572644, 0.4300500113921166, 0.35602005012531324, 0.09716035669983036, 0.5380613149034202, 0.5966876471481736, 0.6103695729222045, 0.5671701412622465, 0.0, 0.6127329118250171, 0.5762249753170806, 0.5419821017189438, 0.5500719665324928, 0.6068410863016126, 0.5268803637882586, 0.5529099200020252, 0.5333089352168299, 0.5786053960659224, 0.27090369864054076, 0.5760638085111769, 0.322519448874712, 0.5763048530416951, 0.5792064441406547, 0.0, 0.5720090061011114, 0.5969343181185286, 0.5299729120781752, 0.5319570390623023, 0.6151168704589757, 0.6023519594440646, 0.6341614832535886, 0.5995917951444267, 0.5967661894635579, 0.6136555213792055, 0.5994009708614971, 0.5945150186071239, 0.6147170388091441]}, {\"categories\": [\"0\", \"1\", \"2\", \"3\", \"4\", \"5\", \"6\", \"7\", \"8\", \"9\", \"10\", \"11\", \"12\", \"13\", \"14\", \"15\", \"16\", \"17\", \"18\", \"19\", \"20\", \"21\", \"22\", \"23\", \"24\", \"25\", \"26\", \"27\", \"28\", \"29\", \"30\", \"31\", \"32\", \"33\", \"34\", \"35\", \"36\", \"37\", \"38\", \"39\", \"40\", \"41\", \"42\", \"43\", \"44\", \"45\", \"46\", \"47\", \"48\", \"49\", \"50\", \"51\", \"52\", \"53\", \"54\", \"55\", \"56\", \"57\", \"58\", \"59\", \"60\", \"61\", \"65\", \"66\"], \"mode\": \"lines\", \"name\": \"norm_macro_recall_max\", \"stepped\": true, \"type\": \"scatter\", \"data\": [0.6138916419837473, 0.6138916419837473, 0.6138916419837473, 0.6138916419837473, 0.6138916419837473, 0.6138916419837473, 0.6138916419837473, 0.6138916419837473, 0.6138916419837473, 0.6138916419837473, 0.6138916419837473, 0.6138916419837473, 0.6138916419837473, 0.6138916419837473, 0.6138916419837473, 0.6138916419837473, 0.6138916419837473, 0.6138916419837473, 0.6138916419837473, 0.6138916419837473, 0.6138916419837473, 0.6138916419837473, 0.6138916419837473, 0.6138916419837473, 0.6431292941950837, 0.6431292941950837, 0.6431292941950837, 0.6431292941950837, 0.6431292941950837, 0.6431292941950837, 0.6431292941950837, 0.6431292941950837, 0.6431292941950837, 0.6431292941950837, 0.6431292941950837, 0.6431292941950837, 0.6431292941950837, 0.6431292941950837, 0.6431292941950837, 0.6431292941950837, 0.6431292941950837, 0.6431292941950837, 0.6431292941950837, 0.6431292941950837, 0.6431292941950837, 0.6431292941950837, 0.6431292941950837, 0.6431292941950837, 0.6431292941950837, 0.6431292941950837, 0.6431292941950837, 0.6431292941950837, 0.6431292941950837, 0.6431292941950837, 0.6431292941950837, 0.6431292941950837, 0.6431292941950837, 0.6431292941950837, 0.6431292941950837, 0.6431292941950837, 0.6431292941950837, 0.6431292941950837, 0.6431292941950837, 0.6431292941950837]}], \"recall_score_macro\": [{\"categories\": [\"0\", \"1\", \"2\", \"3\", \"4\", \"5\", \"6\", \"7\", \"8\", \"9\", \"10\", \"11\", \"12\", \"13\", \"14\", \"15\", \"16\", \"17\", \"18\", \"19\", \"20\", \"21\", \"22\", \"23\", \"24\", \"25\", \"26\", \"27\", \"28\", \"29\", \"30\", \"31\", \"32\", \"33\", \"34\", \"35\", \"36\", \"37\", \"38\", \"39\", \"40\", \"41\", \"42\", \"43\", \"44\", \"45\", \"46\", \"47\", \"48\", \"49\", \"50\", \"51\", \"52\", \"53\", \"54\", \"55\", \"56\", \"57\", \"58\", \"59\", \"60\", \"61\", \"65\", \"66\"], \"mode\": \"markers\", \"name\": \"recall_score_macro\", \"stepped\": false, \"type\": \"scatter\", \"data\": [0.8069458209918737, 0.7833175837320574, 0.784244101415154, 0.6714268372952583, 0.7948176185413028, 0.7705746689957216, 0.7666104528999265, 0.7671177691704008, 0.6637939007873218, 0.6557719298245613, 0.6671060352902459, 0.7363991797676008, 0.7888312511075668, 0.7804967121085542, 0.8053982367535, 0.5252898249411408, 0.6494119864054075, 0.7471865047720312, 0.7917484937090201, 0.7917290701501227, 0.7730965640110378, 0.7858112895876055, 0.784603332827017, 0.7915544669755196, 0.8215646470975418, 0.773247658287132, 0.7868573010809852, 0.7992983690286322, 0.7150250056960583, 0.6780100250626566, 0.514905157464368, 0.7670306574517102, 0.7983438235740867, 0.8051847864611024, 0.7835850706311233, 0.5, 0.8063664559125087, 0.7881124876585404, 0.770991050859472, 0.7750359832662465, 0.8034205431508064, 0.7554401818941292, 0.7764549600010126, 0.758654467608415, 0.7893026980329612, 0.6354518493202704, 0.7880319042555884, 0.661259724437356, 0.7881524265208475, 0.7896032220703273, 0.5, 0.7860045030505557, 0.7984671590592642, 0.7649864560390875, 0.7659785195311511, 0.8075584352294879, 0.8011759797220324, 0.8170807416267942, 0.7997958975722134, 0.796383094731779, 0.8068277606896028, 0.7997004854307486, 0.7972575093035619, 0.8073585194045719]}, {\"categories\": [\"0\", \"1\", \"2\", \"3\", \"4\", \"5\", \"6\", \"7\", \"8\", \"9\", \"10\", \"11\", \"12\", \"13\", \"14\", \"15\", \"16\", \"17\", \"18\", \"19\", \"20\", \"21\", \"22\", \"23\", \"24\", \"25\", \"26\", \"27\", \"28\", \"29\", \"30\", \"31\", \"32\", \"33\", \"34\", \"35\", \"36\", \"37\", \"38\", \"39\", \"40\", \"41\", \"42\", \"43\", \"44\", \"45\", \"46\", \"47\", \"48\", \"49\", \"50\", \"51\", \"52\", \"53\", \"54\", \"55\", \"56\", \"57\", \"58\", \"59\", \"60\", \"61\", \"65\", \"66\"], \"mode\": \"lines\", \"name\": \"recall_score_macro_max\", \"stepped\": true, \"type\": \"scatter\", \"data\": [0.8069458209918737, 0.8069458209918737, 0.8069458209918737, 0.8069458209918737, 0.8069458209918737, 0.8069458209918737, 0.8069458209918737, 0.8069458209918737, 0.8069458209918737, 0.8069458209918737, 0.8069458209918737, 0.8069458209918737, 0.8069458209918737, 0.8069458209918737, 0.8069458209918737, 0.8069458209918737, 0.8069458209918737, 0.8069458209918737, 0.8069458209918737, 0.8069458209918737, 0.8069458209918737, 0.8069458209918737, 0.8069458209918737, 0.8069458209918737, 0.8215646470975418, 0.8215646470975418, 0.8215646470975418, 0.8215646470975418, 0.8215646470975418, 0.8215646470975418, 0.8215646470975418, 0.8215646470975418, 0.8215646470975418, 0.8215646470975418, 0.8215646470975418, 0.8215646470975418, 0.8215646470975418, 0.8215646470975418, 0.8215646470975418, 0.8215646470975418, 0.8215646470975418, 0.8215646470975418, 0.8215646470975418, 0.8215646470975418, 0.8215646470975418, 0.8215646470975418, 0.8215646470975418, 0.8215646470975418, 0.8215646470975418, 0.8215646470975418, 0.8215646470975418, 0.8215646470975418, 0.8215646470975418, 0.8215646470975418, 0.8215646470975418, 0.8215646470975418, 0.8215646470975418, 0.8215646470975418, 0.8215646470975418, 0.8215646470975418, 0.8215646470975418, 0.8215646470975418, 0.8215646470975418, 0.8215646470975418]}], \"log_loss\": [{\"categories\": [\"0\", \"1\", \"2\", \"3\", \"4\", \"5\", \"6\", \"7\", \"8\", \"9\", \"10\", \"11\", \"12\", \"13\", \"14\", \"15\", \"16\", \"17\", \"18\", \"19\", \"20\", \"21\", \"22\", \"23\", \"24\", \"25\", \"26\", \"27\", \"28\", \"29\", \"30\", \"31\", \"32\", \"33\", \"34\", \"35\", \"36\", \"37\", \"38\", \"39\", \"40\", \"41\", \"42\", \"43\", \"44\", \"45\", \"46\", \"47\", \"48\", \"49\", \"50\", \"51\", \"52\", \"53\", \"54\", \"55\", \"56\", \"57\", \"58\", \"59\", \"60\", \"61\", \"65\", \"66\"], \"mode\": \"markers\", \"name\": \"log_loss\", \"stepped\": false, \"type\": \"scatter\", \"data\": [0.4383775438850842, 0.4160171917503055, 0.3767796340642412, 0.4628181770766219, 0.3822040557905055, 0.3983912526319788, 0.48503308202616574, 0.4032448151076101, 0.4693872372171698, 1.618093285754193, 0.4721724352060647, 0.43535746294282723, 0.44028703360200383, 0.41350479334089296, 0.4445050205447689, 0.7379803697939155, 0.47094992882999503, 0.6328003306838388, 0.5261258175208564, 0.47705079035751663, 0.3789003967807794, 0.5023687710295686, 0.48312952795784536, 0.3912029908112573, 0.444847123559895, 0.3823613386719842, 0.407425425235011, 0.4114436621752081, 0.43639205870140857, 0.48069978625119925, 0.6929178931206245, 0.4657903192103256, 0.3944002028501969, 0.4128463872029752, 0.3589134841675025, 0.6195403515552784, 0.3549659590831949, 0.3612617038323386, 0.39773275577818457, 0.3705225278965476, 0.3799669683143249, 0.45382153110516354, 0.3858826677651419, 0.4578839678151757, 0.3637804924234153, 0.48781238987963826, 0.4853370186065387, 0.48269695384554057, 0.3794278396622547, 0.38136821067345356, 0.5696670251338382, 0.4104515000486046, 0.37277122115292927, 0.4309499669646951, 0.4740768880966195, 0.3734475367265433, 0.3943081414321797, 0.35596523615253783, 0.4635531946310446, 0.539632699388733, 0.3564390574525441, 0.3562716259359739, 0.37425136701683087, 0.35730445529994326]}, {\"categories\": [\"0\", \"1\", \"2\", \"3\", \"4\", \"5\", \"6\", \"7\", \"8\", \"9\", \"10\", \"11\", \"12\", \"13\", \"14\", \"15\", \"16\", \"17\", \"18\", \"19\", \"20\", \"21\", \"22\", \"23\", \"24\", \"25\", \"26\", \"27\", \"28\", \"29\", \"30\", \"31\", \"32\", \"33\", \"34\", \"35\", \"36\", \"37\", \"38\", \"39\", \"40\", \"41\", \"42\", \"43\", \"44\", \"45\", \"46\", \"47\", \"48\", \"49\", \"50\", \"51\", \"52\", \"53\", \"54\", \"55\", \"56\", \"57\", \"58\", \"59\", \"60\", \"61\", \"65\", \"66\"], \"mode\": \"lines\", \"name\": \"log_loss_min\", \"stepped\": true, \"type\": \"scatter\", \"data\": [0.4383775438850842, 0.4160171917503055, 0.3767796340642412, 0.3767796340642412, 0.3767796340642412, 0.3767796340642412, 0.3767796340642412, 0.3767796340642412, 0.3767796340642412, 0.3767796340642412, 0.3767796340642412, 0.3767796340642412, 0.3767796340642412, 0.3767796340642412, 0.3767796340642412, 0.3767796340642412, 0.3767796340642412, 0.3767796340642412, 0.3767796340642412, 0.3767796340642412, 0.3767796340642412, 0.3767796340642412, 0.3767796340642412, 0.3767796340642412, 0.3767796340642412, 0.3767796340642412, 0.3767796340642412, 0.3767796340642412, 0.3767796340642412, 0.3767796340642412, 0.3767796340642412, 0.3767796340642412, 0.3767796340642412, 0.3767796340642412, 0.3589134841675025, 0.3589134841675025, 0.3549659590831949, 0.3549659590831949, 0.3549659590831949, 0.3549659590831949, 0.3549659590831949, 0.3549659590831949, 0.3549659590831949, 0.3549659590831949, 0.3549659590831949, 0.3549659590831949, 0.3549659590831949, 0.3549659590831949, 0.3549659590831949, 0.3549659590831949, 0.3549659590831949, 0.3549659590831949, 0.3549659590831949, 0.3549659590831949, 0.3549659590831949, 0.3549659590831949, 0.3549659590831949, 0.3549659590831949, 0.3549659590831949, 0.3549659590831949, 0.3549659590831949, 0.3549659590831949, 0.3549659590831949, 0.3549659590831949]}], \"AUC_micro\": [{\"categories\": [\"0\", \"1\", \"2\", \"3\", \"4\", \"5\", \"6\", \"7\", \"8\", \"9\", \"10\", \"11\", \"12\", \"13\", \"14\", \"15\", \"16\", \"17\", \"18\", \"19\", \"20\", \"21\", \"22\", \"23\", \"24\", \"25\", \"26\", \"27\", \"28\", \"29\", \"30\", \"31\", \"32\", \"33\", \"34\", \"35\", \"36\", \"37\", \"38\", \"39\", \"40\", \"41\", \"42\", \"43\", \"44\", \"45\", \"46\", \"47\", \"48\", \"49\", \"50\", \"51\", \"52\", \"53\", \"54\", \"55\", \"56\", \"57\", \"58\", \"59\", \"60\", \"61\", \"65\", \"66\"], \"mode\": \"markers\", \"name\": \"AUC_micro\", \"stepped\": false, \"type\": \"scatter\", \"data\": [0.9086785572730877, 0.8963258026159334, 0.9095869996036464, 0.8755441934205311, 0.9066727440877262, 0.9054231734707358, 0.9013784515788084, 0.909955344166997, 0.8711699035539702, 0.7949458316818602, 0.8733375611045053, 0.8937702470603778, 0.8923413925221297, 0.8884447086801426, 0.897411547100013, 0.6658039371119038, 0.8749398863786497, 0.8439068569163692, 0.8988345884529, 0.9059515127493725, 0.9041601268331352, 0.8901133571145461, 0.8944251552384728, 0.9133647773814243, 0.9034661117717004, 0.9126453956929581, 0.9115674461619765, 0.9060957854406132, 0.8968969480776853, 0.8740451843043996, 0.5392991148104109, 0.8975362663495838, 0.9106161976483023, 0.9101249834852689, 0.9153374289866563, 0.7802246003435064, 0.9190840269520413, 0.9165830360681728, 0.9040996168582376, 0.9084369137270445, 0.9100060774210597, 0.8658950984277975, 0.9035616329766153, 0.864125115603118, 0.9187273087594134, 0.8710178359096314, 0.892358964196063, 0.8656630994847404, 0.9085596512088783, 0.9065324349319592, 0.8297703791782268, 0.911854009776721, 0.9050334258158277, 0.8936161976483022, 0.8940938036728762, 0.9105460430704188, 0.9075264896287489, 0.9181717532038579, 0.9099339410754392, 0.8894037521469149, 0.9149865239793895, 0.9134817016778966, 0.9237818734311005, 0.9193374289866562]}, {\"categories\": [\"0\", \"1\", \"2\", \"3\", \"4\", \"5\", \"6\", \"7\", \"8\", \"9\", \"10\", \"11\", \"12\", \"13\", \"14\", \"15\", \"16\", \"17\", \"18\", \"19\", \"20\", \"21\", \"22\", \"23\", \"24\", \"25\", \"26\", \"27\", \"28\", \"29\", \"30\", \"31\", \"32\", \"33\", \"34\", \"35\", \"36\", \"37\", \"38\", \"39\", \"40\", \"41\", \"42\", \"43\", \"44\", \"45\", \"46\", \"47\", \"48\", \"49\", \"50\", \"51\", \"52\", \"53\", \"54\", \"55\", \"56\", \"57\", \"58\", \"59\", \"60\", \"61\", \"65\", \"66\"], \"mode\": \"lines\", \"name\": \"AUC_micro_max\", \"stepped\": true, \"type\": \"scatter\", \"data\": [0.9086785572730877, 0.9086785572730877, 0.9095869996036464, 0.9095869996036464, 0.9095869996036464, 0.9095869996036464, 0.9095869996036464, 0.909955344166997, 0.909955344166997, 0.909955344166997, 0.909955344166997, 0.909955344166997, 0.909955344166997, 0.909955344166997, 0.909955344166997, 0.909955344166997, 0.909955344166997, 0.909955344166997, 0.909955344166997, 0.909955344166997, 0.909955344166997, 0.909955344166997, 0.909955344166997, 0.9133647773814243, 0.9133647773814243, 0.9133647773814243, 0.9133647773814243, 0.9133647773814243, 0.9133647773814243, 0.9133647773814243, 0.9133647773814243, 0.9133647773814243, 0.9133647773814243, 0.9133647773814243, 0.9153374289866563, 0.9153374289866563, 0.9190840269520413, 0.9190840269520413, 0.9190840269520413, 0.9190840269520413, 0.9190840269520413, 0.9190840269520413, 0.9190840269520413, 0.9190840269520413, 0.9190840269520413, 0.9190840269520413, 0.9190840269520413, 0.9190840269520413, 0.9190840269520413, 0.9190840269520413, 0.9190840269520413, 0.9190840269520413, 0.9190840269520413, 0.9190840269520413, 0.9190840269520413, 0.9190840269520413, 0.9190840269520413, 0.9190840269520413, 0.9190840269520413, 0.9190840269520413, 0.9190840269520413, 0.9190840269520413, 0.9237818734311005, 0.9237818734311005]}], \"f1_score_micro\": [{\"categories\": [\"0\", \"1\", \"2\", \"3\", \"4\", \"5\", \"6\", \"7\", \"8\", \"9\", \"10\", \"11\", \"12\", \"13\", \"14\", \"15\", \"16\", \"17\", \"18\", \"19\", \"20\", \"21\", \"22\", \"23\", \"24\", \"25\", \"26\", \"27\", \"28\", \"29\", \"30\", \"31\", \"32\", \"33\", \"34\", \"35\", \"36\", \"37\", \"38\", \"39\", \"40\", \"41\", \"42\", \"43\", \"44\", \"45\", \"46\", \"47\", \"48\", \"49\", \"50\", \"51\", \"52\", \"53\", \"54\", \"55\", \"56\", \"57\", \"58\", \"59\", \"60\", \"61\", \"65\", \"66\"], \"mode\": \"markers\", \"name\": \"f1_score_micro\", \"stepped\": false, \"type\": \"scatter\", \"data\": [0.8528735632183908, 0.8294252873563218, 0.8395402298850575, 0.7790804597701151, 0.8294252873563218, 0.8328735632183909, 0.8190804597701149, 0.8429885057471266, 0.7725287356321839, 0.7458620689655173, 0.7859770114942529, 0.8260919540229885, 0.8160919540229885, 0.8326436781609197, 0.8262068965517242, 0.6285057471264367, 0.7726436781609196, 0.7789655172413793, 0.8058620689655174, 0.8493103448275864, 0.8293103448275863, 0.8158620689655173, 0.8393103448275863, 0.8462068965517242, 0.8325287356321839, 0.8293103448275863, 0.8393103448275863, 0.8426436781609196, 0.8060919540229886, 0.782528735632184, 0.5650574712643678, 0.8326436781609197, 0.8526436781609196, 0.8393103448275863, 0.8460919540229886, 0.6788505747126437, 0.859425287356322, 0.8495402298850575, 0.8427586206896553, 0.8391954022988506, 0.8427586206896553, 0.7855172413793103, 0.8360919540229886, 0.785632183908046, 0.8493103448275863, 0.7658620689655172, 0.8391954022988506, 0.7625287356321839, 0.8627586206896553, 0.8158620689655172, 0.6788505747126437, 0.8426436781609196, 0.8257471264367815, 0.835977011494253, 0.835977011494253, 0.8460919540229886, 0.8427586206896553, 0.8593103448275862, 0.8326436781609197, 0.8327586206896553, 0.859425287356322, 0.8527586206896552, 0.8527586206896552, 0.859425287356322]}, {\"categories\": [\"0\", \"1\", \"2\", \"3\", \"4\", \"5\", \"6\", \"7\", \"8\", \"9\", \"10\", \"11\", \"12\", \"13\", \"14\", \"15\", \"16\", \"17\", \"18\", \"19\", \"20\", \"21\", \"22\", \"23\", \"24\", \"25\", \"26\", \"27\", \"28\", \"29\", \"30\", \"31\", \"32\", \"33\", \"34\", \"35\", \"36\", \"37\", \"38\", \"39\", \"40\", \"41\", \"42\", \"43\", \"44\", \"45\", \"46\", \"47\", \"48\", \"49\", \"50\", \"51\", \"52\", \"53\", \"54\", \"55\", \"56\", \"57\", \"58\", \"59\", \"60\", \"61\", \"65\", \"66\"], \"mode\": \"lines\", \"name\": \"f1_score_micro_max\", \"stepped\": true, \"type\": \"scatter\", \"data\": [0.8528735632183908, 0.8528735632183908, 0.8528735632183908, 0.8528735632183908, 0.8528735632183908, 0.8528735632183908, 0.8528735632183908, 0.8528735632183908, 0.8528735632183908, 0.8528735632183908, 0.8528735632183908, 0.8528735632183908, 0.8528735632183908, 0.8528735632183908, 0.8528735632183908, 0.8528735632183908, 0.8528735632183908, 0.8528735632183908, 0.8528735632183908, 0.8528735632183908, 0.8528735632183908, 0.8528735632183908, 0.8528735632183908, 0.8528735632183908, 0.8528735632183908, 0.8528735632183908, 0.8528735632183908, 0.8528735632183908, 0.8528735632183908, 0.8528735632183908, 0.8528735632183908, 0.8528735632183908, 0.8528735632183908, 0.8528735632183908, 0.8528735632183908, 0.8528735632183908, 0.859425287356322, 0.859425287356322, 0.859425287356322, 0.859425287356322, 0.859425287356322, 0.859425287356322, 0.859425287356322, 0.859425287356322, 0.859425287356322, 0.859425287356322, 0.859425287356322, 0.859425287356322, 0.8627586206896553, 0.8627586206896553, 0.8627586206896553, 0.8627586206896553, 0.8627586206896553, 0.8627586206896553, 0.8627586206896553, 0.8627586206896553, 0.8627586206896553, 0.8627586206896553, 0.8627586206896553, 0.8627586206896553, 0.8627586206896553, 0.8627586206896553, 0.8627586206896553, 0.8627586206896553]}], \"average_precision_score_macro\": [{\"categories\": [\"0\", \"1\", \"2\", \"3\", \"4\", \"5\", \"6\", \"7\", \"8\", \"9\", \"10\", \"11\", \"12\", \"13\", \"14\", \"15\", \"16\", \"17\", \"18\", \"19\", \"20\", \"21\", \"22\", \"23\", \"24\", \"25\", \"26\", \"27\", \"28\", \"29\", \"30\", \"31\", \"32\", \"33\", \"34\", \"35\", \"36\", \"37\", \"38\", \"39\", \"40\", \"41\", \"42\", \"43\", \"44\", \"45\", \"46\", \"47\", \"48\", \"49\", \"50\", \"51\", \"52\", \"53\", \"54\", \"55\", \"56\", \"57\", \"58\", \"59\", \"60\", \"61\", \"65\", \"66\"], \"mode\": \"markers\", \"name\": \"average_precision_score_macro\", \"stepped\": false, \"type\": \"scatter\", \"data\": [0.8791765284374424, 0.8711161960758371, 0.8870377734318797, 0.8593282121002964, 0.8812226715981304, 0.8846951811317698, 0.8662543936314273, 0.874413041731757, 0.8533501689776661, 0.745969560448301, 0.852781054757795, 0.8754706483496133, 0.8848382811145251, 0.8442510497401811, 0.857261645869549, 0.5983435667955933, 0.8682239737618487, 0.7939788571358601, 0.8712646012799447, 0.8825301890086455, 0.8694527163233531, 0.8452149641520986, 0.8574527960774045, 0.887276146817689, 0.872937354448181, 0.8848940653103821, 0.8741382340176707, 0.8764609545229163, 0.8731764947159325, 0.8732329961352949, 0.5314975611148278, 0.85612735639332, 0.8783399173532549, 0.8905007319943886, 0.8928589335525683, 0.6941087007626086, 0.8925460709856621, 0.8932247343269605, 0.8782094181365429, 0.8824343354895973, 0.882907838206535, 0.841444211862154, 0.8641541254512584, 0.8408425852855984, 0.9001505594801834, 0.8683697957747224, 0.8631196205073793, 0.8605667923632213, 0.8721392334066639, 0.8810604299710356, 0.8422517525824433, 0.8797149419428226, 0.8695674937263315, 0.8698504079463267, 0.8615178138604531, 0.8929429785452367, 0.882234665754279, 0.8909013158391575, 0.885305046091496, 0.8581733132465506, 0.8940752124533089, 0.8857715812283911, 0.9067726939093823, 0.8956280037964074]}, {\"categories\": [\"0\", \"1\", \"2\", \"3\", \"4\", \"5\", \"6\", \"7\", \"8\", \"9\", \"10\", \"11\", \"12\", \"13\", \"14\", \"15\", \"16\", \"17\", \"18\", \"19\", \"20\", \"21\", \"22\", \"23\", \"24\", \"25\", \"26\", \"27\", \"28\", \"29\", \"30\", \"31\", \"32\", \"33\", \"34\", \"35\", \"36\", \"37\", \"38\", \"39\", \"40\", \"41\", \"42\", \"43\", \"44\", \"45\", \"46\", \"47\", \"48\", \"49\", \"50\", \"51\", \"52\", \"53\", \"54\", \"55\", \"56\", \"57\", \"58\", \"59\", \"60\", \"61\", \"65\", \"66\"], \"mode\": \"lines\", \"name\": \"average_precision_score_macro_max\", \"stepped\": true, \"type\": \"scatter\", \"data\": [0.8791765284374424, 0.8791765284374424, 0.8870377734318797, 0.8870377734318797, 0.8870377734318797, 0.8870377734318797, 0.8870377734318797, 0.8870377734318797, 0.8870377734318797, 0.8870377734318797, 0.8870377734318797, 0.8870377734318797, 0.8870377734318797, 0.8870377734318797, 0.8870377734318797, 0.8870377734318797, 0.8870377734318797, 0.8870377734318797, 0.8870377734318797, 0.8870377734318797, 0.8870377734318797, 0.8870377734318797, 0.8870377734318797, 0.887276146817689, 0.887276146817689, 0.887276146817689, 0.887276146817689, 0.887276146817689, 0.887276146817689, 0.887276146817689, 0.887276146817689, 0.887276146817689, 0.887276146817689, 0.8905007319943886, 0.8928589335525683, 0.8928589335525683, 0.8928589335525683, 0.8932247343269605, 0.8932247343269605, 0.8932247343269605, 0.8932247343269605, 0.8932247343269605, 0.8932247343269605, 0.8932247343269605, 0.9001505594801834, 0.9001505594801834, 0.9001505594801834, 0.9001505594801834, 0.9001505594801834, 0.9001505594801834, 0.9001505594801834, 0.9001505594801834, 0.9001505594801834, 0.9001505594801834, 0.9001505594801834, 0.9001505594801834, 0.9001505594801834, 0.9001505594801834, 0.9001505594801834, 0.9001505594801834, 0.9001505594801834, 0.9001505594801834, 0.9067726939093823, 0.9067726939093823]}]}, \"metricName\": null, \"primaryMetricName\": \"AUC_weighted\", \"showLegend\": false}, \"run_metrics\": [{\"name\": \"experiment_status\", \"run_id\": \"AutoML_0f3c2865-a426-4af8-9657-8b3d54d6aa46\", \"categories\": [0, 1, 2, 3, 4, 5, 6, 7, 8, 9, 10, 11, 12, 13], \"series\": [{\"data\": [\"DatasetEvaluation\", \"FeaturesGeneration\", \"DatasetFeaturization\", \"DatasetFeaturizationCompleted\", \"DatasetCrossValidationSplit\", \"ModelSelection\", \"BestRunExplainModel\", \"ModelExplanationDataSetSetup\", \"PickSurrogateModel\", \"EngineeredFeatureExplanations\", \"EngineeredFeatureExplanations\", \"RawFeaturesExplanations\", \"RawFeaturesExplanations\", \"BestRunExplainModel\"]}]}, {\"name\": \"experiment_status_description\", \"run_id\": \"AutoML_0f3c2865-a426-4af8-9657-8b3d54d6aa46\", \"categories\": [0, 1, 2, 3, 4, 5, 6, 7, 8, 9, 10, 11, 12, 13], \"series\": [{\"data\": [\"Gathering dataset statistics.\", \"Generating features for the dataset.\", \"Beginning to fit featurizers and featurize the dataset.\", \"Completed fit featurizers and featurizing the dataset.\", \"Generating individually featurized CV splits.\", \"Beginning model selection.\", \"Best run model explanations started\", \"Model explanations data setup completed\", \"Choosing LightGBM as the surrogate model for explanations\", \"Computation of engineered features started\", \"Computation of engineered features completed\", \"Computation of raw features started\", \"Computation of raw features completed\", \"Best run model explanations completed\"]}]}, {\"name\": \"AUC_weighted\", \"run_id\": \"AutoML_0f3c2865-a426-4af8-9657-8b3d54d6aa46\", \"categories\": [0], \"series\": [{\"data\": [0.9142689931900458]}]}, {\"name\": \"average_precision_score_macro\", \"run_id\": \"AutoML_0f3c2865-a426-4af8-9657-8b3d54d6aa46\", \"categories\": [0], \"series\": [{\"data\": [0.9067726939093823]}]}, {\"name\": \"recall_score_micro\", \"run_id\": \"AutoML_0f3c2865-a426-4af8-9657-8b3d54d6aa46\", \"categories\": [0], \"series\": [{\"data\": [0.8527586206896552]}]}, {\"name\": \"recall_score_weighted\", \"run_id\": \"AutoML_0f3c2865-a426-4af8-9657-8b3d54d6aa46\", \"categories\": [0], \"series\": [{\"data\": [0.8527586206896552]}]}, {\"name\": \"precision_score_micro\", \"run_id\": \"AutoML_0f3c2865-a426-4af8-9657-8b3d54d6aa46\", \"categories\": [0], \"series\": [{\"data\": [0.8527586206896552]}]}, {\"name\": \"precision_score_weighted\", \"run_id\": \"AutoML_0f3c2865-a426-4af8-9657-8b3d54d6aa46\", \"categories\": [0], \"series\": [{\"data\": [0.8576800078828211]}]}, {\"name\": \"f1_score_weighted\", \"run_id\": \"AutoML_0f3c2865-a426-4af8-9657-8b3d54d6aa46\", \"categories\": [0], \"series\": [{\"data\": [0.8508648458866583]}]}, {\"name\": \"matthews_correlation\", \"run_id\": \"AutoML_0f3c2865-a426-4af8-9657-8b3d54d6aa46\", \"categories\": [0], \"series\": [{\"data\": [0.6269813379144187]}]}, {\"name\": \"average_precision_score_micro\", \"run_id\": \"AutoML_0f3c2865-a426-4af8-9657-8b3d54d6aa46\", \"categories\": [0], \"series\": [{\"data\": [0.9278767762512103]}]}, {\"name\": \"precision_score_macro\", \"run_id\": \"AutoML_0f3c2865-a426-4af8-9657-8b3d54d6aa46\", \"categories\": [0], \"series\": [{\"data\": [0.8375678060092762]}]}, {\"name\": \"f1_score_micro\", \"run_id\": \"AutoML_0f3c2865-a426-4af8-9657-8b3d54d6aa46\", \"categories\": [0], \"series\": [{\"data\": [0.8527586206896552]}]}, {\"name\": \"accuracy\", \"run_id\": \"AutoML_0f3c2865-a426-4af8-9657-8b3d54d6aa46\", \"categories\": [0], \"series\": [{\"data\": [0.8527586206896552]}]}, {\"name\": \"AUC_macro\", \"run_id\": \"AutoML_0f3c2865-a426-4af8-9657-8b3d54d6aa46\", \"categories\": [0], \"series\": [{\"data\": [0.9142689931900458]}]}, {\"name\": \"weighted_accuracy\", \"run_id\": \"AutoML_0f3c2865-a426-4af8-9657-8b3d54d6aa46\", \"categories\": [0], \"series\": [{\"data\": [0.8761885237155441]}]}, {\"name\": \"recall_score_macro\", \"run_id\": \"AutoML_0f3c2865-a426-4af8-9657-8b3d54d6aa46\", \"categories\": [0], \"series\": [{\"data\": [0.7972575093035619]}]}, {\"name\": \"log_loss\", \"run_id\": \"AutoML_0f3c2865-a426-4af8-9657-8b3d54d6aa46\", \"categories\": [0], \"series\": [{\"data\": [0.37425136701683087]}]}, {\"name\": \"balanced_accuracy\", \"run_id\": \"AutoML_0f3c2865-a426-4af8-9657-8b3d54d6aa46\", \"categories\": [0], \"series\": [{\"data\": [0.7972575093035619]}]}, {\"name\": \"AUC_micro\", \"run_id\": \"AutoML_0f3c2865-a426-4af8-9657-8b3d54d6aa46\", \"categories\": [0], \"series\": [{\"data\": [0.9237818734311005]}]}, {\"name\": \"norm_macro_recall\", \"run_id\": \"AutoML_0f3c2865-a426-4af8-9657-8b3d54d6aa46\", \"categories\": [0], \"series\": [{\"data\": [0.5945150186071239]}]}, {\"name\": \"f1_score_macro\", \"run_id\": \"AutoML_0f3c2865-a426-4af8-9657-8b3d54d6aa46\", \"categories\": [0], \"series\": [{\"data\": [0.8061408127980109]}]}, {\"name\": \"average_precision_score_weighted\", \"run_id\": \"AutoML_0f3c2865-a426-4af8-9657-8b3d54d6aa46\", \"categories\": [0], \"series\": [{\"data\": [0.9367594307015314]}]}], \"run_logs\": \"\\nRun is completed.\", \"graph\": {}, \"widget_settings\": {\"childWidgetDisplay\": \"popup\", \"send_telemetry\": false, \"log_level\": \"INFO\", \"sdk_version\": \"1.19.0\"}, \"loading\": false}"
     },
     "metadata": {},
     "output_type": "display_data"
    },
    {
     "name": "stdout",
     "output_type": "stream",
     "text": [
      "\n",
      "\n",
      "****************************************************************************************************\n",
      "DATA GUARDRAILS: \n",
      "\n",
      "TYPE:         Cross validation\n",
      "STATUS:       DONE\n",
      "DESCRIPTION:  Each iteration of the trained model was validated through cross-validation.\n",
      "              \n",
      "DETAILS:      \n",
      "+---------------------------------+\n",
      "|Number of folds                  |\n",
      "+=================================+\n",
      "|10                               |\n",
      "+---------------------------------+\n",
      "\n",
      "****************************************************************************************************\n",
      "\n",
      "TYPE:         Class balancing detection\n",
      "STATUS:       PASSED\n",
      "DESCRIPTION:  Your inputs were analyzed, and all classes are balanced in your training data.\n",
      "              Learn more about imbalanced data: https://aka.ms/AutomatedMLImbalancedData\n",
      "\n",
      "****************************************************************************************************\n",
      "\n",
      "TYPE:         Missing feature values imputation\n",
      "STATUS:       PASSED\n",
      "DESCRIPTION:  No feature missing values were detected in the training data.\n",
      "              Learn more about missing value imputation: https://aka.ms/AutomatedMLFeaturization\n",
      "\n",
      "****************************************************************************************************\n",
      "\n",
      "TYPE:         High cardinality feature detection\n",
      "STATUS:       PASSED\n",
      "DESCRIPTION:  Your inputs were analyzed, and no high cardinality features were detected.\n",
      "              Learn more about high cardinality feature handling: https://aka.ms/AutomatedMLFeaturization\n",
      "\n",
      "****************************************************************************************************\n",
      "\n",
      "****************************************************************************************************\n",
      "ITERATION: The iteration being evaluated.\n",
      "PIPELINE: A summary description of the pipeline being evaluated.\n",
      "DURATION: Time taken for the current iteration.\n",
      "METRIC: The result of computing score on the fitted pipeline.\n",
      "BEST: The best observed score thus far.\n",
      "****************************************************************************************************\n",
      "\n",
      " ITERATION   PIPELINE                                       DURATION      METRIC      BEST\n",
      "         0   MaxAbsScaler LightGBM                          0:01:04       0.8822    0.8822\n",
      "         1   MaxAbsScaler XGBoostClassifier                 0:01:01       0.8717    0.8822\n",
      "         2   MinMaxScaler RandomForest                      0:00:57       0.8902    0.8902\n",
      "         3   RobustScaler ExtremeRandomTrees                0:01:04       0.8663    0.8902\n",
      "         4   MinMaxScaler RandomForest                      0:01:01       0.8955    0.8955\n",
      "         5   MinMaxScaler RandomForest                      0:01:00       0.8902    0.8955\n",
      "         6   StandardScalerWrapper RandomForest             0:01:04       0.8794    0.8955\n",
      "         7   MinMaxScaler ExtremeRandomTrees                0:01:53       0.8885    0.8955\n",
      "         8   MinMaxScaler ExtremeRandomTrees                0:02:09       0.8525    0.8955\n",
      "         9   SparseNormalizer KNN                           0:00:55       0.7207    0.8955\n",
      "        10   MinMaxScaler ExtremeRandomTrees                0:01:00       0.8737    0.8955\n",
      "        11   RobustScaler ExtremeRandomTrees                0:01:01       0.8740    0.8955\n",
      "        12   StandardScalerWrapper RandomForest             0:00:56       0.8887    0.8955\n",
      "        13   StandardScalerWrapper SGD                      0:01:13       0.8557    0.8955\n",
      "        14   RobustScaler RandomForest                      0:01:05       0.8746    0.8955\n",
      "        15   StandardScalerWrapper KNN                      0:01:00       0.5682    0.8955\n",
      "        16   MinMaxScaler RandomForest                      0:01:03       0.8848    0.8955\n",
      "        17   MinMaxScaler ExtremeRandomTrees                0:01:33       0.8058    0.8955\n",
      "        18   MaxAbsScaler RandomForest                      0:01:06       0.8796    0.8955\n",
      "        19   StandardScalerWrapper XGBoostClassifier        0:01:41       0.8910    0.8955\n",
      "        20   MaxAbsScaler RandomForest                      0:01:50       0.8805    0.8955\n",
      "        21   MaxAbsScaler ExtremeRandomTrees                0:01:32       0.8613    0.8955\n",
      "        22   MaxAbsScaler ExtremeRandomTrees                0:01:29       0.8682    0.8955\n",
      "        23   MinMaxScaler RandomForest                      0:01:14       0.8974    0.8974\n",
      "        24   MinMaxScaler RandomForest                      0:01:28       0.8910    0.8974\n",
      "        25   MinMaxScaler ExtremeRandomTrees                0:01:25       0.8996    0.8996\n",
      "        26   MaxAbsScaler ExtremeRandomTrees                0:01:09       0.8888    0.8996\n",
      "        27   StandardScalerWrapper XGBoostClassifier        0:01:09       0.8864    0.8996\n",
      "        28   MaxAbsScaler RandomForest                      0:01:07       0.8820    0.8996\n",
      "        29   RobustScaler LightGBM                          0:01:31       0.8791    0.8996\n",
      "        30   PCA ExtremeRandomTrees                         0:01:18       0.5311    0.8996\n",
      "        31   StandardScalerWrapper XGBoostClassifier        0:01:23       0.8666    0.8996\n",
      "        32   StandardScalerWrapper XGBoostClassifier        0:01:20       0.8880    0.8996\n",
      "        33   RobustScaler RandomForest                      0:01:08       0.9012    0.9012\n",
      "        34   StandardScalerWrapper LightGBM                 0:01:20       0.8986    0.9012\n",
      "        35   TruncatedSVDWrapper ExtremeRandomTrees         0:01:14       0.7508    0.9012\n",
      "        36   StandardScalerWrapper LightGBM                 0:01:16       0.9038    0.9038\n",
      "        37   RobustScaler LightGBM                          0:01:11       0.9058    0.9058\n",
      "        38   StandardScalerWrapper XGBoostClassifier        0:01:02       0.8905    0.9058\n",
      "        39   StandardScalerWrapper LightGBM                 0:01:05       0.8882    0.9058\n",
      "        40   StandardScalerWrapper XGBoostClassifier        0:01:02       0.8927    0.9058\n",
      "        41   StandardScalerWrapper LogisticRegression       0:01:01       0.8550    0.9058\n",
      "        42   RobustScaler LightGBM                          0:01:06       0.8839    0.9058\n",
      "        43   StandardScalerWrapper LogisticRegression       0:01:42       0.8532    0.9058\n",
      "        44   StandardScalerWrapper LightGBM                 0:01:13       0.9072    0.9072\n",
      "        45   MaxAbsScaler LightGBM                          0:00:56       0.8805    0.9072\n",
      "        46   StandardScalerWrapper ExtremeRandomTrees       0:01:18       0.8583    0.9072\n",
      "        47   MaxAbsScaler LightGBM                          0:00:57       0.8734    0.9072\n",
      "        48   StandardScalerWrapper ExtremeRandomTrees       0:01:12       0.8885    0.9072\n",
      "        49   MaxAbsScaler RandomForest                      0:01:19       0.8935    0.9072\n",
      "        50   MinMaxScaler LightGBM                          0:01:08       0.8588    0.9072\n",
      "        51   StandardScalerWrapper XGBoostClassifier        0:01:18       0.8920    0.9072\n",
      "        52   RobustScaler RandomForest                      0:01:46       0.8920    0.9072\n",
      "        53   StandardScalerWrapper XGBoostClassifier        0:01:15       0.8806    0.9072\n",
      "        54   StandardScalerWrapper XGBoostClassifier        0:01:13       0.8648    0.9072\n",
      "        55   StandardScalerWrapper LightGBM                 0:01:22       0.8981    0.9072\n",
      "        56   StandardScalerWrapper GradientBoosting         0:01:44       0.8849    0.9072\n",
      "        57   StandardScalerWrapper LightGBM                 0:01:25       0.9028    0.9072\n",
      "        58   MinMaxScaler RandomForest                      0:01:19       0.8907    0.9072\n",
      "        59   MaxAbsScaler ExtremeRandomTrees                0:01:09       0.8603    0.9072\n",
      "        60   MinMaxScaler LightGBM                          0:01:40       0.8950    0.9072\n",
      "        61   StandardScalerWrapper XGBoostClassifier        0:01:11       0.8983    0.9072\n",
      "        62   StandardScalerWrapper XGBoostClassifier        0:00:52          nan    0.9072\n",
      "        63   StandardScalerWrapper XGBoostClassifier        0:00:51          nan    0.9072\n",
      "        64                                                  0:00:40          nan    0.9072\n",
      "        65    VotingEnsemble                                0:02:50       0.9143    0.9143\n",
      "        66    StackEnsemble                                 0:02:52       0.9082    0.9143\n"
     ]
    },
    {
     "data": {
      "text/plain": [
       "{'runId': 'AutoML_0f3c2865-a426-4af8-9657-8b3d54d6aa46',\n",
       " 'target': 'notebook130193',\n",
       " 'status': 'Completed',\n",
       " 'startTimeUtc': '2020-12-12T09:14:09.076555Z',\n",
       " 'endTimeUtc': '2020-12-12T09:42:48.279492Z',\n",
       " 'properties': {'num_iterations': '1000',\n",
       "  'training_type': 'TrainFull',\n",
       "  'acquisition_function': 'EI',\n",
       "  'primary_metric': 'AUC_weighted',\n",
       "  'train_split': '0',\n",
       "  'acquisition_parameter': '0',\n",
       "  'num_cross_validation': None,\n",
       "  'target': 'notebook130193',\n",
       "  'AMLSettingsJsonString': '{\"path\":null,\"name\":\"capstone-automl-experiment\",\"subscription_id\":\"3929502f-a035-4029-a2f5-865565e57a0a\",\"resource_group\":\"aml-quickstarts-130193\",\"workspace_name\":\"quick-starts-ws-130193\",\"region\":\"southcentralus\",\"compute_target\":\"notebook130193\",\"spark_service\":null,\"azure_service\":\"remote\",\"many_models\":false,\"pipeline_fetch_max_batch_size\":1,\"iterations\":1000,\"primary_metric\":\"AUC_weighted\",\"task_type\":\"classification\",\"data_script\":null,\"validation_size\":0.0,\"n_cross_validations\":null,\"y_min\":null,\"y_max\":null,\"num_classes\":null,\"featurization\":\"auto\",\"_ignore_package_version_incompatibilities\":false,\"is_timeseries\":false,\"max_cores_per_iteration\":1,\"max_concurrent_iterations\":5,\"iteration_timeout_minutes\":null,\"mem_in_mb\":null,\"enforce_time_on_windows\":false,\"experiment_timeout_minutes\":20,\"experiment_exit_score\":null,\"whitelist_models\":null,\"blacklist_algos\":[\"TensorFlowLinearClassifier\",\"TensorFlowDNN\"],\"supported_models\":[\"SGD\",\"TensorFlowLinearClassifier\",\"BernoulliNaiveBayes\",\"TensorFlowDNN\",\"GradientBoosting\",\"DecisionTree\",\"MultinomialNaiveBayes\",\"LinearSVM\",\"KNN\",\"XGBoostClassifier\",\"ExtremeRandomTrees\",\"LogisticRegression\",\"AveragedPerceptronClassifier\",\"LightGBM\",\"RandomForest\",\"SVM\"],\"auto_blacklist\":true,\"blacklist_samples_reached\":false,\"exclude_nan_labels\":true,\"verbosity\":20,\"_debug_log\":\"azureml_automl.log\",\"show_warnings\":false,\"model_explainability\":true,\"service_url\":null,\"sdk_url\":null,\"sdk_packages\":null,\"enable_onnx_compatible_models\":false,\"enable_split_onnx_featurizer_estimator_models\":false,\"vm_type\":\"STANDARD_DS3_V2\",\"telemetry_verbosity\":20,\"send_telemetry\":true,\"enable_dnn\":false,\"scenario\":\"SDK-1.13.0\",\"environment_label\":null,\"force_text_dnn\":false,\"enable_feature_sweeping\":true,\"enable_early_stopping\":true,\"early_stopping_n_iters\":10,\"metrics\":null,\"enable_ensembling\":true,\"enable_stack_ensembling\":true,\"ensemble_iterations\":15,\"enable_tf\":false,\"enable_subsampling\":null,\"subsample_seed\":null,\"enable_nimbusml\":false,\"enable_streaming\":false,\"force_streaming\":false,\"track_child_runs\":true,\"allowed_private_models\":[],\"label_column_name\":\"DEATH_EVENT\",\"weight_column_name\":null,\"cv_split_column_names\":null,\"enable_local_managed\":false,\"_local_managed_run_id\":null,\"cost_mode\":1,\"lag_length\":0,\"metric_operation\":\"maximize\",\"preprocess\":true}',\n",
       "  'DataPrepJsonString': '{\\\\\"training_data\\\\\": \\\\\"{\\\\\\\\\\\\\"blocks\\\\\\\\\\\\\": [{\\\\\\\\\\\\\"id\\\\\\\\\\\\\": \\\\\\\\\\\\\"5888ec20-9252-4f8b-bb6f-367022c655cc\\\\\\\\\\\\\", \\\\\\\\\\\\\"type\\\\\\\\\\\\\": \\\\\\\\\\\\\"Microsoft.DPrep.GetDatastoreFilesBlock\\\\\\\\\\\\\", \\\\\\\\\\\\\"arguments\\\\\\\\\\\\\": {\\\\\\\\\\\\\"datastores\\\\\\\\\\\\\": [{\\\\\\\\\\\\\"datastoreName\\\\\\\\\\\\\": \\\\\\\\\\\\\"workspaceblobstore\\\\\\\\\\\\\", \\\\\\\\\\\\\"path\\\\\\\\\\\\\": \\\\\\\\\\\\\"UI/12-12-2020_083429_UTC/heart_failure_clinical_records_dataset.csv\\\\\\\\\\\\\", \\\\\\\\\\\\\"resourceGroup\\\\\\\\\\\\\": \\\\\\\\\\\\\"aml-quickstarts-130193\\\\\\\\\\\\\", \\\\\\\\\\\\\"subscription\\\\\\\\\\\\\": \\\\\\\\\\\\\"3929502f-a035-4029-a2f5-865565e57a0a\\\\\\\\\\\\\", \\\\\\\\\\\\\"workspaceName\\\\\\\\\\\\\": \\\\\\\\\\\\\"quick-starts-ws-130193\\\\\\\\\\\\\"}]}, \\\\\\\\\\\\\"localData\\\\\\\\\\\\\": {}, \\\\\\\\\\\\\"isEnabled\\\\\\\\\\\\\": true, \\\\\\\\\\\\\"name\\\\\\\\\\\\\": null, \\\\\\\\\\\\\"annotation\\\\\\\\\\\\\": null}, {\\\\\\\\\\\\\"id\\\\\\\\\\\\\": \\\\\\\\\\\\\"fd4635bb-1134-4c37-b317-dd8321762d9d\\\\\\\\\\\\\", \\\\\\\\\\\\\"type\\\\\\\\\\\\\": \\\\\\\\\\\\\"Microsoft.DPrep.ParseDelimitedBlock\\\\\\\\\\\\\", \\\\\\\\\\\\\"arguments\\\\\\\\\\\\\": {\\\\\\\\\\\\\"columnHeadersMode\\\\\\\\\\\\\": 1, \\\\\\\\\\\\\"fileEncoding\\\\\\\\\\\\\": 0, \\\\\\\\\\\\\"handleQuotedLineBreaks\\\\\\\\\\\\\": false, \\\\\\\\\\\\\"preview\\\\\\\\\\\\\": false, \\\\\\\\\\\\\"separator\\\\\\\\\\\\\": \\\\\\\\\\\\\",\\\\\\\\\\\\\", \\\\\\\\\\\\\"skipRows\\\\\\\\\\\\\": 0, \\\\\\\\\\\\\"skipRowsMode\\\\\\\\\\\\\": 0}, \\\\\\\\\\\\\"localData\\\\\\\\\\\\\": {}, \\\\\\\\\\\\\"isEnabled\\\\\\\\\\\\\": true, \\\\\\\\\\\\\"name\\\\\\\\\\\\\": null, \\\\\\\\\\\\\"annotation\\\\\\\\\\\\\": null}, {\\\\\\\\\\\\\"id\\\\\\\\\\\\\": \\\\\\\\\\\\\"165375a4-db7e-4f81-893d-a82489de8989\\\\\\\\\\\\\", \\\\\\\\\\\\\"type\\\\\\\\\\\\\": \\\\\\\\\\\\\"Microsoft.DPrep.DropColumnsBlock\\\\\\\\\\\\\", \\\\\\\\\\\\\"arguments\\\\\\\\\\\\\": {\\\\\\\\\\\\\"columns\\\\\\\\\\\\\": {\\\\\\\\\\\\\"type\\\\\\\\\\\\\": 0, \\\\\\\\\\\\\"details\\\\\\\\\\\\\": {\\\\\\\\\\\\\"selectedColumns\\\\\\\\\\\\\": [\\\\\\\\\\\\\"Path\\\\\\\\\\\\\"]}}}, \\\\\\\\\\\\\"localData\\\\\\\\\\\\\": {}, \\\\\\\\\\\\\"isEnabled\\\\\\\\\\\\\": true, \\\\\\\\\\\\\"name\\\\\\\\\\\\\": null, \\\\\\\\\\\\\"annotation\\\\\\\\\\\\\": null}, {\\\\\\\\\\\\\"id\\\\\\\\\\\\\": \\\\\\\\\\\\\"939cab6b-b289-4ea3-b98b-1fe6652818a6\\\\\\\\\\\\\", \\\\\\\\\\\\\"type\\\\\\\\\\\\\": \\\\\\\\\\\\\"Microsoft.DPrep.SetColumnTypesBlock\\\\\\\\\\\\\", \\\\\\\\\\\\\"arguments\\\\\\\\\\\\\": {\\\\\\\\\\\\\"columnConversion\\\\\\\\\\\\\": [{\\\\\\\\\\\\\"column\\\\\\\\\\\\\": {\\\\\\\\\\\\\"type\\\\\\\\\\\\\": 2, \\\\\\\\\\\\\"details\\\\\\\\\\\\\": {\\\\\\\\\\\\\"selectedColumn\\\\\\\\\\\\\": \\\\\\\\\\\\\"Path\\\\\\\\\\\\\"}}, \\\\\\\\\\\\\"typeProperty\\\\\\\\\\\\\": 0}, {\\\\\\\\\\\\\"column\\\\\\\\\\\\\": {\\\\\\\\\\\\\"type\\\\\\\\\\\\\": 2, \\\\\\\\\\\\\"details\\\\\\\\\\\\\": {\\\\\\\\\\\\\"selectedColumn\\\\\\\\\\\\\": \\\\\\\\\\\\\"age\\\\\\\\\\\\\"}}, \\\\\\\\\\\\\"typeProperty\\\\\\\\\\\\\": 3}, {\\\\\\\\\\\\\"column\\\\\\\\\\\\\": {\\\\\\\\\\\\\"type\\\\\\\\\\\\\": 2, \\\\\\\\\\\\\"details\\\\\\\\\\\\\": {\\\\\\\\\\\\\"selectedColumn\\\\\\\\\\\\\": \\\\\\\\\\\\\"anaemia\\\\\\\\\\\\\"}}, \\\\\\\\\\\\\"typeProperty\\\\\\\\\\\\\": 2}, {\\\\\\\\\\\\\"column\\\\\\\\\\\\\": {\\\\\\\\\\\\\"type\\\\\\\\\\\\\": 2, \\\\\\\\\\\\\"details\\\\\\\\\\\\\": {\\\\\\\\\\\\\"selectedColumn\\\\\\\\\\\\\": \\\\\\\\\\\\\"creatinine_phosphokinase\\\\\\\\\\\\\"}}, \\\\\\\\\\\\\"typeProperty\\\\\\\\\\\\\": 2}, {\\\\\\\\\\\\\"column\\\\\\\\\\\\\": {\\\\\\\\\\\\\"type\\\\\\\\\\\\\": 2, \\\\\\\\\\\\\"details\\\\\\\\\\\\\": {\\\\\\\\\\\\\"selectedColumn\\\\\\\\\\\\\": \\\\\\\\\\\\\"diabetes\\\\\\\\\\\\\"}}, \\\\\\\\\\\\\"typeProperty\\\\\\\\\\\\\": 2}, {\\\\\\\\\\\\\"column\\\\\\\\\\\\\": {\\\\\\\\\\\\\"type\\\\\\\\\\\\\": 2, \\\\\\\\\\\\\"details\\\\\\\\\\\\\": {\\\\\\\\\\\\\"selectedColumn\\\\\\\\\\\\\": \\\\\\\\\\\\\"ejection_fraction\\\\\\\\\\\\\"}}, \\\\\\\\\\\\\"typeProperty\\\\\\\\\\\\\": 2}, {\\\\\\\\\\\\\"column\\\\\\\\\\\\\": {\\\\\\\\\\\\\"type\\\\\\\\\\\\\": 2, \\\\\\\\\\\\\"details\\\\\\\\\\\\\": {\\\\\\\\\\\\\"selectedColumn\\\\\\\\\\\\\": \\\\\\\\\\\\\"high_blood_pressure\\\\\\\\\\\\\"}}, \\\\\\\\\\\\\"typeProperty\\\\\\\\\\\\\": 2}, {\\\\\\\\\\\\\"column\\\\\\\\\\\\\": {\\\\\\\\\\\\\"type\\\\\\\\\\\\\": 2, \\\\\\\\\\\\\"details\\\\\\\\\\\\\": {\\\\\\\\\\\\\"selectedColumn\\\\\\\\\\\\\": \\\\\\\\\\\\\"platelets\\\\\\\\\\\\\"}}, \\\\\\\\\\\\\"typeProperty\\\\\\\\\\\\\": 3}, {\\\\\\\\\\\\\"column\\\\\\\\\\\\\": {\\\\\\\\\\\\\"type\\\\\\\\\\\\\": 2, \\\\\\\\\\\\\"details\\\\\\\\\\\\\": {\\\\\\\\\\\\\"selectedColumn\\\\\\\\\\\\\": \\\\\\\\\\\\\"serum_creatinine\\\\\\\\\\\\\"}}, \\\\\\\\\\\\\"typeProperty\\\\\\\\\\\\\": 3}, {\\\\\\\\\\\\\"column\\\\\\\\\\\\\": {\\\\\\\\\\\\\"type\\\\\\\\\\\\\": 2, \\\\\\\\\\\\\"details\\\\\\\\\\\\\": {\\\\\\\\\\\\\"selectedColumn\\\\\\\\\\\\\": \\\\\\\\\\\\\"serum_sodium\\\\\\\\\\\\\"}}, \\\\\\\\\\\\\"typeProperty\\\\\\\\\\\\\": 2}, {\\\\\\\\\\\\\"column\\\\\\\\\\\\\": {\\\\\\\\\\\\\"type\\\\\\\\\\\\\": 2, \\\\\\\\\\\\\"details\\\\\\\\\\\\\": {\\\\\\\\\\\\\"selectedColumn\\\\\\\\\\\\\": \\\\\\\\\\\\\"sex\\\\\\\\\\\\\"}}, \\\\\\\\\\\\\"typeProperty\\\\\\\\\\\\\": 2}, {\\\\\\\\\\\\\"column\\\\\\\\\\\\\": {\\\\\\\\\\\\\"type\\\\\\\\\\\\\": 2, \\\\\\\\\\\\\"details\\\\\\\\\\\\\": {\\\\\\\\\\\\\"selectedColumn\\\\\\\\\\\\\": \\\\\\\\\\\\\"smoking\\\\\\\\\\\\\"}}, \\\\\\\\\\\\\"typeProperty\\\\\\\\\\\\\": 2}, {\\\\\\\\\\\\\"column\\\\\\\\\\\\\": {\\\\\\\\\\\\\"type\\\\\\\\\\\\\": 2, \\\\\\\\\\\\\"details\\\\\\\\\\\\\": {\\\\\\\\\\\\\"selectedColumn\\\\\\\\\\\\\": \\\\\\\\\\\\\"time\\\\\\\\\\\\\"}}, \\\\\\\\\\\\\"typeProperty\\\\\\\\\\\\\": 2}, {\\\\\\\\\\\\\"column\\\\\\\\\\\\\": {\\\\\\\\\\\\\"type\\\\\\\\\\\\\": 2, \\\\\\\\\\\\\"details\\\\\\\\\\\\\": {\\\\\\\\\\\\\"selectedColumn\\\\\\\\\\\\\": \\\\\\\\\\\\\"DEATH_EVENT\\\\\\\\\\\\\"}}, \\\\\\\\\\\\\"typeProperty\\\\\\\\\\\\\": 2}]}, \\\\\\\\\\\\\"localData\\\\\\\\\\\\\": {}, \\\\\\\\\\\\\"isEnabled\\\\\\\\\\\\\": true, \\\\\\\\\\\\\"name\\\\\\\\\\\\\": null, \\\\\\\\\\\\\"annotation\\\\\\\\\\\\\": null}], \\\\\\\\\\\\\"inspectors\\\\\\\\\\\\\": [], \\\\\\\\\\\\\"meta\\\\\\\\\\\\\": {\\\\\\\\\\\\\"savedDatasetId\\\\\\\\\\\\\": \\\\\\\\\\\\\"a82fab68-f1d2-4f33-8a03-d242fd2755a1\\\\\\\\\\\\\", \\\\\\\\\\\\\"datasetType\\\\\\\\\\\\\": \\\\\\\\\\\\\"tabular\\\\\\\\\\\\\", \\\\\\\\\\\\\"subscriptionId\\\\\\\\\\\\\": \\\\\\\\\\\\\"3929502f-a035-4029-a2f5-865565e57a0a\\\\\\\\\\\\\", \\\\\\\\\\\\\"workspaceId\\\\\\\\\\\\\": \\\\\\\\\\\\\"22ff2c10-9a79-4fcd-85db-cbf856735420\\\\\\\\\\\\\", \\\\\\\\\\\\\"workspaceLocation\\\\\\\\\\\\\": \\\\\\\\\\\\\"southcentralus\\\\\\\\\\\\\"}}\\\\\", \\\\\"activities\\\\\": 0}',\n",
       "  'EnableSubsampling': None,\n",
       "  'runTemplate': 'AutoML',\n",
       "  'azureml.runsource': 'automl',\n",
       "  'display_task_type': 'classification',\n",
       "  'dependencies_versions': '{\"azureml-widgets\": \"1.19.0\", \"azureml-train\": \"1.19.0\", \"azureml-train-restclients-hyperdrive\": \"1.19.0\", \"azureml-train-core\": \"1.19.0\", \"azureml-train-automl\": \"1.19.0\", \"azureml-train-automl-runtime\": \"1.19.0\", \"azureml-train-automl-client\": \"1.19.0\", \"azureml-tensorboard\": \"1.19.0\", \"azureml-telemetry\": \"1.19.0\", \"azureml-sdk\": \"1.19.0\", \"azureml-samples\": \"0+unknown\", \"azureml-pipeline\": \"1.19.0\", \"azureml-pipeline-steps\": \"1.19.0\", \"azureml-pipeline-core\": \"1.19.0\", \"azureml-opendatasets\": \"1.19.0\", \"azureml-model-management-sdk\": \"1.0.1b6.post1\", \"azureml-mlflow\": \"1.19.0\", \"azureml-interpret\": \"1.19.0\", \"azureml-explain-model\": \"1.19.0\", \"azureml-defaults\": \"1.19.0\", \"azureml-dataset-runtime\": \"1.19.0\", \"azureml-dataprep\": \"2.6.1\", \"azureml-dataprep-rslex\": \"1.4.0\", \"azureml-dataprep-native\": \"26.0.0\", \"azureml-datadrift\": \"1.19.0\", \"azureml-core\": \"1.19.0\", \"azureml-contrib-services\": \"1.19.0\", \"azureml-contrib-server\": \"1.19.0\", \"azureml-contrib-reinforcementlearning\": \"1.19.0\", \"azureml-contrib-pipeline-steps\": \"1.19.0\", \"azureml-contrib-notebook\": \"1.19.0\", \"azureml-contrib-interpret\": \"1.19.0\", \"azureml-contrib-gbdt\": \"1.19.0\", \"azureml-contrib-fairness\": \"1.19.0\", \"azureml-contrib-dataset\": \"1.19.0\", \"azureml-cli-common\": \"1.19.0\", \"azureml-automl-runtime\": \"1.19.0\", \"azureml-automl-core\": \"1.19.0\", \"azureml-accel-models\": \"1.19.0\"}',\n",
       "  '_aml_system_scenario_identification': 'Remote.Parent',\n",
       "  'ClientType': 'SDK',\n",
       "  'environment_cpu_name': 'AzureML-AutoML',\n",
       "  'environment_cpu_version': '48',\n",
       "  'environment_gpu_name': 'AzureML-AutoML-GPU',\n",
       "  'environment_gpu_version': '36',\n",
       "  'root_attribution': 'automl',\n",
       "  'attribution': 'AutoML',\n",
       "  'Orchestrator': 'AutoML',\n",
       "  'CancelUri': 'https://southcentralus.experiments.azureml.net/jasmine/v1.0/subscriptions/3929502f-a035-4029-a2f5-865565e57a0a/resourceGroups/aml-quickstarts-130193/providers/Microsoft.MachineLearningServices/workspaces/quick-starts-ws-130193/experimentids/43cd08a9-5ec6-4fff-ad7f-c85d6b6ac4c4/cancel/AutoML_0f3c2865-a426-4af8-9657-8b3d54d6aa46',\n",
       "  'ClientSdkVersion': '1.18.0.post1',\n",
       "  'snapshotId': '00000000-0000-0000-0000-000000000000',\n",
       "  'SetupRunId': 'AutoML_0f3c2865-a426-4af8-9657-8b3d54d6aa46_setup',\n",
       "  'SetupRunContainerId': 'dcid.AutoML_0f3c2865-a426-4af8-9657-8b3d54d6aa46_setup',\n",
       "  'FeaturizationRunJsonPath': 'featurizer_container.json',\n",
       "  'FeaturizationRunId': 'AutoML_0f3c2865-a426-4af8-9657-8b3d54d6aa46_featurize',\n",
       "  'ProblemInfoJsonString': '{\"dataset_num_categorical\": 0, \"is_sparse\": false, \"subsampling\": false, \"dataset_classes\": 2, \"dataset_features\": 12, \"dataset_samples\": 299, \"single_frequency_class_detected\": false}',\n",
       "  'ModelExplainRunId': 'AutoML_0f3c2865-a426-4af8-9657-8b3d54d6aa46_ModelExplain'},\n",
       " 'inputDatasets': [{'dataset': {'id': 'a82fab68-f1d2-4f33-8a03-d242fd2755a1'}, 'consumptionDetails': {'type': 'RunInput', 'inputName': 'training_data', 'mechanism': 'Direct'}}],\n",
       " 'outputDatasets': [],\n",
       " 'logFiles': {}}"
      ]
     },
     "execution_count": 8,
     "metadata": {},
     "output_type": "execute_result"
    }
   ],
   "source": [
    "# importing required dependencies\n",
    "from azureml.widgets import RunDetails\n",
    "\n",
    "RunDetails(remote_run).show()"
   ]
  },
  {
   "cell_type": "markdown",
   "metadata": {},
   "source": [
    "## Best Model\n",
    "\n",
    "TODO: In the cell below, get the best model from the automl experiments and display all the properties of the model.\n",
    "\n"
   ]
  },
  {
   "cell_type": "code",
   "execution_count": 9,
   "metadata": {
    "gather": {
     "logged": 1607766584996
    },
    "jupyter": {
     "outputs_hidden": false,
     "source_hidden": false
    },
    "nteract": {
     "transient": {
      "deleting": false
     }
    }
   },
   "outputs": [
    {
     "name": "stdout",
     "output_type": "stream",
     "text": [
      "Run(Experiment: capstone-automl-experiment,\n",
      "Id: AutoML_0f3c2865-a426-4af8-9657-8b3d54d6aa46_65,\n",
      "Type: azureml.scriptrun,\n",
      "Status: Completed)\n",
      "Pipeline(memory=None,\n",
      "         steps=[('datatransformer',\n",
      "                 DataTransformer(enable_dnn=None, enable_feature_sweeping=None,\n",
      "                                 feature_sweeping_config=None,\n",
      "                                 feature_sweeping_timeout=None,\n",
      "                                 featurization_config=None, force_text_dnn=None,\n",
      "                                 is_cross_validation=None,\n",
      "                                 is_onnx_compatible=None, logger=None,\n",
      "                                 observer=None, task=None, working_dir=None)),\n",
      "                ('prefittedsoftvotingclassifier',...\n",
      "                                                                                                    n_estimators=25,\n",
      "                                                                                                    n_jobs=1,\n",
      "                                                                                                    oob_score=False,\n",
      "                                                                                                    random_state=None,\n",
      "                                                                                                    verbose=0,\n",
      "                                                                                                    warm_start=False))],\n",
      "                                                                     verbose=False))],\n",
      "                                               flatten_transform=None,\n",
      "                                               weights=[0.21428571428571427,\n",
      "                                                        0.07142857142857142,\n",
      "                                                        0.07142857142857142,\n",
      "                                                        0.07142857142857142,\n",
      "                                                        0.07142857142857142,\n",
      "                                                        0.07142857142857142,\n",
      "                                                        0.14285714285714285,\n",
      "                                                        0.07142857142857142,\n",
      "                                                        0.14285714285714285,\n",
      "                                                        0.07142857142857142]))],\n",
      "         verbose=False)\n"
     ]
    }
   ],
   "source": [
    "# Retrieve best model from AutoML Run\n",
    "\n",
    "# importing required dependencies\n",
    "import joblib\n",
    "\n",
    "best_automl_run, best_automl_fitted_model = remote_run.get_output()\n",
    "print(best_automl_run)\n",
    "print(best_automl_fitted_model)"
   ]
  },
  {
   "cell_type": "code",
   "execution_count": 10,
   "metadata": {
    "gather": {
     "logged": 1607766612823
    },
    "jupyter": {
     "outputs_hidden": false,
     "source_hidden": false
    },
    "nteract": {
     "transient": {
      "deleting": false
     }
    }
   },
   "outputs": [
    {
     "data": {
      "text/plain": [
       "['best_automl_model.pkl']"
      ]
     },
     "execution_count": 10,
     "metadata": {},
     "output_type": "execute_result"
    }
   ],
   "source": [
    "#TODO: Save the best model\n",
    "joblib.dump(best_automl_fitted_model,'best_automl_model.pkl')"
   ]
  },
  {
   "cell_type": "code",
   "execution_count": null,
   "metadata": {},
   "outputs": [],
   "source": [
    "# getting the details of the best model produced by automl\n",
    "best_automl_run.get_tags()"
   ]
  },
  {
   "cell_type": "code",
   "execution_count": null,
   "metadata": {},
   "outputs": [],
   "source": [
    "from pprint import pprint\n",
    "\n",
    "def print_model(model,prefix=\"\"):\n",
    "    for step in model.steps:\n",
    "        print(prefix+step[0])\n",
    "        if hasattr(step[1],'estimators') and hasattr(step[1],'weights'):\n",
    "            pprint({'estimators':list(e[0] for e in step[1].estimators), 'weights':step[1].weights})\n",
    "            print()\n",
    "            for estimator in step[1].estimators:\n",
    "                print_model(estimator[1],estimator[0]+'-')\n",
    "        else:\n",
    "            pprint(step[1].get_params())\n",
    "            print()\n",
    "\n",
    "print_model(best_automl_fitted_model)"
   ]
  },
  {
   "cell_type": "code",
   "execution_count": null,
   "metadata": {},
   "outputs": [],
   "source": [
    "# retrieving the best model as ONNX model\n",
    "best_auto_run, best_onnx_model = remote_run.get_output(return_onnx_model=True)"
   ]
  },
  {
   "cell_type": "code",
   "execution_count": null,
   "metadata": {},
   "outputs": [],
   "source": [
    "# importing required dependencies\n",
    "from azureml.automl.runtime.onnx_convert import OnnxConverter\n",
    "\n",
    "# saving the best model as onnx_model\n",
    "onnx_fl_path = \"./best_model.onnx\"\n",
    "OnnxConverter.save_onnx_model(best_onnx_model, onnx_fl_path)"
   ]
  },
  {
   "cell_type": "markdown",
   "metadata": {},
   "source": [
    "## Model Deployment\n",
    "\n",
    "Remember you have to deploy only one of the two models you trained.. Perform the steps in the rest of this notebook only if you wish to deploy this model.\n",
    "\n",
    "TODO: In the cell below, register the model, create an inference config and deploy the model as a web service."
   ]
  },
  {
   "cell_type": "code",
   "execution_count": null,
   "metadata": {
    "gather": {
     "logged": 1598431435189
    },
    "jupyter": {
     "outputs_hidden": false,
     "source_hidden": false
    },
    "nteract": {
     "transient": {
      "deleting": false
     }
    }
   },
   "outputs": [],
   "source": [
    "# registering the best automl model\n",
    "\n",
    "description = 'heart failure predictions'\n",
    "tags = None\n",
    "\n",
    "model = remote_run.register_model(description = description, tags = tags)\n",
    "\n",
    "print(remote_run.model_id)\n",
    "\n",
    "# importing required dependencies\n",
    "from azureml.core.model import InferenceConfig\n",
    "from azureml.core.webservice import AciWebservice\n",
    "from azureml.core.webservice import Webservice\n",
    "from azureml.core.model import Model\n",
    "from azureml.core.environment import Environment\n",
    "\n",
    "# loading a curated environment from workspace\n",
    "\n",
    "env = Environment.get(ws, \"AzureML-AutoML\")\n",
    "\n",
    "# specifying scikit-learn as dependency\n",
    "for pip_package in [\"scikit-learn\"]:\n",
    "    env.python.conda_dependencies.add_pip_package(pip_package)\n",
    "\n",
    "# creating an inference config\n",
    "inference_config = InferenceConfig(entry_script='entry_script.py', environment=env)\n",
    "\n",
    "aciconfig = AciWebservice.deploy_configuration(cpu_cores = 1, memory_gb = 1)\n",
    "\n",
    "# naming the service to be deployed\n",
    "aci_service_name = 'automl-heart-failure-predictions'\n",
    "print(aci_service_name)\n",
    "\n",
    "# deploying the model\n",
    "aci_service = Model.deploy(ws, aci_service_name, [model], inference_config, aciconfig)\n",
    "aci_service.wait_for_deployment(True)\n",
    "print(aci_service.state)"
   ]
  },
  {
   "cell_type": "markdown",
   "metadata": {
    "collapsed": true,
    "gather": {
     "logged": 1598431657736
    },
    "jupyter": {
     "outputs_hidden": false,
     "source_hidden": false
    },
    "nteract": {
     "transient": {
      "deleting": false
     }
    }
   },
   "source": [
    "TODO: In the cell below, send a request to the web service you deployed to test it."
   ]
  },
  {
   "cell_type": "code",
   "execution_count": null,
   "metadata": {
    "gather": {
     "logged": 1598432707604
    },
    "jupyter": {
     "outputs_hidden": false,
     "source_hidden": false
    },
    "nteract": {
     "transient": {
      "deleting": false
     }
    }
   },
   "outputs": [],
   "source": [
    "# importing required dependencies\n",
    "from numpy import array\n",
    "\n",
    "# getting the test features and labels\n",
    "X_test = dataset.drop_columns(columns=['DEATH_EVENT'])\n",
    "y_test = dataset.keep_columns(columns=['DEATH_EVENT'], validate=True)\n",
    "\n",
    "# converting to pandas dataframe\n",
    "#dataset.take(5).to_pandas_dataframe()\n",
    "#X_test = X_test.to_pandas_dataframe()\n",
    "#y_test = y_test.to_pandas_dataframe()\n",
    "\n",
    "# importing required dependencies\n",
    "import json\n",
    "import requests\n",
    "\n",
    "X_test_json = X_test.to_json(orient='records')\n",
    "data = \"{\\\"data\\\": \" + X_test_json +\"}\"\n",
    "headers = {'Content-Type': 'application/json'}\n",
    "\n",
    "#resp = requests.post(aci_service.scoring_uri, data, headers=headers)\n",
    "\n",
    "#y_pred = json.loads(json.loads(resp.text))['result']\n",
    "#actual = array(y_test)\n",
    "#actual = actual[:,0]\n",
    "#print(len(y_pred), \" \", len(actual))"
   ]
  },
  {
   "cell_type": "code",
   "execution_count": null,
   "metadata": {},
   "outputs": [],
   "source": [
    "resp = requests.post(aci_service.scoring_uri, data, headers=headers)\n",
    "\n",
    "y_pred = json.loads(json.loads(resp.text))['result']\n",
    "actual = array(y_test)\n",
    "actual = actual[:,0]\n",
    "print(len(y_pred), \" \", len(actual))"
   ]
  },
  {
   "cell_type": "markdown",
   "metadata": {
    "collapsed": true,
    "gather": {
     "logged": 1598432765711
    },
    "jupyter": {
     "outputs_hidden": false,
     "source_hidden": false
    },
    "nteract": {
     "transient": {
      "deleting": false
     }
    }
   },
   "source": [
    "TODO: In the cell below, print the logs of the web service and delete the service"
   ]
  },
  {
   "cell_type": "code",
   "execution_count": null,
   "metadata": {
    "jupyter": {
     "outputs_hidden": false,
     "source_hidden": false
    },
    "nteract": {
     "transient": {
      "deleting": false
     }
    }
   },
   "outputs": [],
   "source": [
    "# printing the logs of deployed web service\n",
    "aci_service.get_logs()"
   ]
  },
  {
   "cell_type": "code",
   "execution_count": null,
   "metadata": {},
   "outputs": [],
   "source": [
    "# deleting a web service\n",
    "aci_service.delete()"
   ]
  },
  {
   "cell_type": "code",
   "execution_count": null,
   "metadata": {},
   "outputs": [],
   "source": [
    "# delete compute cluster\n",
    "compute_target.delete()"
   ]
  }
 ],
 "metadata": {
  "kernel_info": {
   "name": "python3"
  },
  "kernelspec": {
   "display_name": "Python 3",
   "language": "python",
   "name": "python3"
  },
  "language_info": {
   "codemirror_mode": {
    "name": "ipython",
    "version": 3
   },
   "file_extension": ".py",
   "mimetype": "text/x-python",
   "name": "python",
   "nbconvert_exporter": "python",
   "pygments_lexer": "ipython3",
   "version": "3.8.3"
  },
  "nteract": {
   "version": "nteract-front-end@1.0.0"
  }
 },
 "nbformat": 4,
 "nbformat_minor": 2
}
