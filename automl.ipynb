{
  "cells": [
    {
      "cell_type": "markdown",
      "source": [
        "# Automated ML\n",
        "\n",
        "TODO: Import Dependencies. In the cell below, import all the dependencies that you will need to complete the project.\n",
        "\n",
        "With the help of python notebooks provided in 1st and 2nd project of this nanodegree program ('Optimizing a pipeline in Azure' and 'Operationalizing machine learning'), I have imported following basic dependencies required to complete this project. Any other specific dependecy will be imported as we proceed further in this project."
      ],
      "metadata": {}
    },
    {
      "cell_type": "code",
      "source": [
        "import logging\n",
        "import os\n",
        "import csv\n",
        "\n",
        "from matplotlib import pyplot as pyplot\n",
        "import numpy as np\n",
        "import pandas as pd\n",
        "from sklearn import datasets\n",
        "import pkg_resources\n",
        "\n",
        "import azureml.core\n",
        "from azureml.core.experiment import Experiment\n",
        "from azureml.core.workspace import Workspace\n",
        "from azureml.train.automl import AutoMLConfig\n",
        "from azureml.core.dataset import Dataset\n",
        "\n",
        "from azureml.pipeline.steps import AutoMLStep\n",
        "\n",
        "# CheckIng core SDK version number\n",
        "print(\"SDK Version:\", azureml.core.VERSION)"
      ],
      "outputs": [
        {
          "output_type": "stream",
          "name": "stdout",
          "text": [
            "SDK Version: 1.19.0\n"
          ]
        }
      ],
      "execution_count": 2,
      "metadata": {
        "gather": {
          "logged": 1610866011944
        },
        "jupyter": {
          "outputs_hidden": false,
          "source_hidden": false
        },
        "nteract": {
          "transient": {
            "deleting": false
          }
        }
      }
    },
    {
      "cell_type": "markdown",
      "source": [
        "## Dataset\n",
        "\n",
        "### Overview\n",
        "TODO: In this markdown cell, give an overview of the dataset you are using. Also mention the task you will be performing.\n",
        "\n",
        "I will be using the 'Heart Failure Clinical Data' which consists of 12 features ( age, anaemia, creatinine_phosphokinase, diabetes, ejection_fraction, high_blood_pressure, platelets, serum_creatinine, serum_sodium, sex, smoking, time ) which can be used to predict mortality by heart failure. There are total of 299 input rows in the dataset with 0 null entries.\n",
        "\n",
        "The 12 features are as follows:\n",
        "\n",
        "(1) age\n",
        "\n",
        "(2) anaemia i.e. decrease of red blood cells or hemoglobin (boolean)\n",
        "\n",
        "(3) creatining_phosphokinase i.e. level of the CPK enzyme in the blood (mcg/L)\n",
        "\n",
        "(4) diabetes i.e. if the patient has diabetes or not (boolean)\n",
        "\n",
        "(5) ejection_fraction i.e. percentage of blood leaving the heart at each contraction (percentage)\n",
        "\n",
        "(6) high_blood_pressure i.e. if the patient has hypertension (boolean)\n",
        "\n",
        "(7) platelets i.e. platelets in the blood (kiloplatelets/mL)\n",
        "\n",
        "(8) serum_creatinine i.e. level of serum creatinine in the blood (mg/dL)\n",
        "\n",
        "(9) serum_sodium i.e. level of serum sodium in the blood (mEq/L)\n",
        "\n",
        "(10) sex i.e. woman or man (binary)\n",
        "\n",
        "(11) smoking i.e. if the patient smokes or not (boolean)\n",
        "\n",
        "(12) time i.e. follow-up period (days)\n",
        "\n",
        "\n",
        "We will be predicting the following output:\n",
        "\n",
        "DEATH_EVENT i.e if the patient deceased during the follow-up period (boolean)\n",
        "\n",
        "A machine learning classification model on this dataset will be helpful for early detection of people with cardiovascular disease or those who are at high risk of cardiovascular disease. \n",
        "\n",
        "SOURCE : https://www.kaggle.com/andrewmvd/heart-failure-clinical-data\n",
        "\n",
        "TODO: Get data. In the cell below, write code to access the data you will be using in this project. Remember that the dataset needs to be external.\n",
        "\n",
        "I have already registered the dataset after downloading it from kaggle. So, I will be using the name and description that I saved the dataset with, to import it in my experiment."
      ],
      "metadata": {}
    },
    {
      "cell_type": "code",
      "source": [
        "# creating an automl experiment in our workspace\n",
        "\n",
        "# initializing a workspace\n",
        "ws = Workspace.from_config()\n",
        "print(ws.name, ws.resource_group, ws.location, ws.subscription_id, sep='\\n')\n",
        "\n",
        "# choosing a name for experiment\n",
        "experiment_name = 'capstone-automl-experiment'\n",
        "project_folder = './pipeline-project'\n",
        "\n",
        "# creating the experiment\n",
        "experiment = Experiment(ws, experiment_name)\n",
        "experiment.start_logging()\n",
        "experiment"
      ],
      "outputs": [
        {
          "output_type": "stream",
          "name": "stdout",
          "text": [
            "quick-starts-ws-134993\n",
            "aml-quickstarts-134993\n",
            "southcentralus\n",
            "b968fb36-f06a-4c76-a15f-afab68ae7667\n"
          ]
        },
        {
          "output_type": "execute_result",
          "execution_count": 3,
          "data": {
            "text/plain": "Experiment(Name: capstone-automl-experiment,\nWorkspace: quick-starts-ws-134993)",
            "text/html": "<table style=\"width:100%\"><tr><th>Name</th><th>Workspace</th><th>Report Page</th><th>Docs Page</th></tr><tr><td>capstone-automl-experiment</td><td>quick-starts-ws-134993</td><td><a href=\"https://ml.azure.com/experiments/capstone-automl-experiment?wsid=/subscriptions/b968fb36-f06a-4c76-a15f-afab68ae7667/resourcegroups/aml-quickstarts-134993/workspaces/quick-starts-ws-134993\" target=\"_blank\" rel=\"noopener\">Link to Azure Machine Learning studio</a></td><td><a href=\"https://docs.microsoft.com/en-us/python/api/azureml-core/azureml.core.experiment.Experiment?view=azure-ml-py\" target=\"_blank\" rel=\"noopener\">Link to Documentation</a></td></tr></table>"
          },
          "metadata": {}
        }
      ],
      "execution_count": 3,
      "metadata": {
        "gather": {
          "logged": 1610866034952
        },
        "jupyter": {
          "outputs_hidden": false,
          "source_hidden": false
        },
        "nteract": {
          "transient": {
            "deleting": false
          }
        }
      }
    },
    {
      "cell_type": "code",
      "source": [
        "# creating an AMLCompute cluster for running the experiment\n",
        "\n",
        "# importing required dependencies\n",
        "from azureml.core.compute import AmlCompute, ComputeTarget\n",
        "from azureml.core.compute_target import ComputeTargetException\n",
        "\n",
        "# Choosing a name for our CPU cluster\n",
        "amlcompute_cluster_name = \"aml-auto\"\n",
        "\n",
        "# Verifying that cluster does not exist already\n",
        "try:\n",
        "    compute_target = ComputeTarget(workspace=ws, name=amlcompute_cluster_name)\n",
        "    print('Found existing cluster, use it.')\n",
        "except ComputeTargetException:\n",
        "    compute_config = AmlCompute.provisioning_configuration(vm_size='STANDARD_D2_V2', max_nodes=4)\n",
        "    compute_target = ComputeTarget.create(ws, amlcompute_cluster_name, compute_config)\n",
        "\n",
        "compute_target.wait_for_completion(show_output=True, min_node_count = 1, timeout_in_minutes = 10)\n",
        "compute_target.get_status()"
      ],
      "outputs": [
        {
          "output_type": "stream",
          "name": "stdout",
          "text": [
            "Creating\n",
            "Succeeded.................................................................................................................\n",
            "AmlCompute wait for completion finished\n",
            "\n",
            "Wait timeout has been reached\n",
            "Current provisioning state of AmlCompute is \"Succeeded\" and current node count is \"0\"\n"
          ]
        },
        {
          "output_type": "execute_result",
          "execution_count": 4,
          "data": {
            "text/plain": "<azureml.core.compute.amlcompute.AmlComputeStatus at 0x7ff053cb1358>"
          },
          "metadata": {}
        }
      ],
      "execution_count": 4,
      "metadata": {
        "gather": {
          "logged": 1610866655912
        }
      }
    },
    {
      "cell_type": "code",
      "source": [
        "# importing required dependency\n",
        "from azureml.data.dataset_factory import TabularDatasetFactory\n",
        "\n",
        "# importing dataset using url\n",
        "dataset = TabularDatasetFactory.from_delimited_files(\"https://raw.githubusercontent.com/ujjwalbb30/nd00333-capstone/ujjwalbb30-patch-1/heart_failure_clinical_records_dataset.csv\")"
      ],
      "outputs": [],
      "execution_count": 5,
      "metadata": {
        "gather": {
          "logged": 1610866718007
        },
        "jupyter": {
          "outputs_hidden": false,
          "source_hidden": false
        },
        "nteract": {
          "transient": {
            "deleting": false
          }
        }
      }
    },
    {
      "cell_type": "markdown",
      "source": [
        "## AutoML Configuration\n",
        "\n",
        "TODO: Explain why you chose the automl settings and cofiguration you used below.\n",
        "\n",
        "for automl settings, I will be using the following parameters:\n",
        "\n",
        "(1) experiment_timeout_minutes : It is the amount of time that the experiment will run upto. I will input it as 30 minutes which means the the experiment will exit after 30 minutes ( if it doesn't find the best run within 30 minutes and exit on its own ) and will give out the best result found during that time.\n",
        "\n",
        "(2) max_concurrent_iterations : It is the maximum number of iterations to be executed in parallel. I will input it as '5' iterations. 5 concurrent iterations will help in quickly executing the tasks of experiment and it will also not load the compute target too much for computation.\n",
        "\n",
        "(3) primary_metric : This is the metric that will be optimized by Automated Machine Learning for model selection. I will use 'AUC_weighted' as 'primary_metric' parameter. AUC means the area under the Receiver Operating Characteristic Curve which plots the relationship between true positive rate and false positive rate. Since our dataset doesn't have high class imbalance, we can use ROC method for judging the performance of a model. I will use AUC_weighted in order to mitigate the effects of whatever little imbalance is there in the dataset. AUC_weighted is the arithmetic mean of the score for each class, weighted by the number of true instances in each class.\n",
        "\n",
        "for automl configuration, I will be using the following parameters:\n",
        "\n",
        "(1) compute_target : It is the compute target on which we will run our Azure Machine Learning experiment. Since I have created a compute target named as 'compute_target' for this purpose, I will input it as the 'compute_target' parameter.\n",
        "\n",
        "(2) task : I want to make a classification model that can predict whether the patient is at a high risk of cardiovascular disease or not. Hence, I will input 'classification' as 'task' parameter.\n",
        "\n",
        "(3) training_data : It is the training dataset to be used for the experiment. I will use 'dataset' (the registered dataset imported above for running this experiment) as 'training_data' parameter. importing training dataset means the output columns will be included and its name will be entered in 'label_column_name'.\n",
        "\n",
        "(4) label_column_name : It is the name of the output column present in the training dataset. I will enter 'DEATH_EVENT' as 'label_column_name' parameter.\n",
        "\n",
        "(5) path : This is the full path to the Azure Machine learning project folder. Hence, I will input './pipeline-project' as 'path' parameter.\n",
        "\n",
        "(6) enable_early_stopping : we can choose to terminate the experiment if the score stops improving in the short term. I will enter 'True' as 'enable_early_stopping' parameter.\n",
        "\n",
        "(7) featurization : It is the option to featurize the dataset i.e. whether we want the Azure to do it automatically or we want to turn it off or we want some customized featurization step. I will input 'auto' in the 'featurization' parameter as I want Azure to featurize the dataset automatically.\n",
        "\n",
        "(8) debug_log : it is the log file in which debug information is written. I am entering 'automl_errors.log' as 'debug_log' parameter.\n",
        "\n",
        "(9) n_cross_validations : It is the number of cross validations performed. I will input it as '5' since the input rows is way lower than 1000 and 5 cross validations will not be very computation expensive."
      ],
      "metadata": {}
    },
    {
      "cell_type": "code",
      "source": [
        "# TODO: Put your automl settings here\n",
        "automl_settings = {\n",
        "    \"experiment_timeout_minutes\" : 30,\n",
        "    \"max_concurrent_iterations\" : 5,\n",
        "    \"primary_metric\" : 'AUC_weighted'\n",
        "}\n",
        "\n",
        "# TODO: Put your automl config here\n",
        "automl_config = AutoMLConfig(compute_target=compute_target,\n",
        "                            task=\"classification\",\n",
        "                            training_data=dataset,\n",
        "                            label_column_name=\"DEATH_EVENT\",\n",
        "                            path='./pipeline-project',\n",
        "                            enable_early_stopping=True,\n",
        "                            featurization='auto',\n",
        "                            enable_onnx_compatible_models=True,\n",
        "                            debug_log=\"automl_errors.log\",\n",
        "                            **automl_settings\n",
        ")"
      ],
      "outputs": [],
      "execution_count": 7,
      "metadata": {
        "gather": {
          "logged": 1610866769545
        },
        "jupyter": {
          "outputs_hidden": false,
          "source_hidden": false
        },
        "nteract": {
          "transient": {
            "deleting": false
          }
        }
      }
    },
    {
      "cell_type": "code",
      "source": [
        "# TODO: Submit your experiment\n",
        "remote_run = experiment.submit(config = automl_config, show_output=True)"
      ],
      "outputs": [
        {
          "output_type": "stream",
          "name": "stdout",
          "text": [
            "Running on remote.\n",
            "No run_configuration provided, running on aml-auto with default configuration\n",
            "Running on remote compute: aml-auto\n",
            "Parent Run ID: AutoML_19bb6a27-9e6e-4ada-90a3-44f64b282aa5\n",
            "\n",
            "Current status: FeaturesGeneration. Generating features for the dataset.\n",
            "Current status: ModelSelection. Beginning model selection.\n",
            "\n",
            "****************************************************************************************************\n",
            "DATA GUARDRAILS: \n",
            "\n",
            "TYPE:         Cross validation\n",
            "STATUS:       DONE\n",
            "DESCRIPTION:  Each iteration of the trained model was validated through cross-validation.\n",
            "              \n",
            "DETAILS:      \n",
            "+---------------------------------+\n",
            "|Number of folds                  |\n",
            "+=================================+\n",
            "|10                               |\n",
            "+---------------------------------+\n",
            "\n",
            "****************************************************************************************************\n",
            "\n",
            "TYPE:         Class balancing detection\n",
            "STATUS:       PASSED\n",
            "DESCRIPTION:  Your inputs were analyzed, and all classes are balanced in your training data.\n",
            "              Learn more about imbalanced data: https://aka.ms/AutomatedMLImbalancedData\n",
            "\n",
            "****************************************************************************************************\n",
            "\n",
            "TYPE:         High cardinality feature detection\n",
            "STATUS:       PASSED\n",
            "DESCRIPTION:  Your inputs were analyzed, and no high cardinality features were detected.\n",
            "              Learn more about high cardinality feature handling: https://aka.ms/AutomatedMLFeaturization\n",
            "\n",
            "****************************************************************************************************\n",
            "\n",
            "****************************************************************************************************\n",
            "ITERATION: The iteration being evaluated.\n",
            "PIPELINE: A summary description of the pipeline being evaluated.\n",
            "DURATION: Time taken for the current iteration.\n",
            "METRIC: The result of computing score on the fitted pipeline.\n",
            "BEST: The best observed score thus far.\n",
            "****************************************************************************************************\n",
            "\n",
            " ITERATION   PIPELINE                                       DURATION      METRIC      BEST\n",
            "         2   MinMaxScaler RandomForest                      0:00:51       0.9020    0.9020\n",
            "         0   MaxAbsScaler LightGBM                          0:00:44       0.8841    0.9020\n",
            "         3   RobustScaler ExtremeRandomTrees                0:00:45       0.8785    0.9020\n",
            "         4   MinMaxScaler RandomForest                      0:00:44       0.8938    0.9020\n",
            "         7   MinMaxScaler ExtremeRandomTrees                0:00:59       0.8932    0.9020\n",
            "         8   MinMaxScaler ExtremeRandomTrees                0:00:55       0.8779    0.9020\n",
            "         9   SparseNormalizer KNN                           0:00:49       0.7496    0.9020\n",
            "         1   MaxAbsScaler XGBoostClassifier                 0:03:29       0.8847    0.9020\n",
            "         5   MinMaxScaler RandomForest                      0:03:18       0.8706    0.9020\n",
            "         6   StandardScalerWrapper RandomForest             0:03:33       0.8814    0.9020\n",
            "        10   MinMaxScaler ExtremeRandomTrees                0:00:57       0.8739    0.9020\n",
            "        11   RobustScaler ExtremeRandomTrees                0:00:48       0.8930    0.9020\n",
            "        12   StandardScalerWrapper RandomForest             0:00:47       0.9079    0.9079\n",
            "        13   StandardScalerWrapper SGD                      0:00:43       0.8684    0.9079\n",
            "        14   RobustScaler RandomForest                      0:00:51       0.8862    0.9079\n",
            "        15   StandardScalerWrapper KNN                      0:00:42       0.5203    0.9079\n",
            "        16   MinMaxScaler RandomForest                      0:00:43       0.8845    0.9079\n",
            "        17   MinMaxScaler ExtremeRandomTrees                0:00:42       0.8532    0.9079\n",
            "        18   MaxAbsScaler RandomForest                      0:00:45       0.8819    0.9079\n",
            "        19   StandardScalerWrapper XGBoostClassifier        0:00:37       0.8927    0.9079\n",
            "        20   MaxAbsScaler RandomForest                      0:00:46       0.9034    0.9079\n",
            "        21   MaxAbsScaler ExtremeRandomTrees                0:00:45       0.8289    0.9079\n",
            "        22   MaxAbsScaler ExtremeRandomTrees                0:00:46       0.8677    0.9079\n",
            "        23   MinMaxScaler RandomForest                      0:00:42       0.9137    0.9137\n",
            "        24   MinMaxScaler ExtremeRandomTrees                0:00:47       0.9037    0.9137\n",
            "        25   MinMaxScaler RandomForest                      0:00:45       0.8977    0.9137\n",
            "        26   StandardScalerWrapper LightGBM                 0:00:40       0.8712    0.9137\n",
            "        27   MaxAbsScaler ExtremeRandomTrees                0:00:50       0.8957    0.9137\n",
            "        28   MaxAbsScaler RandomForest                      0:00:45       0.8878    0.9137\n",
            "        29   RobustScaler LightGBM                          0:00:46       0.8840    0.9137\n",
            "        30   RobustScaler RandomForest                      0:00:37       0.7725    0.9137\n",
            "        32   MaxAbsScaler LightGBM                          0:00:46       0.9068    0.9137\n",
            "        31   MinMaxScaler RandomForest                      0:01:07       0.9048    0.9137\n",
            "        34   MaxAbsScaler LightGBM                          0:00:34       0.8998    0.9137\n",
            "        33   MinMaxScaler RandomForest                      0:00:52       0.9137    0.9137\n",
            "        35   RobustScaler RandomForest                      0:00:48       0.8917    0.9137\n",
            "        36   StandardScalerWrapper LightGBM                 0:00:42       0.9044    0.9137\n",
            "        37   RobustScaler LightGBM                          0:00:39       0.9028    0.9137\n",
            "        38   MinMaxScaler LightGBM                          0:00:42       0.8995    0.9137\n",
            "        40   TruncatedSVDWrapper RandomForest               0:00:40       0.8215    0.9137\n",
            "        39   MaxAbsScaler GradientBoosting                  0:01:01       0.8855    0.9137\n",
            "        41   RobustScaler RandomForest                      0:01:01       0.9070    0.9137\n",
            "        42   MinMaxScaler GradientBoosting                  0:00:51       0.9033    0.9137\n",
            "        43   StandardScalerWrapper XGBoostClassifier        0:00:44       0.9000    0.9137\n",
            "        44   StandardScalerWrapper GradientBoosting         0:00:47       0.8868    0.9137\n",
            "        45   MaxAbsScaler RandomForest                      0:00:57       0.9067    0.9137\n",
            "        46   RobustScaler GradientBoosting                  0:00:58       0.9091    0.9137\n",
            "        47   MaxAbsScaler LightGBM                          0:00:48       0.9074    0.9137\n",
            "        48   StandardScalerWrapper GradientBoosting         0:00:38       0.9091    0.9137\n",
            "        49                                                  0:00:17          nan    0.9137\n",
            "        50                                                  0:00:10          nan    0.9137\n",
            "        51                                                  0:00:19          nan    0.9137\n",
            "        52    VotingEnsemble                                0:02:07       0.9196    0.9196\n"
          ]
        }
      ],
      "execution_count": 8,
      "metadata": {
        "gather": {
          "logged": 1610868417207
        },
        "jupyter": {
          "outputs_hidden": false,
          "source_hidden": false
        },
        "nteract": {
          "transient": {
            "deleting": false
          }
        }
      }
    },
    {
      "cell_type": "code",
      "source": [
        "# waiting for completion of remote_run while showing its output\n",
        "remote_run.wait_for_completion(show_output=True)"
      ],
      "outputs": [
        {
          "output_type": "stream",
          "name": "stdout",
          "text": [
            "\n",
            "\n",
            "****************************************************************************************************\n",
            "DATA GUARDRAILS: \n",
            "\n",
            "TYPE:         Cross validation\n",
            "STATUS:       DONE\n",
            "DESCRIPTION:  Each iteration of the trained model was validated through cross-validation.\n",
            "              \n",
            "DETAILS:      \n",
            "+---------------------------------+\n",
            "|Number of folds                  |\n",
            "+=================================+\n",
            "|10                               |\n",
            "+---------------------------------+\n",
            "\n",
            "****************************************************************************************************\n",
            "\n",
            "TYPE:         Class balancing detection\n",
            "STATUS:       PASSED\n",
            "DESCRIPTION:  Your inputs were analyzed, and all classes are balanced in your training data.\n",
            "              Learn more about imbalanced data: https://aka.ms/AutomatedMLImbalancedData\n",
            "\n",
            "****************************************************************************************************\n",
            "\n",
            "TYPE:         High cardinality feature detection\n",
            "STATUS:       PASSED\n",
            "DESCRIPTION:  Your inputs were analyzed, and no high cardinality features were detected.\n",
            "              Learn more about high cardinality feature handling: https://aka.ms/AutomatedMLFeaturization\n",
            "\n",
            "****************************************************************************************************\n",
            "\n",
            "****************************************************************************************************\n",
            "ITERATION: The iteration being evaluated.\n",
            "PIPELINE: A summary description of the pipeline being evaluated.\n",
            "DURATION: Time taken for the current iteration.\n",
            "METRIC: The result of computing score on the fitted pipeline.\n",
            "BEST: The best observed score thus far.\n",
            "****************************************************************************************************\n",
            "\n",
            " ITERATION   PIPELINE                                       DURATION      METRIC      BEST\n",
            "         0   MaxAbsScaler LightGBM                          0:00:44       0.8841    0.8841\n",
            "         1   MaxAbsScaler XGBoostClassifier                 0:03:29       0.8847    0.8847\n",
            "         2   MinMaxScaler RandomForest                      0:00:51       0.9020    0.9020\n",
            "         3   RobustScaler ExtremeRandomTrees                0:00:45       0.8785    0.9020\n",
            "         4   MinMaxScaler RandomForest                      0:00:44       0.8938    0.9020\n",
            "         5   MinMaxScaler RandomForest                      0:03:18       0.8706    0.9020\n",
            "         6   StandardScalerWrapper RandomForest             0:03:33       0.8814    0.9020\n",
            "         7   MinMaxScaler ExtremeRandomTrees                0:00:59       0.8932    0.9020\n",
            "         8   MinMaxScaler ExtremeRandomTrees                0:00:55       0.8779    0.9020\n",
            "         9   SparseNormalizer KNN                           0:00:49       0.7496    0.9020\n",
            "        10   MinMaxScaler ExtremeRandomTrees                0:00:57       0.8739    0.9020\n",
            "        11   RobustScaler ExtremeRandomTrees                0:00:48       0.8930    0.9020\n",
            "        12   StandardScalerWrapper RandomForest             0:00:47       0.9079    0.9079\n",
            "        13   StandardScalerWrapper SGD                      0:00:43       0.8684    0.9079\n",
            "        14   RobustScaler RandomForest                      0:00:51       0.8862    0.9079\n",
            "        15   StandardScalerWrapper KNN                      0:00:42       0.5203    0.9079\n",
            "        16   MinMaxScaler RandomForest                      0:00:43       0.8845    0.9079\n",
            "        17   MinMaxScaler ExtremeRandomTrees                0:00:42       0.8532    0.9079\n",
            "        18   MaxAbsScaler RandomForest                      0:00:45       0.8819    0.9079\n",
            "        19   StandardScalerWrapper XGBoostClassifier        0:00:37       0.8927    0.9079\n",
            "        20   MaxAbsScaler RandomForest                      0:00:46       0.9034    0.9079\n",
            "        21   MaxAbsScaler ExtremeRandomTrees                0:00:45       0.8289    0.9079\n",
            "        22   MaxAbsScaler ExtremeRandomTrees                0:00:46       0.8677    0.9079\n",
            "        23   MinMaxScaler RandomForest                      0:00:42       0.9137    0.9137\n",
            "        24   MinMaxScaler ExtremeRandomTrees                0:00:47       0.9037    0.9137\n",
            "        25   MinMaxScaler RandomForest                      0:00:45       0.8977    0.9137\n",
            "        26   StandardScalerWrapper LightGBM                 0:00:40       0.8712    0.9137\n",
            "        27   MaxAbsScaler ExtremeRandomTrees                0:00:50       0.8957    0.9137\n",
            "        28   MaxAbsScaler RandomForest                      0:00:45       0.8878    0.9137\n",
            "        29   RobustScaler LightGBM                          0:00:46       0.8840    0.9137\n",
            "        30   RobustScaler RandomForest                      0:00:37       0.7725    0.9137\n",
            "        31   MinMaxScaler RandomForest                      0:01:07       0.9048    0.9137\n",
            "        32   MaxAbsScaler LightGBM                          0:00:46       0.9068    0.9137\n",
            "        33   MinMaxScaler RandomForest                      0:00:52       0.9137    0.9137\n",
            "        34   MaxAbsScaler LightGBM                          0:00:34       0.8998    0.9137\n",
            "        35   RobustScaler RandomForest                      0:00:48       0.8917    0.9137\n",
            "        36   StandardScalerWrapper LightGBM                 0:00:42       0.9044    0.9137\n",
            "        37   RobustScaler LightGBM                          0:00:39       0.9028    0.9137\n",
            "        38   MinMaxScaler LightGBM                          0:00:42       0.8995    0.9137\n",
            "        39   MaxAbsScaler GradientBoosting                  0:01:01       0.8855    0.9137\n",
            "        40   TruncatedSVDWrapper RandomForest               0:00:40       0.8215    0.9137\n",
            "        41   RobustScaler RandomForest                      0:01:01       0.9070    0.9137\n",
            "        42   MinMaxScaler GradientBoosting                  0:00:51       0.9033    0.9137\n",
            "        43   StandardScalerWrapper XGBoostClassifier        0:00:44       0.9000    0.9137\n",
            "        44   StandardScalerWrapper GradientBoosting         0:00:47       0.8868    0.9137\n",
            "        45   MaxAbsScaler RandomForest                      0:00:57       0.9067    0.9137\n",
            "        46   RobustScaler GradientBoosting                  0:00:58       0.9091    0.9137\n",
            "        47   MaxAbsScaler LightGBM                          0:00:48       0.9074    0.9137\n",
            "        48   StandardScalerWrapper GradientBoosting         0:00:38       0.9091    0.9137\n",
            "        49                                                  0:00:17          nan    0.9137\n",
            "        50                                                  0:00:10          nan    0.9137\n",
            "        51                                                  0:00:19          nan    0.9137\n",
            "        52    VotingEnsemble                                0:02:07       0.9196    0.9196\n"
          ]
        },
        {
          "output_type": "execute_result",
          "execution_count": 9,
          "data": {
            "text/plain": "{'runId': 'AutoML_19bb6a27-9e6e-4ada-90a3-44f64b282aa5',\n 'target': 'aml-auto',\n 'status': 'Completed',\n 'startTimeUtc': '2021-01-17T06:59:53.73799Z',\n 'endTimeUtc': '2021-01-17T07:26:55.949278Z',\n 'properties': {'num_iterations': '1000',\n  'training_type': 'TrainFull',\n  'acquisition_function': 'EI',\n  'primary_metric': 'AUC_weighted',\n  'train_split': '0',\n  'acquisition_parameter': '0',\n  'num_cross_validation': None,\n  'target': 'aml-auto',\n  'AMLSettingsJsonString': '{\"path\":null,\"name\":\"capstone-automl-experiment\",\"subscription_id\":\"b968fb36-f06a-4c76-a15f-afab68ae7667\",\"resource_group\":\"aml-quickstarts-134993\",\"workspace_name\":\"quick-starts-ws-134993\",\"region\":\"southcentralus\",\"compute_target\":\"aml-auto\",\"spark_service\":null,\"azure_service\":\"remote\",\"many_models\":false,\"pipeline_fetch_max_batch_size\":1,\"iterations\":1000,\"primary_metric\":\"AUC_weighted\",\"task_type\":\"classification\",\"data_script\":null,\"validation_size\":0.0,\"n_cross_validations\":null,\"y_min\":null,\"y_max\":null,\"num_classes\":null,\"featurization\":\"auto\",\"_ignore_package_version_incompatibilities\":false,\"is_timeseries\":false,\"max_cores_per_iteration\":1,\"max_concurrent_iterations\":5,\"iteration_timeout_minutes\":null,\"mem_in_mb\":null,\"enforce_time_on_windows\":false,\"experiment_timeout_minutes\":30,\"experiment_exit_score\":null,\"whitelist_models\":null,\"blacklist_algos\":[\"TensorFlowLinearClassifier\",\"TensorFlowDNN\"],\"supported_models\":[\"MultinomialNaiveBayes\",\"ExtremeRandomTrees\",\"GradientBoosting\",\"SGD\",\"AveragedPerceptronClassifier\",\"TensorFlowLinearClassifier\",\"RandomForest\",\"LightGBM\",\"DecisionTree\",\"LogisticRegression\",\"XGBoostClassifier\",\"SVM\",\"LinearSVM\",\"TensorFlowDNN\",\"BernoulliNaiveBayes\",\"KNN\"],\"auto_blacklist\":true,\"blacklist_samples_reached\":false,\"exclude_nan_labels\":true,\"verbosity\":20,\"_debug_log\":\"azureml_automl.log\",\"show_warnings\":false,\"model_explainability\":true,\"service_url\":null,\"sdk_url\":null,\"sdk_packages\":null,\"enable_onnx_compatible_models\":true,\"enable_split_onnx_featurizer_estimator_models\":false,\"vm_type\":\"STANDARD_D2_V2\",\"telemetry_verbosity\":20,\"send_telemetry\":true,\"enable_dnn\":false,\"scenario\":\"SDK-1.13.0\",\"environment_label\":null,\"force_text_dnn\":false,\"enable_feature_sweeping\":false,\"enable_early_stopping\":true,\"early_stopping_n_iters\":10,\"metrics\":null,\"enable_ensembling\":true,\"enable_stack_ensembling\":false,\"ensemble_iterations\":15,\"enable_tf\":false,\"enable_subsampling\":null,\"subsample_seed\":null,\"enable_nimbusml\":false,\"enable_streaming\":false,\"force_streaming\":false,\"track_child_runs\":true,\"allowed_private_models\":[],\"label_column_name\":\"DEATH_EVENT\",\"weight_column_name\":null,\"cv_split_column_names\":null,\"enable_local_managed\":false,\"_local_managed_run_id\":null,\"cost_mode\":1,\"lag_length\":0,\"metric_operation\":\"maximize\",\"preprocess\":true}',\n  'DataPrepJsonString': '{\\\\\"training_data\\\\\": \\\\\"{\\\\\\\\\\\\\"blocks\\\\\\\\\\\\\": [{\\\\\\\\\\\\\"id\\\\\\\\\\\\\": \\\\\\\\\\\\\"58152c13-ae24-46d3-afe1-f907a4b21f41\\\\\\\\\\\\\", \\\\\\\\\\\\\"type\\\\\\\\\\\\\": \\\\\\\\\\\\\"Microsoft.DPrep.GetFilesBlock\\\\\\\\\\\\\", \\\\\\\\\\\\\"arguments\\\\\\\\\\\\\": {\\\\\\\\\\\\\"isArchive\\\\\\\\\\\\\": false, \\\\\\\\\\\\\"path\\\\\\\\\\\\\": {\\\\\\\\\\\\\"target\\\\\\\\\\\\\": 4, \\\\\\\\\\\\\"resourceDetails\\\\\\\\\\\\\": [{\\\\\\\\\\\\\"path\\\\\\\\\\\\\": \\\\\\\\\\\\\"https://raw.githubusercontent.com/ujjwalbb30/nd00333-capstone/ujjwalbb30-patch-1/heart_failure_clinical_records_dataset.csv\\\\\\\\\\\\\"}]}}, \\\\\\\\\\\\\"localData\\\\\\\\\\\\\": {}, \\\\\\\\\\\\\"isEnabled\\\\\\\\\\\\\": true, \\\\\\\\\\\\\"name\\\\\\\\\\\\\": null, \\\\\\\\\\\\\"annotation\\\\\\\\\\\\\": null}, {\\\\\\\\\\\\\"id\\\\\\\\\\\\\": \\\\\\\\\\\\\"cc5a1969-2f85-4014-a128-458ad65f2b01\\\\\\\\\\\\\", \\\\\\\\\\\\\"type\\\\\\\\\\\\\": \\\\\\\\\\\\\"Microsoft.DPrep.ParseDelimitedBlock\\\\\\\\\\\\\", \\\\\\\\\\\\\"arguments\\\\\\\\\\\\\": {\\\\\\\\\\\\\"columnHeadersMode\\\\\\\\\\\\\": 3, \\\\\\\\\\\\\"fileEncoding\\\\\\\\\\\\\": 0, \\\\\\\\\\\\\"handleQuotedLineBreaks\\\\\\\\\\\\\": false, \\\\\\\\\\\\\"preview\\\\\\\\\\\\\": false, \\\\\\\\\\\\\"separator\\\\\\\\\\\\\": \\\\\\\\\\\\\",\\\\\\\\\\\\\", \\\\\\\\\\\\\"skipRows\\\\\\\\\\\\\": 0, \\\\\\\\\\\\\"skipRowsMode\\\\\\\\\\\\\": 0}, \\\\\\\\\\\\\"localData\\\\\\\\\\\\\": {}, \\\\\\\\\\\\\"isEnabled\\\\\\\\\\\\\": true, \\\\\\\\\\\\\"name\\\\\\\\\\\\\": null, \\\\\\\\\\\\\"annotation\\\\\\\\\\\\\": null}, {\\\\\\\\\\\\\"id\\\\\\\\\\\\\": \\\\\\\\\\\\\"952793bb-5d2c-4523-8ad1-2837ac4dbcc1\\\\\\\\\\\\\", \\\\\\\\\\\\\"type\\\\\\\\\\\\\": \\\\\\\\\\\\\"Microsoft.DPrep.DropColumnsBlock\\\\\\\\\\\\\", \\\\\\\\\\\\\"arguments\\\\\\\\\\\\\": {\\\\\\\\\\\\\"columns\\\\\\\\\\\\\": {\\\\\\\\\\\\\"type\\\\\\\\\\\\\": 0, \\\\\\\\\\\\\"details\\\\\\\\\\\\\": {\\\\\\\\\\\\\"selectedColumns\\\\\\\\\\\\\": [\\\\\\\\\\\\\"Path\\\\\\\\\\\\\"]}}}, \\\\\\\\\\\\\"localData\\\\\\\\\\\\\": {}, \\\\\\\\\\\\\"isEnabled\\\\\\\\\\\\\": true, \\\\\\\\\\\\\"name\\\\\\\\\\\\\": null, \\\\\\\\\\\\\"annotation\\\\\\\\\\\\\": null}, {\\\\\\\\\\\\\"id\\\\\\\\\\\\\": \\\\\\\\\\\\\"85bf8caa-cd1a-4caf-9ea9-258afbfa8afa\\\\\\\\\\\\\", \\\\\\\\\\\\\"type\\\\\\\\\\\\\": \\\\\\\\\\\\\"Microsoft.DPrep.SetColumnTypesBlock\\\\\\\\\\\\\", \\\\\\\\\\\\\"arguments\\\\\\\\\\\\\": {\\\\\\\\\\\\\"columnConversion\\\\\\\\\\\\\": [{\\\\\\\\\\\\\"column\\\\\\\\\\\\\": {\\\\\\\\\\\\\"type\\\\\\\\\\\\\": 2, \\\\\\\\\\\\\"details\\\\\\\\\\\\\": {\\\\\\\\\\\\\"selectedColumn\\\\\\\\\\\\\": \\\\\\\\\\\\\"age\\\\\\\\\\\\\"}}, \\\\\\\\\\\\\"typeProperty\\\\\\\\\\\\\": 3}, {\\\\\\\\\\\\\"column\\\\\\\\\\\\\": {\\\\\\\\\\\\\"type\\\\\\\\\\\\\": 2, \\\\\\\\\\\\\"details\\\\\\\\\\\\\": {\\\\\\\\\\\\\"selectedColumn\\\\\\\\\\\\\": \\\\\\\\\\\\\"anaemia\\\\\\\\\\\\\"}}, \\\\\\\\\\\\\"typeProperty\\\\\\\\\\\\\": 2}, {\\\\\\\\\\\\\"column\\\\\\\\\\\\\": {\\\\\\\\\\\\\"type\\\\\\\\\\\\\": 2, \\\\\\\\\\\\\"details\\\\\\\\\\\\\": {\\\\\\\\\\\\\"selectedColumn\\\\\\\\\\\\\": \\\\\\\\\\\\\"creatinine_phosphokinase\\\\\\\\\\\\\"}}, \\\\\\\\\\\\\"typeProperty\\\\\\\\\\\\\": 2}, {\\\\\\\\\\\\\"column\\\\\\\\\\\\\": {\\\\\\\\\\\\\"type\\\\\\\\\\\\\": 2, \\\\\\\\\\\\\"details\\\\\\\\\\\\\": {\\\\\\\\\\\\\"selectedColumn\\\\\\\\\\\\\": \\\\\\\\\\\\\"diabetes\\\\\\\\\\\\\"}}, \\\\\\\\\\\\\"typeProperty\\\\\\\\\\\\\": 2}, {\\\\\\\\\\\\\"column\\\\\\\\\\\\\": {\\\\\\\\\\\\\"type\\\\\\\\\\\\\": 2, \\\\\\\\\\\\\"details\\\\\\\\\\\\\": {\\\\\\\\\\\\\"selectedColumn\\\\\\\\\\\\\": \\\\\\\\\\\\\"ejection_fraction\\\\\\\\\\\\\"}}, \\\\\\\\\\\\\"typeProperty\\\\\\\\\\\\\": 2}, {\\\\\\\\\\\\\"column\\\\\\\\\\\\\": {\\\\\\\\\\\\\"type\\\\\\\\\\\\\": 2, \\\\\\\\\\\\\"details\\\\\\\\\\\\\": {\\\\\\\\\\\\\"selectedColumn\\\\\\\\\\\\\": \\\\\\\\\\\\\"high_blood_pressure\\\\\\\\\\\\\"}}, \\\\\\\\\\\\\"typeProperty\\\\\\\\\\\\\": 2}, {\\\\\\\\\\\\\"column\\\\\\\\\\\\\": {\\\\\\\\\\\\\"type\\\\\\\\\\\\\": 2, \\\\\\\\\\\\\"details\\\\\\\\\\\\\": {\\\\\\\\\\\\\"selectedColumn\\\\\\\\\\\\\": \\\\\\\\\\\\\"platelets\\\\\\\\\\\\\"}}, \\\\\\\\\\\\\"typeProperty\\\\\\\\\\\\\": 3}, {\\\\\\\\\\\\\"column\\\\\\\\\\\\\": {\\\\\\\\\\\\\"type\\\\\\\\\\\\\": 2, \\\\\\\\\\\\\"details\\\\\\\\\\\\\": {\\\\\\\\\\\\\"selectedColumn\\\\\\\\\\\\\": \\\\\\\\\\\\\"serum_creatinine\\\\\\\\\\\\\"}}, \\\\\\\\\\\\\"typeProperty\\\\\\\\\\\\\": 3}, {\\\\\\\\\\\\\"column\\\\\\\\\\\\\": {\\\\\\\\\\\\\"type\\\\\\\\\\\\\": 2, \\\\\\\\\\\\\"details\\\\\\\\\\\\\": {\\\\\\\\\\\\\"selectedColumn\\\\\\\\\\\\\": \\\\\\\\\\\\\"serum_sodium\\\\\\\\\\\\\"}}, \\\\\\\\\\\\\"typeProperty\\\\\\\\\\\\\": 2}, {\\\\\\\\\\\\\"column\\\\\\\\\\\\\": {\\\\\\\\\\\\\"type\\\\\\\\\\\\\": 2, \\\\\\\\\\\\\"details\\\\\\\\\\\\\": {\\\\\\\\\\\\\"selectedColumn\\\\\\\\\\\\\": \\\\\\\\\\\\\"sex\\\\\\\\\\\\\"}}, \\\\\\\\\\\\\"typeProperty\\\\\\\\\\\\\": 2}, {\\\\\\\\\\\\\"column\\\\\\\\\\\\\": {\\\\\\\\\\\\\"type\\\\\\\\\\\\\": 2, \\\\\\\\\\\\\"details\\\\\\\\\\\\\": {\\\\\\\\\\\\\"selectedColumn\\\\\\\\\\\\\": \\\\\\\\\\\\\"smoking\\\\\\\\\\\\\"}}, \\\\\\\\\\\\\"typeProperty\\\\\\\\\\\\\": 2}, {\\\\\\\\\\\\\"column\\\\\\\\\\\\\": {\\\\\\\\\\\\\"type\\\\\\\\\\\\\": 2, \\\\\\\\\\\\\"details\\\\\\\\\\\\\": {\\\\\\\\\\\\\"selectedColumn\\\\\\\\\\\\\": \\\\\\\\\\\\\"time\\\\\\\\\\\\\"}}, \\\\\\\\\\\\\"typeProperty\\\\\\\\\\\\\": 2}, {\\\\\\\\\\\\\"column\\\\\\\\\\\\\": {\\\\\\\\\\\\\"type\\\\\\\\\\\\\": 2, \\\\\\\\\\\\\"details\\\\\\\\\\\\\": {\\\\\\\\\\\\\"selectedColumn\\\\\\\\\\\\\": \\\\\\\\\\\\\"DEATH_EVENT\\\\\\\\\\\\\"}}, \\\\\\\\\\\\\"typeProperty\\\\\\\\\\\\\": 2}]}, \\\\\\\\\\\\\"localData\\\\\\\\\\\\\": {}, \\\\\\\\\\\\\"isEnabled\\\\\\\\\\\\\": true, \\\\\\\\\\\\\"name\\\\\\\\\\\\\": null, \\\\\\\\\\\\\"annotation\\\\\\\\\\\\\": null}], \\\\\\\\\\\\\"inspectors\\\\\\\\\\\\\": [], \\\\\\\\\\\\\"meta\\\\\\\\\\\\\": {\\\\\\\\\\\\\"savedDatasetId\\\\\\\\\\\\\": \\\\\\\\\\\\\"7c145546-8ed8-4cdc-beca-eb11e1269ba5\\\\\\\\\\\\\", \\\\\\\\\\\\\"datasetType\\\\\\\\\\\\\": \\\\\\\\\\\\\"tabular\\\\\\\\\\\\\", \\\\\\\\\\\\\"subscriptionId\\\\\\\\\\\\\": \\\\\\\\\\\\\"b968fb36-f06a-4c76-a15f-afab68ae7667\\\\\\\\\\\\\", \\\\\\\\\\\\\"workspaceId\\\\\\\\\\\\\": \\\\\\\\\\\\\"20e599df-8d08-4dd0-9875-e33584df51d7\\\\\\\\\\\\\", \\\\\\\\\\\\\"workspaceLocation\\\\\\\\\\\\\": \\\\\\\\\\\\\"southcentralus\\\\\\\\\\\\\"}}\\\\\", \\\\\"activities\\\\\": 0}',\n  'EnableSubsampling': None,\n  'runTemplate': 'AutoML',\n  'azureml.runsource': 'automl',\n  'display_task_type': 'classification',\n  'dependencies_versions': '{\"azureml-widgets\": \"1.19.0\", \"azureml-train\": \"1.19.0\", \"azureml-train-restclients-hyperdrive\": \"1.19.0\", \"azureml-train-core\": \"1.19.0\", \"azureml-train-automl\": \"1.19.0\", \"azureml-train-automl-runtime\": \"1.19.0\", \"azureml-train-automl-client\": \"1.19.0\", \"azureml-tensorboard\": \"1.19.0\", \"azureml-telemetry\": \"1.19.0\", \"azureml-sdk\": \"1.19.0\", \"azureml-samples\": \"0+unknown\", \"azureml-pipeline\": \"1.19.0\", \"azureml-pipeline-steps\": \"1.19.0\", \"azureml-pipeline-core\": \"1.19.0\", \"azureml-opendatasets\": \"1.19.0\", \"azureml-model-management-sdk\": \"1.0.1b6.post1\", \"azureml-mlflow\": \"1.19.0\", \"azureml-interpret\": \"1.19.0\", \"azureml-explain-model\": \"1.19.0\", \"azureml-defaults\": \"1.19.0\", \"azureml-dataset-runtime\": \"1.19.0.post1\", \"azureml-dataprep\": \"2.6.1\", \"azureml-dataprep-rslex\": \"1.4.0\", \"azureml-dataprep-native\": \"26.0.0\", \"azureml-datadrift\": \"1.19.0\", \"azureml-core\": \"1.19.0\", \"azureml-contrib-services\": \"1.19.0\", \"azureml-contrib-server\": \"1.19.0\", \"azureml-contrib-reinforcementlearning\": \"1.19.0\", \"azureml-contrib-pipeline-steps\": \"1.19.0\", \"azureml-contrib-notebook\": \"1.19.0\", \"azureml-contrib-interpret\": \"1.19.0\", \"azureml-contrib-gbdt\": \"1.19.0\", \"azureml-contrib-fairness\": \"1.19.0\", \"azureml-contrib-dataset\": \"1.19.0\", \"azureml-cli-common\": \"1.19.0\", \"azureml-automl-runtime\": \"1.19.0\", \"azureml-automl-core\": \"1.19.0\", \"azureml-accel-models\": \"1.19.0\"}',\n  '_aml_system_scenario_identification': 'Remote.Parent',\n  'ClientType': 'SDK',\n  'environment_cpu_name': 'AzureML-AutoML',\n  'environment_cpu_label': 'prod',\n  'environment_gpu_name': 'AzureML-AutoML-GPU',\n  'environment_gpu_label': 'prod',\n  'root_attribution': 'automl',\n  'attribution': 'AutoML',\n  'Orchestrator': 'AutoML',\n  'CancelUri': 'https://southcentralus.experiments.azureml.net/jasmine/v1.0/subscriptions/b968fb36-f06a-4c76-a15f-afab68ae7667/resourceGroups/aml-quickstarts-134993/providers/Microsoft.MachineLearningServices/workspaces/quick-starts-ws-134993/experimentids/c23a4384-fa4a-4cc6-b01f-42e21a833ed5/cancel/AutoML_19bb6a27-9e6e-4ada-90a3-44f64b282aa5',\n  'ClientSdkVersion': '1.19.0',\n  'snapshotId': '00000000-0000-0000-0000-000000000000',\n  'SetupRunId': 'AutoML_19bb6a27-9e6e-4ada-90a3-44f64b282aa5_setup',\n  'SetupRunContainerId': 'dcid.AutoML_19bb6a27-9e6e-4ada-90a3-44f64b282aa5_setup',\n  'FeaturizationRunJsonPath': 'featurizer_container.json',\n  'FeaturizationRunId': 'AutoML_19bb6a27-9e6e-4ada-90a3-44f64b282aa5_featurize',\n  'ProblemInfoJsonString': '{\"dataset_num_categorical\": 0, \"is_sparse\": false, \"subsampling\": false, \"dataset_classes\": 2, \"dataset_features\": 12, \"dataset_samples\": 299, \"single_frequency_class_detected\": false}',\n  'ModelExplainRunId': 'AutoML_19bb6a27-9e6e-4ada-90a3-44f64b282aa5_ModelExplain'},\n 'inputDatasets': [{'dataset': {'id': '7c145546-8ed8-4cdc-beca-eb11e1269ba5'}, 'consumptionDetails': {'type': 'RunInput', 'inputName': 'training_data', 'mechanism': 'Direct'}}],\n 'outputDatasets': [],\n 'logFiles': {}}"
          },
          "metadata": {}
        }
      ],
      "execution_count": 9,
      "metadata": {
        "gather": {
          "logged": 1610868717293
        }
      }
    },
    {
      "cell_type": "markdown",
      "source": [
        "## Run Details\n",
        "\n",
        "OPTIONAL: Write about the different models trained and their performance. Why do you think some models did better than others?\n",
        "\n",
        "TODO: In the cell below, use the `RunDetails` widget to show the different experiments."
      ],
      "metadata": {}
    },
    {
      "cell_type": "code",
      "source": [
        "# importing required dependencies\n",
        "from azureml.widgets import RunDetails\n",
        "\n",
        "RunDetails(remote_run).show()"
      ],
      "outputs": [
        {
          "output_type": "display_data",
          "data": {
            "text/plain": "_AutoMLWidget(widget_settings={'childWidgetDisplay': 'popup', 'send_telemetry': False, 'log_level': 'INFO', 's…",
            "application/vnd.jupyter.widget-view+json": {
              "version_major": 2,
              "version_minor": 0,
              "model_id": "8e62258c1b6543989c472886e33cd766"
            }
          },
          "metadata": {}
        },
        {
          "output_type": "display_data",
          "data": {
            "application/aml.mini.widget.v1": "{\"status\": \"Completed\", \"workbench_run_details_uri\": \"https://ml.azure.com/experiments/capstone-automl-experiment/runs/AutoML_19bb6a27-9e6e-4ada-90a3-44f64b282aa5?wsid=/subscriptions/b968fb36-f06a-4c76-a15f-afab68ae7667/resourcegroups/aml-quickstarts-134993/workspaces/quick-starts-ws-134993\", \"run_id\": \"AutoML_19bb6a27-9e6e-4ada-90a3-44f64b282aa5\", \"run_properties\": {\"run_id\": \"AutoML_19bb6a27-9e6e-4ada-90a3-44f64b282aa5\", \"created_utc\": \"2021-01-17T06:59:39.353895Z\", \"properties\": {\"num_iterations\": \"1000\", \"training_type\": \"TrainFull\", \"acquisition_function\": \"EI\", \"primary_metric\": \"AUC_weighted\", \"train_split\": \"0\", \"acquisition_parameter\": \"0\", \"num_cross_validation\": null, \"target\": \"aml-auto\", \"AMLSettingsJsonString\": \"{\\\"path\\\":null,\\\"name\\\":\\\"capstone-automl-experiment\\\",\\\"subscription_id\\\":\\\"b968fb36-f06a-4c76-a15f-afab68ae7667\\\",\\\"resource_group\\\":\\\"aml-quickstarts-134993\\\",\\\"workspace_name\\\":\\\"quick-starts-ws-134993\\\",\\\"region\\\":\\\"southcentralus\\\",\\\"compute_target\\\":\\\"aml-auto\\\",\\\"spark_service\\\":null,\\\"azure_service\\\":\\\"remote\\\",\\\"many_models\\\":false,\\\"pipeline_fetch_max_batch_size\\\":1,\\\"iterations\\\":1000,\\\"primary_metric\\\":\\\"AUC_weighted\\\",\\\"task_type\\\":\\\"classification\\\",\\\"data_script\\\":null,\\\"validation_size\\\":0.0,\\\"n_cross_validations\\\":null,\\\"y_min\\\":null,\\\"y_max\\\":null,\\\"num_classes\\\":null,\\\"featurization\\\":\\\"auto\\\",\\\"_ignore_package_version_incompatibilities\\\":false,\\\"is_timeseries\\\":false,\\\"max_cores_per_iteration\\\":1,\\\"max_concurrent_iterations\\\":5,\\\"iteration_timeout_minutes\\\":null,\\\"mem_in_mb\\\":null,\\\"enforce_time_on_windows\\\":false,\\\"experiment_timeout_minutes\\\":30,\\\"experiment_exit_score\\\":null,\\\"whitelist_models\\\":null,\\\"blacklist_algos\\\":[\\\"TensorFlowLinearClassifier\\\",\\\"TensorFlowDNN\\\"],\\\"supported_models\\\":[\\\"MultinomialNaiveBayes\\\",\\\"ExtremeRandomTrees\\\",\\\"GradientBoosting\\\",\\\"SGD\\\",\\\"AveragedPerceptronClassifier\\\",\\\"TensorFlowLinearClassifier\\\",\\\"RandomForest\\\",\\\"LightGBM\\\",\\\"DecisionTree\\\",\\\"LogisticRegression\\\",\\\"XGBoostClassifier\\\",\\\"SVM\\\",\\\"LinearSVM\\\",\\\"TensorFlowDNN\\\",\\\"BernoulliNaiveBayes\\\",\\\"KNN\\\"],\\\"auto_blacklist\\\":true,\\\"blacklist_samples_reached\\\":false,\\\"exclude_nan_labels\\\":true,\\\"verbosity\\\":20,\\\"_debug_log\\\":\\\"azureml_automl.log\\\",\\\"show_warnings\\\":false,\\\"model_explainability\\\":true,\\\"service_url\\\":null,\\\"sdk_url\\\":null,\\\"sdk_packages\\\":null,\\\"enable_onnx_compatible_models\\\":true,\\\"enable_split_onnx_featurizer_estimator_models\\\":false,\\\"vm_type\\\":\\\"STANDARD_D2_V2\\\",\\\"telemetry_verbosity\\\":20,\\\"send_telemetry\\\":true,\\\"enable_dnn\\\":false,\\\"scenario\\\":\\\"SDK-1.13.0\\\",\\\"environment_label\\\":null,\\\"force_text_dnn\\\":false,\\\"enable_feature_sweeping\\\":false,\\\"enable_early_stopping\\\":true,\\\"early_stopping_n_iters\\\":10,\\\"metrics\\\":null,\\\"enable_ensembling\\\":true,\\\"enable_stack_ensembling\\\":false,\\\"ensemble_iterations\\\":15,\\\"enable_tf\\\":false,\\\"enable_subsampling\\\":null,\\\"subsample_seed\\\":null,\\\"enable_nimbusml\\\":false,\\\"enable_streaming\\\":false,\\\"force_streaming\\\":false,\\\"track_child_runs\\\":true,\\\"allowed_private_models\\\":[],\\\"label_column_name\\\":\\\"DEATH_EVENT\\\",\\\"weight_column_name\\\":null,\\\"cv_split_column_names\\\":null,\\\"enable_local_managed\\\":false,\\\"_local_managed_run_id\\\":null,\\\"cost_mode\\\":1,\\\"lag_length\\\":0,\\\"metric_operation\\\":\\\"maximize\\\",\\\"preprocess\\\":true}\", \"DataPrepJsonString\": \"{\\\\\\\"training_data\\\\\\\": \\\\\\\"{\\\\\\\\\\\\\\\"blocks\\\\\\\\\\\\\\\": [{\\\\\\\\\\\\\\\"id\\\\\\\\\\\\\\\": \\\\\\\\\\\\\\\"58152c13-ae24-46d3-afe1-f907a4b21f41\\\\\\\\\\\\\\\", \\\\\\\\\\\\\\\"type\\\\\\\\\\\\\\\": \\\\\\\\\\\\\\\"Microsoft.DPrep.GetFilesBlock\\\\\\\\\\\\\\\", \\\\\\\\\\\\\\\"arguments\\\\\\\\\\\\\\\": {\\\\\\\\\\\\\\\"isArchive\\\\\\\\\\\\\\\": false, \\\\\\\\\\\\\\\"path\\\\\\\\\\\\\\\": {\\\\\\\\\\\\\\\"target\\\\\\\\\\\\\\\": 4, \\\\\\\\\\\\\\\"resourceDetails\\\\\\\\\\\\\\\": [{\\\\\\\\\\\\\\\"path\\\\\\\\\\\\\\\": \\\\\\\\\\\\\\\"https://raw.githubusercontent.com/ujjwalbb30/nd00333-capstone/ujjwalbb30-patch-1/heart_failure_clinical_records_dataset.csv\\\\\\\\\\\\\\\"}]}}, \\\\\\\\\\\\\\\"localData\\\\\\\\\\\\\\\": {}, \\\\\\\\\\\\\\\"isEnabled\\\\\\\\\\\\\\\": true, \\\\\\\\\\\\\\\"name\\\\\\\\\\\\\\\": null, \\\\\\\\\\\\\\\"annotation\\\\\\\\\\\\\\\": null}, {\\\\\\\\\\\\\\\"id\\\\\\\\\\\\\\\": \\\\\\\\\\\\\\\"cc5a1969-2f85-4014-a128-458ad65f2b01\\\\\\\\\\\\\\\", \\\\\\\\\\\\\\\"type\\\\\\\\\\\\\\\": \\\\\\\\\\\\\\\"Microsoft.DPrep.ParseDelimitedBlock\\\\\\\\\\\\\\\", \\\\\\\\\\\\\\\"arguments\\\\\\\\\\\\\\\": {\\\\\\\\\\\\\\\"columnHeadersMode\\\\\\\\\\\\\\\": 3, \\\\\\\\\\\\\\\"fileEncoding\\\\\\\\\\\\\\\": 0, \\\\\\\\\\\\\\\"handleQuotedLineBreaks\\\\\\\\\\\\\\\": false, \\\\\\\\\\\\\\\"preview\\\\\\\\\\\\\\\": false, \\\\\\\\\\\\\\\"separator\\\\\\\\\\\\\\\": \\\\\\\\\\\\\\\",\\\\\\\\\\\\\\\", \\\\\\\\\\\\\\\"skipRows\\\\\\\\\\\\\\\": 0, \\\\\\\\\\\\\\\"skipRowsMode\\\\\\\\\\\\\\\": 0}, \\\\\\\\\\\\\\\"localData\\\\\\\\\\\\\\\": {}, \\\\\\\\\\\\\\\"isEnabled\\\\\\\\\\\\\\\": true, \\\\\\\\\\\\\\\"name\\\\\\\\\\\\\\\": null, \\\\\\\\\\\\\\\"annotation\\\\\\\\\\\\\\\": null}, {\\\\\\\\\\\\\\\"id\\\\\\\\\\\\\\\": \\\\\\\\\\\\\\\"952793bb-5d2c-4523-8ad1-2837ac4dbcc1\\\\\\\\\\\\\\\", \\\\\\\\\\\\\\\"type\\\\\\\\\\\\\\\": \\\\\\\\\\\\\\\"Microsoft.DPrep.DropColumnsBlock\\\\\\\\\\\\\\\", \\\\\\\\\\\\\\\"arguments\\\\\\\\\\\\\\\": {\\\\\\\\\\\\\\\"columns\\\\\\\\\\\\\\\": {\\\\\\\\\\\\\\\"type\\\\\\\\\\\\\\\": 0, \\\\\\\\\\\\\\\"details\\\\\\\\\\\\\\\": {\\\\\\\\\\\\\\\"selectedColumns\\\\\\\\\\\\\\\": [\\\\\\\\\\\\\\\"Path\\\\\\\\\\\\\\\"]}}}, \\\\\\\\\\\\\\\"localData\\\\\\\\\\\\\\\": {}, \\\\\\\\\\\\\\\"isEnabled\\\\\\\\\\\\\\\": true, \\\\\\\\\\\\\\\"name\\\\\\\\\\\\\\\": null, \\\\\\\\\\\\\\\"annotation\\\\\\\\\\\\\\\": null}, {\\\\\\\\\\\\\\\"id\\\\\\\\\\\\\\\": \\\\\\\\\\\\\\\"85bf8caa-cd1a-4caf-9ea9-258afbfa8afa\\\\\\\\\\\\\\\", \\\\\\\\\\\\\\\"type\\\\\\\\\\\\\\\": \\\\\\\\\\\\\\\"Microsoft.DPrep.SetColumnTypesBlock\\\\\\\\\\\\\\\", \\\\\\\\\\\\\\\"arguments\\\\\\\\\\\\\\\": {\\\\\\\\\\\\\\\"columnConversion\\\\\\\\\\\\\\\": [{\\\\\\\\\\\\\\\"column\\\\\\\\\\\\\\\": {\\\\\\\\\\\\\\\"type\\\\\\\\\\\\\\\": 2, \\\\\\\\\\\\\\\"details\\\\\\\\\\\\\\\": {\\\\\\\\\\\\\\\"selectedColumn\\\\\\\\\\\\\\\": \\\\\\\\\\\\\\\"age\\\\\\\\\\\\\\\"}}, \\\\\\\\\\\\\\\"typeProperty\\\\\\\\\\\\\\\": 3}, {\\\\\\\\\\\\\\\"column\\\\\\\\\\\\\\\": {\\\\\\\\\\\\\\\"type\\\\\\\\\\\\\\\": 2, \\\\\\\\\\\\\\\"details\\\\\\\\\\\\\\\": {\\\\\\\\\\\\\\\"selectedColumn\\\\\\\\\\\\\\\": \\\\\\\\\\\\\\\"anaemia\\\\\\\\\\\\\\\"}}, \\\\\\\\\\\\\\\"typeProperty\\\\\\\\\\\\\\\": 2}, {\\\\\\\\\\\\\\\"column\\\\\\\\\\\\\\\": {\\\\\\\\\\\\\\\"type\\\\\\\\\\\\\\\": 2, \\\\\\\\\\\\\\\"details\\\\\\\\\\\\\\\": {\\\\\\\\\\\\\\\"selectedColumn\\\\\\\\\\\\\\\": \\\\\\\\\\\\\\\"creatinine_phosphokinase\\\\\\\\\\\\\\\"}}, \\\\\\\\\\\\\\\"typeProperty\\\\\\\\\\\\\\\": 2}, {\\\\\\\\\\\\\\\"column\\\\\\\\\\\\\\\": {\\\\\\\\\\\\\\\"type\\\\\\\\\\\\\\\": 2, \\\\\\\\\\\\\\\"details\\\\\\\\\\\\\\\": {\\\\\\\\\\\\\\\"selectedColumn\\\\\\\\\\\\\\\": \\\\\\\\\\\\\\\"diabetes\\\\\\\\\\\\\\\"}}, \\\\\\\\\\\\\\\"typeProperty\\\\\\\\\\\\\\\": 2}, {\\\\\\\\\\\\\\\"column\\\\\\\\\\\\\\\": {\\\\\\\\\\\\\\\"type\\\\\\\\\\\\\\\": 2, \\\\\\\\\\\\\\\"details\\\\\\\\\\\\\\\": {\\\\\\\\\\\\\\\"selectedColumn\\\\\\\\\\\\\\\": \\\\\\\\\\\\\\\"ejection_fraction\\\\\\\\\\\\\\\"}}, \\\\\\\\\\\\\\\"typeProperty\\\\\\\\\\\\\\\": 2}, {\\\\\\\\\\\\\\\"column\\\\\\\\\\\\\\\": {\\\\\\\\\\\\\\\"type\\\\\\\\\\\\\\\": 2, \\\\\\\\\\\\\\\"details\\\\\\\\\\\\\\\": {\\\\\\\\\\\\\\\"selectedColumn\\\\\\\\\\\\\\\": \\\\\\\\\\\\\\\"high_blood_pressure\\\\\\\\\\\\\\\"}}, \\\\\\\\\\\\\\\"typeProperty\\\\\\\\\\\\\\\": 2}, {\\\\\\\\\\\\\\\"column\\\\\\\\\\\\\\\": {\\\\\\\\\\\\\\\"type\\\\\\\\\\\\\\\": 2, \\\\\\\\\\\\\\\"details\\\\\\\\\\\\\\\": {\\\\\\\\\\\\\\\"selectedColumn\\\\\\\\\\\\\\\": \\\\\\\\\\\\\\\"platelets\\\\\\\\\\\\\\\"}}, \\\\\\\\\\\\\\\"typeProperty\\\\\\\\\\\\\\\": 3}, {\\\\\\\\\\\\\\\"column\\\\\\\\\\\\\\\": {\\\\\\\\\\\\\\\"type\\\\\\\\\\\\\\\": 2, \\\\\\\\\\\\\\\"details\\\\\\\\\\\\\\\": {\\\\\\\\\\\\\\\"selectedColumn\\\\\\\\\\\\\\\": \\\\\\\\\\\\\\\"serum_creatinine\\\\\\\\\\\\\\\"}}, \\\\\\\\\\\\\\\"typeProperty\\\\\\\\\\\\\\\": 3}, {\\\\\\\\\\\\\\\"column\\\\\\\\\\\\\\\": {\\\\\\\\\\\\\\\"type\\\\\\\\\\\\\\\": 2, \\\\\\\\\\\\\\\"details\\\\\\\\\\\\\\\": {\\\\\\\\\\\\\\\"selectedColumn\\\\\\\\\\\\\\\": \\\\\\\\\\\\\\\"serum_sodium\\\\\\\\\\\\\\\"}}, \\\\\\\\\\\\\\\"typeProperty\\\\\\\\\\\\\\\": 2}, {\\\\\\\\\\\\\\\"column\\\\\\\\\\\\\\\": {\\\\\\\\\\\\\\\"type\\\\\\\\\\\\\\\": 2, \\\\\\\\\\\\\\\"details\\\\\\\\\\\\\\\": {\\\\\\\\\\\\\\\"selectedColumn\\\\\\\\\\\\\\\": \\\\\\\\\\\\\\\"sex\\\\\\\\\\\\\\\"}}, \\\\\\\\\\\\\\\"typeProperty\\\\\\\\\\\\\\\": 2}, {\\\\\\\\\\\\\\\"column\\\\\\\\\\\\\\\": {\\\\\\\\\\\\\\\"type\\\\\\\\\\\\\\\": 2, \\\\\\\\\\\\\\\"details\\\\\\\\\\\\\\\": {\\\\\\\\\\\\\\\"selectedColumn\\\\\\\\\\\\\\\": \\\\\\\\\\\\\\\"smoking\\\\\\\\\\\\\\\"}}, \\\\\\\\\\\\\\\"typeProperty\\\\\\\\\\\\\\\": 2}, {\\\\\\\\\\\\\\\"column\\\\\\\\\\\\\\\": {\\\\\\\\\\\\\\\"type\\\\\\\\\\\\\\\": 2, \\\\\\\\\\\\\\\"details\\\\\\\\\\\\\\\": {\\\\\\\\\\\\\\\"selectedColumn\\\\\\\\\\\\\\\": \\\\\\\\\\\\\\\"time\\\\\\\\\\\\\\\"}}, \\\\\\\\\\\\\\\"typeProperty\\\\\\\\\\\\\\\": 2}, {\\\\\\\\\\\\\\\"column\\\\\\\\\\\\\\\": {\\\\\\\\\\\\\\\"type\\\\\\\\\\\\\\\": 2, \\\\\\\\\\\\\\\"details\\\\\\\\\\\\\\\": {\\\\\\\\\\\\\\\"selectedColumn\\\\\\\\\\\\\\\": \\\\\\\\\\\\\\\"DEATH_EVENT\\\\\\\\\\\\\\\"}}, \\\\\\\\\\\\\\\"typeProperty\\\\\\\\\\\\\\\": 2}]}, \\\\\\\\\\\\\\\"localData\\\\\\\\\\\\\\\": {}, \\\\\\\\\\\\\\\"isEnabled\\\\\\\\\\\\\\\": true, \\\\\\\\\\\\\\\"name\\\\\\\\\\\\\\\": null, \\\\\\\\\\\\\\\"annotation\\\\\\\\\\\\\\\": null}], \\\\\\\\\\\\\\\"inspectors\\\\\\\\\\\\\\\": [], \\\\\\\\\\\\\\\"meta\\\\\\\\\\\\\\\": {\\\\\\\\\\\\\\\"savedDatasetId\\\\\\\\\\\\\\\": \\\\\\\\\\\\\\\"7c145546-8ed8-4cdc-beca-eb11e1269ba5\\\\\\\\\\\\\\\", \\\\\\\\\\\\\\\"datasetType\\\\\\\\\\\\\\\": \\\\\\\\\\\\\\\"tabular\\\\\\\\\\\\\\\", \\\\\\\\\\\\\\\"subscriptionId\\\\\\\\\\\\\\\": \\\\\\\\\\\\\\\"b968fb36-f06a-4c76-a15f-afab68ae7667\\\\\\\\\\\\\\\", \\\\\\\\\\\\\\\"workspaceId\\\\\\\\\\\\\\\": \\\\\\\\\\\\\\\"20e599df-8d08-4dd0-9875-e33584df51d7\\\\\\\\\\\\\\\", \\\\\\\\\\\\\\\"workspaceLocation\\\\\\\\\\\\\\\": \\\\\\\\\\\\\\\"southcentralus\\\\\\\\\\\\\\\"}}\\\\\\\", \\\\\\\"activities\\\\\\\": 0}\", \"EnableSubsampling\": null, \"runTemplate\": \"AutoML\", \"azureml.runsource\": \"automl\", \"display_task_type\": \"classification\", \"dependencies_versions\": \"{\\\"azureml-widgets\\\": \\\"1.19.0\\\", \\\"azureml-train\\\": \\\"1.19.0\\\", \\\"azureml-train-restclients-hyperdrive\\\": \\\"1.19.0\\\", \\\"azureml-train-core\\\": \\\"1.19.0\\\", \\\"azureml-train-automl\\\": \\\"1.19.0\\\", \\\"azureml-train-automl-runtime\\\": \\\"1.19.0\\\", \\\"azureml-train-automl-client\\\": \\\"1.19.0\\\", \\\"azureml-tensorboard\\\": \\\"1.19.0\\\", \\\"azureml-telemetry\\\": \\\"1.19.0\\\", \\\"azureml-sdk\\\": \\\"1.19.0\\\", \\\"azureml-samples\\\": \\\"0+unknown\\\", \\\"azureml-pipeline\\\": \\\"1.19.0\\\", \\\"azureml-pipeline-steps\\\": \\\"1.19.0\\\", \\\"azureml-pipeline-core\\\": \\\"1.19.0\\\", \\\"azureml-opendatasets\\\": \\\"1.19.0\\\", \\\"azureml-model-management-sdk\\\": \\\"1.0.1b6.post1\\\", \\\"azureml-mlflow\\\": \\\"1.19.0\\\", \\\"azureml-interpret\\\": \\\"1.19.0\\\", \\\"azureml-explain-model\\\": \\\"1.19.0\\\", \\\"azureml-defaults\\\": \\\"1.19.0\\\", \\\"azureml-dataset-runtime\\\": \\\"1.19.0.post1\\\", \\\"azureml-dataprep\\\": \\\"2.6.1\\\", \\\"azureml-dataprep-rslex\\\": \\\"1.4.0\\\", \\\"azureml-dataprep-native\\\": \\\"26.0.0\\\", \\\"azureml-datadrift\\\": \\\"1.19.0\\\", \\\"azureml-core\\\": \\\"1.19.0\\\", \\\"azureml-contrib-services\\\": \\\"1.19.0\\\", \\\"azureml-contrib-server\\\": \\\"1.19.0\\\", \\\"azureml-contrib-reinforcementlearning\\\": \\\"1.19.0\\\", \\\"azureml-contrib-pipeline-steps\\\": \\\"1.19.0\\\", \\\"azureml-contrib-notebook\\\": \\\"1.19.0\\\", \\\"azureml-contrib-interpret\\\": \\\"1.19.0\\\", \\\"azureml-contrib-gbdt\\\": \\\"1.19.0\\\", \\\"azureml-contrib-fairness\\\": \\\"1.19.0\\\", \\\"azureml-contrib-dataset\\\": \\\"1.19.0\\\", \\\"azureml-cli-common\\\": \\\"1.19.0\\\", \\\"azureml-automl-runtime\\\": \\\"1.19.0\\\", \\\"azureml-automl-core\\\": \\\"1.19.0\\\", \\\"azureml-accel-models\\\": \\\"1.19.0\\\"}\", \"_aml_system_scenario_identification\": \"Remote.Parent\", \"ClientType\": \"SDK\", \"environment_cpu_name\": \"AzureML-AutoML\", \"environment_cpu_label\": \"prod\", \"environment_gpu_name\": \"AzureML-AutoML-GPU\", \"environment_gpu_label\": \"prod\", \"root_attribution\": \"automl\", \"attribution\": \"AutoML\", \"Orchestrator\": \"AutoML\", \"CancelUri\": \"https://southcentralus.experiments.azureml.net/jasmine/v1.0/subscriptions/b968fb36-f06a-4c76-a15f-afab68ae7667/resourceGroups/aml-quickstarts-134993/providers/Microsoft.MachineLearningServices/workspaces/quick-starts-ws-134993/experimentids/c23a4384-fa4a-4cc6-b01f-42e21a833ed5/cancel/AutoML_19bb6a27-9e6e-4ada-90a3-44f64b282aa5\", \"ClientSdkVersion\": \"1.19.0\", \"snapshotId\": \"00000000-0000-0000-0000-000000000000\", \"SetupRunId\": \"AutoML_19bb6a27-9e6e-4ada-90a3-44f64b282aa5_setup\", \"SetupRunContainerId\": \"dcid.AutoML_19bb6a27-9e6e-4ada-90a3-44f64b282aa5_setup\", \"FeaturizationRunJsonPath\": \"featurizer_container.json\", \"FeaturizationRunId\": \"AutoML_19bb6a27-9e6e-4ada-90a3-44f64b282aa5_featurize\", \"ProblemInfoJsonString\": \"{\\\"dataset_num_categorical\\\": 0, \\\"is_sparse\\\": false, \\\"subsampling\\\": false, \\\"dataset_classes\\\": 2, \\\"dataset_features\\\": 12, \\\"dataset_samples\\\": 299, \\\"single_frequency_class_detected\\\": false}\", \"ModelExplainRunId\": \"AutoML_19bb6a27-9e6e-4ada-90a3-44f64b282aa5_ModelExplain\"}, \"tags\": {\"model_explain_run\": \"best_run\", \"_aml_system_azureml.automlComponent\": \"AutoML\", \"pipeline_id\": \"\", \"score\": \"\", \"predicted_cost\": \"\", \"fit_time\": \"\", \"training_percent\": \"\", \"iteration\": \"\", \"run_preprocessor\": \"\", \"run_algorithm\": \"\", \"dynamic_whitelisting_iterations\": \"<25>;<30>;<35>;<40>;<45>;<50>;\", \"automl_best_child_run_id\": \"AutoML_19bb6a27-9e6e-4ada-90a3-44f64b282aa5_52\", \"model_explain_best_run_child_id\": \"AutoML_19bb6a27-9e6e-4ada-90a3-44f64b282aa5_52\"}, \"end_time_utc\": \"2021-01-17T07:26:55.949278Z\", \"status\": \"Completed\", \"log_files\": {}, \"log_groups\": [], \"run_duration\": \"0:27:16\"}, \"child_runs\": [{\"run_id\": \"AutoML_19bb6a27-9e6e-4ada-90a3-44f64b282aa5_0\", \"run_number\": 6, \"metric\": null, \"status\": \"Completed\", \"run_type\": \"azureml.scriptrun\", \"training_percent\": \"100\", \"start_time\": \"2021-01-17T07:09:44.362465Z\", \"end_time\": \"2021-01-17T07:10:28.328015Z\", \"created_time\": \"2021-01-17T07:08:37.567719Z\", \"created_time_dt\": \"2021-01-17T07:08:37.567719Z\", \"duration\": \"0:01:50\", \"iteration\": \"0\", \"goal\": \"AUC_weighted_max\", \"run_name\": \"MaxAbsScaler, LightGBM\", \"run_properties\": \"copy=True\", \"primary_metric\": 0.88409554, \"best_metric\": 0.88409554}, {\"run_id\": \"AutoML_19bb6a27-9e6e-4ada-90a3-44f64b282aa5_4\", \"run_number\": 7, \"metric\": null, \"status\": \"Completed\", \"run_type\": \"azureml.scriptrun\", \"training_percent\": \"100\", \"start_time\": \"2021-01-17T07:11:22.728389Z\", \"end_time\": \"2021-01-17T07:12:06.665419Z\", \"created_time\": \"2021-01-17T07:08:37.601827Z\", \"created_time_dt\": \"2021-01-17T07:08:37.601827Z\", \"duration\": \"0:03:29\", \"iteration\": \"4\", \"goal\": \"AUC_weighted_max\", \"run_name\": \"MinMaxScaler, RandomForest\", \"run_properties\": \"copy=True, feature_range=(0, 1\", \"primary_metric\": 0.89378746, \"best_metric\": 0.90199333}, {\"run_id\": \"AutoML_19bb6a27-9e6e-4ada-90a3-44f64b282aa5_1\", \"run_number\": 8, \"metric\": null, \"status\": \"Completed\", \"run_type\": \"azureml.scriptrun\", \"training_percent\": \"100\", \"start_time\": \"2021-01-17T07:11:57.613822Z\", \"end_time\": \"2021-01-17T07:15:26.288728Z\", \"created_time\": \"2021-01-17T07:08:37.601628Z\", \"created_time_dt\": \"2021-01-17T07:08:37.601628Z\", \"duration\": \"0:06:48\", \"iteration\": \"1\", \"goal\": \"AUC_weighted_max\", \"run_name\": \"MaxAbsScaler, XGBoostClassifier\", \"run_properties\": \"copy=True\", \"primary_metric\": 0.88473694, \"best_metric\": 0.88473694}, {\"run_id\": \"AutoML_19bb6a27-9e6e-4ada-90a3-44f64b282aa5_2\", \"run_number\": 9, \"metric\": null, \"status\": \"Completed\", \"run_type\": \"azureml.scriptrun\", \"training_percent\": \"100\", \"start_time\": \"2021-01-17T07:08:47.599192Z\", \"end_time\": \"2021-01-17T07:09:38.227026Z\", \"created_time\": \"2021-01-17T07:08:37.647265Z\", \"created_time_dt\": \"2021-01-17T07:08:37.647265Z\", \"duration\": \"0:01:00\", \"iteration\": \"2\", \"goal\": \"AUC_weighted_max\", \"run_name\": \"MinMaxScaler, RandomForest\", \"run_properties\": \"copy=True, feature_range=(0, 1\", \"primary_metric\": 0.90199333, \"best_metric\": 0.90199333}, {\"run_id\": \"AutoML_19bb6a27-9e6e-4ada-90a3-44f64b282aa5_3\", \"run_number\": 10, \"metric\": null, \"status\": \"Completed\", \"run_type\": \"azureml.scriptrun\", \"training_percent\": \"100\", \"start_time\": \"2021-01-17T07:10:30.934055Z\", \"end_time\": \"2021-01-17T07:11:15.607641Z\", \"created_time\": \"2021-01-17T07:08:37.598247Z\", \"created_time_dt\": \"2021-01-17T07:08:37.598247Z\", \"duration\": \"0:02:38\", \"iteration\": \"3\", \"goal\": \"AUC_weighted_max\", \"run_name\": \"RobustScaler, ExtremeRandomTrees\", \"run_properties\": \"copy=True, quantile_range=[10, 90], with_centering=False,\\n             with_scaling=False\", \"primary_metric\": 0.8785352, \"best_metric\": 0.90199333}, {\"run_id\": \"AutoML_19bb6a27-9e6e-4ada-90a3-44f64b282aa5_5\", \"run_number\": 11, \"metric\": null, \"status\": \"Completed\", \"run_type\": \"azureml.scriptrun\", \"training_percent\": \"100\", \"start_time\": \"2021-01-17T07:12:02.177672Z\", \"end_time\": \"2021-01-17T07:15:20.028224Z\", \"created_time\": \"2021-01-17T07:09:42.585244Z\", \"created_time_dt\": \"2021-01-17T07:09:42.585244Z\", \"duration\": \"0:05:37\", \"iteration\": \"5\", \"goal\": \"AUC_weighted_max\", \"run_name\": \"MinMaxScaler, RandomForest\", \"run_properties\": \"copy=True, feature_range=(0, 1\", \"primary_metric\": 0.87062166, \"best_metric\": 0.90199333}, {\"run_id\": \"AutoML_19bb6a27-9e6e-4ada-90a3-44f64b282aa5_6\", \"run_number\": 12, \"metric\": null, \"status\": \"Completed\", \"run_type\": \"azureml.scriptrun\", \"training_percent\": \"100\", \"start_time\": \"2021-01-17T07:12:01.033063Z\", \"end_time\": \"2021-01-17T07:15:33.647554Z\", \"created_time\": \"2021-01-17T07:10:31.137961Z\", \"created_time_dt\": \"2021-01-17T07:10:31.137961Z\", \"duration\": \"0:05:02\", \"iteration\": \"6\", \"goal\": \"AUC_weighted_max\", \"run_name\": \"StandardScalerWrapper, RandomForest\", \"run_properties\": \"<azureml.automl.runtime.shared.model_wrappers.StandardScalerWrapper object at 0x7f7a15241a20\", \"primary_metric\": 0.88140031, \"best_metric\": 0.90199333}, {\"run_id\": \"AutoML_19bb6a27-9e6e-4ada-90a3-44f64b282aa5_7\", \"run_number\": 13, \"metric\": null, \"status\": \"Completed\", \"run_type\": \"azureml.scriptrun\", \"training_percent\": \"100\", \"start_time\": \"2021-01-17T07:12:13.379299Z\", \"end_time\": \"2021-01-17T07:13:12.810154Z\", \"created_time\": \"2021-01-17T07:11:18.642911Z\", \"created_time_dt\": \"2021-01-17T07:11:18.642911Z\", \"duration\": \"0:01:54\", \"iteration\": \"7\", \"goal\": \"AUC_weighted_max\", \"run_name\": \"MinMaxScaler, ExtremeRandomTrees\", \"run_properties\": \"copy=True, feature_range=(0, 1\", \"primary_metric\": 0.89323904, \"best_metric\": 0.90199333}, {\"run_id\": \"AutoML_19bb6a27-9e6e-4ada-90a3-44f64b282aa5_8\", \"run_number\": 14, \"metric\": null, \"status\": \"Completed\", \"run_type\": \"azureml.scriptrun\", \"training_percent\": \"100\", \"start_time\": \"2021-01-17T07:13:18.260311Z\", \"end_time\": \"2021-01-17T07:14:13.6228Z\", \"created_time\": \"2021-01-17T07:12:10.02946Z\", \"created_time_dt\": \"2021-01-17T07:12:10.02946Z\", \"duration\": \"0:02:03\", \"iteration\": \"8\", \"goal\": \"AUC_weighted_max\", \"run_name\": \"MinMaxScaler, ExtremeRandomTrees\", \"run_properties\": \"copy=True, feature_range=(0, 1\", \"primary_metric\": 0.87793737, \"best_metric\": 0.90199333}, {\"run_id\": \"AutoML_19bb6a27-9e6e-4ada-90a3-44f64b282aa5_9\", \"run_number\": 15, \"metric\": null, \"status\": \"Completed\", \"run_type\": \"azureml.scriptrun\", \"training_percent\": \"100\", \"start_time\": \"2021-01-17T07:14:15.140274Z\", \"end_time\": \"2021-01-17T07:15:03.688664Z\", \"created_time\": \"2021-01-17T07:13:15.987816Z\", \"created_time_dt\": \"2021-01-17T07:13:15.987816Z\", \"duration\": \"0:01:47\", \"iteration\": \"9\", \"goal\": \"AUC_weighted_max\", \"run_name\": \"SparseNormalizer, KNN\", \"run_properties\": \"<azureml.automl.runtime.shared.model_wrappers.SparseNormalizer object at 0x7f1e0c21d128\", \"primary_metric\": 0.7496161, \"best_metric\": 0.90199333}, {\"run_id\": \"AutoML_19bb6a27-9e6e-4ada-90a3-44f64b282aa5_10\", \"run_number\": 16, \"metric\": null, \"status\": \"Completed\", \"run_type\": \"azureml.scriptrun\", \"training_percent\": \"100\", \"start_time\": \"2021-01-17T07:15:06.693285Z\", \"end_time\": \"2021-01-17T07:16:03.775315Z\", \"created_time\": \"2021-01-17T07:14:16.661563Z\", \"created_time_dt\": \"2021-01-17T07:14:16.661563Z\", \"duration\": \"0:01:47\", \"iteration\": \"10\", \"goal\": \"AUC_weighted_max\", \"run_name\": \"MinMaxScaler, ExtremeRandomTrees\", \"run_properties\": \"copy=True, feature_range=(0, 1\", \"primary_metric\": 0.87389626, \"best_metric\": 0.90199333}, {\"run_id\": \"AutoML_19bb6a27-9e6e-4ada-90a3-44f64b282aa5_11\", \"run_number\": 17, \"metric\": null, \"status\": \"Completed\", \"run_type\": \"azureml.scriptrun\", \"training_percent\": \"100\", \"start_time\": \"2021-01-17T07:15:23.716977Z\", \"end_time\": \"2021-01-17T07:16:12.049222Z\", \"created_time\": \"2021-01-17T07:15:06.54487Z\", \"created_time_dt\": \"2021-01-17T07:15:06.54487Z\", \"duration\": \"0:01:05\", \"iteration\": \"11\", \"goal\": \"AUC_weighted_max\", \"run_name\": \"RobustScaler, ExtremeRandomTrees\", \"run_properties\": \"copy=True, quantile_range=[10, 90], with_centering=True,\\n             with_scaling=False\", \"primary_metric\": 0.89303259, \"best_metric\": 0.90199333}, {\"run_id\": \"AutoML_19bb6a27-9e6e-4ada-90a3-44f64b282aa5_12\", \"run_number\": 18, \"metric\": null, \"status\": \"Completed\", \"run_type\": \"azureml.scriptrun\", \"training_percent\": \"100\", \"start_time\": \"2021-01-17T07:15:39.521666Z\", \"end_time\": \"2021-01-17T07:16:26.899977Z\", \"created_time\": \"2021-01-17T07:15:25.109719Z\", \"created_time_dt\": \"2021-01-17T07:15:25.109719Z\", \"duration\": \"0:01:01\", \"iteration\": \"12\", \"goal\": \"AUC_weighted_max\", \"run_name\": \"StandardScalerWrapper, RandomForest\", \"run_properties\": \"<azureml.automl.runtime.shared.model_wrappers.StandardScalerWrapper object at 0x7f142cfae8d0\", \"primary_metric\": 0.9078539, \"best_metric\": 0.9078539}, {\"run_id\": \"AutoML_19bb6a27-9e6e-4ada-90a3-44f64b282aa5_13\", \"run_number\": 19, \"metric\": null, \"status\": \"Completed\", \"run_type\": \"azureml.scriptrun\", \"training_percent\": \"100\", \"start_time\": \"2021-01-17T07:15:43.9221Z\", \"end_time\": \"2021-01-17T07:16:26.740141Z\", \"created_time\": \"2021-01-17T07:15:30.634883Z\", \"created_time_dt\": \"2021-01-17T07:15:30.634883Z\", \"duration\": \"0:00:56\", \"iteration\": \"13\", \"goal\": \"AUC_weighted_max\", \"run_name\": \"StandardScalerWrapper, SGD\", \"run_properties\": \"<azureml.automl.runtime.shared.model_wrappers.StandardScalerWrapper object at 0x7f72729d2f98\", \"primary_metric\": 0.86838062, \"best_metric\": 0.9078539}, {\"run_id\": \"AutoML_19bb6a27-9e6e-4ada-90a3-44f64b282aa5_14\", \"run_number\": 20, \"metric\": null, \"status\": \"Completed\", \"run_type\": \"azureml.scriptrun\", \"training_percent\": \"100\", \"start_time\": \"2021-01-17T07:16:06.127591Z\", \"end_time\": \"2021-01-17T07:16:57.188811Z\", \"created_time\": \"2021-01-17T07:15:39.07455Z\", \"created_time_dt\": \"2021-01-17T07:15:39.07455Z\", \"duration\": \"0:01:18\", \"iteration\": \"14\", \"goal\": \"AUC_weighted_max\", \"run_name\": \"RobustScaler, RandomForest\", \"run_properties\": \"copy=True, quantile_range=[10, 90], with_centering=True,\\n             with_scaling=False\", \"primary_metric\": 0.88620534, \"best_metric\": 0.9078539}, {\"run_id\": \"AutoML_19bb6a27-9e6e-4ada-90a3-44f64b282aa5_15\", \"run_number\": 21, \"metric\": null, \"status\": \"Completed\", \"run_type\": \"azureml.scriptrun\", \"training_percent\": \"100\", \"start_time\": \"2021-01-17T07:16:28.390377Z\", \"end_time\": \"2021-01-17T07:17:10.351934Z\", \"created_time\": \"2021-01-17T07:16:17.251119Z\", \"created_time_dt\": \"2021-01-17T07:16:17.251119Z\", \"duration\": \"0:00:53\", \"iteration\": \"15\", \"goal\": \"AUC_weighted_max\", \"run_name\": \"StandardScalerWrapper, KNN\", \"run_properties\": \"<azureml.automl.runtime.shared.model_wrappers.StandardScalerWrapper object at 0x7f6e8f6e1c88\", \"primary_metric\": 0.52030533, \"best_metric\": 0.9078539}, {\"run_id\": \"AutoML_19bb6a27-9e6e-4ada-90a3-44f64b282aa5_16\", \"run_number\": 22, \"metric\": null, \"status\": \"Completed\", \"run_type\": \"azureml.scriptrun\", \"training_percent\": \"100\", \"start_time\": \"2021-01-17T07:16:34.604759Z\", \"end_time\": \"2021-01-17T07:17:17.373866Z\", \"created_time\": \"2021-01-17T07:16:22.445323Z\", \"created_time_dt\": \"2021-01-17T07:16:22.445323Z\", \"duration\": \"0:00:54\", \"iteration\": \"16\", \"goal\": \"AUC_weighted_max\", \"run_name\": \"MinMaxScaler, RandomForest\", \"run_properties\": \"copy=True, feature_range=(0, 1\", \"primary_metric\": 0.88451082, \"best_metric\": 0.9078539}, {\"run_id\": \"AutoML_19bb6a27-9e6e-4ada-90a3-44f64b282aa5_17\", \"run_number\": 23, \"metric\": null, \"status\": \"Completed\", \"run_type\": \"azureml.scriptrun\", \"training_percent\": \"100\", \"start_time\": \"2021-01-17T07:16:39.897137Z\", \"end_time\": \"2021-01-17T07:17:21.554538Z\", \"created_time\": \"2021-01-17T07:16:29.758234Z\", \"created_time_dt\": \"2021-01-17T07:16:29.758234Z\", \"duration\": \"0:00:51\", \"iteration\": \"17\", \"goal\": \"AUC_weighted_max\", \"run_name\": \"MinMaxScaler, ExtremeRandomTrees\", \"run_properties\": \"copy=True, feature_range=(0, 1\", \"primary_metric\": 0.85316483, \"best_metric\": 0.9078539}, {\"run_id\": \"AutoML_19bb6a27-9e6e-4ada-90a3-44f64b282aa5_18\", \"run_number\": 24, \"metric\": null, \"status\": \"Completed\", \"run_type\": \"azureml.scriptrun\", \"training_percent\": \"100\", \"start_time\": \"2021-01-17T07:17:01.461268Z\", \"end_time\": \"2021-01-17T07:17:46.393098Z\", \"created_time\": \"2021-01-17T07:16:30.123437Z\", \"created_time_dt\": \"2021-01-17T07:16:30.123437Z\", \"duration\": \"0:01:16\", \"iteration\": \"18\", \"goal\": \"AUC_weighted_max\", \"run_name\": \"MaxAbsScaler, RandomForest\", \"run_properties\": \"copy=True\", \"primary_metric\": 0.88185554, \"best_metric\": 0.9078539}, {\"run_id\": \"AutoML_19bb6a27-9e6e-4ada-90a3-44f64b282aa5_19\", \"run_number\": 25, \"metric\": null, \"status\": \"Completed\", \"run_type\": \"azureml.scriptrun\", \"training_percent\": \"100\", \"start_time\": \"2021-01-17T07:17:16.649574Z\", \"end_time\": \"2021-01-17T07:17:53.976835Z\", \"created_time\": \"2021-01-17T07:17:01.536125Z\", \"created_time_dt\": \"2021-01-17T07:17:01.536125Z\", \"duration\": \"0:00:52\", \"iteration\": \"19\", \"goal\": \"AUC_weighted_max\", \"run_name\": \"StandardScalerWrapper, XGBoostClassifier\", \"run_properties\": \"<azureml.automl.runtime.shared.model_wrappers.StandardScalerWrapper object at 0x7f6ac6b1bac8\", \"primary_metric\": 0.89267109, \"best_metric\": 0.9078539}, {\"run_id\": \"AutoML_19bb6a27-9e6e-4ada-90a3-44f64b282aa5_20\", \"run_number\": 26, \"metric\": null, \"status\": \"Completed\", \"run_type\": \"azureml.scriptrun\", \"training_percent\": \"100\", \"start_time\": \"2021-01-17T07:17:27.419275Z\", \"end_time\": \"2021-01-17T07:18:13.223749Z\", \"created_time\": \"2021-01-17T07:17:15.000439Z\", \"created_time_dt\": \"2021-01-17T07:17:15.000439Z\", \"duration\": \"0:00:58\", \"iteration\": \"20\", \"goal\": \"AUC_weighted_max\", \"run_name\": \"MaxAbsScaler, RandomForest\", \"run_properties\": \"copy=True\", \"primary_metric\": 0.90341139, \"best_metric\": 0.9078539}, {\"run_id\": \"AutoML_19bb6a27-9e6e-4ada-90a3-44f64b282aa5_21\", \"run_number\": 27, \"metric\": null, \"status\": \"Completed\", \"run_type\": \"azureml.scriptrun\", \"training_percent\": \"100\", \"start_time\": \"2021-01-17T07:17:32.887677Z\", \"end_time\": \"2021-01-17T07:18:17.449801Z\", \"created_time\": \"2021-01-17T07:17:21.921445Z\", \"created_time_dt\": \"2021-01-17T07:17:21.921445Z\", \"duration\": \"0:00:55\", \"iteration\": \"21\", \"goal\": \"AUC_weighted_max\", \"run_name\": \"MaxAbsScaler, ExtremeRandomTrees\", \"run_properties\": \"copy=True\", \"primary_metric\": 0.82890054, \"best_metric\": 0.9078539}, {\"run_id\": \"AutoML_19bb6a27-9e6e-4ada-90a3-44f64b282aa5_22\", \"run_number\": 28, \"metric\": null, \"status\": \"Completed\", \"run_type\": \"azureml.scriptrun\", \"training_percent\": \"100\", \"start_time\": \"2021-01-17T07:17:49.247569Z\", \"end_time\": \"2021-01-17T07:18:35.591501Z\", \"created_time\": \"2021-01-17T07:17:28.976367Z\", \"created_time_dt\": \"2021-01-17T07:17:28.976367Z\", \"duration\": \"0:01:06\", \"iteration\": \"22\", \"goal\": \"AUC_weighted_max\", \"run_name\": \"MaxAbsScaler, ExtremeRandomTrees\", \"run_properties\": \"copy=True\", \"primary_metric\": 0.86771926, \"best_metric\": 0.9078539}, {\"run_id\": \"AutoML_19bb6a27-9e6e-4ada-90a3-44f64b282aa5_23\", \"run_number\": 29, \"metric\": null, \"status\": \"Completed\", \"run_type\": \"azureml.scriptrun\", \"training_percent\": \"100\", \"start_time\": \"2021-01-17T07:18:01.596635Z\", \"end_time\": \"2021-01-17T07:18:43.285903Z\", \"created_time\": \"2021-01-17T07:17:50.723375Z\", \"created_time_dt\": \"2021-01-17T07:17:50.723375Z\", \"duration\": \"0:00:52\", \"iteration\": \"23\", \"goal\": \"AUC_weighted_max\", \"run_name\": \"MinMaxScaler, RandomForest\", \"run_properties\": \"copy=True, feature_range=(0, 1\", \"primary_metric\": 0.91366518, \"best_metric\": 0.91366518}, {\"run_id\": \"AutoML_19bb6a27-9e6e-4ada-90a3-44f64b282aa5_24\", \"run_number\": 30, \"metric\": null, \"status\": \"Completed\", \"run_type\": \"azureml.scriptrun\", \"training_percent\": \"100\", \"start_time\": \"2021-01-17T07:18:16.140376Z\", \"end_time\": \"2021-01-17T07:19:03.069256Z\", \"created_time\": \"2021-01-17T07:17:57.696418Z\", \"created_time_dt\": \"2021-01-17T07:17:57.696418Z\", \"duration\": \"0:01:05\", \"iteration\": \"24\", \"goal\": \"AUC_weighted_max\", \"run_name\": \"MinMaxScaler, ExtremeRandomTrees\", \"run_properties\": \"copy=True, feature_range=(0, 1\", \"primary_metric\": 0.90367283, \"best_metric\": 0.91366518}, {\"run_id\": \"AutoML_19bb6a27-9e6e-4ada-90a3-44f64b282aa5_25\", \"run_number\": 31, \"metric\": null, \"status\": \"Completed\", \"run_type\": \"azureml.scriptrun\", \"training_percent\": \"100\", \"start_time\": \"2021-01-17T07:18:28.743929Z\", \"end_time\": \"2021-01-17T07:19:13.291966Z\", \"created_time\": \"2021-01-17T07:18:18.311436Z\", \"created_time_dt\": \"2021-01-17T07:18:18.311436Z\", \"duration\": \"0:00:54\", \"iteration\": \"25\", \"goal\": \"AUC_weighted_max\", \"run_name\": \"MinMaxScaler, RandomForest\", \"run_properties\": \"copy=True, feature_range=(0, 1\", \"primary_metric\": 0.8977363, \"best_metric\": 0.91366518}, {\"run_id\": \"AutoML_19bb6a27-9e6e-4ada-90a3-44f64b282aa5_26\", \"run_number\": 32, \"metric\": null, \"status\": \"Completed\", \"run_type\": \"azureml.scriptrun\", \"training_percent\": \"100\", \"start_time\": \"2021-01-17T07:18:39.271696Z\", \"end_time\": \"2021-01-17T07:19:19.733666Z\", \"created_time\": \"2021-01-17T07:18:23.486157Z\", \"created_time_dt\": \"2021-01-17T07:18:23.486157Z\", \"duration\": \"0:00:56\", \"iteration\": \"26\", \"goal\": \"AUC_weighted_max\", \"run_name\": \"StandardScalerWrapper, LightGBM\", \"run_properties\": \"<azureml.automl.runtime.shared.model_wrappers.StandardScalerWrapper object at 0x7f7f87feb710\", \"primary_metric\": 0.87124668, \"best_metric\": 0.91366518}, {\"run_id\": \"AutoML_19bb6a27-9e6e-4ada-90a3-44f64b282aa5_27\", \"run_number\": 33, \"metric\": null, \"status\": \"Completed\", \"run_type\": \"azureml.scriptrun\", \"training_percent\": \"100\", \"start_time\": \"2021-01-17T07:18:48.527505Z\", \"end_time\": \"2021-01-17T07:19:38.776358Z\", \"created_time\": \"2021-01-17T07:18:38.640941Z\", \"created_time_dt\": \"2021-01-17T07:18:38.640941Z\", \"duration\": \"0:01:00\", \"iteration\": \"27\", \"goal\": \"AUC_weighted_max\", \"run_name\": \"MaxAbsScaler, ExtremeRandomTrees\", \"run_properties\": \"copy=True\", \"primary_metric\": 0.89571055, \"best_metric\": 0.91366518}, {\"run_id\": \"AutoML_19bb6a27-9e6e-4ada-90a3-44f64b282aa5_28\", \"run_number\": 34, \"metric\": null, \"status\": \"Completed\", \"run_type\": \"azureml.scriptrun\", \"training_percent\": \"100\", \"start_time\": \"2021-01-17T07:19:06.908023Z\", \"end_time\": \"2021-01-17T07:19:52.35356Z\", \"created_time\": \"2021-01-17T07:18:46.255822Z\", \"created_time_dt\": \"2021-01-17T07:18:46.255822Z\", \"duration\": \"0:01:06\", \"iteration\": \"28\", \"goal\": \"AUC_weighted_max\", \"run_name\": \"MaxAbsScaler, RandomForest\", \"run_properties\": \"copy=True\", \"primary_metric\": 0.88780762, \"best_metric\": 0.91366518}, {\"run_id\": \"AutoML_19bb6a27-9e6e-4ada-90a3-44f64b282aa5_29\", \"run_number\": 35, \"metric\": null, \"status\": \"Completed\", \"run_type\": \"azureml.scriptrun\", \"training_percent\": \"100\", \"start_time\": \"2021-01-17T07:19:18.137834Z\", \"end_time\": \"2021-01-17T07:20:03.721741Z\", \"created_time\": \"2021-01-17T07:19:06.471732Z\", \"created_time_dt\": \"2021-01-17T07:19:06.471732Z\", \"duration\": \"0:00:57\", \"iteration\": \"29\", \"goal\": \"AUC_weighted_max\", \"run_name\": \"RobustScaler, LightGBM\", \"run_properties\": \"copy=True, quantile_range=[10, 90], with_centering=True,\\n             with_scaling=True\", \"primary_metric\": 0.88403003, \"best_metric\": 0.91366518}, {\"run_id\": \"AutoML_19bb6a27-9e6e-4ada-90a3-44f64b282aa5_30\", \"run_number\": 36, \"metric\": null, \"status\": \"Completed\", \"run_type\": \"azureml.scriptrun\", \"training_percent\": \"100\", \"start_time\": \"2021-01-17T07:19:28.776704Z\", \"end_time\": \"2021-01-17T07:20:05.805078Z\", \"created_time\": \"2021-01-17T07:19:17.121709Z\", \"created_time_dt\": \"2021-01-17T07:19:17.121709Z\", \"duration\": \"0:00:48\", \"iteration\": \"30\", \"goal\": \"AUC_weighted_max\", \"run_name\": \"RobustScaler, RandomForest\", \"run_properties\": \"copy=True, quantile_range=[25, 75], with_centering=False,\\n             with_scaling=True\", \"primary_metric\": 0.77247229, \"best_metric\": 0.91366518}, {\"run_id\": \"AutoML_19bb6a27-9e6e-4ada-90a3-44f64b282aa5_31\", \"run_number\": 37, \"metric\": null, \"status\": \"Completed\", \"run_type\": \"azureml.scriptrun\", \"training_percent\": \"100\", \"start_time\": \"2021-01-17T07:19:42.076788Z\", \"end_time\": \"2021-01-17T07:20:49.347693Z\", \"created_time\": \"2021-01-17T07:19:21.470298Z\", \"created_time_dt\": \"2021-01-17T07:19:21.470298Z\", \"duration\": \"0:01:27\", \"iteration\": \"31\", \"goal\": \"AUC_weighted_max\", \"run_name\": \"MinMaxScaler, RandomForest\", \"run_properties\": \"copy=True, feature_range=(0, 1\", \"primary_metric\": 0.90480729, \"best_metric\": 0.91366518}, {\"run_id\": \"AutoML_19bb6a27-9e6e-4ada-90a3-44f64b282aa5_32\", \"run_number\": 38, \"metric\": null, \"status\": \"Completed\", \"run_type\": \"azureml.scriptrun\", \"training_percent\": \"100\", \"start_time\": \"2021-01-17T07:19:57.791572Z\", \"end_time\": \"2021-01-17T07:20:43.630649Z\", \"created_time\": \"2021-01-17T07:19:43.408403Z\", \"created_time_dt\": \"2021-01-17T07:19:43.408403Z\", \"duration\": \"0:01:00\", \"iteration\": \"32\", \"goal\": \"AUC_weighted_max\", \"run_name\": \"MaxAbsScaler, LightGBM\", \"run_properties\": \"copy=True\", \"primary_metric\": 0.90683734, \"best_metric\": 0.91366518}, {\"run_id\": \"AutoML_19bb6a27-9e6e-4ada-90a3-44f64b282aa5_33\", \"run_number\": 39, \"metric\": null, \"status\": \"Completed\", \"run_type\": \"azureml.scriptrun\", \"training_percent\": \"100\", \"start_time\": \"2021-01-17T07:20:05.758444Z\", \"end_time\": \"2021-01-17T07:20:57.287748Z\", \"created_time\": \"2021-01-17T07:19:54.198015Z\", \"created_time_dt\": \"2021-01-17T07:19:54.198015Z\", \"duration\": \"0:01:03\", \"iteration\": \"33\", \"goal\": \"AUC_weighted_max\", \"run_name\": \"MinMaxScaler, RandomForest\", \"run_properties\": \"copy=True, feature_range=(0, 1\", \"primary_metric\": 0.91372524, \"best_metric\": 0.91372524}, {\"run_id\": \"AutoML_19bb6a27-9e6e-4ada-90a3-44f64b282aa5_34\", \"run_number\": 40, \"metric\": null, \"status\": \"Completed\", \"run_type\": \"azureml.scriptrun\", \"training_percent\": \"100\", \"start_time\": \"2021-01-17T07:20:18.068507Z\", \"end_time\": \"2021-01-17T07:20:52.424603Z\", \"created_time\": \"2021-01-17T07:20:05.6154Z\", \"created_time_dt\": \"2021-01-17T07:20:05.6154Z\", \"duration\": \"0:00:46\", \"iteration\": \"34\", \"goal\": \"AUC_weighted_max\", \"run_name\": \"MaxAbsScaler, LightGBM\", \"run_properties\": \"copy=True\", \"primary_metric\": 0.89981985, \"best_metric\": 0.91372524}, {\"run_id\": \"AutoML_19bb6a27-9e6e-4ada-90a3-44f64b282aa5_35\", \"run_number\": 41, \"metric\": null, \"status\": \"Completed\", \"run_type\": \"azureml.scriptrun\", \"training_percent\": \"100\", \"start_time\": \"2021-01-17T07:20:48.195981Z\", \"end_time\": \"2021-01-17T07:21:35.739043Z\", \"created_time\": \"2021-01-17T07:20:10.705463Z\", \"created_time_dt\": \"2021-01-17T07:20:10.705463Z\", \"duration\": \"0:01:25\", \"iteration\": \"35\", \"goal\": \"AUC_weighted_max\", \"run_name\": \"RobustScaler, RandomForest\", \"run_properties\": \"copy=True, quantile_range=[10, 90], with_centering=True,\\n             with_scaling=False\", \"primary_metric\": 0.89174604, \"best_metric\": 0.91372524}, {\"run_id\": \"AutoML_19bb6a27-9e6e-4ada-90a3-44f64b282aa5_36\", \"run_number\": 42, \"metric\": null, \"status\": \"Completed\", \"run_type\": \"azureml.scriptrun\", \"training_percent\": \"100\", \"start_time\": \"2021-01-17T07:20:56.898959Z\", \"end_time\": \"2021-01-17T07:21:38.70379Z\", \"created_time\": \"2021-01-17T07:20:45.369946Z\", \"created_time_dt\": \"2021-01-17T07:20:45.369946Z\", \"duration\": \"0:00:53\", \"iteration\": \"36\", \"goal\": \"AUC_weighted_max\", \"run_name\": \"StandardScalerWrapper, LightGBM\", \"run_properties\": \"<azureml.automl.runtime.shared.model_wrappers.StandardScalerWrapper object at 0x7f27f935dc88\", \"primary_metric\": 0.90436439, \"best_metric\": 0.91372524}, {\"run_id\": \"AutoML_19bb6a27-9e6e-4ada-90a3-44f64b282aa5_37\", \"run_number\": 43, \"metric\": null, \"status\": \"Completed\", \"run_type\": \"azureml.scriptrun\", \"training_percent\": \"100\", \"start_time\": \"2021-01-17T07:21:05.969416Z\", \"end_time\": \"2021-01-17T07:21:44.895619Z\", \"created_time\": \"2021-01-17T07:20:51.063501Z\", \"created_time_dt\": \"2021-01-17T07:20:51.063501Z\", \"duration\": \"0:00:53\", \"iteration\": \"37\", \"goal\": \"AUC_weighted_max\", \"run_name\": \"RobustScaler, LightGBM\", \"run_properties\": \"copy=True, quantile_range=[25, 75], with_centering=False,\\n             with_scaling=True\", \"primary_metric\": 0.90276124, \"best_metric\": 0.91372524}, {\"run_id\": \"AutoML_19bb6a27-9e6e-4ada-90a3-44f64b282aa5_39\", \"run_number\": 44, \"metric\": null, \"status\": \"Completed\", \"run_type\": \"azureml.scriptrun\", \"training_percent\": \"100\", \"start_time\": \"2021-01-17T07:21:37.517556Z\", \"end_time\": \"2021-01-17T07:22:38.52726Z\", \"created_time\": \"2021-01-17T07:20:59.260845Z\", \"created_time_dt\": \"2021-01-17T07:20:59.260845Z\", \"duration\": \"0:01:39\", \"iteration\": \"39\", \"goal\": \"AUC_weighted_max\", \"run_name\": \"MaxAbsScaler, GradientBoosting\", \"run_properties\": \"copy=True\", \"primary_metric\": 0.88550031, \"best_metric\": 0.91372524}, {\"run_id\": \"AutoML_19bb6a27-9e6e-4ada-90a3-44f64b282aa5_38\", \"run_number\": 45, \"metric\": null, \"status\": \"Completed\", \"run_type\": \"azureml.scriptrun\", \"training_percent\": \"100\", \"start_time\": \"2021-01-17T07:21:09.274656Z\", \"end_time\": \"2021-01-17T07:21:50.96088Z\", \"created_time\": \"2021-01-17T07:20:59.573682Z\", \"created_time_dt\": \"2021-01-17T07:20:59.573682Z\", \"duration\": \"0:00:51\", \"iteration\": \"38\", \"goal\": \"AUC_weighted_max\", \"run_name\": \"MinMaxScaler, LightGBM\", \"run_properties\": \"copy=True, feature_range=(0, 1\", \"primary_metric\": 0.89952385, \"best_metric\": 0.91372524}, {\"run_id\": \"AutoML_19bb6a27-9e6e-4ada-90a3-44f64b282aa5_40\", \"run_number\": 46, \"metric\": null, \"status\": \"Completed\", \"run_type\": \"azureml.scriptrun\", \"training_percent\": \"100\", \"start_time\": \"2021-01-17T07:21:50.424421Z\", \"end_time\": \"2021-01-17T07:22:30.255485Z\", \"created_time\": \"2021-01-17T07:21:38.55005Z\", \"created_time_dt\": \"2021-01-17T07:21:38.55005Z\", \"duration\": \"0:00:51\", \"iteration\": \"40\", \"goal\": \"AUC_weighted_max\", \"run_name\": \"TruncatedSVDWrapper, RandomForest\", \"run_properties\": \"n_components=0.45526315789473687, random_state=None\", \"primary_metric\": 0.82154628, \"best_metric\": 0.91372524}, {\"run_id\": \"AutoML_19bb6a27-9e6e-4ada-90a3-44f64b282aa5_41\", \"run_number\": 47, \"metric\": null, \"status\": \"Completed\", \"run_type\": \"azureml.scriptrun\", \"training_percent\": \"100\", \"start_time\": \"2021-01-17T07:21:53.742087Z\", \"end_time\": \"2021-01-17T07:22:54.885119Z\", \"created_time\": \"2021-01-17T07:21:41.791702Z\", \"created_time_dt\": \"2021-01-17T07:21:41.791702Z\", \"duration\": \"0:01:13\", \"iteration\": \"41\", \"goal\": \"AUC_weighted_max\", \"run_name\": \"RobustScaler, RandomForest\", \"run_properties\": \"copy=True, quantile_range=[25, 75], with_centering=True,\\n             with_scaling=False\", \"primary_metric\": 0.90698613, \"best_metric\": 0.91372524}, {\"run_id\": \"AutoML_19bb6a27-9e6e-4ada-90a3-44f64b282aa5_42\", \"run_number\": 48, \"metric\": null, \"status\": \"Completed\", \"run_type\": \"azureml.scriptrun\", \"training_percent\": \"100\", \"start_time\": \"2021-01-17T07:21:58.446339Z\", \"end_time\": \"2021-01-17T07:22:49.584102Z\", \"created_time\": \"2021-01-17T07:21:46.493693Z\", \"created_time_dt\": \"2021-01-17T07:21:46.493693Z\", \"duration\": \"0:01:03\", \"iteration\": \"42\", \"goal\": \"AUC_weighted_max\", \"run_name\": \"MinMaxScaler, GradientBoosting\", \"run_properties\": \"copy=True, feature_range=(0, 1\", \"primary_metric\": 0.90329107, \"best_metric\": 0.91372524}, {\"run_id\": \"AutoML_19bb6a27-9e6e-4ada-90a3-44f64b282aa5_43\", \"run_number\": 49, \"metric\": null, \"status\": \"Completed\", \"run_type\": \"azureml.scriptrun\", \"training_percent\": \"100\", \"start_time\": \"2021-01-17T07:22:33.669914Z\", \"end_time\": \"2021-01-17T07:23:18.048034Z\", \"created_time\": \"2021-01-17T07:21:52.862107Z\", \"created_time_dt\": \"2021-01-17T07:21:52.862107Z\", \"duration\": \"0:01:25\", \"iteration\": \"43\", \"goal\": \"AUC_weighted_max\", \"run_name\": \"StandardScalerWrapper, XGBoostClassifier\", \"run_properties\": \"<azureml.automl.runtime.shared.model_wrappers.StandardScalerWrapper object at 0x7fbd2a1b1550\", \"primary_metric\": 0.89997783, \"best_metric\": 0.91372524}, {\"run_id\": \"AutoML_19bb6a27-9e6e-4ada-90a3-44f64b282aa5_44\", \"run_number\": 50, \"metric\": null, \"status\": \"Completed\", \"run_type\": \"azureml.scriptrun\", \"training_percent\": \"100\", \"start_time\": \"2021-01-17T07:22:44.994749Z\", \"end_time\": \"2021-01-17T07:23:32.371733Z\", \"created_time\": \"2021-01-17T07:22:34.92518Z\", \"created_time_dt\": \"2021-01-17T07:22:34.92518Z\", \"duration\": \"0:00:57\", \"iteration\": \"44\", \"goal\": \"AUC_weighted_max\", \"run_name\": \"StandardScalerWrapper, GradientBoosting\", \"run_properties\": \"<azureml.automl.runtime.shared.model_wrappers.StandardScalerWrapper object at 0x7f537a7ed6d8\", \"primary_metric\": 0.8868163, \"best_metric\": 0.91372524}, {\"run_id\": \"AutoML_19bb6a27-9e6e-4ada-90a3-44f64b282aa5_45\", \"run_number\": 51, \"metric\": null, \"status\": \"Completed\", \"run_type\": \"azureml.scriptrun\", \"training_percent\": \"100\", \"start_time\": \"2021-01-17T07:22:52.964501Z\", \"end_time\": \"2021-01-17T07:23:50.45047Z\", \"created_time\": \"2021-01-17T07:22:41.223583Z\", \"created_time_dt\": \"2021-01-17T07:22:41.223583Z\", \"duration\": \"0:01:09\", \"iteration\": \"45\", \"goal\": \"AUC_weighted_max\", \"run_name\": \"MaxAbsScaler, RandomForest\", \"run_properties\": \"copy=True\", \"primary_metric\": 0.90665319, \"best_metric\": 0.91372524}, {\"run_id\": \"AutoML_19bb6a27-9e6e-4ada-90a3-44f64b282aa5_46\", \"run_number\": 52, \"metric\": null, \"status\": \"Completed\", \"run_type\": \"azureml.scriptrun\", \"training_percent\": \"100\", \"start_time\": \"2021-01-17T07:23:03.904383Z\", \"end_time\": \"2021-01-17T07:24:01.726745Z\", \"created_time\": \"2021-01-17T07:22:51.327486Z\", \"created_time_dt\": \"2021-01-17T07:22:51.327486Z\", \"duration\": \"0:01:10\", \"iteration\": \"46\", \"goal\": \"AUC_weighted_max\", \"run_name\": \"RobustScaler, GradientBoosting\", \"run_properties\": \"copy=True, quantile_range=[25, 75], with_centering=True,\\n             with_scaling=True\", \"primary_metric\": 0.90910516, \"best_metric\": 0.91372524}, {\"run_id\": \"AutoML_19bb6a27-9e6e-4ada-90a3-44f64b282aa5_47\", \"run_number\": 53, \"metric\": null, \"status\": \"Completed\", \"run_type\": \"azureml.scriptrun\", \"training_percent\": \"100\", \"start_time\": \"2021-01-17T07:23:18.5508Z\", \"end_time\": \"2021-01-17T07:24:06.986088Z\", \"created_time\": \"2021-01-17T07:22:57.080534Z\", \"created_time_dt\": \"2021-01-17T07:22:57.080534Z\", \"duration\": \"0:01:09\", \"iteration\": \"47\", \"goal\": \"AUC_weighted_max\", \"run_name\": \"MaxAbsScaler, LightGBM\", \"run_properties\": \"copy=True\", \"primary_metric\": 0.90742856, \"best_metric\": 0.91372524}, {\"run_id\": \"AutoML_19bb6a27-9e6e-4ada-90a3-44f64b282aa5_48\", \"run_number\": 54, \"metric\": null, \"status\": \"Canceled\", \"run_type\": \"azureml.scriptrun\", \"training_percent\": \"100\", \"start_time\": \"2021-01-17T07:23:36.708554Z\", \"end_time\": \"2021-01-17T07:24:14.78472Z\", \"created_time\": \"2021-01-17T07:23:19.743537Z\", \"created_time_dt\": \"2021-01-17T07:23:19.743537Z\", \"duration\": \"0:00:55\", \"iteration\": \"48\", \"goal\": \"AUC_weighted_max\", \"run_name\": \"StandardScalerWrapper, GradientBoosting\", \"run_properties\": \"<azureml.automl.runtime.shared.model_wrappers.StandardScalerWrapper object at 0x7f16d4218828\", \"primary_metric\": 0.9090993, \"best_metric\": 0.91372524}, {\"run_id\": \"AutoML_19bb6a27-9e6e-4ada-90a3-44f64b282aa5_49\", \"run_number\": 55, \"metric\": null, \"status\": \"Canceled\", \"run_type\": \"azureml.scriptrun\", \"training_percent\": \"100\", \"start_time\": \"2021-01-17T07:23:55.826092Z\", \"end_time\": \"2021-01-17T07:24:13.280427Z\", \"created_time\": \"2021-01-17T07:23:34.301758Z\", \"created_time_dt\": \"2021-01-17T07:23:34.301758Z\", \"duration\": \"0:00:38\", \"iteration\": \"49\", \"goal\": null, \"run_name\": \"Canceled\", \"run_properties\": null}, {\"run_id\": \"AutoML_19bb6a27-9e6e-4ada-90a3-44f64b282aa5_50\", \"run_number\": 56, \"metric\": null, \"status\": \"Canceled\", \"run_type\": \"azureml.scriptrun\", \"training_percent\": \"100\", \"start_time\": \"2021-01-17T07:24:04.676991Z\", \"end_time\": \"2021-01-17T07:24:14.325857Z\", \"created_time\": \"2021-01-17T07:23:53.262037Z\", \"created_time_dt\": \"2021-01-17T07:23:53.262037Z\", \"duration\": \"0:00:21\", \"iteration\": \"50\", \"goal\": null, \"run_name\": \"Canceled\", \"run_properties\": null}, {\"run_id\": \"AutoML_19bb6a27-9e6e-4ada-90a3-44f64b282aa5_51\", \"run_number\": 57, \"metric\": null, \"status\": \"Canceled\", \"run_type\": \"azureml.scriptrun\", \"training_percent\": \"100\", \"start_time\": \"2021-01-17T07:24:03.669913Z\", \"end_time\": \"2021-01-17T07:24:22.628773Z\", \"created_time\": \"2021-01-17T07:24:03.669913Z\", \"created_time_dt\": \"2021-01-17T07:24:03.669913Z\", \"duration\": \"0:00:18\", \"iteration\": \"51\", \"goal\": null, \"run_name\": \"Canceled\", \"run_properties\": null}, {\"run_id\": \"AutoML_19bb6a27-9e6e-4ada-90a3-44f64b282aa5_52\", \"run_number\": 58, \"metric\": null, \"status\": \"Completed\", \"run_type\": \"azureml.scriptrun\", \"training_percent\": \"100\", \"start_time\": \"2021-01-17T07:24:37.506009Z\", \"end_time\": \"2021-01-17T07:26:44.396265Z\", \"created_time\": \"2021-01-17T07:24:25.249214Z\", \"created_time_dt\": \"2021-01-17T07:24:25.249214Z\", \"duration\": \"0:02:19\", \"iteration\": \"52\", \"goal\": \"AUC_weighted_max\", \"run_name\": \"VotingEnsemble\", \"run_properties\": \"classification_labels=None,\\n                              estimators=[('33',\\n                                           Pipeline(memory=None,\\n                                                    steps=[('minmaxscaler',\\n                                                            MinMaxScaler(copy=True,\\n                                                                         feature_range=(0,\\n                                                                                        1\", \"primary_metric\": 0.91955439, \"best_metric\": 0.91955439}], \"children_metrics\": {\"categories\": [0], \"series\": {\"AUC_weighted\": [{\"categories\": [\"0\", \"1\", \"2\", \"3\", \"4\", \"5\", \"6\", \"7\", \"8\", \"9\", \"10\", \"11\", \"12\", \"13\", \"14\", \"15\", \"16\", \"17\", \"18\", \"19\", \"20\", \"21\", \"22\", \"23\", \"24\", \"25\", \"26\", \"27\", \"28\", \"29\", \"30\", \"31\", \"32\", \"33\", \"34\", \"35\", \"36\", \"37\", \"38\", \"39\", \"40\", \"41\", \"42\", \"43\", \"44\", \"45\", \"46\", \"47\", \"48\", \"52\"], \"mode\": \"markers\", \"name\": \"AUC_weighted\", \"stepped\": false, \"type\": \"scatter\", \"data\": [0.8840955354735103, 0.8847369443591411, 0.901993326531084, 0.8785352022458429, 0.8937874578023891, 0.8706216577896214, 0.8814003085085013, 0.8932390371515087, 0.8779373668030418, 0.7496161006793443, 0.8738962553782347, 0.8930325932585085, 0.9078538975347901, 0.8683806150202031, 0.8862053353354842, 0.5203053263648802, 0.884510823749096, 0.8531648338842276, 0.8818555398982744, 0.8926710928479522, 0.9034113888008338, 0.8289005426389867, 0.86771926420685, 0.913665183325023, 0.9036728324984618, 0.8977363035388208, 0.8712466771617228, 0.8957105520443621, 0.8878076177488076, 0.8840300304175018, 0.7724722939457779, 0.9048072875150106, 0.906837338020061, 0.9137252395921733, 0.8998198530196813, 0.8917460394508451, 0.9043643887936795, 0.9027612445694825, 0.8995238467820847, 0.8855003101737656, 0.8215462819735988, 0.9069861291899051, 0.9032910666543389, 0.8999778324406756, 0.8868163018437618, 0.9066531876188055, 0.9091051607389137, 0.9074285601465235, 0.9090992965230379, 0.9195543947428959]}, {\"categories\": [\"0\", \"1\", \"2\", \"3\", \"4\", \"5\", \"6\", \"7\", \"8\", \"9\", \"10\", \"11\", \"12\", \"13\", \"14\", \"15\", \"16\", \"17\", \"18\", \"19\", \"20\", \"21\", \"22\", \"23\", \"24\", \"25\", \"26\", \"27\", \"28\", \"29\", \"30\", \"31\", \"32\", \"33\", \"34\", \"35\", \"36\", \"37\", \"38\", \"39\", \"40\", \"41\", \"42\", \"43\", \"44\", \"45\", \"46\", \"47\", \"48\", \"52\"], \"mode\": \"lines\", \"name\": \"AUC_weighted_max\", \"stepped\": true, \"type\": \"scatter\", \"data\": [0.8840955354735103, 0.8847369443591411, 0.901993326531084, 0.901993326531084, 0.901993326531084, 0.901993326531084, 0.901993326531084, 0.901993326531084, 0.901993326531084, 0.901993326531084, 0.901993326531084, 0.901993326531084, 0.9078538975347901, 0.9078538975347901, 0.9078538975347901, 0.9078538975347901, 0.9078538975347901, 0.9078538975347901, 0.9078538975347901, 0.9078538975347901, 0.9078538975347901, 0.9078538975347901, 0.9078538975347901, 0.913665183325023, 0.913665183325023, 0.913665183325023, 0.913665183325023, 0.913665183325023, 0.913665183325023, 0.913665183325023, 0.913665183325023, 0.913665183325023, 0.913665183325023, 0.9137252395921733, 0.9137252395921733, 0.9137252395921733, 0.9137252395921733, 0.9137252395921733, 0.9137252395921733, 0.9137252395921733, 0.9137252395921733, 0.9137252395921733, 0.9137252395921733, 0.9137252395921733, 0.9137252395921733, 0.9137252395921733, 0.9137252395921733, 0.9137252395921733, 0.9137252395921733, 0.9195543947428959]}], \"recall_score_macro\": [{\"categories\": [\"0\", \"1\", \"2\", \"3\", \"4\", \"5\", \"6\", \"7\", \"8\", \"9\", \"10\", \"11\", \"12\", \"13\", \"14\", \"15\", \"16\", \"17\", \"18\", \"19\", \"20\", \"21\", \"22\", \"23\", \"24\", \"25\", \"26\", \"27\", \"28\", \"29\", \"30\", \"31\", \"32\", \"33\", \"34\", \"35\", \"36\", \"37\", \"38\", \"39\", \"40\", \"41\", \"42\", \"43\", \"44\", \"45\", \"46\", \"47\", \"48\", \"52\"], \"mode\": \"markers\", \"name\": \"recall_score_macro\", \"stepped\": false, \"type\": \"scatter\", \"data\": [0.8077082895810014, 0.8130249020938379, 0.8052044798260474, 0.7390673530004194, 0.8219383950653973, 0.7785441386734293, 0.7899406763780333, 0.7990105348186012, 0.7116027919766478, 0.6780357113964093, 0.6759378436209099, 0.7710839475170139, 0.8320188423958447, 0.7968767703184179, 0.786219081547743, 0.5513534193685796, 0.7152377980524434, 0.7974843498733659, 0.8047382421798897, 0.8143370774597891, 0.7954280187458105, 0.7701453803315932, 0.7901971385149302, 0.8078893226973891, 0.8074948524968548, 0.837960359974376, 0.6843540546029105, 0.8066808733791, 0.7563396881531893, 0.6817262854104958, 0.6888894601457531, 0.8351105043570719, 0.8085053047638858, 0.8249055127112908, 0.7556166808655367, 0.79879841360648, 0.8209433725123084, 0.816454195023131, 0.8145531355562821, 0.8159529418902988, 0.6382314213564214, 0.8197805127112907, 0.8120981344170703, 0.7985076488157151, 0.8093126954408418, 0.6940654543143101, 0.8035930839120198, 0.8109702484141843, 0.825110039178975, 0.8166547722237082]}, {\"categories\": [\"0\", \"1\", \"2\", \"3\", \"4\", \"5\", \"6\", \"7\", \"8\", \"9\", \"10\", \"11\", \"12\", \"13\", \"14\", \"15\", \"16\", \"17\", \"18\", \"19\", \"20\", \"21\", \"22\", \"23\", \"24\", \"25\", \"26\", \"27\", \"28\", \"29\", \"30\", \"31\", \"32\", \"33\", \"34\", \"35\", \"36\", \"37\", \"38\", \"39\", \"40\", \"41\", \"42\", \"43\", \"44\", \"45\", \"46\", \"47\", \"48\", \"52\"], \"mode\": \"lines\", \"name\": \"recall_score_macro_max\", \"stepped\": true, \"type\": \"scatter\", \"data\": [0.8077082895810014, 0.8130249020938379, 0.8130249020938379, 0.8130249020938379, 0.8219383950653973, 0.8219383950653973, 0.8219383950653973, 0.8219383950653973, 0.8219383950653973, 0.8219383950653973, 0.8219383950653973, 0.8219383950653973, 0.8320188423958447, 0.8320188423958447, 0.8320188423958447, 0.8320188423958447, 0.8320188423958447, 0.8320188423958447, 0.8320188423958447, 0.8320188423958447, 0.8320188423958447, 0.8320188423958447, 0.8320188423958447, 0.8320188423958447, 0.8320188423958447, 0.837960359974376, 0.837960359974376, 0.837960359974376, 0.837960359974376, 0.837960359974376, 0.837960359974376, 0.837960359974376, 0.837960359974376, 0.837960359974376, 0.837960359974376, 0.837960359974376, 0.837960359974376, 0.837960359974376, 0.837960359974376, 0.837960359974376, 0.837960359974376, 0.837960359974376, 0.837960359974376, 0.837960359974376, 0.837960359974376, 0.837960359974376, 0.837960359974376, 0.837960359974376, 0.837960359974376, 0.837960359974376]}], \"recall_score_weighted\": [{\"categories\": [\"0\", \"1\", \"2\", \"3\", \"4\", \"5\", \"6\", \"7\", \"8\", \"9\", \"10\", \"11\", \"12\", \"13\", \"14\", \"15\", \"16\", \"17\", \"18\", \"19\", \"20\", \"21\", \"22\", \"23\", \"24\", \"25\", \"26\", \"27\", \"28\", \"29\", \"30\", \"31\", \"32\", \"33\", \"34\", \"35\", \"36\", \"37\", \"38\", \"39\", \"40\", \"41\", \"42\", \"43\", \"44\", \"45\", \"46\", \"47\", \"48\", \"52\"], \"mode\": \"markers\", \"name\": \"recall_score_weighted\", \"stepped\": false, \"type\": \"scatter\", \"data\": [0.8359770114942527, 0.8358620689655172, 0.8359770114942527, 0.8127586206896552, 0.8325287356321839, 0.829080459770115, 0.8191954022988506, 0.8562068965517241, 0.7928735632183908, 0.7659770114942528, 0.7760919540229885, 0.8362068965517242, 0.8189655172413793, 0.8291954022988506, 0.8089655172413794, 0.6389655172413793, 0.7994252873563219, 0.8190804597701149, 0.8157471264367816, 0.8459770114942529, 0.829080459770115, 0.7857471264367817, 0.8258620689655173, 0.8462068965517242, 0.8291954022988504, 0.835632183908046, 0.7860919540229884, 0.8258620689655173, 0.8194252873563219, 0.7859770114942529, 0.7219540229885058, 0.8357471264367817, 0.8391954022988506, 0.8290804597701149, 0.822528735632184, 0.8426436781609195, 0.8493103448275863, 0.8494252873563217, 0.8425287356321839, 0.8360919540229885, 0.7454022988505746, 0.8224137931034482, 0.8427586206896553, 0.8460919540229886, 0.8393103448275863, 0.7926436781609196, 0.8428735632183908, 0.8393103448275863, 0.859425287356322, 0.8426436781609195]}, {\"categories\": [\"0\", \"1\", \"2\", \"3\", \"4\", \"5\", \"6\", \"7\", \"8\", \"9\", \"10\", \"11\", \"12\", \"13\", \"14\", \"15\", \"16\", \"17\", \"18\", \"19\", \"20\", \"21\", \"22\", \"23\", \"24\", \"25\", \"26\", \"27\", \"28\", \"29\", \"30\", \"31\", \"32\", \"33\", \"34\", \"35\", \"36\", \"37\", \"38\", \"39\", \"40\", \"41\", \"42\", \"43\", \"44\", \"45\", \"46\", \"47\", \"48\", \"52\"], \"mode\": \"lines\", \"name\": \"recall_score_weighted_max\", \"stepped\": true, \"type\": \"scatter\", \"data\": [0.8359770114942527, 0.8359770114942527, 0.8359770114942527, 0.8359770114942527, 0.8359770114942527, 0.8359770114942527, 0.8359770114942527, 0.8562068965517241, 0.8562068965517241, 0.8562068965517241, 0.8562068965517241, 0.8562068965517241, 0.8562068965517241, 0.8562068965517241, 0.8562068965517241, 0.8562068965517241, 0.8562068965517241, 0.8562068965517241, 0.8562068965517241, 0.8562068965517241, 0.8562068965517241, 0.8562068965517241, 0.8562068965517241, 0.8562068965517241, 0.8562068965517241, 0.8562068965517241, 0.8562068965517241, 0.8562068965517241, 0.8562068965517241, 0.8562068965517241, 0.8562068965517241, 0.8562068965517241, 0.8562068965517241, 0.8562068965517241, 0.8562068965517241, 0.8562068965517241, 0.8562068965517241, 0.8562068965517241, 0.8562068965517241, 0.8562068965517241, 0.8562068965517241, 0.8562068965517241, 0.8562068965517241, 0.8562068965517241, 0.8562068965517241, 0.8562068965517241, 0.8562068965517241, 0.8562068965517241, 0.859425287356322, 0.859425287356322]}], \"accuracy\": [{\"categories\": [\"0\", \"1\", \"2\", \"3\", \"4\", \"5\", \"6\", \"7\", \"8\", \"9\", \"10\", \"11\", \"12\", \"13\", \"14\", \"15\", \"16\", \"17\", \"18\", \"19\", \"20\", \"21\", \"22\", \"23\", \"24\", \"25\", \"26\", \"27\", \"28\", \"29\", \"30\", \"31\", \"32\", \"33\", \"34\", \"35\", \"36\", \"37\", \"38\", \"39\", \"40\", \"41\", \"42\", \"43\", \"44\", \"45\", \"46\", \"47\", \"48\", \"52\"], \"mode\": \"markers\", \"name\": \"accuracy\", \"stepped\": false, \"type\": \"scatter\", \"data\": [0.8359770114942527, 0.8358620689655172, 0.8359770114942527, 0.8127586206896552, 0.8325287356321839, 0.829080459770115, 0.8191954022988506, 0.8562068965517241, 0.7928735632183908, 0.7659770114942528, 0.7760919540229885, 0.8362068965517242, 0.8189655172413793, 0.8291954022988506, 0.8089655172413794, 0.6389655172413793, 0.7994252873563219, 0.8190804597701149, 0.8157471264367816, 0.8459770114942529, 0.829080459770115, 0.7857471264367817, 0.8258620689655173, 0.8462068965517242, 0.8291954022988504, 0.835632183908046, 0.7860919540229884, 0.8258620689655173, 0.8194252873563219, 0.7859770114942529, 0.7219540229885058, 0.8357471264367817, 0.8391954022988506, 0.8290804597701149, 0.822528735632184, 0.8426436781609195, 0.8493103448275863, 0.8494252873563217, 0.8425287356321839, 0.8360919540229885, 0.7454022988505746, 0.8224137931034482, 0.8427586206896553, 0.8460919540229886, 0.8393103448275863, 0.7926436781609196, 0.8428735632183908, 0.8393103448275863, 0.859425287356322, 0.8426436781609195]}, {\"categories\": [\"0\", \"1\", \"2\", \"3\", \"4\", \"5\", \"6\", \"7\", \"8\", \"9\", \"10\", \"11\", \"12\", \"13\", \"14\", \"15\", \"16\", \"17\", \"18\", \"19\", \"20\", \"21\", \"22\", \"23\", \"24\", \"25\", \"26\", \"27\", \"28\", \"29\", \"30\", \"31\", \"32\", \"33\", \"34\", \"35\", \"36\", \"37\", \"38\", \"39\", \"40\", \"41\", \"42\", \"43\", \"44\", \"45\", \"46\", \"47\", \"48\", \"52\"], \"mode\": \"lines\", \"name\": \"accuracy_max\", \"stepped\": true, \"type\": \"scatter\", \"data\": [0.8359770114942527, 0.8359770114942527, 0.8359770114942527, 0.8359770114942527, 0.8359770114942527, 0.8359770114942527, 0.8359770114942527, 0.8562068965517241, 0.8562068965517241, 0.8562068965517241, 0.8562068965517241, 0.8562068965517241, 0.8562068965517241, 0.8562068965517241, 0.8562068965517241, 0.8562068965517241, 0.8562068965517241, 0.8562068965517241, 0.8562068965517241, 0.8562068965517241, 0.8562068965517241, 0.8562068965517241, 0.8562068965517241, 0.8562068965517241, 0.8562068965517241, 0.8562068965517241, 0.8562068965517241, 0.8562068965517241, 0.8562068965517241, 0.8562068965517241, 0.8562068965517241, 0.8562068965517241, 0.8562068965517241, 0.8562068965517241, 0.8562068965517241, 0.8562068965517241, 0.8562068965517241, 0.8562068965517241, 0.8562068965517241, 0.8562068965517241, 0.8562068965517241, 0.8562068965517241, 0.8562068965517241, 0.8562068965517241, 0.8562068965517241, 0.8562068965517241, 0.8562068965517241, 0.8562068965517241, 0.859425287356322, 0.859425287356322]}], \"weighted_accuracy\": [{\"categories\": [\"0\", \"1\", \"2\", \"3\", \"4\", \"5\", \"6\", \"7\", \"8\", \"9\", \"10\", \"11\", \"12\", \"13\", \"14\", \"15\", \"16\", \"17\", \"18\", \"19\", \"20\", \"21\", \"22\", \"23\", \"24\", \"25\", \"26\", \"27\", \"28\", \"29\", \"30\", \"31\", \"32\", \"33\", \"34\", \"35\", \"36\", \"37\", \"38\", \"39\", \"40\", \"41\", \"42\", \"43\", \"44\", \"45\", \"46\", \"47\", \"48\", \"52\"], \"mode\": \"markers\", \"name\": \"weighted_accuracy\", \"stepped\": false, \"type\": \"scatter\", \"data\": [0.8541321922200625, 0.8502962163535492, 0.8548089927024307, 0.8614750838036814, 0.837852430190509, 0.8611550326048398, 0.837833383451222, 0.8931146662726961, 0.8463456029207572, 0.8227930918585225, 0.840940176347343, 0.8787233574430842, 0.8095858045180663, 0.8497031270741736, 0.8226860997929096, 0.6980167624045801, 0.8547619350416713, 0.8326838295447418, 0.8207408370333417, 0.8663413826199623, 0.8510657192933919, 0.7955156393853426, 0.8488533502854836, 0.8706909729797936, 0.8424763749695717, 0.8338725661930668, 0.8486916214081333, 0.8379861535658051, 0.859294366876831, 0.852158222434927, 0.748520392788449, 0.8351570384206835, 0.8573899130442906, 0.8306822783654727, 0.8645782230858627, 0.8711962907545827, 0.8673945124493319, 0.8704878541819012, 0.8604956512907915, 0.848180744611067, 0.8152479225362701, 0.8232963015104694, 0.8617032289395045, 0.8767827564335631, 0.8568587792669684, 0.854611188836557, 0.8660930773225152, 0.8558581029970789, 0.8808129862517283, 0.8592278404425577]}, {\"categories\": [\"0\", \"1\", \"2\", \"3\", \"4\", \"5\", \"6\", \"7\", \"8\", \"9\", \"10\", \"11\", \"12\", \"13\", \"14\", \"15\", \"16\", \"17\", \"18\", \"19\", \"20\", \"21\", \"22\", \"23\", \"24\", \"25\", \"26\", \"27\", \"28\", \"29\", \"30\", \"31\", \"32\", \"33\", \"34\", \"35\", \"36\", \"37\", \"38\", \"39\", \"40\", \"41\", \"42\", \"43\", \"44\", \"45\", \"46\", \"47\", \"48\", \"52\"], \"mode\": \"lines\", \"name\": \"weighted_accuracy_max\", \"stepped\": true, \"type\": \"scatter\", \"data\": [0.8541321922200625, 0.8541321922200625, 0.8548089927024307, 0.8614750838036814, 0.8614750838036814, 0.8614750838036814, 0.8614750838036814, 0.8931146662726961, 0.8931146662726961, 0.8931146662726961, 0.8931146662726961, 0.8931146662726961, 0.8931146662726961, 0.8931146662726961, 0.8931146662726961, 0.8931146662726961, 0.8931146662726961, 0.8931146662726961, 0.8931146662726961, 0.8931146662726961, 0.8931146662726961, 0.8931146662726961, 0.8931146662726961, 0.8931146662726961, 0.8931146662726961, 0.8931146662726961, 0.8931146662726961, 0.8931146662726961, 0.8931146662726961, 0.8931146662726961, 0.8931146662726961, 0.8931146662726961, 0.8931146662726961, 0.8931146662726961, 0.8931146662726961, 0.8931146662726961, 0.8931146662726961, 0.8931146662726961, 0.8931146662726961, 0.8931146662726961, 0.8931146662726961, 0.8931146662726961, 0.8931146662726961, 0.8931146662726961, 0.8931146662726961, 0.8931146662726961, 0.8931146662726961, 0.8931146662726961, 0.8931146662726961, 0.8931146662726961]}], \"recall_score_micro\": [{\"categories\": [\"0\", \"1\", \"2\", \"3\", \"4\", \"5\", \"6\", \"7\", \"8\", \"9\", \"10\", \"11\", \"12\", \"13\", \"14\", \"15\", \"16\", \"17\", \"18\", \"19\", \"20\", \"21\", \"22\", \"23\", \"24\", \"25\", \"26\", \"27\", \"28\", \"29\", \"30\", \"31\", \"32\", \"33\", \"34\", \"35\", \"36\", \"37\", \"38\", \"39\", \"40\", \"41\", \"42\", \"43\", \"44\", \"45\", \"46\", \"47\", \"48\", \"52\"], \"mode\": \"markers\", \"name\": \"recall_score_micro\", \"stepped\": false, \"type\": \"scatter\", \"data\": [0.8359770114942527, 0.8358620689655172, 0.8359770114942527, 0.8127586206896552, 0.8325287356321839, 0.829080459770115, 0.8191954022988506, 0.8562068965517241, 0.7928735632183908, 0.7659770114942528, 0.7760919540229885, 0.8362068965517242, 0.8189655172413793, 0.8291954022988506, 0.8089655172413794, 0.6389655172413793, 0.7994252873563219, 0.8190804597701149, 0.8157471264367816, 0.8459770114942529, 0.829080459770115, 0.7857471264367817, 0.8258620689655173, 0.8462068965517242, 0.8291954022988504, 0.835632183908046, 0.7860919540229884, 0.8258620689655173, 0.8194252873563219, 0.7859770114942529, 0.7219540229885058, 0.8357471264367817, 0.8391954022988506, 0.8290804597701149, 0.822528735632184, 0.8426436781609195, 0.8493103448275863, 0.8494252873563217, 0.8425287356321839, 0.8360919540229885, 0.7454022988505746, 0.8224137931034482, 0.8427586206896553, 0.8460919540229886, 0.8393103448275863, 0.7926436781609196, 0.8428735632183908, 0.8393103448275863, 0.859425287356322, 0.8426436781609195]}, {\"categories\": [\"0\", \"1\", \"2\", \"3\", \"4\", \"5\", \"6\", \"7\", \"8\", \"9\", \"10\", \"11\", \"12\", \"13\", \"14\", \"15\", \"16\", \"17\", \"18\", \"19\", \"20\", \"21\", \"22\", \"23\", \"24\", \"25\", \"26\", \"27\", \"28\", \"29\", \"30\", \"31\", \"32\", \"33\", \"34\", \"35\", \"36\", \"37\", \"38\", \"39\", \"40\", \"41\", \"42\", \"43\", \"44\", \"45\", \"46\", \"47\", \"48\", \"52\"], \"mode\": \"lines\", \"name\": \"recall_score_micro_max\", \"stepped\": true, \"type\": \"scatter\", \"data\": [0.8359770114942527, 0.8359770114942527, 0.8359770114942527, 0.8359770114942527, 0.8359770114942527, 0.8359770114942527, 0.8359770114942527, 0.8562068965517241, 0.8562068965517241, 0.8562068965517241, 0.8562068965517241, 0.8562068965517241, 0.8562068965517241, 0.8562068965517241, 0.8562068965517241, 0.8562068965517241, 0.8562068965517241, 0.8562068965517241, 0.8562068965517241, 0.8562068965517241, 0.8562068965517241, 0.8562068965517241, 0.8562068965517241, 0.8562068965517241, 0.8562068965517241, 0.8562068965517241, 0.8562068965517241, 0.8562068965517241, 0.8562068965517241, 0.8562068965517241, 0.8562068965517241, 0.8562068965517241, 0.8562068965517241, 0.8562068965517241, 0.8562068965517241, 0.8562068965517241, 0.8562068965517241, 0.8562068965517241, 0.8562068965517241, 0.8562068965517241, 0.8562068965517241, 0.8562068965517241, 0.8562068965517241, 0.8562068965517241, 0.8562068965517241, 0.8562068965517241, 0.8562068965517241, 0.8562068965517241, 0.859425287356322, 0.859425287356322]}], \"AUC_macro\": [{\"categories\": [\"0\", \"1\", \"2\", \"3\", \"4\", \"5\", \"6\", \"7\", \"8\", \"9\", \"10\", \"11\", \"12\", \"13\", \"14\", \"15\", \"16\", \"17\", \"18\", \"19\", \"20\", \"21\", \"22\", \"23\", \"24\", \"25\", \"26\", \"27\", \"28\", \"29\", \"30\", \"31\", \"32\", \"33\", \"34\", \"35\", \"36\", \"37\", \"38\", \"39\", \"40\", \"41\", \"42\", \"43\", \"44\", \"45\", \"46\", \"47\", \"48\", \"52\"], \"mode\": \"markers\", \"name\": \"AUC_macro\", \"stepped\": false, \"type\": \"scatter\", \"data\": [0.8840955354735103, 0.8847369443591411, 0.901993326531084, 0.8785352022458429, 0.8937874578023892, 0.8706216577896214, 0.8815161741915174, 0.8932390371515087, 0.8779373668030418, 0.7496161006793443, 0.8738962553782349, 0.8930325932585085, 0.9078538975347901, 0.8683806150202031, 0.886205335335484, 0.5203053263648802, 0.884510823749096, 0.8531648338842276, 0.8818555398982744, 0.8926710928479522, 0.9034113888008338, 0.8289005426389867, 0.86771926420685, 0.913665183325023, 0.9036728324984618, 0.8977363035388206, 0.871246677161723, 0.8957105520443621, 0.8878076177488076, 0.8840300304175018, 0.7724722939457779, 0.9048072875150106, 0.906837338020061, 0.9137252395921733, 0.8998198530196813, 0.891746039450845, 0.9043643887936795, 0.9027612445694825, 0.899523846782085, 0.8855003101737656, 0.821546281973599, 0.9069861291899051, 0.9032910666543389, 0.8999778324406756, 0.8868163018437618, 0.9066531876188055, 0.9091051607389137, 0.9074285601465235, 0.9090992965230378, 0.9195543947428959]}, {\"categories\": [\"0\", \"1\", \"2\", \"3\", \"4\", \"5\", \"6\", \"7\", \"8\", \"9\", \"10\", \"11\", \"12\", \"13\", \"14\", \"15\", \"16\", \"17\", \"18\", \"19\", \"20\", \"21\", \"22\", \"23\", \"24\", \"25\", \"26\", \"27\", \"28\", \"29\", \"30\", \"31\", \"32\", \"33\", \"34\", \"35\", \"36\", \"37\", \"38\", \"39\", \"40\", \"41\", \"42\", \"43\", \"44\", \"45\", \"46\", \"47\", \"48\", \"52\"], \"mode\": \"lines\", \"name\": \"AUC_macro_max\", \"stepped\": true, \"type\": \"scatter\", \"data\": [0.8840955354735103, 0.8847369443591411, 0.901993326531084, 0.901993326531084, 0.901993326531084, 0.901993326531084, 0.901993326531084, 0.901993326531084, 0.901993326531084, 0.901993326531084, 0.901993326531084, 0.901993326531084, 0.9078538975347901, 0.9078538975347901, 0.9078538975347901, 0.9078538975347901, 0.9078538975347901, 0.9078538975347901, 0.9078538975347901, 0.9078538975347901, 0.9078538975347901, 0.9078538975347901, 0.9078538975347901, 0.913665183325023, 0.913665183325023, 0.913665183325023, 0.913665183325023, 0.913665183325023, 0.913665183325023, 0.913665183325023, 0.913665183325023, 0.913665183325023, 0.913665183325023, 0.9137252395921733, 0.9137252395921733, 0.9137252395921733, 0.9137252395921733, 0.9137252395921733, 0.9137252395921733, 0.9137252395921733, 0.9137252395921733, 0.9137252395921733, 0.9137252395921733, 0.9137252395921733, 0.9137252395921733, 0.9137252395921733, 0.9137252395921733, 0.9137252395921733, 0.9137252395921733, 0.9195543947428959]}], \"average_precision_score_macro\": [{\"categories\": [\"0\", \"1\", \"2\", \"3\", \"4\", \"5\", \"6\", \"7\", \"8\", \"9\", \"10\", \"11\", \"12\", \"13\", \"14\", \"15\", \"16\", \"17\", \"18\", \"19\", \"20\", \"21\", \"22\", \"23\", \"24\", \"25\", \"26\", \"27\", \"28\", \"29\", \"30\", \"31\", \"32\", \"33\", \"34\", \"35\", \"36\", \"37\", \"38\", \"39\", \"40\", \"41\", \"42\", \"43\", \"44\", \"45\", \"46\", \"47\", \"48\", \"52\"], \"mode\": \"markers\", \"name\": \"average_precision_score_macro\", \"stepped\": false, \"type\": \"scatter\", \"data\": [0.8807888197525153, 0.8807340475847678, 0.8892446264174525, 0.877569887734604, 0.8883547330055649, 0.8640937275511348, 0.8850596232293324, 0.8834691414557646, 0.8730801490441973, 0.7610796181270093, 0.8638599734420189, 0.8978131089216708, 0.8993698214748127, 0.8564509530435915, 0.8665807897535853, 0.5793782772753733, 0.8784098213190678, 0.829080456925638, 0.8656064057950937, 0.88294953870567, 0.9012890590400113, 0.8263472171750396, 0.8651077366466812, 0.9139712075873689, 0.89277136795188, 0.8896305733142327, 0.8671023639082318, 0.8879193984186828, 0.8823248695625022, 0.8766563475988873, 0.7345035136687346, 0.8953880449776779, 0.9021664679361244, 0.9080801293561507, 0.8859597078596405, 0.875613066972497, 0.8990016774039853, 0.8936897819353525, 0.8892768434622994, 0.8815146342673155, 0.8157057100461953, 0.8976966601477929, 0.8998880534465415, 0.8874618268566083, 0.8834094668512993, 0.8997502782522874, 0.9042703920729199, 0.898335534732556, 0.905294792768974, 0.9145153076685943]}, {\"categories\": [\"0\", \"1\", \"2\", \"3\", \"4\", \"5\", \"6\", \"7\", \"8\", \"9\", \"10\", \"11\", \"12\", \"13\", \"14\", \"15\", \"16\", \"17\", \"18\", \"19\", \"20\", \"21\", \"22\", \"23\", \"24\", \"25\", \"26\", \"27\", \"28\", \"29\", \"30\", \"31\", \"32\", \"33\", \"34\", \"35\", \"36\", \"37\", \"38\", \"39\", \"40\", \"41\", \"42\", \"43\", \"44\", \"45\", \"46\", \"47\", \"48\", \"52\"], \"mode\": \"lines\", \"name\": \"average_precision_score_macro_max\", \"stepped\": true, \"type\": \"scatter\", \"data\": [0.8807888197525153, 0.8807888197525153, 0.8892446264174525, 0.8892446264174525, 0.8892446264174525, 0.8892446264174525, 0.8892446264174525, 0.8892446264174525, 0.8892446264174525, 0.8892446264174525, 0.8892446264174525, 0.8978131089216708, 0.8993698214748127, 0.8993698214748127, 0.8993698214748127, 0.8993698214748127, 0.8993698214748127, 0.8993698214748127, 0.8993698214748127, 0.8993698214748127, 0.9012890590400113, 0.9012890590400113, 0.9012890590400113, 0.9139712075873689, 0.9139712075873689, 0.9139712075873689, 0.9139712075873689, 0.9139712075873689, 0.9139712075873689, 0.9139712075873689, 0.9139712075873689, 0.9139712075873689, 0.9139712075873689, 0.9139712075873689, 0.9139712075873689, 0.9139712075873689, 0.9139712075873689, 0.9139712075873689, 0.9139712075873689, 0.9139712075873689, 0.9139712075873689, 0.9139712075873689, 0.9139712075873689, 0.9139712075873689, 0.9139712075873689, 0.9139712075873689, 0.9139712075873689, 0.9139712075873689, 0.9139712075873689, 0.9145153076685943]}], \"matthews_correlation\": [{\"categories\": [\"0\", \"1\", \"2\", \"3\", \"4\", \"5\", \"6\", \"7\", \"8\", \"9\", \"10\", \"11\", \"12\", \"13\", \"14\", \"15\", \"16\", \"17\", \"18\", \"19\", \"20\", \"21\", \"22\", \"23\", \"24\", \"25\", \"26\", \"27\", \"28\", \"29\", \"30\", \"31\", \"32\", \"33\", \"34\", \"35\", \"36\", \"37\", \"38\", \"39\", \"40\", \"41\", \"42\", \"43\", \"44\", \"45\", \"46\", \"47\", \"48\", \"52\"], \"mode\": \"markers\", \"name\": \"matthews_correlation\", \"stepped\": false, \"type\": \"scatter\", \"data\": [0.6231314496952846, 0.6345538749068885, 0.6252177851101012, 0.5689344703070044, 0.6299708658091475, 0.5977913397675856, 0.5925170058582278, 0.6699553582519753, 0.5116537568447234, 0.4352854456898543, 0.4699978951254402, 0.6302640188119334, 0.6247100252795013, 0.6133831995283067, 0.567840204406452, 0.10426477830980234, 0.5319019106170939, 0.5848984314919192, 0.5905659660750794, 0.646988587139857, 0.6055172924115301, 0.5254979754994289, 0.5872405661268105, 0.6393813121978347, 0.6154240270957363, 0.6430198388654011, 0.4930251663474037, 0.6118146078891744, 0.5877270857125005, 0.4868705521612653, 0.39365178471194107, 0.640844029981463, 0.6421261393433136, 0.6267643286280918, 0.584653999511396, 0.6297276660401272, 0.6627569915939044, 0.6578852037264393, 0.6415348255029194, 0.6369902859721435, 0.4018931795898445, 0.6117964579176186, 0.6366495955435909, 0.6416742422140423, 0.6265770431896936, 0.49375312275855965, 0.6443735456882408, 0.627301259349691, 0.6809301003773599, 0.6368364309070604]}, {\"categories\": [\"0\", \"1\", \"2\", \"3\", \"4\", \"5\", \"6\", \"7\", \"8\", \"9\", \"10\", \"11\", \"12\", \"13\", \"14\", \"15\", \"16\", \"17\", \"18\", \"19\", \"20\", \"21\", \"22\", \"23\", \"24\", \"25\", \"26\", \"27\", \"28\", \"29\", \"30\", \"31\", \"32\", \"33\", \"34\", \"35\", \"36\", \"37\", \"38\", \"39\", \"40\", \"41\", \"42\", \"43\", \"44\", \"45\", \"46\", \"47\", \"48\", \"52\"], \"mode\": \"lines\", \"name\": \"matthews_correlation_max\", \"stepped\": true, \"type\": \"scatter\", \"data\": [0.6231314496952846, 0.6345538749068885, 0.6345538749068885, 0.6345538749068885, 0.6345538749068885, 0.6345538749068885, 0.6345538749068885, 0.6699553582519753, 0.6699553582519753, 0.6699553582519753, 0.6699553582519753, 0.6699553582519753, 0.6699553582519753, 0.6699553582519753, 0.6699553582519753, 0.6699553582519753, 0.6699553582519753, 0.6699553582519753, 0.6699553582519753, 0.6699553582519753, 0.6699553582519753, 0.6699553582519753, 0.6699553582519753, 0.6699553582519753, 0.6699553582519753, 0.6699553582519753, 0.6699553582519753, 0.6699553582519753, 0.6699553582519753, 0.6699553582519753, 0.6699553582519753, 0.6699553582519753, 0.6699553582519753, 0.6699553582519753, 0.6699553582519753, 0.6699553582519753, 0.6699553582519753, 0.6699553582519753, 0.6699553582519753, 0.6699553582519753, 0.6699553582519753, 0.6699553582519753, 0.6699553582519753, 0.6699553582519753, 0.6699553582519753, 0.6699553582519753, 0.6699553582519753, 0.6699553582519753, 0.6809301003773599, 0.6809301003773599]}], \"average_precision_score_weighted\": [{\"categories\": [\"0\", \"1\", \"2\", \"3\", \"4\", \"5\", \"6\", \"7\", \"8\", \"9\", \"10\", \"11\", \"12\", \"13\", \"14\", \"15\", \"16\", \"17\", \"18\", \"19\", \"20\", \"21\", \"22\", \"23\", \"24\", \"25\", \"26\", \"27\", \"28\", \"29\", \"30\", \"31\", \"32\", \"33\", \"34\", \"35\", \"36\", \"37\", \"38\", \"39\", \"40\", \"41\", \"42\", \"43\", \"44\", \"45\", \"46\", \"47\", \"48\", \"52\"], \"mode\": \"markers\", \"name\": \"average_precision_score_weighted\", \"stepped\": false, \"type\": \"scatter\", \"data\": [0.9061112830231934, 0.907154018724502, 0.9163534004677091, 0.9025393679676302, 0.9158786039570715, 0.8934197559353165, 0.9063666902200417, 0.910542591068807, 0.898973661144429, 0.7960613547349917, 0.8958110802755629, 0.9174284468741712, 0.9251319320018251, 0.8917777663278861, 0.8986416537357581, 0.6358285919365991, 0.9055988717886899, 0.8732224607264667, 0.9038189669883925, 0.9083415973457256, 0.9237021477116378, 0.863509757571124, 0.8926007240954267, 0.9336550022197297, 0.9188432693254635, 0.9106753249206225, 0.8991624353381736, 0.9130638990635843, 0.9080769068941661, 0.9049099675275242, 0.787542050676616, 0.9205302515916, 0.9250361838997432, 0.9296004968593042, 0.9157172188960627, 0.89965644858053, 0.9224133805996548, 0.9192099018708004, 0.9152551865059003, 0.9070222183270994, 0.8475538021590487, 0.9223230692174107, 0.9232976120974227, 0.9124723701930181, 0.9112205335609145, 0.9224893604486336, 0.9266929144223333, 0.9250775901013982, 0.9275880547955214, 0.9347029850489654]}, {\"categories\": [\"0\", \"1\", \"2\", \"3\", \"4\", \"5\", \"6\", \"7\", \"8\", \"9\", \"10\", \"11\", \"12\", \"13\", \"14\", \"15\", \"16\", \"17\", \"18\", \"19\", \"20\", \"21\", \"22\", \"23\", \"24\", \"25\", \"26\", \"27\", \"28\", \"29\", \"30\", \"31\", \"32\", \"33\", \"34\", \"35\", \"36\", \"37\", \"38\", \"39\", \"40\", \"41\", \"42\", \"43\", \"44\", \"45\", \"46\", \"47\", \"48\", \"52\"], \"mode\": \"lines\", \"name\": \"average_precision_score_weighted_max\", \"stepped\": true, \"type\": \"scatter\", \"data\": [0.9061112830231934, 0.907154018724502, 0.9163534004677091, 0.9163534004677091, 0.9163534004677091, 0.9163534004677091, 0.9163534004677091, 0.9163534004677091, 0.9163534004677091, 0.9163534004677091, 0.9163534004677091, 0.9174284468741712, 0.9251319320018251, 0.9251319320018251, 0.9251319320018251, 0.9251319320018251, 0.9251319320018251, 0.9251319320018251, 0.9251319320018251, 0.9251319320018251, 0.9251319320018251, 0.9251319320018251, 0.9251319320018251, 0.9336550022197297, 0.9336550022197297, 0.9336550022197297, 0.9336550022197297, 0.9336550022197297, 0.9336550022197297, 0.9336550022197297, 0.9336550022197297, 0.9336550022197297, 0.9336550022197297, 0.9336550022197297, 0.9336550022197297, 0.9336550022197297, 0.9336550022197297, 0.9336550022197297, 0.9336550022197297, 0.9336550022197297, 0.9336550022197297, 0.9336550022197297, 0.9336550022197297, 0.9336550022197297, 0.9336550022197297, 0.9336550022197297, 0.9336550022197297, 0.9336550022197297, 0.9336550022197297, 0.9347029850489654]}], \"norm_macro_recall\": [{\"categories\": [\"0\", \"1\", \"2\", \"3\", \"4\", \"5\", \"6\", \"7\", \"8\", \"9\", \"10\", \"11\", \"12\", \"13\", \"14\", \"15\", \"16\", \"17\", \"18\", \"19\", \"20\", \"21\", \"22\", \"23\", \"24\", \"25\", \"26\", \"27\", \"28\", \"29\", \"30\", \"31\", \"32\", \"33\", \"34\", \"35\", \"36\", \"37\", \"38\", \"39\", \"40\", \"41\", \"42\", \"43\", \"44\", \"45\", \"46\", \"47\", \"48\", \"52\"], \"mode\": \"markers\", \"name\": \"norm_macro_recall\", \"stepped\": false, \"type\": \"scatter\", \"data\": [0.6154165791620023, 0.626049804187676, 0.6104089596520946, 0.4781347060008387, 0.6438767901307948, 0.5570882773468586, 0.5798813527560668, 0.5980210696372024, 0.42320558395329566, 0.3560714227928186, 0.35187568724181995, 0.5421678950340277, 0.6640376847916893, 0.5937535406368358, 0.5724381630954858, 0.1267612930547713, 0.4304755961048867, 0.5949686997467317, 0.6094764843597795, 0.6286741549195781, 0.590856037491621, 0.5402907606631862, 0.5803942770298607, 0.6157786453947782, 0.6149897049937096, 0.6759207199487519, 0.3687081092058208, 0.6133617467581998, 0.5126793763063786, 0.3634525708209918, 0.3777789202915061, 0.6702210087141438, 0.6170106095277721, 0.6498110254225816, 0.5112333617310734, 0.5975968272129599, 0.6418867450246168, 0.6329083900462619, 0.629106271112564, 0.6319058837805976, 0.2764628427128427, 0.6395610254225815, 0.6241962688341407, 0.5970152976314302, 0.6186253908816838, 0.38813090862862026, 0.6071861678240398, 0.6219404968283687, 0.6502200783579501, 0.6333095444474163]}, {\"categories\": [\"0\", \"1\", \"2\", \"3\", \"4\", \"5\", \"6\", \"7\", \"8\", \"9\", \"10\", \"11\", \"12\", \"13\", \"14\", \"15\", \"16\", \"17\", \"18\", \"19\", \"20\", \"21\", \"22\", \"23\", \"24\", \"25\", \"26\", \"27\", \"28\", \"29\", \"30\", \"31\", \"32\", \"33\", \"34\", \"35\", \"36\", \"37\", \"38\", \"39\", \"40\", \"41\", \"42\", \"43\", \"44\", \"45\", \"46\", \"47\", \"48\", \"52\"], \"mode\": \"lines\", \"name\": \"norm_macro_recall_max\", \"stepped\": true, \"type\": \"scatter\", \"data\": [0.6154165791620023, 0.626049804187676, 0.626049804187676, 0.626049804187676, 0.6438767901307948, 0.6438767901307948, 0.6438767901307948, 0.6438767901307948, 0.6438767901307948, 0.6438767901307948, 0.6438767901307948, 0.6438767901307948, 0.6640376847916893, 0.6640376847916893, 0.6640376847916893, 0.6640376847916893, 0.6640376847916893, 0.6640376847916893, 0.6640376847916893, 0.6640376847916893, 0.6640376847916893, 0.6640376847916893, 0.6640376847916893, 0.6640376847916893, 0.6640376847916893, 0.6759207199487519, 0.6759207199487519, 0.6759207199487519, 0.6759207199487519, 0.6759207199487519, 0.6759207199487519, 0.6759207199487519, 0.6759207199487519, 0.6759207199487519, 0.6759207199487519, 0.6759207199487519, 0.6759207199487519, 0.6759207199487519, 0.6759207199487519, 0.6759207199487519, 0.6759207199487519, 0.6759207199487519, 0.6759207199487519, 0.6759207199487519, 0.6759207199487519, 0.6759207199487519, 0.6759207199487519, 0.6759207199487519, 0.6759207199487519, 0.6759207199487519]}], \"AUC_micro\": [{\"categories\": [\"0\", \"1\", \"2\", \"3\", \"4\", \"5\", \"6\", \"7\", \"8\", \"9\", \"10\", \"11\", \"12\", \"13\", \"14\", \"15\", \"16\", \"17\", \"18\", \"19\", \"20\", \"21\", \"22\", \"23\", \"24\", \"25\", \"26\", \"27\", \"28\", \"29\", \"30\", \"31\", \"32\", \"33\", \"34\", \"35\", \"36\", \"37\", \"38\", \"39\", \"40\", \"41\", \"42\", \"43\", \"44\", \"45\", \"46\", \"47\", \"48\", \"52\"], \"mode\": \"markers\", \"name\": \"AUC_micro\", \"stepped\": false, \"type\": \"scatter\", \"data\": [0.9035422116527941, 0.9042166732725592, 0.9102576298057867, 0.8788189985467036, 0.9073493195930771, 0.8924662438895494, 0.8943414585810542, 0.908984674329502, 0.8728423834059982, 0.8096416963931828, 0.8657254591095256, 0.89741352886775, 0.9013649094992733, 0.8856163297661513, 0.893546307306117, 0.6464215880565465, 0.877945699564011, 0.8658290395032369, 0.8884781344959704, 0.9007410490157222, 0.9100705509314307, 0.851228431761131, 0.8923901440084556, 0.9202380763641169, 0.9106767076232, 0.9025032368873035, 0.8738637864975558, 0.9090100409565333, 0.8975519883736294, 0.8720276126304662, 0.7993222354340073, 0.9089458316818604, 0.9158481965913594, 0.9139242964724537, 0.9035655965120888, 0.8852693882943588, 0.9156981107147576, 0.9175304531642225, 0.913768265292641, 0.8977526753864448, 0.8287003567181925, 0.9057216276919012, 0.9150080591887964, 0.9082380763641169, 0.9052984542211654, 0.8808735632183909, 0.9216941471792838, 0.9191269652530056, 0.9218286431496896, 0.9254291187739463]}, {\"categories\": [\"0\", \"1\", \"2\", \"3\", \"4\", \"5\", \"6\", \"7\", \"8\", \"9\", \"10\", \"11\", \"12\", \"13\", \"14\", \"15\", \"16\", \"17\", \"18\", \"19\", \"20\", \"21\", \"22\", \"23\", \"24\", \"25\", \"26\", \"27\", \"28\", \"29\", \"30\", \"31\", \"32\", \"33\", \"34\", \"35\", \"36\", \"37\", \"38\", \"39\", \"40\", \"41\", \"42\", \"43\", \"44\", \"45\", \"46\", \"47\", \"48\", \"52\"], \"mode\": \"lines\", \"name\": \"AUC_micro_max\", \"stepped\": true, \"type\": \"scatter\", \"data\": [0.9035422116527941, 0.9042166732725592, 0.9102576298057867, 0.9102576298057867, 0.9102576298057867, 0.9102576298057867, 0.9102576298057867, 0.9102576298057867, 0.9102576298057867, 0.9102576298057867, 0.9102576298057867, 0.9102576298057867, 0.9102576298057867, 0.9102576298057867, 0.9102576298057867, 0.9102576298057867, 0.9102576298057867, 0.9102576298057867, 0.9102576298057867, 0.9102576298057867, 0.9102576298057867, 0.9102576298057867, 0.9102576298057867, 0.9202380763641169, 0.9202380763641169, 0.9202380763641169, 0.9202380763641169, 0.9202380763641169, 0.9202380763641169, 0.9202380763641169, 0.9202380763641169, 0.9202380763641169, 0.9202380763641169, 0.9202380763641169, 0.9202380763641169, 0.9202380763641169, 0.9202380763641169, 0.9202380763641169, 0.9202380763641169, 0.9202380763641169, 0.9202380763641169, 0.9202380763641169, 0.9202380763641169, 0.9202380763641169, 0.9202380763641169, 0.9202380763641169, 0.9216941471792838, 0.9216941471792838, 0.9218286431496896, 0.9254291187739463]}], \"log_loss\": [{\"categories\": [\"0\", \"1\", \"2\", \"3\", \"4\", \"5\", \"6\", \"7\", \"8\", \"9\", \"10\", \"11\", \"12\", \"13\", \"14\", \"15\", \"16\", \"17\", \"18\", \"19\", \"20\", \"21\", \"22\", \"23\", \"24\", \"25\", \"26\", \"27\", \"28\", \"29\", \"30\", \"31\", \"32\", \"33\", \"34\", \"35\", \"36\", \"37\", \"38\", \"39\", \"40\", \"41\", \"42\", \"43\", \"44\", \"45\", \"46\", \"47\", \"48\", \"52\"], \"mode\": \"markers\", \"name\": \"log_loss\", \"stepped\": false, \"type\": \"scatter\", \"data\": [0.4772179826627182, 0.41764279466886123, 0.37676425574615324, 0.4608851493460495, 0.3779310294463561, 0.4111258453365843, 0.3958153111730941, 0.3884275466172139, 0.46961837606611156, 1.2837639362986895, 0.47430211560769847, 0.4292418958871297, 0.4277303831107978, 0.41650208430376134, 0.4419569036156889, 0.7617709563916407, 0.4624269121907359, 0.6354736782876611, 0.5369887441204079, 0.48001321655997786, 0.37826196481990165, 0.5340523543717812, 0.4754804966263257, 0.3898630624646403, 0.38458106526641306, 0.4287350588750245, 0.4640878516000558, 0.41584300376920236, 0.43952986092447777, 0.48125478654413173, 0.5544076125398384, 0.4657798571633832, 0.3627391955373821, 0.421155307933205, 0.4341878324575381, 0.47676690596232696, 0.3569219247087082, 0.3620488009844981, 0.36696096762629066, 0.8645093324711384, 0.5297174541883428, 0.4118229268411292, 0.36094342573651195, 0.40886541196650406, 0.4190727929183815, 0.47076620572053773, 0.3638594837827819, 0.36339346567295777, 0.35246670117080126, 0.37905239810456803]}, {\"categories\": [\"0\", \"1\", \"2\", \"3\", \"4\", \"5\", \"6\", \"7\", \"8\", \"9\", \"10\", \"11\", \"12\", \"13\", \"14\", \"15\", \"16\", \"17\", \"18\", \"19\", \"20\", \"21\", \"22\", \"23\", \"24\", \"25\", \"26\", \"27\", \"28\", \"29\", \"30\", \"31\", \"32\", \"33\", \"34\", \"35\", \"36\", \"37\", \"38\", \"39\", \"40\", \"41\", \"42\", \"43\", \"44\", \"45\", \"46\", \"47\", \"48\", \"52\"], \"mode\": \"lines\", \"name\": \"log_loss_min\", \"stepped\": true, \"type\": \"scatter\", \"data\": [0.4772179826627182, 0.41764279466886123, 0.37676425574615324, 0.37676425574615324, 0.37676425574615324, 0.37676425574615324, 0.37676425574615324, 0.37676425574615324, 0.37676425574615324, 0.37676425574615324, 0.37676425574615324, 0.37676425574615324, 0.37676425574615324, 0.37676425574615324, 0.37676425574615324, 0.37676425574615324, 0.37676425574615324, 0.37676425574615324, 0.37676425574615324, 0.37676425574615324, 0.37676425574615324, 0.37676425574615324, 0.37676425574615324, 0.37676425574615324, 0.37676425574615324, 0.37676425574615324, 0.37676425574615324, 0.37676425574615324, 0.37676425574615324, 0.37676425574615324, 0.37676425574615324, 0.37676425574615324, 0.3627391955373821, 0.3627391955373821, 0.3627391955373821, 0.3627391955373821, 0.3569219247087082, 0.3569219247087082, 0.3569219247087082, 0.3569219247087082, 0.3569219247087082, 0.3569219247087082, 0.3569219247087082, 0.3569219247087082, 0.3569219247087082, 0.3569219247087082, 0.3569219247087082, 0.3569219247087082, 0.35246670117080126, 0.35246670117080126]}], \"balanced_accuracy\": [{\"categories\": [\"0\", \"1\", \"2\", \"3\", \"4\", \"5\", \"6\", \"7\", \"8\", \"9\", \"10\", \"11\", \"12\", \"13\", \"14\", \"15\", \"16\", \"17\", \"18\", \"19\", \"20\", \"21\", \"22\", \"23\", \"24\", \"25\", \"26\", \"27\", \"28\", \"29\", \"30\", \"31\", \"32\", \"33\", \"34\", \"35\", \"36\", \"37\", \"38\", \"39\", \"40\", \"41\", \"42\", \"43\", \"44\", \"45\", \"46\", \"47\", \"48\", \"52\"], \"mode\": \"markers\", \"name\": \"balanced_accuracy\", \"stepped\": false, \"type\": \"scatter\", \"data\": [0.8077082895810014, 0.8130249020938379, 0.8052044798260474, 0.7390673530004194, 0.8219383950653973, 0.7785441386734293, 0.7899406763780333, 0.7990105348186012, 0.7116027919766478, 0.6780357113964093, 0.6759378436209099, 0.7710839475170139, 0.8320188423958447, 0.7968767703184179, 0.786219081547743, 0.5513534193685796, 0.7152377980524434, 0.7974843498733659, 0.8047382421798897, 0.8143370774597891, 0.7954280187458105, 0.7701453803315932, 0.7901971385149302, 0.8078893226973891, 0.8074948524968548, 0.837960359974376, 0.6843540546029105, 0.8066808733791, 0.7563396881531893, 0.6817262854104958, 0.6888894601457531, 0.8351105043570719, 0.8085053047638858, 0.8249055127112908, 0.7556166808655367, 0.79879841360648, 0.8209433725123084, 0.816454195023131, 0.8145531355562821, 0.8159529418902988, 0.6382314213564214, 0.8197805127112907, 0.8120981344170703, 0.7985076488157151, 0.8093126954408418, 0.6940654543143101, 0.8035930839120198, 0.8109702484141843, 0.825110039178975, 0.8166547722237082]}, {\"categories\": [\"0\", \"1\", \"2\", \"3\", \"4\", \"5\", \"6\", \"7\", \"8\", \"9\", \"10\", \"11\", \"12\", \"13\", \"14\", \"15\", \"16\", \"17\", \"18\", \"19\", \"20\", \"21\", \"22\", \"23\", \"24\", \"25\", \"26\", \"27\", \"28\", \"29\", \"30\", \"31\", \"32\", \"33\", \"34\", \"35\", \"36\", \"37\", \"38\", \"39\", \"40\", \"41\", \"42\", \"43\", \"44\", \"45\", \"46\", \"47\", \"48\", \"52\"], \"mode\": \"lines\", \"name\": \"balanced_accuracy_max\", \"stepped\": true, \"type\": \"scatter\", \"data\": [0.8077082895810014, 0.8130249020938379, 0.8130249020938379, 0.8130249020938379, 0.8219383950653973, 0.8219383950653973, 0.8219383950653973, 0.8219383950653973, 0.8219383950653973, 0.8219383950653973, 0.8219383950653973, 0.8219383950653973, 0.8320188423958447, 0.8320188423958447, 0.8320188423958447, 0.8320188423958447, 0.8320188423958447, 0.8320188423958447, 0.8320188423958447, 0.8320188423958447, 0.8320188423958447, 0.8320188423958447, 0.8320188423958447, 0.8320188423958447, 0.8320188423958447, 0.837960359974376, 0.837960359974376, 0.837960359974376, 0.837960359974376, 0.837960359974376, 0.837960359974376, 0.837960359974376, 0.837960359974376, 0.837960359974376, 0.837960359974376, 0.837960359974376, 0.837960359974376, 0.837960359974376, 0.837960359974376, 0.837960359974376, 0.837960359974376, 0.837960359974376, 0.837960359974376, 0.837960359974376, 0.837960359974376, 0.837960359974376, 0.837960359974376, 0.837960359974376, 0.837960359974376, 0.837960359974376]}], \"precision_score_weighted\": [{\"categories\": [\"0\", \"1\", \"2\", \"3\", \"4\", \"5\", \"6\", \"7\", \"8\", \"9\", \"10\", \"11\", \"12\", \"13\", \"14\", \"15\", \"16\", \"17\", \"18\", \"19\", \"20\", \"21\", \"22\", \"23\", \"24\", \"25\", \"26\", \"27\", \"28\", \"29\", \"30\", \"31\", \"32\", \"33\", \"34\", \"35\", \"36\", \"37\", \"38\", \"39\", \"40\", \"41\", \"42\", \"43\", \"44\", \"45\", \"46\", \"47\", \"48\", \"52\"], \"mode\": \"markers\", \"name\": \"precision_score_weighted\", \"stepped\": false, \"type\": \"scatter\", \"data\": [0.8443308716969533, 0.8506678986628277, 0.8493506893935063, 0.8375464728757832, 0.8530521491159636, 0.8434793036798285, 0.8324497893615309, 0.8709135088391973, 0.8159182011974366, 0.7837569262377359, 0.8098499017585225, 0.8603625971396586, 0.8550494822988952, 0.847383613316946, 0.8298428372305015, 0.6261394969463244, 0.8235449176408945, 0.8277726447780894, 0.8415946404455934, 0.8575007112244745, 0.8440978123852936, 0.8057669527429647, 0.8340193772161539, 0.8547389472651842, 0.844431601609597, 0.8612429155506239, 0.8229786783246553, 0.8435082782582551, 0.8431907237671356, 0.8216576193283089, 0.7439289958385279, 0.8575122879238982, 0.8604566276866377, 0.850623797935277, 0.8408448720925732, 0.8524231132610955, 0.8626772368869335, 0.8638677967268936, 0.8554834469489642, 0.853139723285999, 0.7917155137327551, 0.8446378782062224, 0.8540940835498556, 0.8557457082577417, 0.8537342783215877, 0.8195712564962939, 0.8576888053323483, 0.8545176142087687, 0.8718747187040291, 0.854744604609672]}, {\"categories\": [\"0\", \"1\", \"2\", \"3\", \"4\", \"5\", \"6\", \"7\", \"8\", \"9\", \"10\", \"11\", \"12\", \"13\", \"14\", \"15\", \"16\", \"17\", \"18\", \"19\", \"20\", \"21\", \"22\", \"23\", \"24\", \"25\", \"26\", \"27\", \"28\", \"29\", \"30\", \"31\", \"32\", \"33\", \"34\", \"35\", \"36\", \"37\", \"38\", \"39\", \"40\", \"41\", \"42\", \"43\", \"44\", \"45\", \"46\", \"47\", \"48\", \"52\"], \"mode\": \"lines\", \"name\": \"precision_score_weighted_max\", \"stepped\": true, \"type\": \"scatter\", \"data\": [0.8443308716969533, 0.8506678986628277, 0.8506678986628277, 0.8506678986628277, 0.8530521491159636, 0.8530521491159636, 0.8530521491159636, 0.8709135088391973, 0.8709135088391973, 0.8709135088391973, 0.8709135088391973, 0.8709135088391973, 0.8709135088391973, 0.8709135088391973, 0.8709135088391973, 0.8709135088391973, 0.8709135088391973, 0.8709135088391973, 0.8709135088391973, 0.8709135088391973, 0.8709135088391973, 0.8709135088391973, 0.8709135088391973, 0.8709135088391973, 0.8709135088391973, 0.8709135088391973, 0.8709135088391973, 0.8709135088391973, 0.8709135088391973, 0.8709135088391973, 0.8709135088391973, 0.8709135088391973, 0.8709135088391973, 0.8709135088391973, 0.8709135088391973, 0.8709135088391973, 0.8709135088391973, 0.8709135088391973, 0.8709135088391973, 0.8709135088391973, 0.8709135088391973, 0.8709135088391973, 0.8709135088391973, 0.8709135088391973, 0.8709135088391973, 0.8709135088391973, 0.8709135088391973, 0.8709135088391973, 0.8718747187040291, 0.8718747187040291]}], \"f1_score_micro\": [{\"categories\": [\"0\", \"1\", \"2\", \"3\", \"4\", \"5\", \"6\", \"7\", \"8\", \"9\", \"10\", \"11\", \"12\", \"13\", \"14\", \"15\", \"16\", \"17\", \"18\", \"19\", \"20\", \"21\", \"22\", \"23\", \"24\", \"25\", \"26\", \"27\", \"28\", \"29\", \"30\", \"31\", \"32\", \"33\", \"34\", \"35\", \"36\", \"37\", \"38\", \"39\", \"40\", \"41\", \"42\", \"43\", \"44\", \"45\", \"46\", \"47\", \"48\", \"52\"], \"mode\": \"markers\", \"name\": \"f1_score_micro\", \"stepped\": false, \"type\": \"scatter\", \"data\": [0.8359770114942527, 0.8358620689655172, 0.8359770114942527, 0.8127586206896552, 0.8325287356321839, 0.829080459770115, 0.8191954022988506, 0.8562068965517241, 0.7928735632183909, 0.7659770114942528, 0.7760919540229885, 0.8362068965517242, 0.8189655172413793, 0.8291954022988506, 0.8089655172413794, 0.6389655172413793, 0.7994252873563219, 0.8190804597701151, 0.8157471264367816, 0.8459770114942529, 0.829080459770115, 0.7857471264367817, 0.8258620689655173, 0.8462068965517242, 0.8291954022988506, 0.835632183908046, 0.7860919540229884, 0.8258620689655173, 0.8194252873563219, 0.7859770114942529, 0.7219540229885058, 0.8357471264367817, 0.8391954022988506, 0.8290804597701149, 0.822528735632184, 0.8426436781609195, 0.8493103448275863, 0.8494252873563217, 0.8425287356321839, 0.8360919540229885, 0.7454022988505746, 0.8224137931034482, 0.8427586206896553, 0.8460919540229886, 0.8393103448275863, 0.7926436781609196, 0.842873563218391, 0.8393103448275863, 0.859425287356322, 0.8426436781609195]}, {\"categories\": [\"0\", \"1\", \"2\", \"3\", \"4\", \"5\", \"6\", \"7\", \"8\", \"9\", \"10\", \"11\", \"12\", \"13\", \"14\", \"15\", \"16\", \"17\", \"18\", \"19\", \"20\", \"21\", \"22\", \"23\", \"24\", \"25\", \"26\", \"27\", \"28\", \"29\", \"30\", \"31\", \"32\", \"33\", \"34\", \"35\", \"36\", \"37\", \"38\", \"39\", \"40\", \"41\", \"42\", \"43\", \"44\", \"45\", \"46\", \"47\", \"48\", \"52\"], \"mode\": \"lines\", \"name\": \"f1_score_micro_max\", \"stepped\": true, \"type\": \"scatter\", \"data\": [0.8359770114942527, 0.8359770114942527, 0.8359770114942527, 0.8359770114942527, 0.8359770114942527, 0.8359770114942527, 0.8359770114942527, 0.8562068965517241, 0.8562068965517241, 0.8562068965517241, 0.8562068965517241, 0.8562068965517241, 0.8562068965517241, 0.8562068965517241, 0.8562068965517241, 0.8562068965517241, 0.8562068965517241, 0.8562068965517241, 0.8562068965517241, 0.8562068965517241, 0.8562068965517241, 0.8562068965517241, 0.8562068965517241, 0.8562068965517241, 0.8562068965517241, 0.8562068965517241, 0.8562068965517241, 0.8562068965517241, 0.8562068965517241, 0.8562068965517241, 0.8562068965517241, 0.8562068965517241, 0.8562068965517241, 0.8562068965517241, 0.8562068965517241, 0.8562068965517241, 0.8562068965517241, 0.8562068965517241, 0.8562068965517241, 0.8562068965517241, 0.8562068965517241, 0.8562068965517241, 0.8562068965517241, 0.8562068965517241, 0.8562068965517241, 0.8562068965517241, 0.8562068965517241, 0.8562068965517241, 0.859425287356322, 0.859425287356322]}], \"average_precision_score_micro\": [{\"categories\": [\"0\", \"1\", \"2\", \"3\", \"4\", \"5\", \"6\", \"7\", \"8\", \"9\", \"10\", \"11\", \"12\", \"13\", \"14\", \"15\", \"16\", \"17\", \"18\", \"19\", \"20\", \"21\", \"22\", \"23\", \"24\", \"25\", \"26\", \"27\", \"28\", \"29\", \"30\", \"31\", \"32\", \"33\", \"34\", \"35\", \"36\", \"37\", \"38\", \"39\", \"40\", \"41\", \"42\", \"43\", \"44\", \"45\", \"46\", \"47\", \"48\", \"52\"], \"mode\": \"markers\", \"name\": \"average_precision_score_micro\", \"stepped\": false, \"type\": \"scatter\", \"data\": [0.9020054536251629, 0.9033793522124445, 0.9112821096437569, 0.882631709998903, 0.9104915329588048, 0.8915417432918631, 0.8961451142459094, 0.9114664445907534, 0.8771351583555965, 0.7964089391804331, 0.8746140218184223, 0.8973081720633983, 0.9042318000791291, 0.8893776887907162, 0.8912942963574786, 0.6466874753087125, 0.8848642864015334, 0.8594294242281804, 0.888887319803632, 0.9018748387824994, 0.9119540295414561, 0.8543729892513738, 0.8909943795091582, 0.9242982080575415, 0.9083574008992829, 0.8956126981666109, 0.8821753864044453, 0.9065713413704399, 0.9007236296767669, 0.8773238529828541, 0.7930955719479058, 0.9091750436697013, 0.9205403746937414, 0.9150413717562744, 0.9088523550199694, 0.8706482067116523, 0.9188886316010068, 0.9202713187830234, 0.9168373658041897, 0.9008630493808362, 0.8270112367140656, 0.9067926215113372, 0.9183627829426874, 0.90940320938799, 0.9077983106172924, 0.8898217110470599, 0.9244436123581657, 0.9224683411064978, 0.9241294907002235, 0.9279430163080935]}, {\"categories\": [\"0\", \"1\", \"2\", \"3\", \"4\", \"5\", \"6\", \"7\", \"8\", \"9\", \"10\", \"11\", \"12\", \"13\", \"14\", \"15\", \"16\", \"17\", \"18\", \"19\", \"20\", \"21\", \"22\", \"23\", \"24\", \"25\", \"26\", \"27\", \"28\", \"29\", \"30\", \"31\", \"32\", \"33\", \"34\", \"35\", \"36\", \"37\", \"38\", \"39\", \"40\", \"41\", \"42\", \"43\", \"44\", \"45\", \"46\", \"47\", \"48\", \"52\"], \"mode\": \"lines\", \"name\": \"average_precision_score_micro_max\", \"stepped\": true, \"type\": \"scatter\", \"data\": [0.9020054536251629, 0.9033793522124445, 0.9112821096437569, 0.9112821096437569, 0.9112821096437569, 0.9112821096437569, 0.9112821096437569, 0.9114664445907534, 0.9114664445907534, 0.9114664445907534, 0.9114664445907534, 0.9114664445907534, 0.9114664445907534, 0.9114664445907534, 0.9114664445907534, 0.9114664445907534, 0.9114664445907534, 0.9114664445907534, 0.9114664445907534, 0.9114664445907534, 0.9119540295414561, 0.9119540295414561, 0.9119540295414561, 0.9242982080575415, 0.9242982080575415, 0.9242982080575415, 0.9242982080575415, 0.9242982080575415, 0.9242982080575415, 0.9242982080575415, 0.9242982080575415, 0.9242982080575415, 0.9242982080575415, 0.9242982080575415, 0.9242982080575415, 0.9242982080575415, 0.9242982080575415, 0.9242982080575415, 0.9242982080575415, 0.9242982080575415, 0.9242982080575415, 0.9242982080575415, 0.9242982080575415, 0.9242982080575415, 0.9242982080575415, 0.9242982080575415, 0.9244436123581657, 0.9244436123581657, 0.9244436123581657, 0.9279430163080935]}], \"f1_score_macro\": [{\"categories\": [\"0\", \"1\", \"2\", \"3\", \"4\", \"5\", \"6\", \"7\", \"8\", \"9\", \"10\", \"11\", \"12\", \"13\", \"14\", \"15\", \"16\", \"17\", \"18\", \"19\", \"20\", \"21\", \"22\", \"23\", \"24\", \"25\", \"26\", \"27\", \"28\", \"29\", \"30\", \"31\", \"32\", \"33\", \"34\", \"35\", \"36\", \"37\", \"38\", \"39\", \"40\", \"41\", \"42\", \"43\", \"44\", \"45\", \"46\", \"47\", \"48\", \"52\"], \"mode\": \"markers\", \"name\": \"f1_score_macro\", \"stepped\": false, \"type\": \"scatter\", \"data\": [0.8043314151248963, 0.8078501228997539, 0.8030998234414637, 0.7532685061079929, 0.806157637620309, 0.7850330592138528, 0.7880078734768049, 0.8165406761204498, 0.7178614877189767, 0.6844538166645457, 0.6835980640595067, 0.7883159949107794, 0.7984667194352244, 0.7945353896994827, 0.7742329942514553, 0.5251633085767229, 0.7299216384479814, 0.7884450045568466, 0.7849544231786612, 0.8142843879199096, 0.792567323719354, 0.7540573498530139, 0.786966391146041, 0.8105238645474113, 0.7996947951071199, 0.8120248420226522, 0.6936535716854779, 0.7962296136209874, 0.7674764883107608, 0.6866902449933623, 0.6548300002902057, 0.8130350030659628, 0.8061935149006401, 0.805536509092118, 0.768854440839495, 0.8041088469580362, 0.8202664410375939, 0.8168237052164089, 0.8119653635981863, 0.8060872657250758, 0.638690997813619, 0.7979794477925943, 0.8097929397020825, 0.8087056050573871, 0.8021585226065836, 0.6984413870205997, 0.8088329616034619, 0.8037753788823213, 0.8283214356073418, 0.8105108405646355]}, {\"categories\": [\"0\", \"1\", \"2\", \"3\", \"4\", \"5\", \"6\", \"7\", \"8\", \"9\", \"10\", \"11\", \"12\", \"13\", \"14\", \"15\", \"16\", \"17\", \"18\", \"19\", \"20\", \"21\", \"22\", \"23\", \"24\", \"25\", \"26\", \"27\", \"28\", \"29\", \"30\", \"31\", \"32\", \"33\", \"34\", \"35\", \"36\", \"37\", \"38\", \"39\", \"40\", \"41\", \"42\", \"43\", \"44\", \"45\", \"46\", \"47\", \"48\", \"52\"], \"mode\": \"lines\", \"name\": \"f1_score_macro_max\", \"stepped\": true, \"type\": \"scatter\", \"data\": [0.8043314151248963, 0.8078501228997539, 0.8078501228997539, 0.8078501228997539, 0.8078501228997539, 0.8078501228997539, 0.8078501228997539, 0.8165406761204498, 0.8165406761204498, 0.8165406761204498, 0.8165406761204498, 0.8165406761204498, 0.8165406761204498, 0.8165406761204498, 0.8165406761204498, 0.8165406761204498, 0.8165406761204498, 0.8165406761204498, 0.8165406761204498, 0.8165406761204498, 0.8165406761204498, 0.8165406761204498, 0.8165406761204498, 0.8165406761204498, 0.8165406761204498, 0.8165406761204498, 0.8165406761204498, 0.8165406761204498, 0.8165406761204498, 0.8165406761204498, 0.8165406761204498, 0.8165406761204498, 0.8165406761204498, 0.8165406761204498, 0.8165406761204498, 0.8165406761204498, 0.8202664410375939, 0.8202664410375939, 0.8202664410375939, 0.8202664410375939, 0.8202664410375939, 0.8202664410375939, 0.8202664410375939, 0.8202664410375939, 0.8202664410375939, 0.8202664410375939, 0.8202664410375939, 0.8202664410375939, 0.8283214356073418, 0.8283214356073418]}], \"f1_score_weighted\": [{\"categories\": [\"0\", \"1\", \"2\", \"3\", \"4\", \"5\", \"6\", \"7\", \"8\", \"9\", \"10\", \"11\", \"12\", \"13\", \"14\", \"15\", \"16\", \"17\", \"18\", \"19\", \"20\", \"21\", \"22\", \"23\", \"24\", \"25\", \"26\", \"27\", \"28\", \"29\", \"30\", \"31\", \"32\", \"33\", \"34\", \"35\", \"36\", \"37\", \"38\", \"39\", \"40\", \"41\", \"42\", \"43\", \"44\", \"45\", \"46\", \"47\", \"48\", \"52\"], \"mode\": \"markers\", \"name\": \"f1_score_weighted\", \"stepped\": false, \"type\": \"scatter\", \"data\": [0.8333388901455894, 0.8342588560383983, 0.8331858773300087, 0.7948623328440771, 0.8346654646561611, 0.8225826319018082, 0.8179404572628503, 0.8470529315718223, 0.7682698148431081, 0.743922190318357, 0.7440797445045163, 0.8229270066659412, 0.825387599184427, 0.8268280523829908, 0.8102168077470706, 0.6071892452709331, 0.7773890366081155, 0.8200063856960409, 0.8197340850722836, 0.8423687340762982, 0.8269883257278681, 0.7880047249098445, 0.8239184548207108, 0.841602233679801, 0.8291922622340039, 0.84065326765121, 0.7563026505826744, 0.8255380571129576, 0.8055838442858937, 0.7506775442437094, 0.7044480873759982, 0.8405158301217159, 0.8357838287046724, 0.8329313138284238, 0.8090083135111428, 0.8369951775094995, 0.8452347862926761, 0.8447868472603334, 0.8404986271037925, 0.8325181729031504, 0.7074384694973921, 0.8267776657842891, 0.8401092804917616, 0.8392757283121313, 0.8358117561024256, 0.761269893365501, 0.8382929507599961, 0.8373293683423515, 0.8546405674085824, 0.841037371509327]}, {\"categories\": [\"0\", \"1\", \"2\", \"3\", \"4\", \"5\", \"6\", \"7\", \"8\", \"9\", \"10\", \"11\", \"12\", \"13\", \"14\", \"15\", \"16\", \"17\", \"18\", \"19\", \"20\", \"21\", \"22\", \"23\", \"24\", \"25\", \"26\", \"27\", \"28\", \"29\", \"30\", \"31\", \"32\", \"33\", \"34\", \"35\", \"36\", \"37\", \"38\", \"39\", \"40\", \"41\", \"42\", \"43\", \"44\", \"45\", \"46\", \"47\", \"48\", \"52\"], \"mode\": \"lines\", \"name\": \"f1_score_weighted_max\", \"stepped\": true, \"type\": \"scatter\", \"data\": [0.8333388901455894, 0.8342588560383983, 0.8342588560383983, 0.8342588560383983, 0.8346654646561611, 0.8346654646561611, 0.8346654646561611, 0.8470529315718223, 0.8470529315718223, 0.8470529315718223, 0.8470529315718223, 0.8470529315718223, 0.8470529315718223, 0.8470529315718223, 0.8470529315718223, 0.8470529315718223, 0.8470529315718223, 0.8470529315718223, 0.8470529315718223, 0.8470529315718223, 0.8470529315718223, 0.8470529315718223, 0.8470529315718223, 0.8470529315718223, 0.8470529315718223, 0.8470529315718223, 0.8470529315718223, 0.8470529315718223, 0.8470529315718223, 0.8470529315718223, 0.8470529315718223, 0.8470529315718223, 0.8470529315718223, 0.8470529315718223, 0.8470529315718223, 0.8470529315718223, 0.8470529315718223, 0.8470529315718223, 0.8470529315718223, 0.8470529315718223, 0.8470529315718223, 0.8470529315718223, 0.8470529315718223, 0.8470529315718223, 0.8470529315718223, 0.8470529315718223, 0.8470529315718223, 0.8470529315718223, 0.8546405674085824, 0.8546405674085824]}], \"precision_score_micro\": [{\"categories\": [\"0\", \"1\", \"2\", \"3\", \"4\", \"5\", \"6\", \"7\", \"8\", \"9\", \"10\", \"11\", \"12\", \"13\", \"14\", \"15\", \"16\", \"17\", \"18\", \"19\", \"20\", \"21\", \"22\", \"23\", \"24\", \"25\", \"26\", \"27\", \"28\", \"29\", \"30\", \"31\", \"32\", \"33\", \"34\", \"35\", \"36\", \"37\", \"38\", \"39\", \"40\", \"41\", \"42\", \"43\", \"44\", \"45\", \"46\", \"47\", \"48\", \"52\"], \"mode\": \"markers\", \"name\": \"precision_score_micro\", \"stepped\": false, \"type\": \"scatter\", \"data\": [0.8359770114942527, 0.8358620689655172, 0.8359770114942527, 0.8127586206896552, 0.8325287356321839, 0.829080459770115, 0.8191954022988506, 0.8562068965517241, 0.7928735632183908, 0.7659770114942528, 0.7760919540229885, 0.8362068965517242, 0.8189655172413793, 0.8291954022988506, 0.8089655172413794, 0.6389655172413793, 0.7994252873563219, 0.8190804597701149, 0.8157471264367816, 0.8459770114942529, 0.829080459770115, 0.7857471264367817, 0.8258620689655173, 0.8462068965517242, 0.8291954022988504, 0.835632183908046, 0.7860919540229884, 0.8258620689655173, 0.8194252873563219, 0.7859770114942529, 0.7219540229885058, 0.8357471264367817, 0.8391954022988506, 0.8290804597701149, 0.822528735632184, 0.8426436781609195, 0.8493103448275863, 0.8494252873563217, 0.8425287356321839, 0.8360919540229885, 0.7454022988505746, 0.8224137931034482, 0.8427586206896553, 0.8460919540229886, 0.8393103448275863, 0.7926436781609196, 0.8428735632183908, 0.8393103448275863, 0.859425287356322, 0.8426436781609195]}, {\"categories\": [\"0\", \"1\", \"2\", \"3\", \"4\", \"5\", \"6\", \"7\", \"8\", \"9\", \"10\", \"11\", \"12\", \"13\", \"14\", \"15\", \"16\", \"17\", \"18\", \"19\", \"20\", \"21\", \"22\", \"23\", \"24\", \"25\", \"26\", \"27\", \"28\", \"29\", \"30\", \"31\", \"32\", \"33\", \"34\", \"35\", \"36\", \"37\", \"38\", \"39\", \"40\", \"41\", \"42\", \"43\", \"44\", \"45\", \"46\", \"47\", \"48\", \"52\"], \"mode\": \"lines\", \"name\": \"precision_score_micro_max\", \"stepped\": true, \"type\": \"scatter\", \"data\": [0.8359770114942527, 0.8359770114942527, 0.8359770114942527, 0.8359770114942527, 0.8359770114942527, 0.8359770114942527, 0.8359770114942527, 0.8562068965517241, 0.8562068965517241, 0.8562068965517241, 0.8562068965517241, 0.8562068965517241, 0.8562068965517241, 0.8562068965517241, 0.8562068965517241, 0.8562068965517241, 0.8562068965517241, 0.8562068965517241, 0.8562068965517241, 0.8562068965517241, 0.8562068965517241, 0.8562068965517241, 0.8562068965517241, 0.8562068965517241, 0.8562068965517241, 0.8562068965517241, 0.8562068965517241, 0.8562068965517241, 0.8562068965517241, 0.8562068965517241, 0.8562068965517241, 0.8562068965517241, 0.8562068965517241, 0.8562068965517241, 0.8562068965517241, 0.8562068965517241, 0.8562068965517241, 0.8562068965517241, 0.8562068965517241, 0.8562068965517241, 0.8562068965517241, 0.8562068965517241, 0.8562068965517241, 0.8562068965517241, 0.8562068965517241, 0.8562068965517241, 0.8562068965517241, 0.8562068965517241, 0.859425287356322, 0.859425287356322]}], \"precision_score_macro\": [{\"categories\": [\"0\", \"1\", \"2\", \"3\", \"4\", \"5\", \"6\", \"7\", \"8\", \"9\", \"10\", \"11\", \"12\", \"13\", \"14\", \"15\", \"16\", \"17\", \"18\", \"19\", \"20\", \"21\", \"22\", \"23\", \"24\", \"25\", \"26\", \"27\", \"28\", \"29\", \"30\", \"31\", \"32\", \"33\", \"34\", \"35\", \"36\", \"37\", \"38\", \"39\", \"40\", \"41\", \"42\", \"43\", \"44\", \"45\", \"46\", \"47\", \"48\", \"52\"], \"mode\": \"markers\", \"name\": \"precision_score_macro\", \"stepped\": false, \"type\": \"scatter\", \"data\": [0.8167365852764965, 0.8232986049897815, 0.8212132126185836, 0.8415136530136531, 0.8091337142819339, 0.8223094236681193, 0.8041036829938433, 0.8792810117037806, 0.817484327266936, 0.7703082497212932, 0.8213162393162392, 0.8700070436809568, 0.7950071692583301, 0.8184480630925138, 0.7828244979135072, 0.5543597592139792, 0.8300462962962964, 0.7881655179615705, 0.787175799346852, 0.8340552732291864, 0.8119595018508063, 0.7567203871008219, 0.7987141602358994, 0.833294356609574, 0.8090574340071918, 0.8069691523534571, 0.8425080066804206, 0.8065901513328656, 0.8413920918051353, 0.8399789377289377, 0.6959770267235942, 0.8071119767203527, 0.8380014691427735, 0.8029284385205437, 0.8368872053872053, 0.8330748808780845, 0.8441179788526336, 0.8443122773078017, 0.8285077561327562, 0.8229728818092663, 0.7990521978021979, 0.7933803134318008, 0.8259849347512391, 0.8461347662634848, 0.819331892957852, 0.828163640707119, 0.8455744429862078, 0.8182302998933434, 0.8596664935941252, 0.8214138669301713]}, {\"categories\": [\"0\", \"1\", \"2\", \"3\", \"4\", \"5\", \"6\", \"7\", \"8\", \"9\", \"10\", \"11\", \"12\", \"13\", \"14\", \"15\", \"16\", \"17\", \"18\", \"19\", \"20\", \"21\", \"22\", \"23\", \"24\", \"25\", \"26\", \"27\", \"28\", \"29\", \"30\", \"31\", \"32\", \"33\", \"34\", \"35\", \"36\", \"37\", \"38\", \"39\", \"40\", \"41\", \"42\", \"43\", \"44\", \"45\", \"46\", \"47\", \"48\", \"52\"], \"mode\": \"lines\", \"name\": \"precision_score_macro_max\", \"stepped\": true, \"type\": \"scatter\", \"data\": [0.8167365852764965, 0.8232986049897815, 0.8232986049897815, 0.8415136530136531, 0.8415136530136531, 0.8415136530136531, 0.8415136530136531, 0.8792810117037806, 0.8792810117037806, 0.8792810117037806, 0.8792810117037806, 0.8792810117037806, 0.8792810117037806, 0.8792810117037806, 0.8792810117037806, 0.8792810117037806, 0.8792810117037806, 0.8792810117037806, 0.8792810117037806, 0.8792810117037806, 0.8792810117037806, 0.8792810117037806, 0.8792810117037806, 0.8792810117037806, 0.8792810117037806, 0.8792810117037806, 0.8792810117037806, 0.8792810117037806, 0.8792810117037806, 0.8792810117037806, 0.8792810117037806, 0.8792810117037806, 0.8792810117037806, 0.8792810117037806, 0.8792810117037806, 0.8792810117037806, 0.8792810117037806, 0.8792810117037806, 0.8792810117037806, 0.8792810117037806, 0.8792810117037806, 0.8792810117037806, 0.8792810117037806, 0.8792810117037806, 0.8792810117037806, 0.8792810117037806, 0.8792810117037806, 0.8792810117037806, 0.8792810117037806, 0.8792810117037806]}]}, \"metricName\": null, \"primaryMetricName\": \"AUC_weighted\", \"showLegend\": false}, \"run_metrics\": [{\"name\": \"experiment_status\", \"run_id\": \"AutoML_19bb6a27-9e6e-4ada-90a3-44f64b282aa5\", \"categories\": [0, 1, 2, 3, 4, 5, 6, 7, 8, 9, 10, 11, 12, 13], \"series\": [{\"data\": [\"DatasetEvaluation\", \"FeaturesGeneration\", \"DatasetFeaturization\", \"DatasetFeaturizationCompleted\", \"DatasetCrossValidationSplit\", \"ModelSelection\", \"BestRunExplainModel\", \"ModelExplanationDataSetSetup\", \"PickSurrogateModel\", \"EngineeredFeatureExplanations\", \"EngineeredFeatureExplanations\", \"RawFeaturesExplanations\", \"RawFeaturesExplanations\", \"BestRunExplainModel\"]}]}, {\"name\": \"experiment_status_description\", \"run_id\": \"AutoML_19bb6a27-9e6e-4ada-90a3-44f64b282aa5\", \"categories\": [0, 1, 2, 3, 4, 5, 6, 7, 8, 9, 10, 11, 12, 13], \"series\": [{\"data\": [\"Gathering dataset statistics.\", \"Generating features for the dataset.\", \"Beginning to fit featurizers and featurize the dataset.\", \"Completed fit featurizers and featurizing the dataset.\", \"Generating individually featurized CV splits.\", \"Beginning model selection.\", \"Best run model explanations started\", \"Model explanations data setup completed\", \"Choosing LightGBM as the surrogate model for explanations\", \"Computation of engineered features started\", \"Computation of engineered features completed\", \"Computation of raw features started\", \"Computation of raw features completed\", \"Best run model explanations completed\"]}]}, {\"name\": \"precision_score_micro\", \"run_id\": \"AutoML_19bb6a27-9e6e-4ada-90a3-44f64b282aa5\", \"categories\": [0], \"series\": [{\"data\": [0.8426436781609195]}]}, {\"name\": \"balanced_accuracy\", \"run_id\": \"AutoML_19bb6a27-9e6e-4ada-90a3-44f64b282aa5\", \"categories\": [0], \"series\": [{\"data\": [0.8166547722237082]}]}, {\"name\": \"average_precision_score_macro\", \"run_id\": \"AutoML_19bb6a27-9e6e-4ada-90a3-44f64b282aa5\", \"categories\": [0], \"series\": [{\"data\": [0.9145153076685943]}]}, {\"name\": \"recall_score_micro\", \"run_id\": \"AutoML_19bb6a27-9e6e-4ada-90a3-44f64b282aa5\", \"categories\": [0], \"series\": [{\"data\": [0.8426436781609195]}]}, {\"name\": \"weighted_accuracy\", \"run_id\": \"AutoML_19bb6a27-9e6e-4ada-90a3-44f64b282aa5\", \"categories\": [0], \"series\": [{\"data\": [0.8592278404425577]}]}, {\"name\": \"norm_macro_recall\", \"run_id\": \"AutoML_19bb6a27-9e6e-4ada-90a3-44f64b282aa5\", \"categories\": [0], \"series\": [{\"data\": [0.6333095444474163]}]}, {\"name\": \"accuracy\", \"run_id\": \"AutoML_19bb6a27-9e6e-4ada-90a3-44f64b282aa5\", \"categories\": [0], \"series\": [{\"data\": [0.8426436781609195]}]}, {\"name\": \"average_precision_score_micro\", \"run_id\": \"AutoML_19bb6a27-9e6e-4ada-90a3-44f64b282aa5\", \"categories\": [0], \"series\": [{\"data\": [0.9279430163080935]}]}, {\"name\": \"average_precision_score_weighted\", \"run_id\": \"AutoML_19bb6a27-9e6e-4ada-90a3-44f64b282aa5\", \"categories\": [0], \"series\": [{\"data\": [0.9347029850489654]}]}, {\"name\": \"recall_score_weighted\", \"run_id\": \"AutoML_19bb6a27-9e6e-4ada-90a3-44f64b282aa5\", \"categories\": [0], \"series\": [{\"data\": [0.8426436781609195]}]}, {\"name\": \"f1_score_micro\", \"run_id\": \"AutoML_19bb6a27-9e6e-4ada-90a3-44f64b282aa5\", \"categories\": [0], \"series\": [{\"data\": [0.8426436781609195]}]}, {\"name\": \"matthews_correlation\", \"run_id\": \"AutoML_19bb6a27-9e6e-4ada-90a3-44f64b282aa5\", \"categories\": [0], \"series\": [{\"data\": [0.6368364309070604]}]}, {\"name\": \"recall_score_macro\", \"run_id\": \"AutoML_19bb6a27-9e6e-4ada-90a3-44f64b282aa5\", \"categories\": [0], \"series\": [{\"data\": [0.8166547722237082]}]}, {\"name\": \"precision_score_weighted\", \"run_id\": \"AutoML_19bb6a27-9e6e-4ada-90a3-44f64b282aa5\", \"categories\": [0], \"series\": [{\"data\": [0.854744604609672]}]}, {\"name\": \"f1_score_macro\", \"run_id\": \"AutoML_19bb6a27-9e6e-4ada-90a3-44f64b282aa5\", \"categories\": [0], \"series\": [{\"data\": [0.8105108405646355]}]}, {\"name\": \"AUC_weighted\", \"run_id\": \"AutoML_19bb6a27-9e6e-4ada-90a3-44f64b282aa5\", \"categories\": [0], \"series\": [{\"data\": [0.9195543947428959]}]}, {\"name\": \"AUC_macro\", \"run_id\": \"AutoML_19bb6a27-9e6e-4ada-90a3-44f64b282aa5\", \"categories\": [0], \"series\": [{\"data\": [0.9195543947428959]}]}, {\"name\": \"f1_score_weighted\", \"run_id\": \"AutoML_19bb6a27-9e6e-4ada-90a3-44f64b282aa5\", \"categories\": [0], \"series\": [{\"data\": [0.841037371509327]}]}, {\"name\": \"log_loss\", \"run_id\": \"AutoML_19bb6a27-9e6e-4ada-90a3-44f64b282aa5\", \"categories\": [0], \"series\": [{\"data\": [0.37905239810456803]}]}, {\"name\": \"precision_score_macro\", \"run_id\": \"AutoML_19bb6a27-9e6e-4ada-90a3-44f64b282aa5\", \"categories\": [0], \"series\": [{\"data\": [0.8214138669301713]}]}, {\"name\": \"AUC_micro\", \"run_id\": \"AutoML_19bb6a27-9e6e-4ada-90a3-44f64b282aa5\", \"categories\": [0], \"series\": [{\"data\": [0.9254291187739463]}]}], \"run_logs\": \"\\nRun is completed.\", \"graph\": {}, \"widget_settings\": {\"childWidgetDisplay\": \"popup\", \"send_telemetry\": false, \"log_level\": \"INFO\", \"sdk_version\": \"1.19.0\"}, \"loading\": false}"
          },
          "metadata": {}
        }
      ],
      "execution_count": 10,
      "metadata": {
        "gather": {
          "logged": 1610868834485
        },
        "jupyter": {
          "outputs_hidden": false,
          "source_hidden": false
        },
        "nteract": {
          "transient": {
            "deleting": false
          }
        }
      }
    },
    {
      "cell_type": "markdown",
      "source": [
        "## Best Model\n",
        "\n",
        "TODO: In the cell below, get the best model from the automl experiments and display all the properties of the model.\n",
        "\n"
      ],
      "metadata": {}
    },
    {
      "cell_type": "code",
      "source": [
        "# Retrieve best model from AutoML Run\n",
        "\n",
        "# importing required dependencies\n",
        "import joblib\n",
        "\n",
        "best_automl_run, best_automl_fitted_model = remote_run.get_output()\n",
        "print(best_automl_run)\n",
        "print(best_automl_fitted_model)"
      ],
      "outputs": [
        {
          "output_type": "stream",
          "name": "stdout",
          "text": [
            "Run(Experiment: capstone-automl-experiment,\n",
            "Id: AutoML_19bb6a27-9e6e-4ada-90a3-44f64b282aa5_52,\n",
            "Type: azureml.scriptrun,\n",
            "Status: Completed)\n",
            "Pipeline(memory=None,\n",
            "         steps=[('datatransformer',\n",
            "                 DataTransformer(enable_dnn=None, enable_feature_sweeping=None,\n",
            "                                 feature_sweeping_config=None,\n",
            "                                 feature_sweeping_timeout=None,\n",
            "                                 featurization_config=None, force_text_dnn=None,\n",
            "                                 is_cross_validation=None,\n",
            "                                 is_onnx_compatible=None, logger=None,\n",
            "                                 observer=None, task=None, working_dir=None)),\n",
            "                ('prefittedsoftvotingclassifier',...\n",
            "                                                                                                  min_samples_leaf=0.01,\n",
            "                                                                                                  min_samples_split=0.15052631578947367,\n",
            "                                                                                                  min_weight_fraction_leaf=0.0,\n",
            "                                                                                                  n_estimators=10,\n",
            "                                                                                                  n_jobs=1,\n",
            "                                                                                                  oob_score=True,\n",
            "                                                                                                  random_state=None,\n",
            "                                                                                                  verbose=0,\n",
            "                                                                                                  warm_start=False))],\n",
            "                                                                     verbose=False))],\n",
            "                                               flatten_transform=None,\n",
            "                                               weights=[0.16666666666666666,\n",
            "                                                        0.25,\n",
            "                                                        0.08333333333333333,\n",
            "                                                        0.08333333333333333,\n",
            "                                                        0.16666666666666666,\n",
            "                                                        0.16666666666666666,\n",
            "                                                        0.08333333333333333]))],\n",
            "         verbose=False)\n"
          ]
        }
      ],
      "execution_count": 11,
      "metadata": {
        "gather": {
          "logged": 1610868946612
        },
        "jupyter": {
          "outputs_hidden": false,
          "source_hidden": false
        },
        "nteract": {
          "transient": {
            "deleting": false
          }
        }
      }
    },
    {
      "cell_type": "code",
      "source": [
        "#TODO: Save the best model\n",
        "joblib.dump(best_automl_fitted_model,'best_automl_model.pkl')"
      ],
      "outputs": [
        {
          "output_type": "execute_result",
          "execution_count": 12,
          "data": {
            "text/plain": "['best_automl_model.pkl']"
          },
          "metadata": {}
        }
      ],
      "execution_count": 12,
      "metadata": {
        "gather": {
          "logged": 1610868966185
        },
        "jupyter": {
          "outputs_hidden": false,
          "source_hidden": false
        },
        "nteract": {
          "transient": {
            "deleting": false
          }
        }
      }
    },
    {
      "cell_type": "code",
      "source": [
        "# getting the details of the best model produced by automl\n",
        "best_automl_run.get_tags()"
      ],
      "outputs": [
        {
          "output_type": "execute_result",
          "execution_count": 13,
          "data": {
            "text/plain": "{'_aml_system_azureml.automlComponent': 'AutoML',\n '_aml_system_ComputeTargetStatus': '{\"AllocationState\":\"steady\",\"PreparingNodeCount\":0,\"RunningNodeCount\":3,\"CurrentNodeCount\":4}',\n 'ensembled_iterations': '[33, 23, 46, 48, 12, 20, 7]',\n 'ensembled_algorithms': \"['RandomForest', 'RandomForest', 'GradientBoosting', 'GradientBoosting', 'RandomForest', 'RandomForest', 'ExtremeRandomTrees']\",\n 'ensemble_weights': '[0.16666666666666666, 0.25, 0.08333333333333333, 0.08333333333333333, 0.16666666666666666, 0.16666666666666666, 0.08333333333333333]',\n 'best_individual_pipeline_score': '0.9137252395921733',\n 'best_individual_iteration': '33',\n '_aml_system_automl_is_child_run_end_telemetry_event_logged': 'True'}"
          },
          "metadata": {}
        }
      ],
      "execution_count": 13,
      "metadata": {
        "gather": {
          "logged": 1610868971395
        }
      }
    },
    {
      "cell_type": "code",
      "source": [
        "from pprint import pprint\n",
        "\n",
        "def print_model(model,prefix=\"\"):\n",
        "    for step in model.steps:\n",
        "        print(prefix+step[0])\n",
        "        if hasattr(step[1],'estimators') and hasattr(step[1],'weights'):\n",
        "            pprint({'estimators':list(e[0] for e in step[1].estimators), 'weights':step[1].weights})\n",
        "            print()\n",
        "            for estimator in step[1].estimators:\n",
        "                print_model(estimator[1],estimator[0]+'-')\n",
        "        else:\n",
        "            pprint(step[1].get_params())\n",
        "            print()\n",
        "\n",
        "print_model(best_automl_fitted_model)"
      ],
      "outputs": [
        {
          "output_type": "stream",
          "name": "stdout",
          "text": [
            "datatransformer\n",
            "{'enable_dnn': None,\n",
            " 'enable_feature_sweeping': None,\n",
            " 'feature_sweeping_config': None,\n",
            " 'feature_sweeping_timeout': None,\n",
            " 'featurization_config': None,\n",
            " 'force_text_dnn': None,\n",
            " 'is_cross_validation': None,\n",
            " 'is_onnx_compatible': None,\n",
            " 'logger': None,\n",
            " 'observer': None,\n",
            " 'task': None,\n",
            " 'working_dir': None}\n",
            "\n",
            "prefittedsoftvotingclassifier\n",
            "{'estimators': ['33', '23', '46', '48', '12', '20', '7'],\n",
            " 'weights': [0.16666666666666666,\n",
            "             0.25,\n",
            "             0.08333333333333333,\n",
            "             0.08333333333333333,\n",
            "             0.16666666666666666,\n",
            "             0.16666666666666666,\n",
            "             0.08333333333333333]}\n",
            "\n",
            "33-minmaxscaler\n",
            "{'copy': True, 'feature_range': (0, 1)}\n",
            "\n",
            "33-randomforestclassifier\n",
            "{'bootstrap': True,\n",
            " 'ccp_alpha': 0.0,\n",
            " 'class_weight': 'balanced',\n",
            " 'criterion': 'entropy',\n",
            " 'max_depth': None,\n",
            " 'max_features': 0.3,\n",
            " 'max_leaf_nodes': None,\n",
            " 'max_samples': None,\n",
            " 'min_impurity_decrease': 0.0,\n",
            " 'min_impurity_split': None,\n",
            " 'min_samples_leaf': 0.01,\n",
            " 'min_samples_split': 0.19736842105263158,\n",
            " 'min_weight_fraction_leaf': 0.0,\n",
            " 'n_estimators': 400,\n",
            " 'n_jobs': 1,\n",
            " 'oob_score': True,\n",
            " 'random_state': None,\n",
            " 'verbose': 0,\n",
            " 'warm_start': False}\n",
            "\n",
            "23-minmaxscaler\n",
            "{'copy': True, 'feature_range': (0, 1)}\n",
            "\n",
            "23-randomforestclassifier\n",
            "{'bootstrap': False,\n",
            " 'ccp_alpha': 0.0,\n",
            " 'class_weight': None,\n",
            " 'criterion': 'gini',\n",
            " 'max_depth': None,\n",
            " 'max_features': 'sqrt',\n",
            " 'max_leaf_nodes': None,\n",
            " 'max_samples': None,\n",
            " 'min_impurity_decrease': 0.0,\n",
            " 'min_impurity_split': None,\n",
            " 'min_samples_leaf': 0.01,\n",
            " 'min_samples_split': 0.2442105263157895,\n",
            " 'min_weight_fraction_leaf': 0.0,\n",
            " 'n_estimators': 100,\n",
            " 'n_jobs': 1,\n",
            " 'oob_score': False,\n",
            " 'random_state': None,\n",
            " 'verbose': 0,\n",
            " 'warm_start': False}\n",
            "\n",
            "46-robustscaler\n",
            "{'copy': True,\n",
            " 'quantile_range': [25, 75],\n",
            " 'with_centering': True,\n",
            " 'with_scaling': True}\n",
            "\n",
            "46-gradientboostingclassifier\n",
            "{'ccp_alpha': 0.0,\n",
            " 'criterion': 'friedman_mse',\n",
            " 'init': None,\n",
            " 'learning_rate': 0.046415888336127774,\n",
            " 'loss': 'deviance',\n",
            " 'max_depth': 1,\n",
            " 'max_features': 0.5,\n",
            " 'max_leaf_nodes': None,\n",
            " 'min_impurity_decrease': 0.0,\n",
            " 'min_impurity_split': None,\n",
            " 'min_samples_leaf': 0.1131578947368421,\n",
            " 'min_samples_split': 0.2442105263157895,\n",
            " 'min_weight_fraction_leaf': 0.0,\n",
            " 'n_estimators': 400,\n",
            " 'n_iter_no_change': None,\n",
            " 'presort': 'deprecated',\n",
            " 'random_state': None,\n",
            " 'subsample': 0.8578947368421053,\n",
            " 'tol': 0.0001,\n",
            " 'validation_fraction': 0.1,\n",
            " 'verbose': 0,\n",
            " 'warm_start': False}\n",
            "\n",
            "48-standardscalerwrapper\n",
            "{'class_name': 'StandardScaler',\n",
            " 'copy': True,\n",
            " 'module_name': 'sklearn.preprocessing._data',\n",
            " 'with_mean': True,\n",
            " 'with_std': False}\n",
            "\n",
            "48-gradientboostingclassifier\n",
            "{'ccp_alpha': 0.0,\n",
            " 'criterion': 'mse',\n",
            " 'init': None,\n",
            " 'learning_rate': 0.021544346900318822,\n",
            " 'loss': 'deviance',\n",
            " 'max_depth': 8,\n",
            " 'max_features': 0.5,\n",
            " 'max_leaf_nodes': None,\n",
            " 'min_impurity_decrease': 0.0,\n",
            " 'min_impurity_split': None,\n",
            " 'min_samples_leaf': 0.01,\n",
            " 'min_samples_split': 0.38473684210526315,\n",
            " 'min_weight_fraction_leaf': 0.0,\n",
            " 'n_estimators': 400,\n",
            " 'n_iter_no_change': None,\n",
            " 'presort': 'deprecated',\n",
            " 'random_state': None,\n",
            " 'subsample': 0.43157894736842106,\n",
            " 'tol': 0.0001,\n",
            " 'validation_fraction': 0.1,\n",
            " 'verbose': 0,\n",
            " 'warm_start': False}\n",
            "\n",
            "12-standardscalerwrapper\n",
            "{'class_name': 'StandardScaler',\n",
            " 'copy': True,\n",
            " 'module_name': 'sklearn.preprocessing._data',\n",
            " 'with_mean': True,\n",
            " 'with_std': False}\n",
            "\n",
            "12-randomforestclassifier\n",
            "{'bootstrap': False,\n",
            " 'ccp_alpha': 0.0,\n",
            " 'class_weight': 'balanced',\n",
            " 'criterion': 'entropy',\n",
            " 'max_depth': None,\n",
            " 'max_features': 'log2',\n",
            " 'max_leaf_nodes': None,\n",
            " 'max_samples': None,\n",
            " 'min_impurity_decrease': 0.0,\n",
            " 'min_impurity_split': None,\n",
            " 'min_samples_leaf': 0.01,\n",
            " 'min_samples_split': 0.29105263157894734,\n",
            " 'min_weight_fraction_leaf': 0.0,\n",
            " 'n_estimators': 25,\n",
            " 'n_jobs': 1,\n",
            " 'oob_score': False,\n",
            " 'random_state': None,\n",
            " 'verbose': 0,\n",
            " 'warm_start': False}\n",
            "\n",
            "20-maxabsscaler\n",
            "{'copy': True}\n",
            "\n",
            "20-randomforestclassifier\n",
            "{'bootstrap': True,\n",
            " 'ccp_alpha': 0.0,\n",
            " 'class_weight': None,\n",
            " 'criterion': 'gini',\n",
            " 'max_depth': None,\n",
            " 'max_features': 'log2',\n",
            " 'max_leaf_nodes': None,\n",
            " 'max_samples': None,\n",
            " 'min_impurity_decrease': 0.0,\n",
            " 'min_impurity_split': None,\n",
            " 'min_samples_leaf': 0.01,\n",
            " 'min_samples_split': 0.01,\n",
            " 'min_weight_fraction_leaf': 0.0,\n",
            " 'n_estimators': 10,\n",
            " 'n_jobs': 1,\n",
            " 'oob_score': False,\n",
            " 'random_state': None,\n",
            " 'verbose': 0,\n",
            " 'warm_start': False}\n",
            "\n",
            "7-minmaxscaler\n",
            "{'copy': True, 'feature_range': (0, 1)}\n",
            "\n",
            "7-extratreesclassifier\n",
            "{'bootstrap': True,\n",
            " 'ccp_alpha': 0.0,\n",
            " 'class_weight': None,\n",
            " 'criterion': 'gini',\n",
            " 'max_depth': None,\n",
            " 'max_features': 0.9,\n",
            " 'max_leaf_nodes': None,\n",
            " 'max_samples': None,\n",
            " 'min_impurity_decrease': 0.0,\n",
            " 'min_impurity_split': None,\n",
            " 'min_samples_leaf': 0.01,\n",
            " 'min_samples_split': 0.15052631578947367,\n",
            " 'min_weight_fraction_leaf': 0.0,\n",
            " 'n_estimators': 10,\n",
            " 'n_jobs': 1,\n",
            " 'oob_score': True,\n",
            " 'random_state': None,\n",
            " 'verbose': 0,\n",
            " 'warm_start': False}\n",
            "\n"
          ]
        }
      ],
      "execution_count": 14,
      "metadata": {
        "gather": {
          "logged": 1610868994344
        }
      }
    },
    {
      "cell_type": "code",
      "source": [
        "# retrieving the best model as ONNX model\n",
        "best_auto_run, best_onnx_model = remote_run.get_output(return_onnx_model=True)"
      ],
      "outputs": [],
      "execution_count": 15,
      "metadata": {
        "gather": {
          "logged": 1610869118916
        }
      }
    },
    {
      "cell_type": "code",
      "source": [
        "# importing required dependencies\n",
        "from azureml.automl.runtime.onnx_convert import OnnxConverter\n",
        "\n",
        "# saving the best model as onnx_model\n",
        "onnx_fl_path = \"./best_model.onnx\"\n",
        "OnnxConverter.save_onnx_model(best_onnx_model, onnx_fl_path)"
      ],
      "outputs": [],
      "execution_count": 16,
      "metadata": {
        "gather": {
          "logged": 1610869141977
        }
      }
    },
    {
      "cell_type": "markdown",
      "source": [
        "## Model Deployment\n",
        "\n",
        "Remember you have to deploy only one of the two models you trained.. Perform the steps in the rest of this notebook only if you wish to deploy this model.\n",
        "\n",
        "TODO: In the cell below, register the model, create an inference config and deploy the model as a web service."
      ],
      "metadata": {}
    },
    {
      "cell_type": "code",
      "source": [
        "# registering the best automl model\n",
        "\n",
        "description = 'heart failure predictions'\n",
        "tags = None\n",
        "\n",
        "model = remote_run.register_model(description = description, tags = tags)\n",
        "\n",
        "print(remote_run.model_id)\n",
        "\n",
        "# importing required dependencies\n",
        "from azureml.core.model import InferenceConfig\n",
        "from azureml.core.webservice import AciWebservice\n",
        "from azureml.core.webservice import Webservice\n",
        "from azureml.core.model import Model\n",
        "from azureml.core.environment import Environment\n",
        "\n",
        "# loading a curated environment from workspace\n",
        "\n",
        "env = Environment.get(ws, \"AzureML-AutoML\")\n",
        "\n",
        "# specifying scikit-learn as dependency\n",
        "for pip_package in [\"scikit-learn\"]:\n",
        "    env.python.conda_dependencies.add_pip_package(pip_package)\n",
        "\n",
        "# creating an inference config\n",
        "inference_config = InferenceConfig(entry_script='entry_script.py', environment=env)\n",
        "\n",
        "aciconfig = AciWebservice.deploy_configuration(cpu_cores = 1, memory_gb = 1, enable_app_insights = True)\n",
        "\n",
        "# naming the service to be deployed\n",
        "aci_service_name = 'automl-heart-failure-predictions'\n",
        "print(aci_service_name)\n",
        "\n",
        "# deploying the model\n",
        "aci_service = Model.deploy(ws, aci_service_name, [model], inference_config, aciconfig)\n",
        "aci_service.wait_for_deployment(show_output = True)\n",
        "print(aci_service.state)"
      ],
      "outputs": [
        {
          "output_type": "stream",
          "name": "stdout",
          "text": [
            "AutoML19bb6a27952\n",
            "automl-heart-failure-predictions\n",
            "Tips: You can try get_logs(): https://aka.ms/debugimage#dockerlog or local deployment: https://aka.ms/debugimage#debug-locally to debug if deployment takes longer than 10 minutes.\n",
            "Running...............................................\n",
            "Succeeded\n",
            "ACI service creation operation finished, operation \"Succeeded\"\n",
            "Healthy\n"
          ]
        }
      ],
      "execution_count": 21,
      "metadata": {
        "gather": {
          "logged": 1610870160746
        },
        "jupyter": {
          "outputs_hidden": false,
          "source_hidden": false
        },
        "nteract": {
          "transient": {
            "deleting": false
          }
        }
      }
    },
    {
      "cell_type": "markdown",
      "source": [
        "TODO: In the cell below, send a request to the web service you deployed to test it."
      ],
      "metadata": {
        "collapsed": true,
        "gather": {
          "logged": 1598431657736
        },
        "jupyter": {
          "outputs_hidden": false,
          "source_hidden": false
        },
        "nteract": {
          "transient": {
            "deleting": false
          }
        }
      }
    },
    {
      "cell_type": "code",
      "source": [
        "# importing required dependencies\n",
        "from numpy import array\n",
        "import json\n",
        "import requests\n",
        "\n",
        "# creating a test sample\n",
        "data = {\"data\": [{\"age\":60.000000,\"anaemia\":0.000000,\"creatinine_phosphokinase\":250.000000,\"diabetes\":0.000000,\"ejection_fraction\":38.000000,\"high_blood_pressure\":0.000000,\"platelets\":262000.000000,\"serum_creatinine\":1.10000,\"serum_sodium\":137.000000,\"sex\":1.000000,\"smoking\":0.00000,\"time\":115.000000}]}\n",
        "td = json.dumps(data)\n",
        "headers = {'Content-Type': 'application/json'}\n",
        "\n",
        "# sending request to test the deployed webservice\n",
        "resp = requests.post(aci_service.scoring_uri, td, headers=headers)\n",
        "print(resp.json())\n",
        "y_pred = (json.loads(resp.text))\n",
        "print(y_pred)"
      ],
      "outputs": [
        {
          "output_type": "stream",
          "name": "stdout",
          "text": [
            "[0]\n",
            "[0]\n"
          ]
        }
      ],
      "execution_count": 22,
      "metadata": {
        "gather": {
          "logged": 1610870221080
        },
        "jupyter": {
          "outputs_hidden": false,
          "source_hidden": false
        },
        "nteract": {
          "transient": {
            "deleting": false
          }
        }
      }
    },
    {
      "cell_type": "markdown",
      "source": [
        "TODO: In the cell below, print the logs of the web service and delete the service"
      ],
      "metadata": {
        "collapsed": true,
        "gather": {
          "logged": 1598432765711
        },
        "jupyter": {
          "outputs_hidden": false,
          "source_hidden": false
        },
        "nteract": {
          "transient": {
            "deleting": false
          }
        }
      }
    },
    {
      "cell_type": "code",
      "source": [
        "# printing the logs of deployed web service\n",
        "dep_logs = aci_service.get_logs()\n",
        "for l in dep_logs.split('\\n'):\n",
        "    print(l)"
      ],
      "outputs": [
        {
          "output_type": "stream",
          "name": "stdout",
          "text": [
            "2021-01-17T07:55:38,080444900+00:00 - iot-server/run \n",
            "2021-01-17T07:55:38,085328100+00:00 - gunicorn/run \n",
            "2021-01-17T07:55:38,084755800+00:00 - rsyslog/run \n",
            "2021-01-17T07:55:38,121335800+00:00 - nginx/run \n",
            "/usr/sbin/nginx: /azureml-envs/azureml_265db83b0c6014ce472c5de2f0b97e04/lib/libcrypto.so.1.0.0: no version information available (required by /usr/sbin/nginx)\n",
            "/usr/sbin/nginx: /azureml-envs/azureml_265db83b0c6014ce472c5de2f0b97e04/lib/libcrypto.so.1.0.0: no version information available (required by /usr/sbin/nginx)\n",
            "/usr/sbin/nginx: /azureml-envs/azureml_265db83b0c6014ce472c5de2f0b97e04/lib/libssl.so.1.0.0: no version information available (required by /usr/sbin/nginx)\n",
            "/usr/sbin/nginx: /azureml-envs/azureml_265db83b0c6014ce472c5de2f0b97e04/lib/libssl.so.1.0.0: no version information available (required by /usr/sbin/nginx)\n",
            "/usr/sbin/nginx: /azureml-envs/azureml_265db83b0c6014ce472c5de2f0b97e04/lib/libssl.so.1.0.0: no version information available (required by /usr/sbin/nginx)\n",
            "rsyslogd: /azureml-envs/azureml_265db83b0c6014ce472c5de2f0b97e04/lib/libuuid.so.1: no version information available (required by rsyslogd)\n",
            "EdgeHubConnectionString and IOTEDGE_IOTHUBHOSTNAME are not set. Exiting...\n",
            "2021-01-17T07:55:39,909934200+00:00 - iot-server/finish 1 0\n",
            "2021-01-17T07:55:39,911138800+00:00 - Exit code 1 is normal. Not restarting iot-server.\n",
            "Starting gunicorn 19.9.0\n",
            "Listening at: http://127.0.0.1:31311 (72)\n",
            "Using worker: sync\n",
            "worker timeout is set to 300\n",
            "Booting worker with pid: 98\n",
            "SPARK_HOME not set. Skipping PySpark Initialization.\n",
            "Generating new fontManager, this may take some time...\n",
            "Initializing logger\n",
            "2021-01-17 07:55:44,847 | root | INFO | Starting up app insights client\n",
            "2021-01-17 07:55:44,848 | root | INFO | Starting up request id generator\n",
            "2021-01-17 07:55:44,849 | root | INFO | Starting up app insight hooks\n",
            "2021-01-17 07:55:44,849 | root | INFO | Invoking user's init function\n",
            "2021-01-17 07:55:55,334 | azureml.core | WARNING | Failure while loading azureml_run_type_providers. Failed to load entrypoint automl = azureml.train.automl.run:AutoMLRun._from_run_dto with exception cannot import name 'RunType'.\n",
            "Failure while loading azureml_run_type_providers. Failed to load entrypoint automl = azureml.train.automl.run:AutoMLRun._from_run_dto with exception cannot import name 'RunType'.\n",
            "2021-01-17 07:55:56,223 | root | INFO | Users's init has completed successfully\n",
            "2021-01-17 07:55:56,232 | root | INFO | Skipping middleware: dbg_model_info as it's not enabled.\n",
            "2021-01-17 07:55:56,232 | root | INFO | Skipping middleware: dbg_resource_usage as it's not enabled.\n",
            "2021-01-17 07:55:56,236 | root | INFO | Scoring timeout is found from os.environ: 60000 ms\n",
            "2021-01-17 07:55:56,253 | root | INFO | Swagger file not present\n",
            "2021-01-17 07:55:56,254 | root | INFO | 404\n",
            "127.0.0.1 - - [17/Jan/2021:07:55:56 +0000] \"GET /swagger.json HTTP/1.0\" 404 19 \"-\" \"Go-http-client/1.1\"\n",
            "2021-01-17 07:56:00,500 | root | INFO | Swagger file not present\n",
            "2021-01-17 07:56:00,500 | root | INFO | 404\n",
            "127.0.0.1 - - [17/Jan/2021:07:56:00 +0000] \"GET /swagger.json HTTP/1.0\" 404 19 \"-\" \"Go-http-client/1.1\"\n",
            "2021-01-17 07:57:00,813 | root | INFO | Validation Request Content-Type\n",
            "2021-01-17 07:57:00,813 | root | INFO | Scoring Timer is set to 60.0 seconds\n",
            "2021-01-17 07:57:01,042 | root | INFO | 200\n",
            "127.0.0.1 - - [17/Jan/2021:07:57:01 +0000] \"POST /score HTTP/1.0\" 200 3 \"-\" \"python-requests/2.25.0\"\n",
            "2021-01-17 07:57:33,087 | root | INFO | Swagger file not present\n",
            "2021-01-17 07:57:33,088 | root | INFO | 404\n",
            "127.0.0.1 - - [17/Jan/2021:07:57:33 +0000] \"GET /swagger.json HTTP/1.0\" 404 19 \"-\" \"Go-http-client/1.1\"\n",
            "2021-01-17 07:58:49,693 | root | INFO | Swagger file not present\n",
            "2021-01-17 07:58:49,693 | root | INFO | 404\n",
            "127.0.0.1 - - [17/Jan/2021:07:58:49 +0000] \"GET /swagger.json HTTP/1.0\" 404 19 \"-\" \"Go-http-client/1.1\"\n",
            "2021-01-17 08:01:07,228 | root | INFO | Swagger file not present\n",
            "2021-01-17 08:01:07,228 | root | INFO | 404\n",
            "127.0.0.1 - - [17/Jan/2021:08:01:07 +0000] \"GET /swagger.json HTTP/1.0\" 404 19 \"-\" \"Go-http-client/1.1\"\n",
            "2021-01-17 08:13:06,278 | root | INFO | Swagger file not present\n",
            "2021-01-17 08:13:06,279 | root | INFO | 404\n",
            "127.0.0.1 - - [17/Jan/2021:08:13:06 +0000] \"GET /swagger.json HTTP/1.0\" 404 19 \"-\" \"Go-http-client/1.1\"\n",
            "2021-01-17 08:13:20,066 | root | INFO | Swagger file not present\n",
            "2021-01-17 08:13:20,067 | root | INFO | 404\n",
            "127.0.0.1 - - [17/Jan/2021:08:13:20 +0000] \"GET /swagger.json HTTP/1.0\" 404 19 \"-\" \"Go-http-client/1.1\"\n",
            "2021-01-17 08:15:12,083 | root | INFO | Swagger file not present\n",
            "2021-01-17 08:15:12,084 | root | INFO | 404\n",
            "127.0.0.1 - - [17/Jan/2021:08:15:12 +0000] \"GET /swagger.json HTTP/1.0\" 404 19 \"-\" \"Go-http-client/1.1\"\n",
            "\n"
          ]
        }
      ],
      "execution_count": 24,
      "metadata": {
        "gather": {
          "logged": 1610871382502
        },
        "jupyter": {
          "outputs_hidden": false,
          "source_hidden": false
        },
        "nteract": {
          "transient": {
            "deleting": false
          }
        }
      }
    },
    {
      "cell_type": "code",
      "source": [
        "# deleting a web service\n",
        "aci_service.delete()"
      ],
      "outputs": [],
      "execution_count": 25,
      "metadata": {
        "gather": {
          "logged": 1610871657577
        }
      }
    },
    {
      "cell_type": "code",
      "source": [
        "# delete compute cluster\n",
        "compute_target.delete()"
      ],
      "outputs": [],
      "execution_count": 26,
      "metadata": {
        "gather": {
          "logged": 1610871701038
        }
      }
    }
  ],
  "metadata": {
    "kernel_info": {
      "name": "python3"
    },
    "kernelspec": {
      "name": "python3",
      "language": "python",
      "display_name": "Python 3"
    },
    "language_info": {
      "name": "python",
      "version": "3.6.9",
      "mimetype": "text/x-python",
      "codemirror_mode": {
        "name": "ipython",
        "version": 3
      },
      "pygments_lexer": "ipython3",
      "nbconvert_exporter": "python",
      "file_extension": ".py"
    },
    "nteract": {
      "version": "nteract-front-end@1.0.0"
    }
  },
  "nbformat": 4,
  "nbformat_minor": 2
}